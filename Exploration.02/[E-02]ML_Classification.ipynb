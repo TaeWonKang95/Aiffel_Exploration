{
 "cells": [
  {
   "cell_type": "markdown",
   "id": "e039e898",
   "metadata": {},
   "source": [
    "# Exploration.02 - Machine Classification"
   ]
  },
  {
   "cell_type": "code",
   "execution_count": null,
   "id": "5984af4e",
   "metadata": {},
   "outputs": [],
   "source": []
  },
  {
   "cell_type": "markdown",
   "id": "c51e6d21",
   "metadata": {},
   "source": [
    "## Exploration 2-1. 손글씨 분류하기\n",
    "\n",
    "https://github.com/TaeWonKang95/Aiffel_Exploration/blob/21b3946f5a9e086efa62f130a0cd765970fbf1bf/Exploration.02/2022.01.06_%EC%86%90%EA%B8%80%EC%94%A8%20%EB%B6%84%EB%A5%98%ED%95%98%EA%B8%B0_v.1.4.ipynb"
   ]
  },
  {
   "cell_type": "code",
   "execution_count": null,
   "id": "e5000746",
   "metadata": {},
   "outputs": [],
   "source": []
  },
  {
   "cell_type": "markdown",
   "id": "958ac620",
   "metadata": {},
   "source": [
    "## Exploration 2-2. 와인 품질 분류하기\n",
    "\n",
    "https://github.com/TaeWonKang95/Aiffel_Exploration/blob/21b3946f5a9e086efa62f130a0cd765970fbf1bf/Exploration.02/2022.01.06_%EC%99%80%EC%9D%B8%20%EB%B6%84%EB%A5%98%ED%95%98%EA%B8%B0_v.1.2.ipynb"
   ]
  },
  {
   "cell_type": "code",
   "execution_count": null,
   "id": "0bca24c5",
   "metadata": {},
   "outputs": [],
   "source": []
  },
  {
   "cell_type": "markdown",
   "id": "b065c279",
   "metadata": {},
   "source": [
    "## Exploration 2-3. 유방암 여부 진단하기\n",
    "\n",
    "https://github.com/TaeWonKang95/Aiffel_Exploration/blob/21b3946f5a9e086efa62f130a0cd765970fbf1bf/Exploration.02/2022.01.06_%EC%9C%A0%EB%B0%A9%EC%95%94%20%EC%97%AC%EB%B6%80%EB%A5%BC%20%EC%A7%84%EB%8B%A8%ED%95%98%EA%B8%B0_v.1.0.ipynb"
   ]
  },
  {
   "cell_type": "code",
   "execution_count": null,
   "id": "f7dca65d",
   "metadata": {},
   "outputs": [],
   "source": []
  },
  {
   "cell_type": "markdown",
   "id": "b0cb5eb2",
   "metadata": {},
   "source": [
    "## 회고\n",
    "\n",
    "### 1. 새로 알아갔던 점\n",
    " - 모델이 학습한 내용을 평가할때, 단순 accuracy말고 상황에 따라 recall과 precision에 해당하는 score를 고려해야함\n",
    " - svm 모델을 처음 사용해봄\n",
    "\n",
    "### 2. 흥미로웠던 점\n",
    " - 손글씨 분류하기 문제를 보며 recall과 precision을 어떻게 평가할지 고민이 많이 됨 (가상의 상황을 만들어서 평가해봄)\n",
    " - 와인 분류하기 문제에서 recall과 precision을 비중을 평가하기 어려워 많은 고민을 했던 점\n",
    " - svm 모델을 처음 다뤄봤는데 성능이 좋았던 점 (간략하게 어떻게 svm이 분류를 하는지 알아봄)\n",
    "\n",
    "### 3. 아쉬웠던 점\n",
    " - 데이터 상태가 너무 좋아서 가공할 필요가 없었음\n",
    "\n",
    "### 4. 앞으로의 다짐\n",
    " - 상황에 따라 모델 별로 성능이 다를 것으로 예측되어서 어느 상황에서 어떤 모델을 쓸지 더 공부해야겠다는 생각을 함\n",
    " (모델 별 특징을 알아둘것!!!)"
   ]
  },
  {
   "cell_type": "code",
   "execution_count": null,
   "id": "037b0c1a",
   "metadata": {},
   "outputs": [],
   "source": []
  },
  {
   "cell_type": "code",
   "execution_count": null,
   "id": "e9521cd8",
   "metadata": {},
   "outputs": [],
   "source": []
  },
  {
   "cell_type": "code",
   "execution_count": null,
   "id": "210aa33b",
   "metadata": {},
   "outputs": [],
   "source": []
  },
  {
   "cell_type": "code",
   "execution_count": null,
   "id": "b43005f4",
   "metadata": {},
   "outputs": [],
   "source": []
  }
 ],
 "metadata": {
  "kernelspec": {
   "display_name": "Python 3",
   "language": "python",
   "name": "python3"
  },
  "language_info": {
   "codemirror_mode": {
    "name": "ipython",
    "version": 3
   },
   "file_extension": ".py",
   "mimetype": "text/x-python",
   "name": "python",
   "nbconvert_exporter": "python",
   "pygments_lexer": "ipython3",
   "version": "3.8.8"
  }
 },
 "nbformat": 4,
 "nbformat_minor": 5
}
