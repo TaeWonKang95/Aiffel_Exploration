{
 "cells": [
  {
   "cell_type": "markdown",
   "id": "81a9475e",
   "metadata": {},
   "source": [
    "# Exploration.03 - 사진에 고양이 수염 스티커 붙히기"
   ]
  },
  {
   "cell_type": "markdown",
   "id": "a880cb47",
   "metadata": {},
   "source": [
    "**회고는 현재 파일의 가장 하단에 있습니다!!**"
   ]
  },
  {
   "cell_type": "markdown",
   "id": "9824c971",
   "metadata": {},
   "source": [
    "## Exploration 3-1. 일반적인 사진에 스티커 삽입 (풀이 과정 설명)"
   ]
  },
  {
   "cell_type": "markdown",
   "id": "ce7f0860",
   "metadata": {},
   "source": [
    "https://github.com/TaeWonKang95/Aiffel_Exploration/blob/82f89ac58c5c22d17f91f8f504a13cc9877c6013/Exploration.03/%5BE-03%5DCat_sticker-Original.ipynb"
   ]
  },
  {
   "cell_type": "code",
   "execution_count": null,
   "id": "fe6e0628",
   "metadata": {},
   "outputs": [],
   "source": []
  },
  {
   "cell_type": "markdown",
   "id": "ca932b7e",
   "metadata": {},
   "source": [
    "## Exploration 3-2. 가까이에서 찍은 사진에 스티커 삽입"
   ]
  },
  {
   "cell_type": "markdown",
   "id": "974d08ee",
   "metadata": {},
   "source": [
    "https://github.com/TaeWonKang95/Aiffel_Exploration/blob/82f89ac58c5c22d17f91f8f504a13cc9877c6013/Exploration.03/%5BE-03%5DCat_sticker-Big_face.ipynb"
   ]
  },
  {
   "cell_type": "code",
   "execution_count": null,
   "id": "770ba201",
   "metadata": {},
   "outputs": [],
   "source": []
  },
  {
   "cell_type": "markdown",
   "id": "8a861af3",
   "metadata": {},
   "source": [
    "## Exploration 3-3. 눈 감고 찍은 사진에 스티커 삽입"
   ]
  },
  {
   "cell_type": "markdown",
   "id": "8b3c9b8a",
   "metadata": {},
   "source": [
    "https://github.com/TaeWonKang95/Aiffel_Exploration/blob/82f89ac58c5c22d17f91f8f504a13cc9877c6013/Exploration.03/%5BE-03%5DCat_sticker-Closed_eyes.ipynb"
   ]
  },
  {
   "cell_type": "code",
   "execution_count": null,
   "id": "8cc72ab6",
   "metadata": {},
   "outputs": [],
   "source": []
  },
  {
   "cell_type": "markdown",
   "id": "6eb005bc",
   "metadata": {},
   "source": [
    "## Exploration 3-4. 얼굴 절반을 가리고 찍은 사진에 스티커 삽입"
   ]
  },
  {
   "cell_type": "markdown",
   "id": "39a4a9e6",
   "metadata": {},
   "source": [
    "https://github.com/TaeWonKang95/Aiffel_Exploration/blob/82f89ac58c5c22d17f91f8f504a13cc9877c6013/Exploration.03/%5BE-03%5DCat_sticker-Half_face.ipynb"
   ]
  },
  {
   "cell_type": "code",
   "execution_count": null,
   "id": "b3312bf8",
   "metadata": {},
   "outputs": [],
   "source": []
  },
  {
   "cell_type": "markdown",
   "id": "e96cf7b6",
   "metadata": {},
   "source": [
    "## Exploration 3-5. 약간 측면에서 찍은 사진에 스티커 삽입"
   ]
  },
  {
   "cell_type": "markdown",
   "id": "b5872641",
   "metadata": {},
   "source": [
    "https://github.com/TaeWonKang95/Aiffel_Exploration/blob/82f89ac58c5c22d17f91f8f504a13cc9877c6013/Exploration.03/%5BE-03%5DCat_sticker-Side.ipynb"
   ]
  },
  {
   "cell_type": "code",
   "execution_count": null,
   "id": "de2e5d93",
   "metadata": {},
   "outputs": [],
   "source": []
  },
  {
   "cell_type": "markdown",
   "id": "28df682d",
   "metadata": {},
   "source": [
    "## Exploration 3-6. 왜곡된 사진에 스티커 삽입"
   ]
  },
  {
   "cell_type": "markdown",
   "id": "1debb01c",
   "metadata": {},
   "source": [
    "https://github.com/TaeWonKang95/Aiffel_Exploration/blob/c6bfd93db966f9733e24e2157ab1f3eb9e5da02b/Exploration.03/%5BE-03%5DCat_sticker-Distortion.ipynb"
   ]
  },
  {
   "cell_type": "code",
   "execution_count": null,
   "id": "72a80573",
   "metadata": {},
   "outputs": [],
   "source": []
  },
  {
   "cell_type": "markdown",
   "id": "a6704ab0",
   "metadata": {},
   "source": [
    "## 회고\n",
    "\n",
    "### 1. 새로 알아갔던 점\n",
    " - opencv와 dlib를 처음 사용해봄\n",
    " - 얼굴을 인식하기 위해 HOG(Histogram of Oriented Gradients)와 SVM(Support Vector Machine)을 이용하여 사용한 것\n",
    "\n",
    "### 2. 흥미로웠던 점\n",
    " - 색상의 변화량으로 특징을 구분하는 HOG와 이 전에 다뤄봤던 SVM의 방법이 합쳐져 얼굴을 인식할 수 있다는게 흥미로웠음\n",
    " - 서로 다른 모델을 혼합해서 쓸 수 있겠다는 생각을 하게됨\n",
    " - 랜드마크 인덱스를 이용하여 픽셀의 위치를 좌표처럼 쓸 수 있다는 점이 생각의 전환을 가져옴\n",
    " - 다양한 사진에 실험해보면서 적용되는지 보는게 재밌었음\n",
    "\n",
    "### 3. 아쉬웠던 점\n",
    " - 로컬 환경에서 Exploration을 진행하고 싶었지만 라이브러리끼리의 충돌과 미리 설치되어야 하는 프로그램의 부재로 고난을 겪음  \n",
    " (서버에서의 진행을 추천한다는 코멘트가 있었으면 좋았을 것 같다는 생각을 함)\n",
    " (로컬 사용자를 위한 라이브러리 버전 표기와 선행 프로그램을 공지하면 좋겠다는 생각을 함)\n",
    "\n",
    "### 4. 앞으로의 다짐\n",
    " - 스티커 이미지의 변형을 불러오는 방법은 아직 알아보지 못함 (추후 변형 방법을 알아보고 추가적인 테스트를 해보고 싶음)\n",
    " - 서로 다른 모델을 혼합하는 방법을 고민해보고 적용해보려고 함"
   ]
  },
  {
   "cell_type": "code",
   "execution_count": null,
   "id": "47863a86",
   "metadata": {},
   "outputs": [],
   "source": []
  }
 ],
 "metadata": {
  "kernelspec": {
   "display_name": "Python 3 (ipykernel)",
   "language": "python",
   "name": "python3"
  },
  "language_info": {
   "codemirror_mode": {
    "name": "ipython",
    "version": 3
   },
   "file_extension": ".py",
   "mimetype": "text/x-python",
   "name": "python",
   "nbconvert_exporter": "python",
   "pygments_lexer": "ipython3",
   "version": "3.9.7"
  }
 },
 "nbformat": 4,
 "nbformat_minor": 5
}
