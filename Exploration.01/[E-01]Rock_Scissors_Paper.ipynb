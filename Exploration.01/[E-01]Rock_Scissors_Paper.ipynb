{
 "cells": [
  {
   "cell_type": "markdown",
   "id": "7c7b2e8d",
   "metadata": {},
   "source": [
    "# Exploration.Gn03\n",
    "\n",
    "## 가위, 바위, 보 이미지 분류하는 딥러닝 모델 만들기"
   ]
  },
  {
   "cell_type": "code",
   "execution_count": null,
   "id": "037612e0",
   "metadata": {},
   "outputs": [],
   "source": []
  },
  {
   "cell_type": "markdown",
   "id": "4c417bc1",
   "metadata": {},
   "source": [
    "# 이미지 불러오기"
   ]
  },
  {
   "cell_type": "code",
   "execution_count": 1,
   "id": "76fe91ad",
   "metadata": {},
   "outputs": [],
   "source": [
    "img_sz = 30"
   ]
  },
  {
   "cell_type": "code",
   "execution_count": 2,
   "id": "fe2f3143",
   "metadata": {},
   "outputs": [],
   "source": [
    "from PIL import Image\n",
    "import glob"
   ]
  },
  {
   "cell_type": "code",
   "execution_count": 3,
   "id": "11db98c9",
   "metadata": {},
   "outputs": [],
   "source": [
    "def resize_images(img_path):\n",
    "    images=glob.glob(img_path + \"/*.jpg\")  \n",
    "    \n",
    "    print(len(images), \" images to be resized.\")\n",
    "\n",
    "    # 파일마다 모두 30x30 사이즈로 바꾸어 저장합니다.\n",
    "    target_size=(img_sz,img_sz)\n",
    "    for img in images:\n",
    "        old_img=Image.open(img)\n",
    "        new_img=old_img.resize(target_size,Image.ANTIALIAS)\n",
    "        new_img.save(img, \"JPEG\")\n",
    "    \n",
    "    print(len(images), \" images resized.\")\n",
    "\n",
    "# 가위 이미지가 저장된 디렉토리 아래의 모든 jpg 파일을 읽어들여서\n",
    "image_dir_path = 'rock_scissors_paper/scissors5'\n",
    "resize_images(image_dir_path)\n",
    "\n",
    "print(\"가위 이미지 resize 완료!\")"
   ]
  },
  {
   "cell_type": "code",
   "execution_count": 4,
   "id": "0d926e33",
   "metadata": {},
   "outputs": [],
   "source": [
    "image_dir_path = 'rock_scissors_paper/rock5'\n",
    "resize_images(image_dir_path)\n",
    "\n",
    "print(\"바위 이미지 resize 완료!\")"
   ]
  },
  {
   "cell_type": "code",
   "execution_count": 5,
   "id": "e5a79909",
   "metadata": {},
   "outputs": [],
   "source": [
    "image_dir_path = 'rock_scissors_paper/paper5'\n",
    "resize_images(image_dir_path)\n",
    "\n",
    "print(\"보 이미지 resize 완료!\")"
   ]
  },
  {
   "cell_type": "code",
   "execution_count": null,
   "id": "720b282d",
   "metadata": {},
   "outputs": [],
   "source": []
  },
  {
   "cell_type": "code",
   "execution_count": null,
   "id": "2081af10",
   "metadata": {},
   "outputs": [],
   "source": []
  },
  {
   "cell_type": "markdown",
   "id": "5da946a4",
   "metadata": {},
   "source": [
    "## train셋 만들기"
   ]
  },
  {
   "cell_type": "code",
   "execution_count": 6,
   "id": "f5d2719b",
   "metadata": {},
   "outputs": [
    {
     "name": "stdout",
     "output_type": "stream",
     "text": [
      "학습데이터(x_train)의 이미지 개수는 9900 입니다.\n",
      "x_train shape: (9900, 30, 30, 3)\n",
      "y_train shape: (9900,)\n"
     ]
    }
   ],
   "source": [
    "import numpy as np\n",
    "\n",
    "def load_data(img_path, number_of_data=9900):  # 가위바위보 이미지 개수 총합에 주의하세요.\n",
    "    # 가위 : 0, 바위 : 1, 보 : 2\n",
    "    img_size=img_sz\n",
    "    color=3\n",
    "    #이미지 데이터와 라벨(가위 : 0, 바위 : 1, 보 : 2) 데이터를 담을 행렬(matrix) 영역을 생성합니다.\n",
    "    imgs=np.zeros(number_of_data*img_size*img_size*color,dtype=np.int32).reshape(number_of_data,img_size,img_size,color)\n",
    "    labels=np.zeros(number_of_data,dtype=np.int32)\n",
    "\n",
    "    idx=0\n",
    "    for file in glob.iglob(img_path+'/scissors5/*.jpg'):\n",
    "        img = np.array(Image.open(file),dtype=np.int32)\n",
    "        imgs[idx,:,:,:]=img    # 데이터 영역에 이미지 행렬을 복사\n",
    "        labels[idx]=0   # 가위 : 0\n",
    "        idx=idx+1\n",
    "\n",
    "    for file in glob.iglob(img_path+'/rock5/*.jpg'):\n",
    "        img = np.array(Image.open(file),dtype=np.int32)\n",
    "        imgs[idx,:,:,:]=img    # 데이터 영역에 이미지 행렬을 복사\n",
    "        labels[idx]=1   # 바위 : 1\n",
    "        idx=idx+1  \n",
    "    \n",
    "    for file in glob.iglob(img_path+'/paper5/*.jpg'):\n",
    "        img = np.array(Image.open(file),dtype=np.int32)\n",
    "        imgs[idx,:,:,:]=img    # 데이터 영역에 이미지 행렬을 복사\n",
    "        labels[idx]=2   # 보 : 2\n",
    "        idx=idx+1\n",
    "        \n",
    "    print(\"학습데이터(x_train)의 이미지 개수는\", idx,\"입니다.\")\n",
    "    return imgs, labels\n",
    "\n",
    "image_dir_path = 'rock_scissors_paper'\n",
    "(x_train, y_train)=load_data(image_dir_path)\n",
    "x_train_norm = x_train/255.0   # 입력은 0~1 사이의 값으로 정규화\n",
    "\n",
    "print(\"x_train shape: {}\".format(x_train.shape))\n",
    "print(\"y_train shape: {}\".format(y_train.shape))"
   ]
  },
  {
   "cell_type": "code",
   "execution_count": 7,
   "id": "c565d19e",
   "metadata": {},
   "outputs": [
    {
     "name": "stdout",
     "output_type": "stream",
     "text": [
      "라벨:  0\n"
     ]
    },
    {
     "data": {
      "image/png": "[encoded data removed]",
      "text/plain": [
       "<Figure size 432x288 with 1 Axes>"
      ]
     },
     "metadata": {
      "needs_background": "light"
     },
     "output_type": "display_data"
    }
   ],
   "source": [
    "import matplotlib.pyplot as plt\n",
    "\n",
    "plt.imshow(x_train[111])\n",
    "print('라벨: ', y_train[111])"
   ]
  },
  {
   "cell_type": "code",
   "execution_count": null,
   "id": "1854de64",
   "metadata": {},
   "outputs": [],
   "source": []
  },
  {
   "cell_type": "code",
   "execution_count": null,
   "id": "e75818e5",
   "metadata": {},
   "outputs": [],
   "source": []
  },
  {
   "cell_type": "markdown",
   "id": "d92faf9c",
   "metadata": {},
   "source": [
    "## 모델 만들기"
   ]
  },
  {
   "cell_type": "code",
   "execution_count": 8,
   "id": "d77c4f8e",
   "metadata": {},
   "outputs": [],
   "source": [
    "import tensorflow as tf\n",
    "from tensorflow import keras"
   ]
  },
  {
   "cell_type": "code",
   "execution_count": 9,
   "id": "23eded49",
   "metadata": {},
   "outputs": [
    {
     "name": "stdout",
     "output_type": "stream",
     "text": [
      "Model에 추가된 Layer 개수:  9\n"
     ]
    }
   ],
   "source": [
    "model=keras.models.Sequential()\n",
    "model.add(keras.layers.Conv2D(32, (3,3), activation='relu', input_shape=(img_sz,img_sz,3)))\n",
    "model.add(keras.layers.MaxPool2D(2,2))\n",
    "model.add(keras.layers.Conv2D(32, (3,3), activation='relu'))\n",
    "model.add(keras.layers.MaxPooling2D((2,2)))\n",
    "model.add(keras.layers.Conv2D(64, (3,3), activation='relu'))\n",
    "model.add(keras.layers.MaxPooling2D((2,2)))\n",
    "model.add(keras.layers.Flatten())\n",
    "model.add(keras.layers.Dense(64, activation='relu'))\n",
    "model.add(keras.layers.Dense(3, activation='softmax'))\n",
    "\n",
    "print('Model에 추가된 Layer 개수: ', len(model.layers))"
   ]
  },
  {
   "cell_type": "code",
   "execution_count": 10,
   "id": "6f742beb",
   "metadata": {},
   "outputs": [
    {
     "name": "stdout",
     "output_type": "stream",
     "text": [
      "Model: \"sequential\"\n",
      "_________________________________________________________________\n",
      " Layer (type)                Output Shape              Param #   \n",
      "=================================================================\n",
      " conv2d (Conv2D)             (None, 28, 28, 32)        896       \n",
      "                                                                 \n",
      " max_pooling2d (MaxPooling2D  (None, 14, 14, 32)       0         \n",
      " )                                                               \n",
      "                                                                 \n",
      " conv2d_1 (Conv2D)           (None, 12, 12, 32)        9248      \n",
      "                                                                 \n",
      " max_pooling2d_1 (MaxPooling  (None, 6, 6, 32)         0         \n",
      " 2D)                                                             \n",
      "                                                                 \n",
      " conv2d_2 (Conv2D)           (None, 4, 4, 64)          18496     \n",
      "                                                                 \n",
      " max_pooling2d_2 (MaxPooling  (None, 2, 2, 64)         0         \n",
      " 2D)                                                             \n",
      "                                                                 \n",
      " flatten (Flatten)           (None, 256)               0         \n",
      "                                                                 \n",
      " dense (Dense)               (None, 64)                16448     \n",
      "                                                                 \n",
      " dense_1 (Dense)             (None, 3)                 195       \n",
      "                                                                 \n",
      "=================================================================\n",
      "Total params: 45,283\n",
      "Trainable params: 45,283\n",
      "Non-trainable params: 0\n",
      "_________________________________________________________________\n"
     ]
    }
   ],
   "source": [
    "model.summary()"
   ]
  },
  {
   "cell_type": "code",
   "execution_count": null,
   "id": "6102724a",
   "metadata": {},
   "outputs": [],
   "source": []
  },
  {
   "cell_type": "code",
   "execution_count": null,
   "id": "4d5dbe15",
   "metadata": {},
   "outputs": [],
   "source": []
  },
  {
   "cell_type": "markdown",
   "id": "f2703813",
   "metadata": {},
   "source": [
    "## 모델 학습 시키기"
   ]
  },
  {
   "cell_type": "code",
   "execution_count": 11,
   "id": "80b7ad3d",
   "metadata": {},
   "outputs": [
    {
     "name": "stdout",
     "output_type": "stream",
     "text": [
      "Epoch 1/30\n",
      "310/310 [==============================] - 4s 11ms/step - loss: 0.3935 - accuracy: 0.8294\n",
      "Epoch 2/30\n",
      "310/310 [==============================] - 3s 10ms/step - loss: 0.0340 - accuracy: 0.9922\n",
      "Epoch 3/30\n",
      "310/310 [==============================] - 3s 10ms/step - loss: 0.0051 - accuracy: 0.9995\n",
      "Epoch 4/30\n",
      "310/310 [==============================] - 3s 10ms/step - loss: 0.0016 - accuracy: 1.0000\n",
      "Epoch 5/30\n",
      "310/310 [==============================] - 3s 10ms/step - loss: 8.6419e-04 - accuracy: 1.0000\n",
      "Epoch 6/30\n",
      "310/310 [==============================] - 3s 10ms/step - loss: 0.0044 - accuracy: 0.9987\n",
      "Epoch 7/30\n",
      "310/310 [==============================] - 3s 10ms/step - loss: 3.8035e-04 - accuracy: 1.0000\n",
      "Epoch 8/30\n",
      "310/310 [==============================] - 3s 10ms/step - loss: 1.5292e-04 - accuracy: 1.0000\n",
      "Epoch 9/30\n",
      "310/310 [==============================] - 3s 10ms/step - loss: 1.0648e-04 - accuracy: 1.0000\n",
      "Epoch 10/30\n",
      "310/310 [==============================] - 3s 9ms/step - loss: 7.5827e-05 - accuracy: 1.0000\n",
      "Epoch 11/30\n",
      "310/310 [==============================] - 3s 9ms/step - loss: 5.6816e-05 - accuracy: 1.0000\n",
      "Epoch 12/30\n",
      "310/310 [==============================] - 3s 9ms/step - loss: 4.4252e-05 - accuracy: 1.0000\n",
      "Epoch 13/30\n",
      "310/310 [==============================] - 3s 9ms/step - loss: 3.4246e-05 - accuracy: 1.0000\n",
      "Epoch 14/30\n",
      "310/310 [==============================] - 3s 9ms/step - loss: 2.8241e-05 - accuracy: 1.0000\n",
      "Epoch 15/30\n",
      "310/310 [==============================] - 3s 9ms/step - loss: 2.1625e-05 - accuracy: 1.0000\n",
      "Epoch 16/30\n",
      "310/310 [==============================] - 3s 9ms/step - loss: 1.7890e-05 - accuracy: 1.0000\n",
      "Epoch 17/30\n",
      "310/310 [==============================] - 3s 9ms/step - loss: 1.3498e-05 - accuracy: 1.0000\n",
      "Epoch 18/30\n",
      "310/310 [==============================] - 3s 9ms/step - loss: 1.1636e-05 - accuracy: 1.0000\n",
      "Epoch 19/30\n",
      "310/310 [==============================] - 3s 9ms/step - loss: 9.0189e-06 - accuracy: 1.0000\n",
      "Epoch 20/30\n",
      "310/310 [==============================] - 3s 9ms/step - loss: 7.6394e-06 - accuracy: 1.0000\n",
      "Epoch 21/30\n",
      "310/310 [==============================] - 3s 9ms/step - loss: 6.3538e-06 - accuracy: 1.0000\n",
      "Epoch 22/30\n",
      "310/310 [==============================] - 3s 9ms/step - loss: 5.1422e-06 - accuracy: 1.0000\n",
      "Epoch 23/30\n",
      "310/310 [==============================] - 3s 9ms/step - loss: 4.2531e-06 - accuracy: 1.0000\n",
      "Epoch 24/30\n",
      "310/310 [==============================] - 3s 9ms/step - loss: 3.4433e-06 - accuracy: 1.0000\n",
      "Epoch 25/30\n",
      "310/310 [==============================] - 3s 9ms/step - loss: 2.8205e-06 - accuracy: 1.0000\n",
      "Epoch 26/30\n",
      "310/310 [==============================] - 3s 9ms/step - loss: 2.3688e-06 - accuracy: 1.0000\n",
      "Epoch 27/30\n",
      "310/310 [==============================] - 3s 9ms/step - loss: 1.8384e-06 - accuracy: 1.0000\n",
      "Epoch 28/30\n",
      "310/310 [==============================] - 3s 9ms/step - loss: 1.5262e-06 - accuracy: 1.0000\n",
      "Epoch 29/30\n",
      "310/310 [==============================] - 3s 9ms/step - loss: 1.3708e-06 - accuracy: 1.0000\n",
      "Epoch 30/30\n",
      "310/310 [==============================] - 3s 9ms/step - loss: 1.1320e-06 - accuracy: 1.0000\n"
     ]
    },
    {
     "data": {
      "text/plain": [
       "<keras.callbacks.History at 0x21c75b2c820>"
      ]
     },
     "execution_count": 11,
     "metadata": {},
     "output_type": "execute_result"
    }
   ],
   "source": [
    "model.compile(optimizer='adam',\n",
    "             loss='sparse_categorical_crossentropy',\n",
    "             metrics=['accuracy'])\n",
    "\n",
    "model.fit(x_train_norm, y_train, epochs=30)"
   ]
  },
  {
   "cell_type": "code",
   "execution_count": null,
   "id": "ddc94231",
   "metadata": {},
   "outputs": [],
   "source": []
  },
  {
   "cell_type": "code",
   "execution_count": null,
   "id": "63f940c8",
   "metadata": {},
   "outputs": [],
   "source": []
  },
  {
   "cell_type": "markdown",
   "id": "744aa993",
   "metadata": {},
   "source": [
    "## test셋 만들기"
   ]
  },
  {
   "cell_type": "code",
   "execution_count": 12,
   "id": "da5cef8e",
   "metadata": {},
   "outputs": [],
   "source": [
    "def resize_images(img_path):\n",
    "    images=glob.glob(img_path + \"/*.jpg\")  \n",
    "    \n",
    "    print(len(images), \" images to be resized.\")\n",
    "\n",
    "    # 파일마다 모두 30x30 사이즈로 바꾸어 저장합니다.\n",
    "    target_size=(img_sz,img_sz)\n",
    "    for img in images:\n",
    "        old_img=Image.open(img)\n",
    "        new_img=old_img.resize(target_size,Image.ANTIALIAS)\n",
    "        new_img.save(img, \"JPEG\")\n",
    "    \n",
    "    print(len(images), \" images resized.\")\n",
    "\n",
    "# 가위 이미지가 저장된 디렉토리 아래의 모든 jpg 파일을 읽어들여서\n",
    "image_dir_path = 'rock_scissors_paper/test5/scissors'\n",
    "resize_images(image_dir_path)\n",
    "\n",
    "print(\"가위 이미지 resize 완료!\")"
   ]
  },
  {
   "cell_type": "code",
   "execution_count": 13,
   "id": "384c61d1",
   "metadata": {},
   "outputs": [],
   "source": [
    "image_dir_path = 'rock_scissors_paper/test5/rock'\n",
    "resize_images(image_dir_path)\n",
    "\n",
    "print(\"바위 이미지 resize 완료!\")"
   ]
  },
  {
   "cell_type": "code",
   "execution_count": 14,
   "id": "83eb88b5",
   "metadata": {},
   "outputs": [],
   "source": [
    "image_dir_path = 'rock_scissors_paper/test5/paper'\n",
    "resize_images(image_dir_path)\n",
    "\n",
    "print(\"보 이미지 resize 완료!\")"
   ]
  },
  {
   "cell_type": "code",
   "execution_count": 15,
   "id": "ce78fe35",
   "metadata": {},
   "outputs": [
    {
     "name": "stdout",
     "output_type": "stream",
     "text": [
      "테스트 데이터(x_test)의 이미지 개수는 300 입니다.\n",
      "x_test shape: (300, 30, 30, 3)\n",
      "y_test shape: (300,)\n"
     ]
    }
   ],
   "source": [
    "import numpy as np\n",
    "\n",
    "def load_data(img_path, number_of_data=300):  # 가위바위보 이미지 개수 총합에 주의하세요.\n",
    "    # 가위 : 0, 바위 : 1, 보 : 2\n",
    "    img_size=img_sz\n",
    "    color=3\n",
    "    #이미지 데이터와 라벨(가위 : 0, 바위 : 1, 보 : 2) 데이터를 담을 행렬(matrix) 영역을 생성합니다.\n",
    "    imgs=np.zeros(number_of_data*img_size*img_size*color,dtype=np.int32).reshape(number_of_data,img_size,img_size,color)\n",
    "    labels=np.zeros(number_of_data,dtype=np.int32)\n",
    "\n",
    "    idx=0\n",
    "    for file in glob.iglob(img_path+'/scissors/*.jpg'):\n",
    "        img = np.array(Image.open(file),dtype=np.int32)\n",
    "        imgs[idx,:,:,:]=img    # 데이터 영역에 이미지 행렬을 복사\n",
    "        labels[idx]=0   # 가위 : 0\n",
    "        idx=idx+1\n",
    "\n",
    "    for file in glob.iglob(img_path+'/rock/*.jpg'):\n",
    "        img = np.array(Image.open(file),dtype=np.int32)\n",
    "        imgs[idx,:,:,:]=img    # 데이터 영역에 이미지 행렬을 복사\n",
    "        labels[idx]=1   # 바위 : 1\n",
    "        idx=idx+1  \n",
    "    \n",
    "    for file in glob.iglob(img_path+'/paper/*.jpg'):\n",
    "        img = np.array(Image.open(file),dtype=np.int32)\n",
    "        imgs[idx,:,:,:]=img    # 데이터 영역에 이미지 행렬을 복사\n",
    "        labels[idx]=2   # 보 : 2\n",
    "        idx=idx+1\n",
    "        \n",
    "    print(\"테스트 데이터(x_test)의 이미지 개수는\", idx,\"입니다.\")\n",
    "    return imgs, labels\n",
    "\n",
    "image_dir_path = 'rock_scissors_paper/test5'\n",
    "(x_test, y_test)=load_data(image_dir_path)\n",
    "x_test_norm = x_test/255.0   # 입력은 0~1 사이의 값으로 정규화\n",
    "\n",
    "print(\"x_test shape: {}\".format(x_test.shape))\n",
    "print(\"y_test shape: {}\".format(y_test.shape))"
   ]
  },
  {
   "cell_type": "code",
   "execution_count": null,
   "id": "e6c58625",
   "metadata": {},
   "outputs": [],
   "source": []
  },
  {
   "cell_type": "code",
   "execution_count": null,
   "id": "3c9dc077",
   "metadata": {},
   "outputs": [],
   "source": []
  },
  {
   "cell_type": "markdown",
   "id": "e2ddeee9",
   "metadata": {},
   "source": [
    "## 테스트 정확도 체크"
   ]
  },
  {
   "cell_type": "code",
   "execution_count": 16,
   "id": "e6842625",
   "metadata": {},
   "outputs": [
    {
     "name": "stdout",
     "output_type": "stream",
     "text": [
      "10/10 - 0s - loss: 2.6137 - accuracy: 0.6100 - 142ms/epoch - 14ms/step\n",
      "test_loss: 2.613659620285034 \n",
      "test_accuracy: 0.6100000143051147\n"
     ]
    }
   ],
   "source": [
    "test_loss, test_accuracy = model.evaluate(x_test_norm, y_test, verbose=2)\n",
    "print(\"test_loss: {} \".format(test_loss))\n",
    "print(\"test_accuracy: {}\".format(test_accuracy))"
   ]
  },
  {
   "cell_type": "markdown",
   "id": "71c2c632",
   "metadata": {},
   "source": [
    "### - 최종 test_accuracy는 약 **61%**가 나옴"
   ]
  },
  {
   "cell_type": "code",
   "execution_count": null,
   "id": "5318df99",
   "metadata": {},
   "outputs": [],
   "source": []
  },
  {
   "cell_type": "code",
   "execution_count": null,
   "id": "196fdffb",
   "metadata": {},
   "outputs": [],
   "source": []
  },
  {
   "cell_type": "markdown",
   "id": "f248fdba",
   "metadata": {},
   "source": [
    "## Version1에서 했던 것\n",
    "- 이미지 크기 : (100, 100)\n",
    "- train : test의 이미지 갯수 = train 300개 : test 300개\n",
    "- optimizer를 변경하면서 test_accuaracy 측정\n",
    "    - optimizer : 'SGD', 'Adam', 'Nadam', 'AdaMax', 'RMSProp'\n",
    "- 얻은 교훈\n",
    "    - 때로는 RMSProp 성능이 좋게 나타남\n",
    "    - 대체로 Adam의 성능이 좋게 나타났음"
   ]
  },
  {
   "cell_type": "code",
   "execution_count": null,
   "id": "f6d2b6b6",
   "metadata": {},
   "outputs": [],
   "source": []
  },
  {
   "cell_type": "markdown",
   "id": "aee4add6",
   "metadata": {},
   "source": [
    "## Version2에서 했던 것\n",
    "- train 이미지 갯수를 늘림 (train 900개, test 300개)\n",
    " - train 이미지 갯수는 총 4명의 사진으로 얻음\n",
    "- 첫번째 Conv2D : 16, 두번째 Conv2D : 32, Dense : 32의 볼륨을 해당 수치만큼 고정\n",
    "- epoch와 이미지 사이즈를 변경하면서 test_accuracy 측정"
   ]
  },
  {
   "attachments": {
    "v2.png": {
     "image/png": "[encoded data removed]"
    }
   },
   "cell_type": "markdown",
   "id": "8dfe31b3",
   "metadata": {},
   "source": [
    "![v2.png](attachment:v2.png)"
   ]
  },
  {
   "cell_type": "markdown",
   "id": "31426680",
   "metadata": {},
   "source": [
    "- 사진 사이즈가 (25,25)이고 epoch가 40번일 때는 우연에 의한 수치임\n",
    "- 얻은 교훈 \n",
    "    - epoch 변경만으로는 test_accuracy를 올리는데 한계가 있음\n",
    "    - epoch가 너무 높으면 성능이 떨어지기도 함 (Overfitting이라고 판단됨)\n",
    "    - 똑같은 파라미터 수치를 가져도 실행할 때마다 다른 결과값을 얻음"
   ]
  },
  {
   "cell_type": "code",
   "execution_count": null,
   "id": "63715b85",
   "metadata": {},
   "outputs": [],
   "source": []
  },
  {
   "cell_type": "markdown",
   "id": "a51deb1a",
   "metadata": {},
   "source": [
    "## Version3에서 했던 것\n",
    "- 이미지 사이즈를 (25, 25)과 (100, 100) 두 가지를 비교\n",
    "- train 이미지 갯수를 늘림 (train 900개, test 300개)\n",
    "    - train 이미지 갯수는 총 4명의 사진으로 얻음\n",
    "- 첫 번째 Conv2D, 두 번째 Conv2D, Dense, epoch의 값을 변경해보면서 비교\n",
    "    - 각 값은 난수로 뽑아냈음\n",
    "- 얻은 교훈 : 이미지 크기, Conv2D, Maxpooling, epoch의 값이 서로 결과에 영향을 주기 때문에 원인을 파악하기 어려움"
   ]
  },
  {
   "cell_type": "code",
   "execution_count": null,
   "id": "25575343",
   "metadata": {},
   "outputs": [],
   "source": []
  },
  {
   "cell_type": "markdown",
   "id": "8970960d",
   "metadata": {},
   "source": [
    "## Version4에서 했던 것\n",
    "- train 이미지 갯수를 늘림 (train 9,900개, test 300개)\n",
    "    - train 이미지 갯수는 각 3방향에서 혼자 찍어 얻음\n",
    "- 이미지 사이즈를 (28, 28)과 (100, 100) 두가지로 고정\n",
    "- 첫 번째 Conv2D, 두 번째 Conv2D, Dense, epoch의 값을 변경해보면서 비교"
   ]
  },
  {
   "attachments": {
    "v4-1-2.png": {
     "image/png": "[encoded data removed]"
    }
   },
   "cell_type": "markdown",
   "id": "063602af",
   "metadata": {},
   "source": [
    "![v4-1-2.png](attachment:v4-1-2.png)"
   ]
  },
  {
   "attachments": {
    "v4-2.png": {
     "image/png": "[encoded data removed]"
    }
   },
   "cell_type": "markdown",
   "id": "2b2864ab",
   "metadata": {},
   "source": [
    "![v4-2.png](attachment:v4-2.png)"
   ]
  },
  {
   "attachments": {
    "v4-3.png": {
     "image/png": "[encoded data removed]"
    }
   },
   "cell_type": "markdown",
   "id": "efa4f225",
   "metadata": {},
   "source": [
    "![v4-3.png](attachment:v4-3.png)"
   ]
  },
  {
   "cell_type": "markdown",
   "id": "575325a4",
   "metadata": {},
   "source": [
    "- 얻은 교훈\n",
    "    - 이미지 크기가 크고 train 갯수가 많은 상태에서 레이어의 볼륨을 높이면 시간 소모가 커짐"
   ]
  },
  {
   "cell_type": "code",
   "execution_count": null,
   "id": "fa0a50c8",
   "metadata": {},
   "outputs": [],
   "source": []
  },
  {
   "cell_type": "markdown",
   "id": "92877863",
   "metadata": {},
   "source": [
    "## Version5에서 했던 것\n",
    "- Conv2D와 Maxpooling2D 층을 하나씩 더 추가함\n",
    "- train 이미지 갯수 : 9,900개, test 이미지 갯수 : 300개\n",
    "    - train 이미지 갯수는 각 3방향에서 혼자 찍어 얻음\n",
    "- 이미지 사이즈는 (30, 30)으로 고정\n",
    "- 첫 번째 Conv2D, 두 번째 Conv2D, 세 번째 Conv2D, Dense의 볼륨을 변경하면서 test_accuracy 측정\n",
    "- epoch 횟수를 변경하면서 test_accuracy 측정"
   ]
  },
  {
   "attachments": {
    "v5-1.png": {
     "image/png": "[encoded data removed]"
    }
   },
   "cell_type": "markdown",
   "id": "0205114c",
   "metadata": {},
   "source": [
    "![v5-1.png](attachment:v5-1.png)"
   ]
  },
  {
   "attachments": {
    "v5-2-3.png": {
     "image/png": "[encoded data removed]"
    }
   },
   "cell_type": "markdown",
   "id": "8ab3d250",
   "metadata": {},
   "source": [
    "![v5-2-3.png](attachment:v5-2-3.png)"
   ]
  },
  {
   "cell_type": "code",
   "execution_count": null,
   "id": "99b61840",
   "metadata": {},
   "outputs": [],
   "source": []
  }
 ],
 "metadata": {
  "kernelspec": {
   "display_name": "Python 3",
   "language": "python",
   "name": "python3"
  },
  "language_info": {
   "codemirror_mode": {
    "name": "ipython",
    "version": 3
   },
   "file_extension": ".py",
   "mimetype": "text/x-python",
   "name": "python",
   "nbconvert_exporter": "python",
   "pygments_lexer": "ipython3",
   "version": "3.8.8"
  }
 },
 "nbformat": 4,
 "nbformat_minor": 5
}
