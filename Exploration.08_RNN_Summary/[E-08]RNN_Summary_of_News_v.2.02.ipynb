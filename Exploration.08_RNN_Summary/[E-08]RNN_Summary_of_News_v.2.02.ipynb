{
 "cells": [
  {
   "cell_type": "markdown",
   "id": "f847dc75",
   "metadata": {},
   "source": [
    "# Exploration.08 - 뉴스기사 요약해보기"
   ]
  },
  {
   "cell_type": "markdown",
   "id": "f27f78e6",
   "metadata": {},
   "source": [
    "- 뉴스의 본문을 통해 요약 만들기\n",
    "- 추상적 요약과 추출적 요약을 해볼 것\n",
    "- 추상적 요약\n",
    "    - 원문에 없는 단어도 사용하여 요약\n",
    "    - 원문으로부터 내용이 요약된 새로운 문장을 생성\n",
    "- 추출적 요약\n",
    "    - 원문에 있는 단어를 추출하여 요약 \n",
    "    - 원문 속 핵심 문장을 파악하여 요약"
   ]
  },
  {
   "cell_type": "code",
   "execution_count": null,
   "id": "ff7d35a2",
   "metadata": {},
   "outputs": [],
   "source": []
  },
  {
   "cell_type": "code",
   "execution_count": null,
   "id": "0e4daad9",
   "metadata": {},
   "outputs": [],
   "source": []
  },
  {
   "cell_type": "markdown",
   "id": "566d0d0c",
   "metadata": {},
   "source": [
    "## 필요한 개념 설명"
   ]
  },
  {
   "cell_type": "markdown",
   "id": "d3b61c1b",
   "metadata": {},
   "source": [
    "### 1. seq2seq (sequence-to-sequence)\n",
    "- 입력된 시퀀스로부터 다른 도메인의 시퀀스를 출력하는 모델\n",
    "- 주로 챗봇(Chatbot)과 기계 번역(Machine Translation)에서 사용됨\n",
    "- https://wikidocs.net/24996"
   ]
  },
  {
   "cell_type": "markdown",
   "id": "e9067ce4",
   "metadata": {},
   "source": [
    "### 2. Encoder와 Decoder"
   ]
  },
  {
   "cell_type": "markdown",
   "id": "2ad59f6a",
   "metadata": {},
   "source": [
    "![seq2seq](https://d3s0tskafalll9.cloudfront.net/media/images/E-21-2.max-800x600.png)"
   ]
  },
  {
   "cell_type": "markdown",
   "id": "9484b5b9",
   "metadata": {},
   "source": [
    "**이번 Exploration에서는 LSTM 모델을 두 번 엮어서 사용할 예정**\n",
    "- 첫 번째 LSTM : Encoder\n",
    "    - 원문을 Encoder에 입력\n",
    "    - Encoder를 통해 하나의 고정된 벡터로 변환 (컨텍스트 벡터(context vector))\n",
    "- 두 번째 LSTM : Decoder\n",
    "    - 컨텍스트 벡터를 전달받아 한 단어씩 생성\n",
    "    - 요약 문장을 완성함"
   ]
  },
  {
   "cell_type": "markdown",
   "id": "f5f67541",
   "metadata": {},
   "source": [
    "### 3. LSTM이 바닐라 RNN과 다른 점\n",
    "- LSTM : 다음 time step의 셀에 hidden state뿐만 아니라, cell state도 함께 전달\n",
    "- 이번 exploration에는 인코더가 디코더에 전달하는 컨텍스트 벡터 또한 hidden state h와 cell state c 두 개의 값 모두 존재해야 함"
   ]
  },
  {
   "cell_type": "markdown",
   "id": "24e596fc",
   "metadata": {},
   "source": [
    "- hidden state\n",
    "    - LSTM에서 얼만큼의 수용력(capacity)를 가질지를 정하는 파라미터\n",
    "    - LSTM의 용량의 크기나, LSTM에서의 뉴런의 개수\n",
    "- cell state\n",
    "    - 일종의 컨베이어 벨트 역할\n",
    "    - state가 꽤 오래 경과하더라도 그래디언트가 비교적 전파가 잘 되게 됨"
   ]
  },
  {
   "cell_type": "markdown",
   "id": "84c1e747",
   "metadata": {},
   "source": [
    "### 4. seq2seq 구조에서 디코더\n",
    "- 훈련 데이터의 예측 대상 시퀀스의 앞, 뒤에는 시작 토큰과 종료 토큰을 넣어주는 전처리를 통해 어디서 멈춰야 하는지를 지정해야함\n",
    "- 이번 explation에서는 시작 토큰 SOS가 입력되면, 각 시점마다 단어를 생성하고 이 과정을 종료 토큰 EOS를 예측하는 순간까지 멈추지 않게 하고자 함"
   ]
  },
  {
   "cell_type": "markdown",
   "id": "f2ec50b3",
   "metadata": {},
   "source": [
    "### 5. 어텐션 메커니즘(Attention Mechanism)\n",
    "- RNN 계열의 인공 신경망(바닐라 RNN, LSTM, GRU)의 한계로 인해 output 정보에는 input 시퀀스의 많은 정보가 손실\n",
    "- 어텐션 메커니즘 \n",
    "    - 인코더의 모든 step의 hidden state의 정보가 컨텍스트 벡터에 전부 반영\n",
    "    - 인코더의 모든 hidden state가 동일한 비중으로 반영되는 것이 아니라, 디코더의 현재 time step의 예측에 인코더의 각 step이 얼마나 영향을 미치는지에 따른 가중합으로 계산되는 방식\n",
    "<br><br>\n",
    "- 일반적인 seq2seq 모델 : 디코더로 전달되는 인코더의 컨텍스트 벡터는 예를 들어 인코더의 마지막 스텝의 hidden state인 h_5\n",
    "- 어텐션 메커니즘 적용 : 인코더의 컨텍스트 벡터는 예를 들어 0.2h_1 +0.3h_2 +0.1h_3 +0.15h_4 +0.25h_5 가 될 수도 있음"
   ]
  },
  {
   "cell_type": "code",
   "execution_count": null,
   "id": "c61183ea",
   "metadata": {},
   "outputs": [],
   "source": []
  },
  {
   "cell_type": "code",
   "execution_count": null,
   "id": "a408a0d0",
   "metadata": {},
   "outputs": [],
   "source": []
  },
  {
   "cell_type": "markdown",
   "id": "b9bbf57f",
   "metadata": {},
   "source": [
    "## import Package"
   ]
  },
  {
   "cell_type": "code",
   "execution_count": 1,
   "id": "a8d9b13d",
   "metadata": {},
   "outputs": [],
   "source": [
    "import numpy as np\n",
    "import pandas as pd\n",
    "import os\n",
    "import re\n",
    "import matplotlib.pyplot as plt\n",
    "import seaborn as sns\n",
    "from nltk.corpus import stopwords\n",
    "from bs4 import BeautifulSoup \n",
    "from tensorflow.keras.preprocessing.text import Tokenizer \n",
    "from tensorflow.keras.preprocessing.sequence import pad_sequences\n",
    "import urllib.request\n",
    "import warnings\n",
    "warnings.filterwarnings(\"ignore\", category=UserWarning, module='bs4')"
   ]
  },
  {
   "cell_type": "code",
   "execution_count": null,
   "id": "df3f9da6",
   "metadata": {},
   "outputs": [],
   "source": []
  },
  {
   "cell_type": "code",
   "execution_count": null,
   "id": "61ea5d47",
   "metadata": {},
   "outputs": [],
   "source": []
  },
  {
   "cell_type": "markdown",
   "id": "17d8676e",
   "metadata": {},
   "source": [
    "## 데이터 불러오기"
   ]
  },
  {
   "cell_type": "code",
   "execution_count": 2,
   "id": "d8a38ded",
   "metadata": {},
   "outputs": [],
   "source": [
    "import urllib.request\n",
    "urllib.request.urlretrieve(\"https://raw.githubusercontent.com/sunnysai12345/News_Summary/master/news_summary_more.csv\", filename=\"news_summary_more.csv\")\n",
    "data = pd.read_csv('news_summary_more.csv', encoding='iso-8859-1')"
   ]
  },
  {
   "cell_type": "code",
   "execution_count": 3,
   "id": "1c3a5e06",
   "metadata": {},
   "outputs": [
    {
     "data": {
      "text/html": [
       "<div>\n",
       "<style scoped>\n",
       "    .dataframe tbody tr th:only-of-type {\n",
       "        vertical-align: middle;\n",
       "    }\n",
       "\n",
       "    .dataframe tbody tr th {\n",
       "        vertical-align: top;\n",
       "    }\n",
       "\n",
       "    .dataframe thead th {\n",
       "        text-align: right;\n",
       "    }\n",
       "</style>\n",
       "<table border=\"1\" class=\"dataframe\">\n",
       "  <thead>\n",
       "    <tr style=\"text-align: right;\">\n",
       "      <th></th>\n",
       "      <th>headlines</th>\n",
       "      <th>text</th>\n",
       "    </tr>\n",
       "  </thead>\n",
       "  <tbody>\n",
       "    <tr>\n",
       "      <th>0</th>\n",
       "      <td>upGrad learner switches to career in ML &amp; Al w...</td>\n",
       "      <td>Saurav Kant, an alumnus of upGrad and IIIT-B's...</td>\n",
       "    </tr>\n",
       "    <tr>\n",
       "      <th>1</th>\n",
       "      <td>Delhi techie wins free food from Swiggy for on...</td>\n",
       "      <td>Kunal Shah's credit card bill payment platform...</td>\n",
       "    </tr>\n",
       "    <tr>\n",
       "      <th>2</th>\n",
       "      <td>New Zealand end Rohit Sharma-led India's 12-ma...</td>\n",
       "      <td>New Zealand defeated India by 8 wickets in the...</td>\n",
       "    </tr>\n",
       "    <tr>\n",
       "      <th>3</th>\n",
       "      <td>Aegon life iTerm insurance plan helps customer...</td>\n",
       "      <td>With Aegon Life iTerm Insurance plan, customer...</td>\n",
       "    </tr>\n",
       "    <tr>\n",
       "      <th>4</th>\n",
       "      <td>Have known Hirani for yrs, what if MeToo claim...</td>\n",
       "      <td>Speaking about the sexual harassment allegatio...</td>\n",
       "    </tr>\n",
       "  </tbody>\n",
       "</table>\n",
       "</div>"
      ],
      "text/plain": [
       "                                           headlines  \\\n",
       "0  upGrad learner switches to career in ML & Al w...   \n",
       "1  Delhi techie wins free food from Swiggy for on...   \n",
       "2  New Zealand end Rohit Sharma-led India's 12-ma...   \n",
       "3  Aegon life iTerm insurance plan helps customer...   \n",
       "4  Have known Hirani for yrs, what if MeToo claim...   \n",
       "\n",
       "                                                text  \n",
       "0  Saurav Kant, an alumnus of upGrad and IIIT-B's...  \n",
       "1  Kunal Shah's credit card bill payment platform...  \n",
       "2  New Zealand defeated India by 8 wickets in the...  \n",
       "3  With Aegon Life iTerm Insurance plan, customer...  \n",
       "4  Speaking about the sexual harassment allegatio...  "
      ]
     },
     "execution_count": 3,
     "metadata": {},
     "output_type": "execute_result"
    }
   ],
   "source": [
    "data.head()"
   ]
  },
  {
   "cell_type": "markdown",
   "id": "998aa011",
   "metadata": {},
   "source": [
    "- text : 본문\n",
    "- headlines : 요약 (추상적 요약시, 새롭게 만들어진 headline과 기존 headline을 비교하여 성능을 체크할 예정)"
   ]
  },
  {
   "cell_type": "code",
   "execution_count": 4,
   "id": "4983c1f6",
   "metadata": {},
   "outputs": [
    {
     "data": {
      "text/plain": [
       "(98401, 2)"
      ]
     },
     "execution_count": 4,
     "metadata": {},
     "output_type": "execute_result"
    }
   ],
   "source": [
    "data.shape"
   ]
  },
  {
   "cell_type": "markdown",
   "id": "24982968",
   "metadata": {},
   "source": [
    "- 총 98,401개의 뉴스\n",
    "- 2개의 columns (headlines, text)"
   ]
  },
  {
   "cell_type": "code",
   "execution_count": null,
   "id": "8e71459c",
   "metadata": {},
   "outputs": [],
   "source": []
  },
  {
   "cell_type": "code",
   "execution_count": null,
   "id": "761ee8a2",
   "metadata": {},
   "outputs": [],
   "source": []
  },
  {
   "cell_type": "markdown",
   "id": "d7737722",
   "metadata": {},
   "source": [
    "## 중복 제거"
   ]
  },
  {
   "cell_type": "code",
   "execution_count": 5,
   "id": "40f0c28e",
   "metadata": {},
   "outputs": [
    {
     "name": "stdout",
     "output_type": "stream",
     "text": [
      "text 열에서 중복을 배제한 유일한 샘플의 수 : 98360\n",
      "headlines 열에서 중복을 배제한 유일한 샘플의 수 : 98280\n"
     ]
    }
   ],
   "source": [
    "print('text 열에서 중복을 배제한 유일한 샘플의 수 :', data['text'].nunique())\n",
    "print('headlines 열에서 중복을 배제한 유일한 샘플의 수 :', data['headlines'].nunique())"
   ]
  },
  {
   "cell_type": "code",
   "execution_count": 6,
   "id": "af76f149",
   "metadata": {},
   "outputs": [
    {
     "name": "stdout",
     "output_type": "stream",
     "text": [
      "전체 샘플수 : 98360\n"
     ]
    }
   ],
   "source": [
    "# inplace=True 를 설정하면 DataFrame 타입 값을 return 하지 않고 data 내부를 직접적으로 바꿉니다\n",
    "data.drop_duplicates(subset = ['text'], inplace=True)\n",
    "print('전체 샘플수 :', (len(data)))"
   ]
  },
  {
   "cell_type": "markdown",
   "id": "6116c0bf",
   "metadata": {},
   "source": [
    "- 중복 제거로 인해 기존 98,401개의 뉴스는 98,360개가 됨"
   ]
  },
  {
   "cell_type": "code",
   "execution_count": null,
   "id": "15cf191b",
   "metadata": {},
   "outputs": [],
   "source": []
  },
  {
   "cell_type": "code",
   "execution_count": null,
   "id": "bd7cc129",
   "metadata": {},
   "outputs": [],
   "source": []
  },
  {
   "cell_type": "markdown",
   "id": "0bb910a6",
   "metadata": {},
   "source": [
    "## 결측치 확인"
   ]
  },
  {
   "cell_type": "code",
   "execution_count": 7,
   "id": "e7bb7216",
   "metadata": {},
   "outputs": [
    {
     "name": "stdout",
     "output_type": "stream",
     "text": [
      "headlines    0\n",
      "text         0\n",
      "dtype: int64\n"
     ]
    }
   ],
   "source": [
    "print(data.isnull().sum())"
   ]
  },
  {
   "cell_type": "markdown",
   "id": "eb2e3044",
   "metadata": {},
   "source": [
    "- 결측치는 없음"
   ]
  },
  {
   "cell_type": "code",
   "execution_count": null,
   "id": "29ceef30",
   "metadata": {},
   "outputs": [],
   "source": []
  },
  {
   "cell_type": "code",
   "execution_count": null,
   "id": "fbfa83f4",
   "metadata": {},
   "outputs": [],
   "source": []
  },
  {
   "cell_type": "markdown",
   "id": "33fd5337",
   "metadata": {},
   "source": [
    "## 텍스트 정규화 준비\n",
    "- 단어들 중에서는 같은 의미인데도 다른 표현으로 쓰여 마치 다른 단어들처럼 간주되는 경우가 있음  \n",
    "(예를 들어서 it'll은 it will과 같고, mustn't과 must not은 사실 같은 표현)\n",
    "- 기계 학습 전에 미리 같은 표현으로 통일시켜주는 것이 기계의 연산량을 줄일 수 있음"
   ]
  },
  {
   "cell_type": "code",
   "execution_count": 8,
   "id": "cb04d047",
   "metadata": {},
   "outputs": [
    {
     "name": "stdout",
     "output_type": "stream",
     "text": [
      "정규화 사전의 수:  120\n"
     ]
    }
   ],
   "source": [
    "contractions = {\"ain't\": \"is not\", \"aren't\": \"are not\",\"can't\": \"cannot\", \"'cause\": \"because\", \"could've\": \"could have\", \"couldn't\": \"could not\",\n",
    "                           \"didn't\": \"did not\",  \"doesn't\": \"does not\", \"don't\": \"do not\", \"hadn't\": \"had not\", \"hasn't\": \"has not\", \"haven't\": \"have not\",\n",
    "                           \"he'd\": \"he would\",\"he'll\": \"he will\", \"he's\": \"he is\", \"how'd\": \"how did\", \"how'd'y\": \"how do you\", \"how'll\": \"how will\", \"how's\": \"how is\",\n",
    "                           \"I'd\": \"I would\", \"I'd've\": \"I would have\", \"I'll\": \"I will\", \"I'll've\": \"I will have\",\"I'm\": \"I am\", \"I've\": \"I have\", \"i'd\": \"i would\",\n",
    "                           \"i'd've\": \"i would have\", \"i'll\": \"i will\",  \"i'll've\": \"i will have\",\"i'm\": \"i am\", \"i've\": \"i have\", \"isn't\": \"is not\", \"it'd\": \"it would\",\n",
    "                           \"it'd've\": \"it would have\", \"it'll\": \"it will\", \"it'll've\": \"it will have\",\"it's\": \"it is\", \"let's\": \"let us\", \"ma'am\": \"madam\",\n",
    "                           \"mayn't\": \"may not\", \"might've\": \"might have\",\"mightn't\": \"might not\",\"mightn't've\": \"might not have\", \"must've\": \"must have\",\n",
    "                           \"mustn't\": \"must not\", \"mustn't've\": \"must not have\", \"needn't\": \"need not\", \"needn't've\": \"need not have\",\"o'clock\": \"of the clock\",\n",
    "                           \"oughtn't\": \"ought not\", \"oughtn't've\": \"ought not have\", \"shan't\": \"shall not\", \"sha'n't\": \"shall not\", \"shan't've\": \"shall not have\",\n",
    "                           \"she'd\": \"she would\", \"she'd've\": \"she would have\", \"she'll\": \"she will\", \"she'll've\": \"she will have\", \"she's\": \"she is\",\n",
    "                           \"should've\": \"should have\", \"shouldn't\": \"should not\", \"shouldn't've\": \"should not have\", \"so've\": \"so have\",\"so's\": \"so as\",\n",
    "                           \"this's\": \"this is\",\"that'd\": \"that would\", \"that'd've\": \"that would have\", \"that's\": \"that is\", \"there'd\": \"there would\",\n",
    "                           \"there'd've\": \"there would have\", \"there's\": \"there is\", \"here's\": \"here is\",\"they'd\": \"they would\", \"they'd've\": \"they would have\",\n",
    "                           \"they'll\": \"they will\", \"they'll've\": \"they will have\", \"they're\": \"they are\", \"they've\": \"they have\", \"to've\": \"to have\",\n",
    "                           \"wasn't\": \"was not\", \"we'd\": \"we would\", \"we'd've\": \"we would have\", \"we'll\": \"we will\", \"we'll've\": \"we will have\", \"we're\": \"we are\",\n",
    "                           \"we've\": \"we have\", \"weren't\": \"were not\", \"what'll\": \"what will\", \"what'll've\": \"what will have\", \"what're\": \"what are\",\n",
    "                           \"what's\": \"what is\", \"what've\": \"what have\", \"when's\": \"when is\", \"when've\": \"when have\", \"where'd\": \"where did\", \"where's\": \"where is\",\n",
    "                           \"where've\": \"where have\", \"who'll\": \"who will\", \"who'll've\": \"who will have\", \"who's\": \"who is\", \"who've\": \"who have\",\n",
    "                           \"why's\": \"why is\", \"why've\": \"why have\", \"will've\": \"will have\", \"won't\": \"will not\", \"won't've\": \"will not have\",\n",
    "                           \"would've\": \"would have\", \"wouldn't\": \"would not\", \"wouldn't've\": \"would not have\", \"y'all\": \"you all\",\n",
    "                           \"y'all'd\": \"you all would\",\"y'all'd've\": \"you all would have\",\"y'all're\": \"you all are\",\"y'all've\": \"you all have\",\n",
    "                           \"you'd\": \"you would\", \"you'd've\": \"you would have\", \"you'll\": \"you will\", \"you'll've\": \"you will have\",\n",
    "                           \"you're\": \"you are\", \"you've\": \"you have\"}\n",
    "\n",
    "print(\"정규화 사전의 수: \", len(contractions))"
   ]
  },
  {
   "cell_type": "code",
   "execution_count": null,
   "id": "ddb5fa7d",
   "metadata": {},
   "outputs": [],
   "source": []
  },
  {
   "cell_type": "code",
   "execution_count": null,
   "id": "16223eba",
   "metadata": {},
   "outputs": [],
   "source": []
  },
  {
   "cell_type": "markdown",
   "id": "6d9a7331",
   "metadata": {},
   "source": [
    "## 불용어 제거 준비"
   ]
  },
  {
   "cell_type": "code",
   "execution_count": 9,
   "id": "f7b66325",
   "metadata": {},
   "outputs": [
    {
     "name": "stderr",
     "output_type": "stream",
     "text": [
      "[nltk_data] Downloading package stopwords to /aiffel/nltk_data...\n",
      "[nltk_data]   Package stopwords is already up-to-date!\n"
     ]
    },
    {
     "data": {
      "text/plain": [
       "True"
      ]
     },
     "execution_count": 9,
     "metadata": {},
     "output_type": "execute_result"
    }
   ],
   "source": [
    "import nltk\n",
    "nltk.download('stopwords')"
   ]
  },
  {
   "cell_type": "markdown",
   "id": "41223538",
   "metadata": {},
   "source": [
    "- NLTK (Natural Language Toolkit)\n",
    "    - 영어 기호, 통계, 자연어 처리를 위한 라이브러리\n",
    "    - 100여개의 불용어가 미리 정리되어 있음"
   ]
  },
  {
   "cell_type": "code",
   "execution_count": 10,
   "id": "987c0e45",
   "metadata": {},
   "outputs": [
    {
     "name": "stdout",
     "output_type": "stream",
     "text": [
      "불용어 개수 : 179\n",
      "['i', 'me', 'my', 'myself', 'we', 'our', 'ours', 'ourselves', 'you', \"you're\", \"you've\", \"you'll\", \"you'd\", 'your', 'yours', 'yourself', 'yourselves', 'he', 'him', 'his', 'himself', 'she', \"she's\", 'her', 'hers', 'herself', 'it', \"it's\", 'its', 'itself', 'they', 'them', 'their', 'theirs', 'themselves', 'what', 'which', 'who', 'whom', 'this', 'that', \"that'll\", 'these', 'those', 'am', 'is', 'are', 'was', 'were', 'be', 'been', 'being', 'have', 'has', 'had', 'having', 'do', 'does', 'did', 'doing', 'a', 'an', 'the', 'and', 'but', 'if', 'or', 'because', 'as', 'until', 'while', 'of', 'at', 'by', 'for', 'with', 'about', 'against', 'between', 'into', 'through', 'during', 'before', 'after', 'above', 'below', 'to', 'from', 'up', 'down', 'in', 'out', 'on', 'off', 'over', 'under', 'again', 'further', 'then', 'once', 'here', 'there', 'when', 'where', 'why', 'how', 'all', 'any', 'both', 'each', 'few', 'more', 'most', 'other', 'some', 'such', 'no', 'nor', 'not', 'only', 'own', 'same', 'so', 'than', 'too', 'very', 's', 't', 'can', 'will', 'just', 'don', \"don't\", 'should', \"should've\", 'now', 'd', 'll', 'm', 'o', 're', 've', 'y', 'ain', 'aren', \"aren't\", 'couldn', \"couldn't\", 'didn', \"didn't\", 'doesn', \"doesn't\", 'hadn', \"hadn't\", 'hasn', \"hasn't\", 'haven', \"haven't\", 'isn', \"isn't\", 'ma', 'mightn', \"mightn't\", 'mustn', \"mustn't\", 'needn', \"needn't\", 'shan', \"shan't\", 'shouldn', \"shouldn't\", 'wasn', \"wasn't\", 'weren', \"weren't\", 'won', \"won't\", 'wouldn', \"wouldn't\"]\n"
     ]
    }
   ],
   "source": [
    "print('불용어 개수 :', len(stopwords.words('english') ))\n",
    "print(stopwords.words('english'))"
   ]
  },
  {
   "cell_type": "code",
   "execution_count": null,
   "id": "c96a6565",
   "metadata": {},
   "outputs": [],
   "source": []
  },
  {
   "cell_type": "code",
   "execution_count": null,
   "id": "deac38a3",
   "metadata": {},
   "outputs": [],
   "source": []
  },
  {
   "cell_type": "markdown",
   "id": "26eccbc1",
   "metadata": {},
   "source": [
    "## 데이터 전처리"
   ]
  },
  {
   "cell_type": "markdown",
   "id": "4ae1d517",
   "metadata": {},
   "source": [
    "### 1. 데이터 전처리 함수 만들기"
   ]
  },
  {
   "cell_type": "code",
   "execution_count": 11,
   "id": "89a50855",
   "metadata": {},
   "outputs": [],
   "source": [
    "# 데이터 전처리 함수\n",
    "def preprocess_sentence(sentence, remove_stopwords=True):\n",
    "    sentence = sentence.lower() # 텍스트 소문자화\n",
    "    sentence = BeautifulSoup(sentence, \"lxml\").text # <br />, <a href = ...> 등의 html 태그 제거\n",
    "    sentence = re.sub(r'\\([^)]*\\)', '', sentence) # 괄호로 닫힌 문자열 (...) 제거 Ex) my husband (and myself!) for => my husband for\n",
    "    sentence = re.sub('\"','', sentence) # 쌍따옴표 \" 제거\n",
    "    sentence = ' '.join([contractions[t] if t in contractions else t for t in sentence.split(\" \")]) # 약어 정규화\n",
    "    sentence = re.sub(r\"'s\\b\",\"\", sentence) # 소유격 제거. Ex) roland's -> roland\n",
    "    sentence = re.sub(\"[^a-zA-Z]\", \" \", sentence) # 영어 외 문자(숫자, 특수문자 등) 공백으로 변환\n",
    "    sentence = re.sub('[m]{2,}', 'mm', sentence) # m이 3개 이상이면 2개로 변경. Ex) ummmmmmm yeah -> umm yeah\n",
    "    \n",
    "    # 불용어 제거 (text)\n",
    "    if remove_stopwords:\n",
    "        tokens = ' '.join(word for word in sentence.split() if not word in stopwords.words('english') if len(word) > 1)\n",
    "    # 불용어 미제거 (headlines)\n",
    "    else:\n",
    "        tokens = ' '.join(word for word in sentence.split() if len(word) > 1)\n",
    "    return tokens"
   ]
  },
  {
   "cell_type": "markdown",
   "id": "050e6cef",
   "metadata": {},
   "source": [
    "- remove_stopwords\n",
    "    - 불용어에 포함된 단어들이 headlines에 들어가 있어야 자연스러운 문장이 됨\n",
    "    - 따라서 text에서만 불용어를 제외시킬 수 있도록 if문을 통해서 나눔"
   ]
  },
  {
   "cell_type": "markdown",
   "id": "c3605b4b",
   "metadata": {},
   "source": [
    "### 2. 데이터 전처리 함수 작동 확인"
   ]
  },
  {
   "cell_type": "code",
   "execution_count": 12,
   "id": "aab20d9a",
   "metadata": {},
   "outputs": [
    {
     "name": "stdout",
     "output_type": "stream",
     "text": [
      "text:  everything bought great infact ordered twice third ordered wasfor mother father\n",
      "summary: great way to start the day\n"
     ]
    }
   ],
   "source": [
    "temp_text = 'Everything I bought was great, infact I ordered twice and the third ordered was<br />for my mother and father.'\n",
    "temp_summary = 'Great way to start (or finish) the day!!!'\n",
    "\n",
    "print(\"text: \", preprocess_sentence(temp_text))\n",
    "print(\"summary:\", preprocess_sentence(temp_summary, False))  # 불용어를 제거하지 않습니다."
   ]
  },
  {
   "cell_type": "markdown",
   "id": "8cd064de",
   "metadata": {},
   "source": [
    "### 3. 'text' 전처리하기"
   ]
  },
  {
   "cell_type": "code",
   "execution_count": 13,
   "id": "e73042c4",
   "metadata": {},
   "outputs": [
    {
     "name": "stdout",
     "output_type": "stream",
     "text": [
      "text 전처리 후 결과:  ['saurav kant alumnus upgrad iiit pg program machine learning artificial intelligence sr systems engineer infosys almost years work experience program upgrad degree career support helped transition data scientist tech mahindra salary hike upgrad online power learning powered lakh careers', 'kunal shah credit card bill payment platform cred gave users chance win free food swiggy one year pranav kaushik delhi techie bagged reward spending cred coins users get one cred coin per rupee bill paid used avail rewards brands like ixigo bookmyshow ubereats cult fit', 'new zealand defeated india wickets fourth odi hamilton thursday win first match five match odi series india lost international match rohit sharma captaincy consecutive victories dating back march match witnessed india getting seventh lowest total odi cricket history', 'aegon life iterm insurance plan customers enjoy tax benefits premiums paid save taxes plan provides life cover age years also customers options insure critical illnesses disability accidental death benefit rider life cover age years', 'speaking sexual harassment allegations rajkumar hirani sonam kapoor said known hirani many years true metoo movement get derailed metoo movement always believe woman case need reserve judgment added hirani accused assistant worked sanju']\n"
     ]
    }
   ],
   "source": [
    "clean_text = []\n",
    "# 전체 text 데이터에 대한 전처리 \n",
    "for s in data['text']:\n",
    "    clean_text.append(preprocess_sentence(s))\n",
    "\n",
    "# 전처리 후 출력\n",
    "print(\"text 전처리 후 결과: \", clean_text[:5])"
   ]
  },
  {
   "cell_type": "markdown",
   "id": "8bef7df7",
   "metadata": {},
   "source": [
    "### 4. 'headlines' 전처리하기"
   ]
  },
  {
   "cell_type": "code",
   "execution_count": 14,
   "id": "87a1b9ca",
   "metadata": {},
   "outputs": [
    {
     "name": "stdout",
     "output_type": "stream",
     "text": [
      "headlines 전처리 후 결과:  ['upgrad learner switches to career in ml al with salary hike', 'delhi techie wins free food from swiggy for one year on cred', 'new zealand end rohit sharma led india match winning streak', 'aegon life iterm insurance plan helps customers save tax', 'have known hirani for yrs what if metoo claims are not true sonam']\n"
     ]
    }
   ],
   "source": [
    "clean_headlines = []\n",
    "# 전체 headlines 데이터에 대한 전처리 \n",
    "for s in data['headlines']:\n",
    "    clean_headlines.append(preprocess_sentence(s, False))\n",
    "\n",
    "print(\"headlines 전처리 후 결과: \", clean_headlines[:5])"
   ]
  },
  {
   "cell_type": "markdown",
   "id": "947d15dc",
   "metadata": {},
   "source": [
    "- False : remove_stopwords를 false로 하여 preprocess_sentence 함수 안에서 불용어를 제거하지 않도록 함"
   ]
  },
  {
   "cell_type": "markdown",
   "id": "025a3246",
   "metadata": {},
   "source": [
    "### 5. 정제한 데이터를 기존 data셋에 저장"
   ]
  },
  {
   "cell_type": "code",
   "execution_count": 15,
   "id": "e968114f",
   "metadata": {},
   "outputs": [],
   "source": [
    "data['text'] = clean_text\n",
    "data['headlines'] = clean_headlines\n",
    "\n",
    "# 빈 값을 Null 값으로 변환\n",
    "data.replace('', np.nan, inplace=True)"
   ]
  },
  {
   "cell_type": "code",
   "execution_count": null,
   "id": "870f39a8",
   "metadata": {},
   "outputs": [],
   "source": []
  },
  {
   "cell_type": "code",
   "execution_count": null,
   "id": "ce33b2bb",
   "metadata": {},
   "outputs": [],
   "source": []
  },
  {
   "cell_type": "markdown",
   "id": "5b5cf1fc",
   "metadata": {},
   "source": [
    "## 정제 후 결측치 확인"
   ]
  },
  {
   "cell_type": "code",
   "execution_count": 16,
   "id": "af5a4325",
   "metadata": {},
   "outputs": [
    {
     "data": {
      "text/plain": [
       "headlines    0\n",
       "text         0\n",
       "dtype: int64"
      ]
     },
     "execution_count": 16,
     "metadata": {},
     "output_type": "execute_result"
    }
   ],
   "source": [
    "data.isnull().sum()"
   ]
  },
  {
   "cell_type": "markdown",
   "id": "5075eca8",
   "metadata": {},
   "source": [
    "- 정제 후에도 결측치는 없음"
   ]
  },
  {
   "cell_type": "code",
   "execution_count": null,
   "id": "6a2d9c96",
   "metadata": {},
   "outputs": [],
   "source": []
  },
  {
   "cell_type": "code",
   "execution_count": null,
   "id": "f9b2e62e",
   "metadata": {},
   "outputs": [],
   "source": []
  },
  {
   "cell_type": "markdown",
   "id": "fe2f6492",
   "metadata": {},
   "source": [
    "## 시퀀스 길이 정하기"
   ]
  },
  {
   "cell_type": "markdown",
   "id": "f41f79ce",
   "metadata": {},
   "source": [
    "### 1. text와 headlines의 시퀀스 길이 체크"
   ]
  },
  {
   "cell_type": "code",
   "execution_count": 17,
   "id": "36933279",
   "metadata": {},
   "outputs": [
    {
     "name": "stdout",
     "output_type": "stream",
     "text": [
      "텍스트의 최소 길이 : 1\n",
      "텍스트의 최대 길이 : 60\n",
      "텍스트의 평균 길이 : 35.09968483123221\n",
      "헤드라인의 최소 길이 : 1\n",
      "헤드라인의 최대 길이 : 16\n",
      "헤드라인의 평균 길이 : 9.299532330215534\n"
     ]
    },
    {
     "data": {
      "image/png": "[encoded data removed]",
      "text/plain": [
       "<Figure size 432x288 with 2 Axes>"
      ]
     },
     "metadata": {
      "needs_background": "light"
     },
     "output_type": "display_data"
    },
    {
     "data": {
      "image/png": "[encoded data removed]",
      "text/plain": [
       "<Figure size 432x288 with 1 Axes>"
      ]
     },
     "metadata": {
      "needs_background": "light"
     },
     "output_type": "display_data"
    },
    {
     "data": {
      "image/png": "[encoded data removed]",
      "text/plain": [
       "<Figure size 432x288 with 1 Axes>"
      ]
     },
     "metadata": {
      "needs_background": "light"
     },
     "output_type": "display_data"
    }
   ],
   "source": [
    "# 길이 분포 출력\n",
    "import matplotlib.pyplot as plt\n",
    "\n",
    "text_len = [len(s.split()) for s in data['text']]\n",
    "headlines_len = [len(s.split()) for s in data['headlines']]\n",
    "\n",
    "print('텍스트의 최소 길이 : {}'.format(np.min(text_len)))\n",
    "print('텍스트의 최대 길이 : {}'.format(np.max(text_len)))\n",
    "print('텍스트의 평균 길이 : {}'.format(np.mean(text_len)))\n",
    "print('헤드라인의 최소 길이 : {}'.format(np.min(headlines_len)))\n",
    "print('헤드라인의 최대 길이 : {}'.format(np.max(headlines_len)))\n",
    "print('헤드라인의 평균 길이 : {}'.format(np.mean(headlines_len)))\n",
    "\n",
    "plt.subplot(1,2,1)\n",
    "plt.boxplot(text_len)\n",
    "plt.title('text')\n",
    "plt.subplot(1,2,2)\n",
    "plt.boxplot(headlines_len)\n",
    "plt.title('headlines')\n",
    "plt.tight_layout()\n",
    "plt.show()\n",
    "\n",
    "plt.title('text')\n",
    "plt.hist(text_len, bins = 40)\n",
    "plt.xlabel('length of samples')\n",
    "plt.ylabel('number of samples')\n",
    "plt.show()\n",
    "\n",
    "plt.title('headlines')\n",
    "plt.hist(headlines_len, bins = 40)\n",
    "plt.xlabel('length of samples')\n",
    "plt.ylabel('number of samples')\n",
    "plt.show()"
   ]
  },
  {
   "cell_type": "markdown",
   "id": "8be51e91",
   "metadata": {},
   "source": [
    "### 2. 대략적인 시퀀스 최소 길이 정하기"
   ]
  },
  {
   "cell_type": "code",
   "execution_count": 18,
   "id": "e3edb22d",
   "metadata": {},
   "outputs": [],
   "source": [
    "text_min_len = 25\n",
    "headlines_min_len = 1"
   ]
  },
  {
   "cell_type": "markdown",
   "id": "5d214e4d",
   "metadata": {},
   "source": [
    "- 문장에 내용이 별로 없으면 패딩으로만 채워져서 학습에 도움이 별로 안될거 같다는 생각을 함\n",
    "- 문장 최소 길이를 설정하여 좋은 데이터만 뽑으려 함\n",
    "- text의 최소 길이는 25이상\n",
    "- headlines의 최소 길이는 1이상"
   ]
  },
  {
   "cell_type": "markdown",
   "id": "363d331f",
   "metadata": {},
   "source": [
    "### 3. 대략적인 시퀀스 최대 길이 정하기"
   ]
  },
  {
   "cell_type": "code",
   "execution_count": 19,
   "id": "4c7ed8be",
   "metadata": {},
   "outputs": [],
   "source": [
    "text_max_len = 45\n",
    "headlines_max_len = 11"
   ]
  },
  {
   "cell_type": "markdown",
   "id": "c4a3e5d5",
   "metadata": {},
   "source": [
    "- text의 최대 길이는 45이하\n",
    "- headlines의 최대 길이는 11이하"
   ]
  },
  {
   "cell_type": "markdown",
   "id": "edfd9a2a",
   "metadata": {},
   "source": [
    "### 3. 정해준 시퀀스 길이 이하인 샘플의 비율 보기"
   ]
  },
  {
   "cell_type": "code",
   "execution_count": 20,
   "id": "6dd81a23",
   "metadata": {},
   "outputs": [],
   "source": [
    "def below_threshold_len(min_len, max_len, nested_list):\n",
    "  cnt = 0\n",
    "  for s in nested_list:\n",
    "    if(len(s.split()) <= max_len):\n",
    "        if(len(s.split()) >= min_len):\n",
    "            cnt = cnt + 1\n",
    "  print('전체 샘플 중 길이가 %s이상, %s 이하인 샘플의 비율: %s'%(min_len, max_len, (cnt / len(nested_list))))"
   ]
  },
  {
   "cell_type": "code",
   "execution_count": 21,
   "id": "48398e60",
   "metadata": {},
   "outputs": [
    {
     "name": "stdout",
     "output_type": "stream",
     "text": [
      "전체 샘플 중 길이가 25이상, 45 이하인 샘플의 비율: 0.994408296055307\n",
      "전체 샘플 중 길이가 1이상, 11 이하인 샘플의 비율: 0.9449877999186661\n"
     ]
    }
   ],
   "source": [
    "below_threshold_len(text_min_len, text_max_len, data['text'])\n",
    "below_threshold_len(headlines_min_len, headlines_max_len,  data['headlines'])"
   ]
  },
  {
   "cell_type": "markdown",
   "id": "52998abe",
   "metadata": {},
   "source": [
    "### 4. 지정해준 시퀀스의 길이 이하의 문장을 제외시켜버리기"
   ]
  },
  {
   "cell_type": "code",
   "execution_count": 22,
   "id": "d57bccd0",
   "metadata": {},
   "outputs": [
    {
     "name": "stdout",
     "output_type": "stream",
     "text": [
      "전체 샘플수 : 98127\n"
     ]
    }
   ],
   "source": [
    "data = data[data['text'].apply(lambda x: len(x.split()) >= text_min_len)]\n",
    "data = data[data['headlines'].apply(lambda x: len(x.split()) >= headlines_min_len)]\n",
    "print('전체 샘플수 :', (len(data)))"
   ]
  },
  {
   "cell_type": "markdown",
   "id": "617f0a3c",
   "metadata": {},
   "source": [
    "### 5. 지정해준 시퀀스의 길이 이상의 문장을 제외시켜버리기"
   ]
  },
  {
   "cell_type": "code",
   "execution_count": 23,
   "id": "5739271c",
   "metadata": {},
   "outputs": [
    {
     "name": "stdout",
     "output_type": "stream",
     "text": [
      "전체 샘플수 : 92442\n"
     ]
    }
   ],
   "source": [
    "data = data[data['text'].apply(lambda x: len(x.split()) <= text_max_len)]\n",
    "data = data[data['headlines'].apply(lambda x: len(x.split()) <= headlines_max_len)]\n",
    "print('전체 샘플수 :', (len(data)))"
   ]
  },
  {
   "cell_type": "markdown",
   "id": "7ed64c14",
   "metadata": {},
   "source": [
    "- 문자의 길이를 지정해준 후, data의 갯수는 89,246개가 됨"
   ]
  },
  {
   "cell_type": "code",
   "execution_count": null,
   "id": "9919b15a",
   "metadata": {},
   "outputs": [],
   "source": []
  },
  {
   "cell_type": "code",
   "execution_count": null,
   "id": "ed5fd1a6",
   "metadata": {},
   "outputs": [],
   "source": []
  },
  {
   "cell_type": "markdown",
   "id": "bf014956",
   "metadata": {},
   "source": [
    "## 시작과 끝을 알리는 토큰 만들기"
   ]
  },
  {
   "cell_type": "markdown",
   "id": "c28d3dd5",
   "metadata": {},
   "source": [
    "- 두번째 RNN인 Decoder에서는 시작 토큰을 입력받아 문장을 생성하기 시작하고, 종료 토큰을 예측한 순간에 문장 생성을 멈춤\n",
    "- 뉴스를 요약해야하므로 Decoder에 쓰일 문장은 'headlines'에서 가공함"
   ]
  },
  {
   "cell_type": "code",
   "execution_count": 24,
   "id": "8623a4f6",
   "metadata": {},
   "outputs": [
    {
     "data": {
      "text/html": [
       "<div>\n",
       "<style scoped>\n",
       "    .dataframe tbody tr th:only-of-type {\n",
       "        vertical-align: middle;\n",
       "    }\n",
       "\n",
       "    .dataframe tbody tr th {\n",
       "        vertical-align: top;\n",
       "    }\n",
       "\n",
       "    .dataframe thead th {\n",
       "        text-align: right;\n",
       "    }\n",
       "</style>\n",
       "<table border=\"1\" class=\"dataframe\">\n",
       "  <thead>\n",
       "    <tr style=\"text-align: right;\">\n",
       "      <th></th>\n",
       "      <th>headlines</th>\n",
       "      <th>text</th>\n",
       "      <th>decoder_input</th>\n",
       "      <th>decoder_target</th>\n",
       "    </tr>\n",
       "  </thead>\n",
       "  <tbody>\n",
       "    <tr>\n",
       "      <th>0</th>\n",
       "      <td>upgrad learner switches to career in ml al wit...</td>\n",
       "      <td>saurav kant alumnus upgrad iiit pg program mac...</td>\n",
       "      <td>sostoken upgrad learner switches to career in ...</td>\n",
       "      <td>upgrad learner switches to career in ml al wit...</td>\n",
       "    </tr>\n",
       "    <tr>\n",
       "      <th>2</th>\n",
       "      <td>new zealand end rohit sharma led india match w...</td>\n",
       "      <td>new zealand defeated india wickets fourth odi ...</td>\n",
       "      <td>sostoken new zealand end rohit sharma led indi...</td>\n",
       "      <td>new zealand end rohit sharma led india match w...</td>\n",
       "    </tr>\n",
       "    <tr>\n",
       "      <th>3</th>\n",
       "      <td>aegon life iterm insurance plan helps customer...</td>\n",
       "      <td>aegon life iterm insurance plan customers enjo...</td>\n",
       "      <td>sostoken aegon life iterm insurance plan helps...</td>\n",
       "      <td>aegon life iterm insurance plan helps customer...</td>\n",
       "    </tr>\n",
       "    <tr>\n",
       "      <th>5</th>\n",
       "      <td>rahat fateh ali khan denies getting notice for...</td>\n",
       "      <td>pakistani singer rahat fateh ali khan denied r...</td>\n",
       "      <td>sostoken rahat fateh ali khan denies getting n...</td>\n",
       "      <td>rahat fateh ali khan denies getting notice for...</td>\n",
       "    </tr>\n",
       "    <tr>\n",
       "      <th>7</th>\n",
       "      <td>govt directs alok verma to join work day befor...</td>\n",
       "      <td>weeks ex cbi director alok verma told departme...</td>\n",
       "      <td>sostoken govt directs alok verma to join work ...</td>\n",
       "      <td>govt directs alok verma to join work day befor...</td>\n",
       "    </tr>\n",
       "  </tbody>\n",
       "</table>\n",
       "</div>"
      ],
      "text/plain": [
       "                                           headlines  \\\n",
       "0  upgrad learner switches to career in ml al wit...   \n",
       "2  new zealand end rohit sharma led india match w...   \n",
       "3  aegon life iterm insurance plan helps customer...   \n",
       "5  rahat fateh ali khan denies getting notice for...   \n",
       "7  govt directs alok verma to join work day befor...   \n",
       "\n",
       "                                                text  \\\n",
       "0  saurav kant alumnus upgrad iiit pg program mac...   \n",
       "2  new zealand defeated india wickets fourth odi ...   \n",
       "3  aegon life iterm insurance plan customers enjo...   \n",
       "5  pakistani singer rahat fateh ali khan denied r...   \n",
       "7  weeks ex cbi director alok verma told departme...   \n",
       "\n",
       "                                       decoder_input  \\\n",
       "0  sostoken upgrad learner switches to career in ...   \n",
       "2  sostoken new zealand end rohit sharma led indi...   \n",
       "3  sostoken aegon life iterm insurance plan helps...   \n",
       "5  sostoken rahat fateh ali khan denies getting n...   \n",
       "7  sostoken govt directs alok verma to join work ...   \n",
       "\n",
       "                                      decoder_target  \n",
       "0  upgrad learner switches to career in ml al wit...  \n",
       "2  new zealand end rohit sharma led india match w...  \n",
       "3  aegon life iterm insurance plan helps customer...  \n",
       "5  rahat fateh ali khan denies getting notice for...  \n",
       "7  govt directs alok verma to join work day befor...  "
      ]
     },
     "execution_count": 24,
     "metadata": {},
     "output_type": "execute_result"
    }
   ],
   "source": [
    "# 요약 데이터에는 시작 토큰과 종료 토큰을 추가한다.\n",
    "data['decoder_input'] = data['headlines'].apply(lambda x : 'sostoken '+ x)\n",
    "data['decoder_target'] = data['headlines'].apply(lambda x : x + ' eostoken')\n",
    "data.head()"
   ]
  },
  {
   "cell_type": "code",
   "execution_count": 25,
   "id": "19ce6e90",
   "metadata": {},
   "outputs": [],
   "source": [
    "encoder_input = np.array(data['text']) # 인코더의 입력\n",
    "decoder_input = np.array(data['decoder_input']) # 디코더의 입력\n",
    "decoder_target = np.array(data['decoder_target']) # 디코더의 레이블"
   ]
  },
  {
   "cell_type": "markdown",
   "id": "823d2f87",
   "metadata": {},
   "source": []
  },
  {
   "cell_type": "code",
   "execution_count": 26,
   "id": "6d2d8514",
   "metadata": {},
   "outputs": [
    {
     "data": {
      "text/plain": [
       "((92442,), (92442,), (92442,))"
      ]
     },
     "execution_count": 26,
     "metadata": {},
     "output_type": "execute_result"
    }
   ],
   "source": [
    "encoder_input.shape, decoder_input.shape, decoder_target.shape"
   ]
  },
  {
   "cell_type": "code",
   "execution_count": 27,
   "id": "ad85c7e2",
   "metadata": {},
   "outputs": [],
   "source": [
    "# encoder_input"
   ]
  },
  {
   "cell_type": "code",
   "execution_count": 28,
   "id": "453417cb",
   "metadata": {},
   "outputs": [],
   "source": [
    "# decoder_input"
   ]
  },
  {
   "cell_type": "code",
   "execution_count": 29,
   "id": "e8ff9fd4",
   "metadata": {},
   "outputs": [],
   "source": [
    "# decoder_target"
   ]
  },
  {
   "cell_type": "code",
   "execution_count": null,
   "id": "a8f88b00",
   "metadata": {},
   "outputs": [],
   "source": []
  },
  {
   "cell_type": "code",
   "execution_count": null,
   "id": "34dc41a7",
   "metadata": {},
   "outputs": [],
   "source": []
  },
  {
   "cell_type": "markdown",
   "id": "d28971d3",
   "metadata": {},
   "source": [
    "## train, test 분리"
   ]
  },
  {
   "cell_type": "markdown",
   "id": "b888f1fa",
   "metadata": {},
   "source": [
    "### 1. 데이터의 순서를 랜덤으로 섞어줌"
   ]
  },
  {
   "cell_type": "code",
   "execution_count": 30,
   "id": "bbbaa094",
   "metadata": {},
   "outputs": [
    {
     "data": {
      "text/plain": [
       "'saurav kant alumnus upgrad iiit pg program machine learning artificial intelligence sr systems engineer infosys almost years work experience program upgrad degree career support helped transition data scientist tech mahindra salary hike upgrad online power learning powered lakh careers'"
      ]
     },
     "execution_count": 30,
     "metadata": {},
     "output_type": "execute_result"
    }
   ],
   "source": [
    "encoder_input[0]"
   ]
  },
  {
   "cell_type": "code",
   "execution_count": 31,
   "id": "c5fe5b1f",
   "metadata": {},
   "outputs": [],
   "source": [
    "indices = np.arange(encoder_input.shape[0])\n",
    "np.random.shuffle(indices)"
   ]
  },
  {
   "cell_type": "code",
   "execution_count": 32,
   "id": "9fac60e9",
   "metadata": {},
   "outputs": [],
   "source": [
    "encoder_input = encoder_input[indices]\n",
    "decoder_input = decoder_input[indices]\n",
    "decoder_target = decoder_target[indices]"
   ]
  },
  {
   "cell_type": "code",
   "execution_count": 33,
   "id": "3110e4b6",
   "metadata": {},
   "outputs": [
    {
     "data": {
      "text/plain": [
       "'russian foreign minister sergey lavrov monday said russia ready support pakistan eliminating terrorists country pakistan interest getting rid terrorist organisations using territory lavrov added comes us warned pakistan act terrorists everything destroy'"
      ]
     },
     "execution_count": 33,
     "metadata": {},
     "output_type": "execute_result"
    }
   ],
   "source": [
    "encoder_input[0]"
   ]
  },
  {
   "cell_type": "markdown",
   "id": "2dd0ca4e",
   "metadata": {},
   "source": [
    "### 2. train과 test를 나눌 비율 정함"
   ]
  },
  {
   "cell_type": "code",
   "execution_count": 34,
   "id": "af3213c1",
   "metadata": {},
   "outputs": [
    {
     "name": "stdout",
     "output_type": "stream",
     "text": [
      "테스트 데이터의 수 : 18488\n"
     ]
    }
   ],
   "source": [
    "n_of_val = int(len(encoder_input)*0.2)\n",
    "print('테스트 데이터의 수 :', n_of_val)"
   ]
  },
  {
   "cell_type": "markdown",
   "id": "c3994e51",
   "metadata": {},
   "source": [
    "- 전체 data에서 test는 0.2 비율로 18,488개만큼을 분리할 예정"
   ]
  },
  {
   "cell_type": "markdown",
   "id": "bf1f717e",
   "metadata": {},
   "source": [
    "### 3. train, test 분리"
   ]
  },
  {
   "cell_type": "code",
   "execution_count": 35,
   "id": "a4dffde2",
   "metadata": {},
   "outputs": [
    {
     "name": "stdout",
     "output_type": "stream",
     "text": [
      "훈련 데이터의 개수 : 73954\n",
      "훈련 레이블의 개수 : 73954\n",
      "테스트 데이터의 개수 : 18488\n",
      "테스트 레이블의 개수 : 18488\n"
     ]
    }
   ],
   "source": [
    "encoder_input_train = encoder_input[:-n_of_val]\n",
    "decoder_input_train = decoder_input[:-n_of_val]\n",
    "decoder_target_train = decoder_target[:-n_of_val]\n",
    "\n",
    "encoder_input_test = encoder_input[-n_of_val:]\n",
    "decoder_input_test = decoder_input[-n_of_val:]\n",
    "decoder_target_test = decoder_target[-n_of_val:]\n",
    "\n",
    "print('훈련 데이터의 개수 :', len(encoder_input_train))\n",
    "print('훈련 레이블의 개수 :', len(decoder_input_train))\n",
    "print('테스트 데이터의 개수 :', len(encoder_input_test))\n",
    "print('테스트 레이블의 개수 :', len(decoder_input_test))"
   ]
  },
  {
   "cell_type": "code",
   "execution_count": null,
   "id": "133128b2",
   "metadata": {},
   "outputs": [],
   "source": []
  },
  {
   "cell_type": "code",
   "execution_count": null,
   "id": "fd4af9dc",
   "metadata": {},
   "outputs": [],
   "source": []
  },
  {
   "cell_type": "markdown",
   "id": "5c032dae",
   "metadata": {},
   "source": [
    "## 'text'로부터 단어사전 만들기 (Encoder에 쓰일 부분)"
   ]
  },
  {
   "cell_type": "markdown",
   "id": "407df89a",
   "metadata": {},
   "source": [
    "### 1. 토큰 만들기"
   ]
  },
  {
   "cell_type": "code",
   "execution_count": 36,
   "id": "6fa15cf2",
   "metadata": {},
   "outputs": [],
   "source": [
    "src_tokenizer = Tokenizer() # 토크나이저 정의\n",
    "src_tokenizer.fit_on_texts(encoder_input_train) # 입력된 데이터로부터 단어 집합 생성"
   ]
  },
  {
   "cell_type": "code",
   "execution_count": 37,
   "id": "d5de1a0d",
   "metadata": {},
   "outputs": [
    {
     "name": "stdout",
     "output_type": "stream",
     "text": [
      "1 : said\n",
      "2 : india\n",
      "3 : year\n",
      "4 : added\n",
      "5 : us\n",
      "6 : also\n",
      "7 : government\n",
      "8 : first\n",
      "9 : police\n",
      "10 : people\n"
     ]
    }
   ],
   "source": [
    "for idx in src_tokenizer.index_word:\n",
    "    print(idx, \":\", src_tokenizer.index_word[idx])\n",
    "\n",
    "    if idx >= 10: break"
   ]
  },
  {
   "cell_type": "markdown",
   "id": "87806816",
   "metadata": {},
   "source": [
    "- 토큰의 인덱스 순서는 토큰의 빈도수에 의해 결정됨\n",
    "- https://wikidocs.net/31766"
   ]
  },
  {
   "cell_type": "code",
   "execution_count": 38,
   "id": "1a5b1bf6",
   "metadata": {},
   "outputs": [
    {
     "name": "stdout",
     "output_type": "stream",
     "text": [
      "said : 39687\n",
      "year : 13414\n",
      "india : 13646\n"
     ]
    }
   ],
   "source": [
    "for k, v in src_tokenizer.word_counts.items():\n",
    "    if k == 'said':\n",
    "        print(k, ':', v)\n",
    "    if k == 'year':\n",
    "        print(k, ':', v)\n",
    "    if k == 'india':\n",
    "        print(k, ':', v)"
   ]
  },
  {
   "cell_type": "markdown",
   "id": "8c0f0bfd",
   "metadata": {},
   "source": [
    "- 가장 많은 빈도수를 보인 said는 41,446번 나타남"
   ]
  },
  {
   "cell_type": "markdown",
   "id": "b461f65b",
   "metadata": {},
   "source": [
    "### 2. 희귀단어 비율 확인"
   ]
  },
  {
   "cell_type": "code",
   "execution_count": 39,
   "id": "9913f914",
   "metadata": {},
   "outputs": [
    {
     "name": "stdout",
     "output_type": "stream",
     "text": [
      "단어 집합(vocabulary)의 크기 : 68048\n",
      "등장 빈도가 10번 이하인 희귀 단어의 수: 51050\n",
      "단어 집합에서 희귀 단어를 제외시킬 경우의 단어 집합의 크기 16998\n",
      "단어 집합에서 희귀 단어의 비율: 75.02057371267341\n",
      "전체 등장 빈도에서 희귀 단어 등장 빈도 비율: 5.093297728990826\n"
     ]
    }
   ],
   "source": [
    "threshold = 11\n",
    "total_cnt = len(src_tokenizer.word_index) # 단어의 수\n",
    "rare_cnt = 0 # 등장 빈도수가 threshold보다 작은 단어의 개수를 카운트\n",
    "total_freq = 0 # 훈련 데이터의 전체 단어 빈도수 총 합\n",
    "rare_freq = 0 # 등장 빈도수가 threshold보다 작은 단어의 등장 빈도수의 총 합\n",
    "\n",
    "# 단어와 빈도수의 쌍(pair)을 key와 value로 받는다.\n",
    "for key, value in src_tokenizer.word_counts.items():\n",
    "    total_freq = total_freq + value\n",
    "\n",
    "    # 단어의 등장 빈도수가 threshold보다 작으면\n",
    "    if(value < threshold):\n",
    "        rare_cnt = rare_cnt + 1\n",
    "        rare_freq = rare_freq + value\n",
    "\n",
    "print('단어 집합(vocabulary)의 크기 :', total_cnt)\n",
    "print('등장 빈도가 %s번 이하인 희귀 단어의 수: %s'%(threshold - 1, rare_cnt))\n",
    "print('단어 집합에서 희귀 단어를 제외시킬 경우의 단어 집합의 크기 %s'%(total_cnt - rare_cnt))\n",
    "print(\"단어 집합에서 희귀 단어의 비율:\", (rare_cnt / total_cnt)*100)\n",
    "print(\"전체 등장 빈도에서 희귀 단어 등장 빈도 비율:\", (rare_freq / total_freq)*100)"
   ]
  },
  {
   "cell_type": "markdown",
   "id": "fffdd9a5",
   "metadata": {},
   "source": [
    "### 3. 단어사전 만들기"
   ]
  },
  {
   "cell_type": "code",
   "execution_count": 40,
   "id": "f60c6c7d",
   "metadata": {},
   "outputs": [],
   "source": [
    "src_vocab = 17000\n",
    "src_tokenizer = Tokenizer(num_words=src_vocab) # 단어 집합의 크기를 17,000으로 제한\n",
    "src_tokenizer.fit_on_texts(encoder_input_train) # 단어 집합 재생성"
   ]
  },
  {
   "cell_type": "markdown",
   "id": "41de7e51",
   "metadata": {},
   "source": [
    "- 등장 빈도가 10번 이하인 희귀 단어를 제외한 단어들은 16,850개이므로 대략적인 17,000개의 단어를 가진 단어사전을 생성"
   ]
  },
  {
   "cell_type": "markdown",
   "id": "b24e0fd4",
   "metadata": {},
   "source": [
    "### 4. 단어를 정수 시퀀스로 인코딩함"
   ]
  },
  {
   "cell_type": "code",
   "execution_count": 41,
   "id": "04d9f065",
   "metadata": {},
   "outputs": [
    {
     "name": "stdout",
     "output_type": "stream",
     "text": [
      "[[335, 356, 15, 6360, 8370, 58, 1, 300, 1250, 349, 46, 9928, 944, 38, 46, 984, 508, 7842, 1019, 2552, 144, 2300, 8370, 4, 61, 5, 718, 46, 493, 944, 1708, 4390], [338, 157, 4896, 664, 93, 1189, 422, 157, 2768, 81, 3, 59, 177, 1605, 2502, 189, 33, 1854, 59, 177, 73, 157, 33, 1854, 177, 1222, 1189, 2502, 15518, 15518, 1189, 16224, 2017, 3501, 143, 189, 1854, 199, 1364], [424, 120, 3835, 3373, 455, 1355, 266, 92, 424, 3032, 1308, 10381, 1944, 49, 135, 54, 1944, 2001, 11822, 78, 1300, 424, 5369, 2600, 140, 224, 590, 424, 963, 22, 6017, 228, 166]]\n"
     ]
    }
   ],
   "source": [
    "# 텍스트 시퀀스를 정수 시퀀스로 변환\n",
    "encoder_input_train = src_tokenizer.texts_to_sequences(encoder_input_train) \n",
    "encoder_input_test = src_tokenizer.texts_to_sequences(encoder_input_test)\n",
    "\n",
    "# 잘 진행되었는지 샘플 출력\n",
    "print(encoder_input_train[:3])"
   ]
  },
  {
   "cell_type": "code",
   "execution_count": null,
   "id": "739d7f9b",
   "metadata": {},
   "outputs": [],
   "source": []
  },
  {
   "cell_type": "code",
   "execution_count": null,
   "id": "cf564088",
   "metadata": {},
   "outputs": [],
   "source": []
  },
  {
   "cell_type": "markdown",
   "id": "96d28654",
   "metadata": {},
   "source": [
    "## 'headlines'로부터 단어사전 만들기 (Decoder에 쓰일 부분)"
   ]
  },
  {
   "cell_type": "markdown",
   "id": "b5fcdc89",
   "metadata": {},
   "source": [
    "### 1. 토큰 만들기"
   ]
  },
  {
   "cell_type": "code",
   "execution_count": 42,
   "id": "7ac3d5d9",
   "metadata": {},
   "outputs": [],
   "source": [
    "tar_tokenizer = Tokenizer()\n",
    "tar_tokenizer.fit_on_texts(decoder_input_train)"
   ]
  },
  {
   "cell_type": "code",
   "execution_count": 43,
   "id": "89080b97",
   "metadata": {},
   "outputs": [
    {
     "name": "stdout",
     "output_type": "stream",
     "text": [
      "1 : sostoken\n",
      "2 : to\n",
      "3 : in\n",
      "4 : for\n",
      "5 : of\n",
      "6 : on\n",
      "7 : india\n",
      "8 : with\n",
      "9 : after\n",
      "10 : at\n"
     ]
    }
   ],
   "source": [
    "for idx in tar_tokenizer.index_word:\n",
    "    print(idx, \":\", tar_tokenizer.index_word[idx])\n",
    "\n",
    "    if idx >= 10: break"
   ]
  },
  {
   "cell_type": "markdown",
   "id": "2c75319e",
   "metadata": {},
   "source": [
    "### 2. 희귀단어 비율 확인"
   ]
  },
  {
   "cell_type": "code",
   "execution_count": 44,
   "id": "e1e23d26",
   "metadata": {},
   "outputs": [
    {
     "name": "stdout",
     "output_type": "stream",
     "text": [
      "단어 집합(vocabulary)의 크기 : 29514\n",
      "등장 빈도가 9번 이하인 희귀 단어의 수: 22081\n",
      "단어 집합에서 희귀 단어를 제외시킬 경우의 단어 집합의 크기 7433\n",
      "단어 집합에서 희귀 단어의 비율: 74.81534187165413\n",
      "전체 등장 빈도에서 희귀 단어 등장 빈도 비율: 7.5717876192231355\n"
     ]
    }
   ],
   "source": [
    "threshold = 10\n",
    "total_cnt = len(tar_tokenizer.word_index) # 단어의 수\n",
    "rare_cnt = 0 # 등장 빈도수가 threshold보다 작은 단어의 개수를 카운트\n",
    "total_freq = 0 # 훈련 데이터의 전체 단어 빈도수 총 합\n",
    "rare_freq = 0 # 등장 빈도수가 threshold보다 작은 단어의 등장 빈도수의 총 합\n",
    "\n",
    "# 단어와 빈도수의 쌍(pair)을 key와 value로 받는다.\n",
    "for key, value in tar_tokenizer.word_counts.items():\n",
    "    total_freq = total_freq + value\n",
    "\n",
    "    # 단어의 등장 빈도수가 threshold보다 작으면\n",
    "    if(value < threshold):\n",
    "        rare_cnt = rare_cnt + 1\n",
    "        rare_freq = rare_freq + value\n",
    "\n",
    "print('단어 집합(vocabulary)의 크기 :', total_cnt)\n",
    "print('등장 빈도가 %s번 이하인 희귀 단어의 수: %s'%(threshold - 1, rare_cnt))\n",
    "print('단어 집합에서 희귀 단어를 제외시킬 경우의 단어 집합의 크기 %s'%(total_cnt - rare_cnt))\n",
    "print(\"단어 집합에서 희귀 단어의 비율:\", (rare_cnt / total_cnt)*100)\n",
    "print(\"전체 등장 빈도에서 희귀 단어 등장 빈도 비율:\", (rare_freq / total_freq)*100)"
   ]
  },
  {
   "cell_type": "markdown",
   "id": "44fd88c8",
   "metadata": {},
   "source": [
    "### 3. 단어사전 만들기"
   ]
  },
  {
   "cell_type": "code",
   "execution_count": 45,
   "id": "9b7d1abd",
   "metadata": {},
   "outputs": [],
   "source": [
    "tar_vocab = 7000\n",
    "tar_tokenizer = Tokenizer(num_words=tar_vocab) \n",
    "tar_tokenizer.fit_on_texts(decoder_input_train)\n",
    "tar_tokenizer.fit_on_texts(decoder_target_train)"
   ]
  },
  {
   "cell_type": "markdown",
   "id": "aa12b3da",
   "metadata": {},
   "source": [
    "- 등장 빈도가 9번 이하인 희귀 단어를 제외한 단어들은 7,384개이므로 대략적인 7,000개의 단어를 가진 단어사전을 생성"
   ]
  },
  {
   "cell_type": "markdown",
   "id": "e6e920f8",
   "metadata": {},
   "source": [
    "### 4. 단어를 정수 시퀀스로 인코딩함"
   ]
  },
  {
   "cell_type": "code",
   "execution_count": 46,
   "id": "0725d8dc",
   "metadata": {},
   "outputs": [
    {
     "name": "stdout",
     "output_type": "stream",
     "text": [
      "input\n",
      "input  [[1, 860, 3, 546, 86, 4, 432, 141], [1, 1045, 1370, 329, 369, 666, 1535], [1, 186, 66, 50, 686, 986, 450], [1, 399, 2673, 4648, 5, 1190, 91, 364], [1, 264, 473, 195, 3, 32]]\n",
      "target\n",
      "decoder  [[860, 3, 546, 86, 4, 432, 141, 2], [1045, 1370, 329, 369, 666, 1535, 2], [186, 66, 50, 686, 986, 450, 2], [399, 2673, 4648, 5, 1190, 91, 364, 2], [264, 473, 195, 3, 32, 2]]\n"
     ]
    }
   ],
   "source": [
    "# 텍스트 시퀀스를 정수 시퀀스로 변환\n",
    "decoder_input_train = tar_tokenizer.texts_to_sequences(decoder_input_train) \n",
    "decoder_target_train = tar_tokenizer.texts_to_sequences(decoder_target_train)\n",
    "decoder_input_test = tar_tokenizer.texts_to_sequences(decoder_input_test)\n",
    "decoder_target_test = tar_tokenizer.texts_to_sequences(decoder_target_test)\n",
    "\n",
    "# 잘 변환되었는지 확인\n",
    "print('input')\n",
    "print('input ',decoder_input_train[:5])\n",
    "print('target')\n",
    "print('decoder ',decoder_target_train[:5])"
   ]
  },
  {
   "cell_type": "markdown",
   "id": "80484c96",
   "metadata": {},
   "source": [
    "- 1 : sostoken (문장 시작 토큰)\n",
    "- 2 : eostoken (문장 끝 토큰"
   ]
  },
  {
   "cell_type": "code",
   "execution_count": null,
   "id": "12f64102",
   "metadata": {},
   "outputs": [],
   "source": []
  },
  {
   "cell_type": "code",
   "execution_count": null,
   "id": "00118297",
   "metadata": {},
   "outputs": [],
   "source": []
  },
  {
   "cell_type": "markdown",
   "id": "2fb26916",
   "metadata": {},
   "source": [
    "## 'healines'에서 내용이 없는 것 제외시키기"
   ]
  },
  {
   "cell_type": "code",
   "execution_count": 47,
   "id": "4c0adf73",
   "metadata": {},
   "outputs": [
    {
     "name": "stdout",
     "output_type": "stream",
     "text": [
      "삭제할 훈련 데이터의 개수 : 0\n",
      "삭제할 테스트 데이터의 개수 : 0\n",
      "훈련 데이터의 개수 : 73954\n",
      "훈련 레이블의 개수 : 73954\n",
      "테스트 데이터의 개수 : 18488\n",
      "테스트 레이블의 개수 : 18488\n"
     ]
    }
   ],
   "source": [
    "drop_train = [index for index, sentence in enumerate(decoder_input_train) if len(sentence) == 1]\n",
    "drop_test = [index for index, sentence in enumerate(decoder_input_test) if len(sentence) == 1]\n",
    "\n",
    "print('삭제할 훈련 데이터의 개수 :', len(drop_train))\n",
    "print('삭제할 테스트 데이터의 개수 :', len(drop_test))\n",
    "\n",
    "encoder_input_train = [sentence for index, sentence in enumerate(encoder_input_train) if index not in drop_train]\n",
    "decoder_input_train = [sentence for index, sentence in enumerate(decoder_input_train) if index not in drop_train]\n",
    "decoder_target_train = [sentence for index, sentence in enumerate(decoder_target_train) if index not in drop_train]\n",
    "\n",
    "encoder_input_test = [sentence for index, sentence in enumerate(encoder_input_test) if index not in drop_test]\n",
    "decoder_input_test = [sentence for index, sentence in enumerate(decoder_input_test) if index not in drop_test]\n",
    "decoder_target_test = [sentence for index, sentence in enumerate(decoder_target_test) if index not in drop_test]\n",
    "\n",
    "print('훈련 데이터의 개수 :', len(encoder_input_train))\n",
    "print('훈련 레이블의 개수 :', len(decoder_input_train))\n",
    "print('테스트 데이터의 개수 :', len(encoder_input_test))\n",
    "print('테스트 레이블의 개수 :', len(decoder_input_test))"
   ]
  },
  {
   "cell_type": "markdown",
   "id": "4b9304a9",
   "metadata": {},
   "source": [
    "- len(sentence) == 1 : sostoken, eostoken의 존재로 시퀀스의 길이가 0인 것은 없음\n",
    "- 'headlines'부분에서는 내용이 없는 데이터는 없음"
   ]
  },
  {
   "cell_type": "code",
   "execution_count": null,
   "id": "26096f07",
   "metadata": {},
   "outputs": [],
   "source": []
  },
  {
   "cell_type": "code",
   "execution_count": null,
   "id": "9519531c",
   "metadata": {},
   "outputs": [],
   "source": []
  },
  {
   "cell_type": "markdown",
   "id": "d2c119a0",
   "metadata": {},
   "source": [
    "## 시퀀스에 패딩"
   ]
  },
  {
   "cell_type": "code",
   "execution_count": 48,
   "id": "5ad6de42",
   "metadata": {},
   "outputs": [
    {
     "data": {
      "text/plain": [
       "(45, 11)"
      ]
     },
     "execution_count": 48,
     "metadata": {},
     "output_type": "execute_result"
    }
   ],
   "source": [
    "text_max_len, headlines_max_len"
   ]
  },
  {
   "cell_type": "markdown",
   "id": "af9f7d9f",
   "metadata": {},
   "source": [
    "- 'text'와 'headlines' 시퀀스 최대 길이는 45와 11로 지정해줬었음"
   ]
  },
  {
   "cell_type": "code",
   "execution_count": 49,
   "id": "a01409c5",
   "metadata": {},
   "outputs": [],
   "source": [
    "encoder_input_train = pad_sequences(encoder_input_train, maxlen=text_max_len, padding='pre')\n",
    "encoder_input_test = pad_sequences(encoder_input_test, maxlen=text_max_len, padding='pre')\n",
    "decoder_input_train = pad_sequences(decoder_input_train, maxlen=headlines_max_len, padding='pre')\n",
    "decoder_target_train = pad_sequences(decoder_target_train, maxlen=headlines_max_len, padding='pre')\n",
    "decoder_input_test = pad_sequences(decoder_input_test, maxlen=headlines_max_len, padding='pre')\n",
    "decoder_target_test = pad_sequences(decoder_target_test, maxlen=headlines_max_len, padding='pre')"
   ]
  },
  {
   "cell_type": "markdown",
   "id": "f29e0b1e",
   "metadata": {},
   "source": [
    "- 'pre padding'을 통해 시퀀스의 최대 길이에서 부족한 부분만큼 앞단에 0을 채움\n",
    "- 뒷단의 입력이 중요한 recurrent model 입장에서는 'pre padding'이 'post padding'보다 좋은 성능을 가짐\n",
    "- https://koreapy.tistory.com/604"
   ]
  },
  {
   "cell_type": "code",
   "execution_count": null,
   "id": "38e45ecb",
   "metadata": {},
   "outputs": [],
   "source": []
  },
  {
   "cell_type": "code",
   "execution_count": null,
   "id": "78ef7950",
   "metadata": {},
   "outputs": [],
   "source": []
  },
  {
   "cell_type": "markdown",
   "id": "bd960b3a",
   "metadata": {},
   "source": [
    "## Encoder 모델 설계하기"
   ]
  },
  {
   "cell_type": "code",
   "execution_count": 50,
   "id": "39180a46",
   "metadata": {},
   "outputs": [
    {
     "name": "stdout",
     "output_type": "stream",
     "text": [
      "WARNING:tensorflow:Layer lstm will not use cuDNN kernels since it doesn't meet the criteria. It will use a generic GPU kernel as fallback when running on GPU.\n",
      "WARNING:tensorflow:Layer lstm_1 will not use cuDNN kernels since it doesn't meet the criteria. It will use a generic GPU kernel as fallback when running on GPU.\n",
      "WARNING:tensorflow:Layer lstm_2 will not use cuDNN kernels since it doesn't meet the criteria. It will use a generic GPU kernel as fallback when running on GPU.\n"
     ]
    }
   ],
   "source": [
    "from tensorflow.keras.layers import Input, LSTM, Embedding, Dense, Concatenate, TimeDistributed\n",
    "from tensorflow.keras.models import Model\n",
    "from tensorflow.keras.callbacks import EarlyStopping, ModelCheckpoint\n",
    "\n",
    "\n",
    "# 인코더 설계 시작\n",
    "embedding_dim = 128\n",
    "hidden_size = 256\n",
    "\n",
    "# 인코더\n",
    "encoder_inputs = Input(shape=(text_max_len,))\n",
    "\n",
    "# 인코더의 임베딩 층\n",
    "enc_emb = Embedding(src_vocab, embedding_dim)(encoder_inputs)\n",
    "\n",
    "# 인코더의 LSTM 1\n",
    "encoder_lstm1 = LSTM(hidden_size, return_sequences=True, return_state=True ,dropout = 0.4, recurrent_dropout = 0.4)\n",
    "encoder_output1, state_h1, state_c1 = encoder_lstm1(enc_emb)\n",
    "\n",
    "# 인코더의 LSTM 2\n",
    "encoder_lstm2 = LSTM(hidden_size, return_sequences=True, return_state=True, dropout=0.4, recurrent_dropout=0.4)\n",
    "encoder_output2, state_h2, state_c2 = encoder_lstm2(encoder_output1)\n",
    "\n",
    "# 인코더의 LSTM 3\n",
    "encoder_lstm3 = LSTM(hidden_size, return_state=True, return_sequences=True, dropout=0.4, recurrent_dropout=0.4)\n",
    "encoder_outputs, state_h, state_c= encoder_lstm3(encoder_output2)"
   ]
  },
  {
   "cell_type": "markdown",
   "id": "97debe25",
   "metadata": {},
   "source": [
    "- Encoder 모델에서는 'text'부분을 받아 학습하고 컨텍스트 벡터(context vector) 출력함"
   ]
  },
  {
   "cell_type": "markdown",
   "id": "3ce2cb77",
   "metadata": {},
   "source": [
    "- 임베딩의 input_dim은 src_vocab으로 지정해준 17,000으로 들어옴\n",
    "- 임베딩의 output_dim 벡터의 차원은 256으로 정의\n",
    "- hidden state의 크기를 512로 정의 (LSTM의 유닛의 갯수)"
   ]
  },
  {
   "cell_type": "markdown",
   "id": "d2fa8204",
   "metadata": {},
   "source": [
    "- hidden state의 크기를 늘리는 것 : LSTM 층 1개의 용량을 늘림\n",
    "- LSTM 층 수를 여러개 쓰는 것 : 모델의 용량을 늘림"
   ]
  },
  {
   "cell_type": "markdown",
   "id": "5d573e25",
   "metadata": {},
   "source": [
    "- cuDNN \n",
    "    - CUDA Deep Neural Networkrecurrent \n",
    "    - 심층 신경망에서 사용하기 위해 GPU를 가속할 수 있게 함\n",
    "    - recurrent_dropout을 사용할 때에는 cuda를 사용할 수 없음"
   ]
  },
  {
   "cell_type": "markdown",
   "id": "2fc5c168",
   "metadata": {},
   "source": [
    "![recurrent dropout](https://d3s0tskafalll9.cloudfront.net/media/images/seukeurinsyas_2021-10-28_17-19-50.max-800x600.png)"
   ]
  },
  {
   "cell_type": "markdown",
   "id": "0cf0039e",
   "metadata": {},
   "source": [
    "- 일반적인 dropout : 레이어의 weight를 랜덤으로 생략하여 모델의 과적합(overfitting)을 해결해주는 방법\n",
    "- recurrent dropout : dropout을 레이어가 아닌 time step마다 해주는 방식, 즉 time step의 입력을 랜덤으로 생략\n",
    "<br><br>\n",
    "- recurrent dropout은 일반적인 dropout와 같이 regularization을 해주는 효과가 있고, 과적합을 방지\n",
    "<br><br>\n",
    "- Variational Dropout : dropout과 recurrent dropout을 모두 사용한 것"
   ]
  },
  {
   "cell_type": "markdown",
   "id": "c8bc5123",
   "metadata": {},
   "source": [
    "- dropout\n",
    "![dropout](https://ko.d2l.ai/_images/dropout2.svg)"
   ]
  },
  {
   "cell_type": "markdown",
   "id": "033ab52b",
   "metadata": {},
   "source": [
    "- 위의 예시에서는 dropout으로 인해 h2와 h5가 제외됨\n",
    "- h2와 h5에 대해서는 back propagation도 적용되지 않음\n",
    "- h들 중 일부를 제외하므로써 특정 h에 대해 의존하지 않게함\n",
    "- overfitting 방지\n",
    "- 테스트 시에는 확실한 결과를 얻기 위해서 dropout을 사용하지 않음\n",
    "- https://ko.d2l.ai/chapter_deep-learning-basics/dropout.html"
   ]
  },
  {
   "cell_type": "markdown",
   "id": "bb052197",
   "metadata": {},
   "source": [
    "- return_sequences : 출력 시퀀스 또는 전체 시퀀스에서 마지막 출력을 반환할지 여부\n",
    "    - 디폴트값 : False\n",
    "    - 현재는 True이므로 시퀀스 길이(토큰의 갯수)인 45만큼을 벡터로 변환하여 출력"
   ]
  },
  {
   "cell_type": "code",
   "execution_count": null,
   "id": "c6d6f522",
   "metadata": {},
   "outputs": [],
   "source": []
  },
  {
   "cell_type": "code",
   "execution_count": null,
   "id": "c403c3a8",
   "metadata": {},
   "outputs": [],
   "source": []
  },
  {
   "cell_type": "markdown",
   "id": "c27e5892",
   "metadata": {},
   "source": [
    "## Decoder 모델 설계하기"
   ]
  },
  {
   "cell_type": "markdown",
   "id": "e44e11ef",
   "metadata": {},
   "source": [
    "- LSTM의 입력을 정의할 때, initial_state의 인자값으로 인코더의 hidden state와 cell state의 값을 넣어줘야 해요."
   ]
  },
  {
   "cell_type": "code",
   "execution_count": 51,
   "id": "7af8d9c2",
   "metadata": {},
   "outputs": [
    {
     "name": "stdout",
     "output_type": "stream",
     "text": [
      "WARNING:tensorflow:Layer lstm_3 will not use cuDNN kernels since it doesn't meet the criteria. It will use a generic GPU kernel as fallback when running on GPU.\n"
     ]
    }
   ],
   "source": [
    "# 디코더 설계\n",
    "decoder_inputs = Input(shape=(None,))\n",
    "\n",
    "# 디코더의 임베딩 층\n",
    "dec_emb_layer = Embedding(tar_vocab, embedding_dim)\n",
    "dec_emb = dec_emb_layer(decoder_inputs)\n",
    "\n",
    "# 디코더의 LSTM\n",
    "decoder_lstm = LSTM(hidden_size, return_sequences=True, return_state=True, dropout=0.4, recurrent_dropout=0.2)\n",
    "decoder_outputs, _, _ = decoder_lstm(dec_emb, initial_state=[state_h, state_c])"
   ]
  },
  {
   "cell_type": "code",
   "execution_count": 52,
   "id": "123947a4",
   "metadata": {},
   "outputs": [
    {
     "name": "stdout",
     "output_type": "stream",
     "text": [
      "Model: \"model\"\n",
      "__________________________________________________________________________________________________\n",
      "Layer (type)                    Output Shape         Param #     Connected to                     \n",
      "==================================================================================================\n",
      "input_1 (InputLayer)            [(None, 45)]         0                                            \n",
      "__________________________________________________________________________________________________\n",
      "embedding (Embedding)           (None, 45, 128)      2176000     input_1[0][0]                    \n",
      "__________________________________________________________________________________________________\n",
      "lstm (LSTM)                     [(None, 45, 256), (N 394240      embedding[0][0]                  \n",
      "__________________________________________________________________________________________________\n",
      "input_2 (InputLayer)            [(None, None)]       0                                            \n",
      "__________________________________________________________________________________________________\n",
      "lstm_1 (LSTM)                   [(None, 45, 256), (N 525312      lstm[0][0]                       \n",
      "__________________________________________________________________________________________________\n",
      "embedding_1 (Embedding)         (None, None, 128)    896000      input_2[0][0]                    \n",
      "__________________________________________________________________________________________________\n",
      "lstm_2 (LSTM)                   [(None, 45, 256), (N 525312      lstm_1[0][0]                     \n",
      "__________________________________________________________________________________________________\n",
      "lstm_3 (LSTM)                   [(None, None, 256),  394240      embedding_1[0][0]                \n",
      "                                                                 lstm_2[0][1]                     \n",
      "                                                                 lstm_2[0][2]                     \n",
      "__________________________________________________________________________________________________\n",
      "dense (Dense)                   (None, None, 7000)   1799000     lstm_3[0][0]                     \n",
      "==================================================================================================\n",
      "Total params: 6,710,104\n",
      "Trainable params: 6,710,104\n",
      "Non-trainable params: 0\n",
      "__________________________________________________________________________________________________\n"
     ]
    }
   ],
   "source": [
    "# 디코더의 출력층\n",
    "decoder_softmax_layer = Dense(tar_vocab, activation='softmax')\n",
    "decoder_softmax_outputs = decoder_softmax_layer(decoder_outputs) \n",
    "\n",
    "# 모델 정의\n",
    "model = Model([encoder_inputs, decoder_inputs], decoder_softmax_outputs)\n",
    "model.summary()"
   ]
  },
  {
   "attachments": {
    "encoder1_resize-2.jpg": {
     "image/jpeg": "[encoded data removed]"
    }
   },
   "cell_type": "markdown",
   "id": "4e1d90f7",
   "metadata": {},
   "source": [
    "![encoder1_resize-2.jpg](attachment:encoder1_resize-2.jpg)"
   ]
  },
  {
   "attachments": {
    "encoder2_resize-2.jpg": {
     "image/jpeg": "[encoded data removed]"
    }
   },
   "cell_type": "markdown",
   "id": "47abbd13",
   "metadata": {},
   "source": [
    "![encoder2_resize-2.jpg](attachment:encoder2_resize-2.jpg)"
   ]
  },
  {
   "attachments": {
    "decoder_resize-2.jpg": {
     "image/jpeg": "[encoded data removed]"
    }
   },
   "cell_type": "markdown",
   "id": "3a2ae64e",
   "metadata": {},
   "source": [
    "![decoder_resize-2.jpg](attachment:decoder_resize-2.jpg)"
   ]
  },
  {
   "cell_type": "markdown",
   "id": "ebf6c9c7",
   "metadata": {},
   "source": [
    "- 상세한 구조를 이해하기 어려워 노트에 적어가면서 파악해보려 노력함"
   ]
  },
  {
   "cell_type": "markdown",
   "id": "949a52b7",
   "metadata": {},
   "source": [
    "- dense\n",
    "    - Decoder의 출력층\n",
    "    - 'headlines'의 단어장인 tar_vocab의 7000단어 중 하나를 선택해야함\n",
    "    - 다중 클래스 분류 문제이므로 activation으로 softmax를 사용"
   ]
  },
  {
   "cell_type": "code",
   "execution_count": null,
   "id": "0996685f",
   "metadata": {},
   "outputs": [],
   "source": []
  },
  {
   "cell_type": "code",
   "execution_count": null,
   "id": "67becafb",
   "metadata": {},
   "outputs": [],
   "source": []
  },
  {
   "cell_type": "markdown",
   "id": "483becd6",
   "metadata": {},
   "source": [
    "## 어텐션 메커니즘"
   ]
  },
  {
   "cell_type": "code",
   "execution_count": 53,
   "id": "eeb42a06",
   "metadata": {},
   "outputs": [
    {
     "name": "stdout",
     "output_type": "stream",
     "text": [
      "Model: \"model_1\"\n",
      "__________________________________________________________________________________________________\n",
      "Layer (type)                    Output Shape         Param #     Connected to                     \n",
      "==================================================================================================\n",
      "input_1 (InputLayer)            [(None, 45)]         0                                            \n",
      "__________________________________________________________________________________________________\n",
      "embedding (Embedding)           (None, 45, 128)      2176000     input_1[0][0]                    \n",
      "__________________________________________________________________________________________________\n",
      "lstm (LSTM)                     [(None, 45, 256), (N 394240      embedding[0][0]                  \n",
      "__________________________________________________________________________________________________\n",
      "input_2 (InputLayer)            [(None, None)]       0                                            \n",
      "__________________________________________________________________________________________________\n",
      "lstm_1 (LSTM)                   [(None, 45, 256), (N 525312      lstm[0][0]                       \n",
      "__________________________________________________________________________________________________\n",
      "embedding_1 (Embedding)         (None, None, 128)    896000      input_2[0][0]                    \n",
      "__________________________________________________________________________________________________\n",
      "lstm_2 (LSTM)                   [(None, 45, 256), (N 525312      lstm_1[0][0]                     \n",
      "__________________________________________________________________________________________________\n",
      "lstm_3 (LSTM)                   [(None, None, 256),  394240      embedding_1[0][0]                \n",
      "                                                                 lstm_2[0][1]                     \n",
      "                                                                 lstm_2[0][2]                     \n",
      "__________________________________________________________________________________________________\n",
      "attention_layer (AdditiveAttent (None, None, 256)    256         lstm_3[0][0]                     \n",
      "                                                                 lstm_2[0][0]                     \n",
      "__________________________________________________________________________________________________\n",
      "concat_layer (Concatenate)      (None, None, 512)    0           lstm_3[0][0]                     \n",
      "                                                                 attention_layer[0][0]            \n",
      "__________________________________________________________________________________________________\n",
      "dense_1 (Dense)                 (None, None, 7000)   3591000     concat_layer[0][0]               \n",
      "==================================================================================================\n",
      "Total params: 8,502,360\n",
      "Trainable params: 8,502,360\n",
      "Non-trainable params: 0\n",
      "__________________________________________________________________________________________________\n"
     ]
    }
   ],
   "source": [
    "from tensorflow.keras.layers import AdditiveAttention\n",
    "\n",
    "# 어텐션 층(어텐션 함수)\n",
    "attn_layer = AdditiveAttention(name='attention_layer')\n",
    "\n",
    "# 인코더와 디코더의 모든 time step의 hidden state를 어텐션 층에 전달하고 결과를 리턴\n",
    "attn_out = attn_layer([decoder_outputs, encoder_outputs])\n",
    "\n",
    "\n",
    "# 어텐션의 결과와 디코더의 hidden state들을 연결\n",
    "decoder_concat_input = Concatenate(axis=-1, name='concat_layer')([decoder_outputs, attn_out])\n",
    "\n",
    "# 디코더의 출력층\n",
    "decoder_softmax_layer = Dense(tar_vocab, activation='softmax')\n",
    "decoder_softmax_outputs = decoder_softmax_layer(decoder_concat_input)\n",
    "\n",
    "# 모델 정의\n",
    "model = Model([encoder_inputs, decoder_inputs], decoder_softmax_outputs)\n",
    "model.summary()"
   ]
  },
  {
   "cell_type": "markdown",
   "id": "b85f4e15",
   "metadata": {},
   "source": [
    "-  TensorFlow에 이미 구현된 어텐션 함수를 가져와서 디코더의 출력층에 결합"
   ]
  },
  {
   "cell_type": "markdown",
   "id": "61ca780f",
   "metadata": {},
   "source": [
    "- Encoder의 hidden state와 Decoder의 hidden state들을 어턴션 함수의 입력으로 사용\n",
    "- 어텐션 함수가 리턴한 값을 예측 시에 Decoder의 hidden state와 함께 활용하는 형태로 작동"
   ]
  },
  {
   "cell_type": "code",
   "execution_count": null,
   "id": "7402d97c",
   "metadata": {},
   "outputs": [],
   "source": []
  },
  {
   "cell_type": "code",
   "execution_count": null,
   "id": "8099b7d2",
   "metadata": {},
   "outputs": [],
   "source": []
  },
  {
   "cell_type": "markdown",
   "id": "547aceb0",
   "metadata": {},
   "source": [
    "## 모델 훈련하기"
   ]
  },
  {
   "cell_type": "code",
   "execution_count": 54,
   "id": "b727b660",
   "metadata": {},
   "outputs": [
    {
     "name": "stdout",
     "output_type": "stream",
     "text": [
      "Epoch 1/80\n",
      "145/145 [==============================] - 100s 631ms/step - loss: 5.7902 - val_loss: 5.3959\n",
      "Epoch 2/80\n",
      "145/145 [==============================] - 91s 630ms/step - loss: 5.3820 - val_loss: 5.2640\n",
      "Epoch 3/80\n",
      "145/145 [==============================] - 91s 631ms/step - loss: 5.2752 - val_loss: 5.1930\n",
      "Epoch 4/80\n",
      "145/145 [==============================] - 92s 632ms/step - loss: 5.1890 - val_loss: 5.1046\n",
      "Epoch 5/80\n",
      "145/145 [==============================] - 92s 632ms/step - loss: 5.0770 - val_loss: 5.0014\n",
      "Epoch 6/80\n",
      "145/145 [==============================] - 91s 630ms/step - loss: 4.9643 - val_loss: 4.9118\n",
      "Epoch 7/80\n",
      "145/145 [==============================] - 91s 629ms/step - loss: 4.8567 - val_loss: 4.8248\n",
      "Epoch 8/80\n",
      "145/145 [==============================] - 92s 632ms/step - loss: 4.7630 - val_loss: 4.7509\n",
      "Epoch 9/80\n",
      "145/145 [==============================] - 91s 631ms/step - loss: 4.6792 - val_loss: 4.6882\n",
      "Epoch 10/80\n",
      "145/145 [==============================] - 92s 633ms/step - loss: 4.6037 - val_loss: 4.6347\n",
      "Epoch 11/80\n",
      "145/145 [==============================] - 91s 629ms/step - loss: 4.5333 - val_loss: 4.5898\n",
      "Epoch 12/80\n",
      "145/145 [==============================] - 92s 634ms/step - loss: 4.4783 - val_loss: 4.5526\n",
      "Epoch 13/80\n",
      "145/145 [==============================] - 91s 631ms/step - loss: 4.4247 - val_loss: 4.5177\n",
      "Epoch 14/80\n",
      "145/145 [==============================] - 92s 632ms/step - loss: 4.3712 - val_loss: 4.4943\n",
      "Epoch 15/80\n",
      "145/145 [==============================] - 92s 632ms/step - loss: 4.3298 - val_loss: 4.4636\n",
      "Epoch 16/80\n",
      "145/145 [==============================] - 92s 633ms/step - loss: 4.2848 - val_loss: 4.4424\n",
      "Epoch 17/80\n",
      "145/145 [==============================] - 92s 632ms/step - loss: 4.2501 - val_loss: 4.4214\n",
      "Epoch 18/80\n",
      "145/145 [==============================] - 91s 630ms/step - loss: 4.2109 - val_loss: 4.4118\n",
      "Epoch 19/80\n",
      "145/145 [==============================] - 91s 628ms/step - loss: 4.1763 - val_loss: 4.3903\n",
      "Epoch 20/80\n",
      "145/145 [==============================] - 91s 625ms/step - loss: 4.1451 - val_loss: 4.3805\n",
      "Epoch 21/80\n",
      "145/145 [==============================] - 92s 632ms/step - loss: 4.1172 - val_loss: 4.3650\n",
      "Epoch 22/80\n",
      "145/145 [==============================] - 91s 629ms/step - loss: 4.0868 - val_loss: 4.3555\n",
      "Epoch 23/80\n",
      "145/145 [==============================] - 91s 627ms/step - loss: 4.0615 - val_loss: 4.3469\n",
      "Epoch 24/80\n",
      "145/145 [==============================] - 91s 628ms/step - loss: 4.0353 - val_loss: 4.3392\n",
      "Epoch 25/80\n",
      "145/145 [==============================] - 91s 628ms/step - loss: 4.0117 - val_loss: 4.3355\n",
      "Epoch 26/80\n",
      "145/145 [==============================] - 91s 626ms/step - loss: 3.9891 - val_loss: 4.3318\n",
      "Epoch 27/80\n",
      "145/145 [==============================] - 91s 626ms/step - loss: 3.9653 - val_loss: 4.3225\n",
      "Epoch 28/80\n",
      "145/145 [==============================] - 90s 622ms/step - loss: 3.9470 - val_loss: 4.3119\n",
      "Epoch 29/80\n",
      "145/145 [==============================] - 91s 630ms/step - loss: 3.9064 - val_loss: 4.2878\n",
      "Epoch 30/80\n",
      "145/145 [==============================] - 91s 626ms/step - loss: 3.8574 - val_loss: 4.2493\n",
      "Epoch 31/80\n",
      "145/145 [==============================] - 90s 622ms/step - loss: 3.8015 - val_loss: 4.2072\n",
      "Epoch 32/80\n",
      "145/145 [==============================] - 91s 627ms/step - loss: 3.7450 - val_loss: 4.1620\n",
      "Epoch 33/80\n",
      "145/145 [==============================] - 91s 629ms/step - loss: 3.6828 - val_loss: 4.1243\n",
      "Epoch 34/80\n",
      "145/145 [==============================] - 91s 631ms/step - loss: 3.6226 - val_loss: 4.0730\n",
      "Epoch 35/80\n",
      "145/145 [==============================] - 91s 630ms/step - loss: 3.5603 - val_loss: 4.0436\n",
      "Epoch 36/80\n",
      "145/145 [==============================] - 91s 628ms/step - loss: 3.5032 - val_loss: 4.0109\n",
      "Epoch 37/80\n",
      "145/145 [==============================] - 91s 626ms/step - loss: 3.4456 - val_loss: 3.9666\n",
      "Epoch 38/80\n",
      "145/145 [==============================] - 91s 627ms/step - loss: 3.3904 - val_loss: 3.9666\n",
      "Epoch 39/80\n",
      "145/145 [==============================] - 91s 629ms/step - loss: 3.3337 - val_loss: 3.9279\n",
      "Epoch 40/80\n",
      "145/145 [==============================] - 91s 628ms/step - loss: 3.2798 - val_loss: 3.8839\n",
      "Epoch 41/80\n",
      "145/145 [==============================] - 91s 629ms/step - loss: 3.2252 - val_loss: 3.8549\n",
      "Epoch 42/80\n",
      "145/145 [==============================] - 92s 633ms/step - loss: 3.1739 - val_loss: 3.8291\n",
      "Epoch 43/80\n",
      "145/145 [==============================] - 94s 650ms/step - loss: 3.1220 - val_loss: 3.8167\n",
      "Epoch 44/80\n",
      "145/145 [==============================] - 95s 653ms/step - loss: 3.0737 - val_loss: 3.7918\n",
      "Epoch 45/80\n",
      "145/145 [==============================] - 95s 654ms/step - loss: 3.0274 - val_loss: 3.7780\n",
      "Epoch 46/80\n",
      "145/145 [==============================] - 93s 641ms/step - loss: 2.9820 - val_loss: 3.7617\n",
      "Epoch 47/80\n",
      "145/145 [==============================] - 93s 642ms/step - loss: 2.9394 - val_loss: 3.7544\n",
      "Epoch 48/80\n",
      "145/145 [==============================] - 93s 641ms/step - loss: 2.8971 - val_loss: 3.7486\n",
      "Epoch 49/80\n",
      "145/145 [==============================] - 94s 645ms/step - loss: 2.8590 - val_loss: 3.7243\n",
      "Epoch 50/80\n",
      "145/145 [==============================] - 92s 637ms/step - loss: 2.8204 - val_loss: 3.7195\n",
      "Epoch 51/80\n",
      "145/145 [==============================] - 91s 631ms/step - loss: 2.7826 - val_loss: 3.7182\n",
      "Epoch 52/80\n",
      "145/145 [==============================] - 94s 651ms/step - loss: 2.7491 - val_loss: 3.7118\n",
      "Epoch 53/80\n",
      "145/145 [==============================] - 95s 652ms/step - loss: 2.7151 - val_loss: 3.7070\n",
      "Epoch 54/80\n",
      "145/145 [==============================] - 95s 654ms/step - loss: 2.6807 - val_loss: 3.6979\n",
      "Epoch 55/80\n",
      "145/145 [==============================] - 94s 651ms/step - loss: 2.6498 - val_loss: 3.6967\n",
      "Epoch 56/80\n",
      "145/145 [==============================] - 93s 642ms/step - loss: 2.6242 - val_loss: 3.6918\n",
      "Epoch 57/80\n",
      "145/145 [==============================] - 93s 644ms/step - loss: 2.5918 - val_loss: 3.6904\n",
      "Epoch 58/80\n",
      "145/145 [==============================] - 94s 645ms/step - loss: 2.5633 - val_loss: 3.6864\n",
      "Epoch 59/80\n",
      "145/145 [==============================] - 92s 637ms/step - loss: 2.5351 - val_loss: 3.6896\n",
      "Epoch 60/80\n",
      "145/145 [==============================] - 92s 632ms/step - loss: 2.5102 - val_loss: 3.7115\n",
      "Epoch 00060: early stopping\n"
     ]
    }
   ],
   "source": [
    "model.compile(optimizer='rmsprop', loss='sparse_categorical_crossentropy')\n",
    "es = EarlyStopping(monitor='val_loss', patience=2, verbose=1)\n",
    "history = model.fit(x=[encoder_input_train, decoder_input_train], y=decoder_target_train, \\\n",
    "          validation_data=([encoder_input_test, decoder_input_test], decoder_target_test), \\\n",
    "          batch_size=512, callbacks=[es], epochs=80)"
   ]
  },
  {
   "cell_type": "markdown",
   "id": "5e43bfa5",
   "metadata": {},
   "source": [
    "- EarlyStopping : 특정 조건이 충족되면 훈련을 멈추는 역할\n",
    "- monitor='val_loss', patience=2 : 'val_loss'가 증가하는 현상이 2번 일어나면 조기 종료함\n",
    "- epochs가 아무리 크게 설정되어 있어도 모델 훈련을 최적점에서 멈출 수 있음"
   ]
  },
  {
   "cell_type": "markdown",
   "id": "32ca4859",
   "metadata": {},
   "source": [
    "- callbacks : 훈련, 평가 또는 추론 중에 Keras 모델의 동작을 사용자 정의할 수 있는 도구\n",
    "- https://www.tensorflow.org/guide/keras/custom_callback?hl=ko"
   ]
  },
  {
   "cell_type": "markdown",
   "id": "1530369d",
   "metadata": {},
   "source": [
    "- 최소 val_loss는 epoch 58번째에서 3.6864"
   ]
  },
  {
   "cell_type": "code",
   "execution_count": 55,
   "id": "ec0fd52f",
   "metadata": {},
   "outputs": [
    {
     "data": {
      "image/png": "[encoded data removed]",
      "text/plain": [
       "<Figure size 432x288 with 1 Axes>"
      ]
     },
     "metadata": {
      "needs_background": "light"
     },
     "output_type": "display_data"
    }
   ],
   "source": [
    "plt.plot(history.history['loss'], label='train')\n",
    "plt.plot(history.history['val_loss'], label='test')\n",
    "plt.legend()\n",
    "plt.show()"
   ]
  },
  {
   "cell_type": "markdown",
   "id": "13d3198d",
   "metadata": {},
   "source": [
    "- Early stop으로 인해 그래프에서 epoch는 22까지만 표기됨\n",
    "- train loss와 test validation loss 둘다 떨어지다가 잠깐 주춤하는 경향을 보임"
   ]
  },
  {
   "cell_type": "code",
   "execution_count": null,
   "id": "048a4b16",
   "metadata": {},
   "outputs": [],
   "source": []
  },
  {
   "cell_type": "markdown",
   "id": "16ba5bb5",
   "metadata": {},
   "source": [
    "## 인퍼런스 모델 구현하기"
   ]
  },
  {
   "cell_type": "markdown",
   "id": "b49729a2",
   "metadata": {},
   "source": [
    "- 인퍼런스 모델을 별도로 설계하는 이유\n",
    "    - 인퍼런스 단계에서는 정답이 없음\n",
    "    - 만들어야 할 문장의 길이만큼 Decoder가 반복 구조로 동작해야함"
   ]
  },
  {
   "cell_type": "markdown",
   "id": "6c804f77",
   "metadata": {},
   "source": [
    "- 테스트 단계에서는 정수 인덱스 행렬로 존재하던 텍스트 데이터를 실제 데이터로 복원해야함"
   ]
  },
  {
   "cell_type": "markdown",
   "id": "df3bf05c",
   "metadata": {},
   "source": [
    "### 1. 정수로 전환된 데이터를 실제 데이터로 복원하기 위한 사전 준비"
   ]
  },
  {
   "cell_type": "code",
   "execution_count": 56,
   "id": "37d8d2f3",
   "metadata": {},
   "outputs": [],
   "source": [
    "src_index_to_word = src_tokenizer.index_word # 원문 단어 집합에서 정수 -> 단어를 얻음\n",
    "tar_word_to_index = tar_tokenizer.word_index # 요약 단어 집합에서 단어 -> 정수를 얻음\n",
    "tar_index_to_word = tar_tokenizer.index_word # 요약 단어 집합에서 정수 -> 단어를 얻음"
   ]
  },
  {
   "cell_type": "markdown",
   "id": "b362f331",
   "metadata": {},
   "source": [
    "### 2. 모델 설계"
   ]
  },
  {
   "cell_type": "code",
   "execution_count": 57,
   "id": "250256cd",
   "metadata": {},
   "outputs": [],
   "source": [
    "# 인코더 설계\n",
    "encoder_model = Model(inputs=encoder_inputs, outputs=[encoder_outputs, state_h, state_c])\n",
    "\n",
    "# 이전 시점의 상태들을 저장하는 텐서\n",
    "decoder_state_input_h = Input(shape=(hidden_size,))\n",
    "decoder_state_input_c = Input(shape=(hidden_size,))\n",
    "\n",
    "dec_emb2 = dec_emb_layer(decoder_inputs)\n",
    "\n",
    "# 문장의 다음 단어를 예측하기 위해서 초기 상태(initial_state)를 이전 시점의 상태로 사용. 이는 뒤의 함수 decode_sequence()에 구현\n",
    "# 훈련 과정에서와 달리 LSTM의 리턴하는 은닉 상태와 셀 상태인 state_h와 state_c를 버리지 않음.\n",
    "decoder_outputs2, state_h2, state_c2 = decoder_lstm(dec_emb2, initial_state=[decoder_state_input_h, decoder_state_input_c])"
   ]
  },
  {
   "cell_type": "markdown",
   "id": "05c8af14",
   "metadata": {},
   "source": [
    "- 인퍼런스에서의 Encoder 모델은 'text'를 가공한 시퀀스를 입력으로 받음\n",
    "- inputs=encoder_inputs :  ( encoder_inputs = Input(shape=(text_max_len,)) )"
   ]
  },
  {
   "cell_type": "code",
   "execution_count": 58,
   "id": "6286d63b",
   "metadata": {},
   "outputs": [],
   "source": [
    "decoder_hidden_state_input = Input(shape=(text_max_len, hidden_size))\n",
    "attn_out_inf = attn_layer([decoder_outputs2, decoder_hidden_state_input])\n",
    "decoder_inf_concat = Concatenate(axis=-1, name='concat')([decoder_outputs2, attn_out_inf])\n",
    "\n",
    "# 디코더의 출력층\n",
    "decoder_outputs2 = decoder_softmax_layer(decoder_inf_concat) \n",
    "\n",
    "# 최종 디코더 모델\n",
    "decoder_model = Model(\n",
    "    [decoder_inputs] + [decoder_hidden_state_input,decoder_state_input_h, decoder_state_input_c],\n",
    "    [decoder_outputs2] + [state_h2, state_c2])"
   ]
  },
  {
   "cell_type": "code",
   "execution_count": 59,
   "id": "e85787e4",
   "metadata": {},
   "outputs": [
    {
     "name": "stdout",
     "output_type": "stream",
     "text": [
      "Model: \"model_2\"\n",
      "_________________________________________________________________\n",
      "Layer (type)                 Output Shape              Param #   \n",
      "=================================================================\n",
      "input_1 (InputLayer)         [(None, 45)]              0         \n",
      "_________________________________________________________________\n",
      "embedding (Embedding)        (None, 45, 128)           2176000   \n",
      "_________________________________________________________________\n",
      "lstm (LSTM)                  [(None, 45, 256), (None,  394240    \n",
      "_________________________________________________________________\n",
      "lstm_1 (LSTM)                [(None, 45, 256), (None,  525312    \n",
      "_________________________________________________________________\n",
      "lstm_2 (LSTM)                [(None, 45, 256), (None,  525312    \n",
      "=================================================================\n",
      "Total params: 3,620,864\n",
      "Trainable params: 3,620,864\n",
      "Non-trainable params: 0\n",
      "_________________________________________________________________\n"
     ]
    }
   ],
   "source": [
    "encoder_model.summary()"
   ]
  },
  {
   "cell_type": "markdown",
   "id": "8b50b656",
   "metadata": {},
   "source": [
    "- 인퍼런스에 대한 Encoder 모델 구성은 똑같음"
   ]
  },
  {
   "cell_type": "code",
   "execution_count": 60,
   "id": "a8009aaf",
   "metadata": {},
   "outputs": [
    {
     "name": "stdout",
     "output_type": "stream",
     "text": [
      "Model: \"model_3\"\n",
      "__________________________________________________________________________________________________\n",
      "Layer (type)                    Output Shape         Param #     Connected to                     \n",
      "==================================================================================================\n",
      "input_2 (InputLayer)            [(None, None)]       0                                            \n",
      "__________________________________________________________________________________________________\n",
      "embedding_1 (Embedding)         (None, None, 128)    896000      input_2[0][0]                    \n",
      "__________________________________________________________________________________________________\n",
      "input_3 (InputLayer)            [(None, 256)]        0                                            \n",
      "__________________________________________________________________________________________________\n",
      "input_4 (InputLayer)            [(None, 256)]        0                                            \n",
      "__________________________________________________________________________________________________\n",
      "lstm_3 (LSTM)                   [(None, None, 256),  394240      embedding_1[1][0]                \n",
      "                                                                 input_3[0][0]                    \n",
      "                                                                 input_4[0][0]                    \n",
      "__________________________________________________________________________________________________\n",
      "input_5 (InputLayer)            [(None, 45, 256)]    0                                            \n",
      "__________________________________________________________________________________________________\n",
      "attention_layer (AdditiveAttent (None, None, 256)    256         lstm_3[1][0]                     \n",
      "                                                                 input_5[0][0]                    \n",
      "__________________________________________________________________________________________________\n",
      "concat (Concatenate)            (None, None, 512)    0           lstm_3[1][0]                     \n",
      "                                                                 attention_layer[1][0]            \n",
      "__________________________________________________________________________________________________\n",
      "dense_1 (Dense)                 (None, None, 7000)   3591000     concat[0][0]                     \n",
      "==================================================================================================\n",
      "Total params: 4,881,496\n",
      "Trainable params: 4,881,496\n",
      "Non-trainable params: 0\n",
      "__________________________________________________________________________________________________\n"
     ]
    }
   ],
   "source": [
    "decoder_model.summary()"
   ]
  },
  {
   "cell_type": "markdown",
   "id": "efb0dab4",
   "metadata": {},
   "source": [
    "- 인퍼런스에 대한 Decoder 모델에서는 몇가지가 추가됨\n",
    "<br><br>\n",
    "- decoder_state_input_h, decoder_state_input_c\n",
    "    - lstm의 initial_state를 위해 추가됨\n",
    "    - lstm_3에 input_3[0][0], input_4[0][0]으로 연결되어있음\n",
    "<br><br>\n",
    "- decoder_hidden_state_input\n",
    "    - Input(shape=(text_max_len, hidden_size)) : 'text'부분의 시퀀스 길이 45, hidden_size인 512"
   ]
  },
  {
   "cell_type": "markdown",
   "id": "b7b2541e",
   "metadata": {},
   "source": [
    "### 3. 인퍼런스 단계에서 단어 시퀀스를 완성하는 함수"
   ]
  },
  {
   "cell_type": "code",
   "execution_count": 61,
   "id": "4737ff8a",
   "metadata": {},
   "outputs": [],
   "source": [
    "def decode_sequence(input_seq):\n",
    "    # 입력으로부터 인코더의 상태를 얻음\n",
    "    e_out, e_h, e_c = encoder_model.predict(input_seq)\n",
    "\n",
    "     # <SOS>에 해당하는 토큰 생성\n",
    "    target_seq = np.zeros((1,1))\n",
    "    target_seq[0, 0] = tar_word_to_index['sostoken']\n",
    "\n",
    "    stop_condition = False\n",
    "    decoded_sentence = ''\n",
    "    while not stop_condition: # stop_condition이 True가 될 때까지 루프 반복\n",
    "\n",
    "        output_tokens, h, c = decoder_model.predict([target_seq] + [e_out, e_h, e_c])\n",
    "        sampled_token_index = np.argmax(output_tokens[0, -1, :])\n",
    "        sampled_token = tar_index_to_word[sampled_token_index]\n",
    "\n",
    "        if (sampled_token!='eostoken'):\n",
    "            decoded_sentence += ' '+sampled_token\n",
    "\n",
    "        #  <eos>에 도달하거나 최대 길이를 넘으면 중단.\n",
    "        if (sampled_token == 'eostoken'  or len(decoded_sentence.split()) >= (headlines_max_len-1)):\n",
    "            stop_condition = True\n",
    "\n",
    "        # 길이가 1인 타겟 시퀀스를 업데이트\n",
    "        target_seq = np.zeros((1,1))\n",
    "        target_seq[0, 0] = sampled_token_index\n",
    "\n",
    "        # 상태를 업데이트 합니다.\n",
    "        e_h, e_c = h, c\n",
    "\n",
    "    return decoded_sentence"
   ]
  },
  {
   "cell_type": "code",
   "execution_count": null,
   "id": "534a3d9b",
   "metadata": {},
   "outputs": [],
   "source": []
  },
  {
   "cell_type": "code",
   "execution_count": null,
   "id": "3172edb9",
   "metadata": {},
   "outputs": [],
   "source": []
  },
  {
   "cell_type": "markdown",
   "id": "c6504337",
   "metadata": {},
   "source": [
    "## 원문과 정수 시퀀스를 변환시키는 함수 만들기"
   ]
  },
  {
   "cell_type": "code",
   "execution_count": 62,
   "id": "71c65e49",
   "metadata": {},
   "outputs": [],
   "source": [
    "# 원문의 정수 시퀀스를 텍스트 시퀀스로 변환\n",
    "def seq2text(input_seq):\n",
    "    temp=''\n",
    "    for i in input_seq:\n",
    "        if (i!=0):\n",
    "            temp = temp + src_index_to_word[i]+' '\n",
    "    return temp\n",
    "\n",
    "# 요약문의 정수 시퀀스를 텍스트 시퀀스로 변환\n",
    "def seq2summary(input_seq):\n",
    "    temp=''\n",
    "    for i in input_seq:\n",
    "        if ((i!=0 and i!=tar_word_to_index['sostoken']) and i!=tar_word_to_index['eostoken']):\n",
    "            temp = temp + tar_index_to_word[i] + ' '\n",
    "    return temp"
   ]
  },
  {
   "cell_type": "markdown",
   "id": "34a1ffa5",
   "metadata": {},
   "source": [
    "- healines 부분은 시작과 끝을 알리는 토큰이 아닌 것을 temp에 추가"
   ]
  },
  {
   "cell_type": "code",
   "execution_count": null,
   "id": "8ca6f067",
   "metadata": {},
   "outputs": [],
   "source": []
  },
  {
   "cell_type": "code",
   "execution_count": null,
   "id": "83c82bbf",
   "metadata": {},
   "outputs": [],
   "source": []
  },
  {
   "cell_type": "markdown",
   "id": "6f502ca3",
   "metadata": {},
   "source": [
    "## 테스트 데이터로 성능 비교 (추상적 요약)"
   ]
  },
  {
   "cell_type": "markdown",
   "id": "e8358959",
   "metadata": {},
   "source": [
    "- 원문 : text\n",
    "- 실제 요약 : headlines\n",
    "- 예측 요약 : 학습을 통한 추상적 요약"
   ]
  },
  {
   "cell_type": "code",
   "execution_count": 63,
   "id": "5f6a7843",
   "metadata": {},
   "outputs": [
    {
     "name": "stdout",
     "output_type": "stream",
     "text": [
      "원문 : national pharmaceutical pricing authority capped prices essential including used treatment cancer pain heart conditions skin problems regulator expected prices anywhere reports said companies selling products prices higher new limits reduce prices immediately \n",
      "실제 요약 : govt caps prices of cancer drugs heart condition medicines \n",
      "예측 요약 :  patients to get free treatment for cancer in delhi university\n",
      "\n",
      "\n",
      "원문 : chief minister mehbooba mufti wednesday urged police attack families militants asking ensure surrender militants said militants kill people police personnel houses set fire forces whether security forces police things \n",
      "실제 요약 : police should not attack families of militants cm \n",
      "예측 요약 :  militants in tripura cm to fight with militants in tripura\n",
      "\n",
      "\n",
      "원문 : us company american green maker marijuana products acquired town california million company plans invest million create weed friendly tourist destination notably purchase includes acres land general store hotel school building mineral \n",
      "실제 요약 : us weed firm buys town for cr for weed friendly tourism \n",
      "예측 요약 :  us firm to build its biggest ever in us open\n",
      "\n",
      "\n",
      "원문 : study led uk researchers claimed world oldest cave paintings found reveal humans understood complex years ago paintings found across european sites simply wild animals study said animal symbols instead depict star used represent dates mark events comet strikes \n",
      "실제 요약 : cave art reveals humans yrs ago \n",
      "예측 요약 :  scientists find ice that can be used in the year\n",
      "\n",
      "\n",
      "원문 : hindustan times leadership summit friday congress chief rahul gandhi asked become pm candidate replied allies want sure accusing nda government war people gandhi said expects win lot seats next general elections \n",
      "실제 요약 : if allies want me sure rahul on becoming pm candidate \n",
      "예측 요약 :  rahul gandhi is the progress of the world pm modi\n",
      "\n",
      "\n",
      "원문 : us based researchers developing robots soft artificial limbs mimic flexibility self healing ability biological muscles devices made liquid filled expand contract electric prototypes able lift water flex mechanical arm holding baseball said researchers \n",
      "실제 요약 : team developing soft robots which can move like humans \n",
      "예측 요약 :  scientists develop robots to deliver solar system to power power\n",
      "\n",
      "\n",
      "원문 : british adoption agency turned away sikh couple indian heritage telling could adopt white child try india berkshire based sandeep wanted adopt child ethnic background told since white children need european applicants would preferred \n",
      "실제 요약 : british agency tells sikh couple they cannot adopt white kid \n",
      "예측 요약 :  india oscar winning men comes to be held for women\n",
      "\n",
      "\n",
      "원문 : egyptian president al elected second term thursday egyptian state media reported secured votes three days polling although voter turnout remained around former army chief first assumed power country first freely elected leader mohamed \n",
      "실제 요약 : egypt al re elected president for second term \n",
      "예측 요약 :  meghalaya to lose more than meghalaya in meghalaya in meghalaya\n",
      "\n",
      "\n",
      "원문 : bjp national general secretary kailash vijayvargiya thursday said congress president rahul gandhi stop becoming next prime minister country added people choose pm narendra modi pm also accused tmc government west bengal giving away infiltrators secure vote bank \n",
      "실제 요약 : rahul should stop of becoming next pm bjp gen secy \n",
      "예측 요약 :  rahul has become pm modi is not performing rahul gandhi\n",
      "\n",
      "\n",
      "원문 : following australia th consecutive away odi loss indian spinner harbhajan singh said current australian team like sri lankan team playing yellow jersey think australia anyone finch warner steve smith take team forward added earlier harbhajan asked michael clarke come retirement rescue australia \n",
      "실제 요약 : harbhajan calls australia cricket team sri lanka in yellow \n",
      "예측 요약 :  bumrah has been the best bowler on india test batsmen\n",
      "\n",
      "\n",
      "원문 : cybersecurity expert john mcafee said world using cryptocurrency five years added half going half probably smartphones access internet earlier mcafee said eat bitcoin hit million \n",
      "실제 요약 : of the world will use cryptocurrency in years mcafee \n",
      "예측 요약 :  bitcoin to be the first ever of the year old\n",
      "\n",
      "\n",
      "원문 : residents north west russia witnessed sunlight first time days january city experiences phenomenon called polar night occurs earth regions receive sunlight hours residents living without daylight since early december \n",
      "실제 요약 : sun rises in russian city after days of \n",
      "예측 요약 :  us state to be part of its first ever drill\n",
      "\n",
      "\n",
      "원문 : weighing kg known maha offered idol lord ganesha temple hyderabad occasion ganesh chaturthi thursday costs lakh kg sugar kg cow kg bengal gram flour kg going making besides ingredients \n",
      "실제 요약 : kg costing lakh made in hyderabad on ganesh \n",
      "예측 요약 :  lakh lakh for gold in assam for free water water\n",
      "\n",
      "\n",
      "원문 : shetty plays role tv show cid confirmed show go air october shooting called indefinitely issues channel said shot episodes would entered nd year added \n",
      "실제 요약 : tv show to go off air from october after years \n",
      "예측 요약 :  video shows how did not know how to do it\n",
      "\n",
      "\n",
      "원문 : trailer upcoming film mubarakan starring arjun kapoor first time uncle anil kapoor released arjun seen playing double role twins karan charan film also starring ileana cruz athiya shetty film scheduled release july \n",
      "실제 요약 : trailer of anil kapoor arjun kapoor released \n",
      "예측 요약 :  arjun kapoor to star together in johar on koffee reports\n",
      "\n",
      "\n",
      "원문 : prime minister narendra modi recently retweeted indian wedding card bearing swachh bharat logo man originally shared card tweeted dad specifically wanted logo sister wedding invitation hence got wedding card also retweeted minister home affairs rajnath singh goa cm manohar parrikar \n",
      "실제 요약 : pm modi retweets wedding card with swachh bharat logo \n",
      "예측 요약 :  pm modi to inaugurate guest for song on wedding screening\n",
      "\n",
      "\n",
      "원문 : us president donald trump said people would impeached adding concerned hard impeach somebody done anything wrong created greatest economy history country trump said reports earlier claimed trump concerned impeachment finance violations presidential campaign \n",
      "실제 요약 : people would if was us president trump \n",
      "예측 요약 :  trump has nothing to do not have good trump trump\n",
      "\n",
      "\n",
      "원문 : sultan former minister pakistan punjab province said haram vote women sultan added follow directions religion vote female candidate upcoming elections sultan candidate pakistan muslim league nawaz party headed former pm nawaz sharif brother shehbaz \n",
      "실제 요약 : it is haram to vote for women former pakistan minister \n",
      "예측 요약 :  will not allow any religion for minorities muslims to pakistan\n",
      "\n",
      "\n",
      "원문 : first woman advanced breast cancer spread around body successfully treated american doctors announced year old earlier given three years live treated weeks grows patient immune cells lab body find destroy cancer cells \n",
      "실제 요약 : late stage breast cancer for the first time ever \n",
      "예측 요약 :  woman who surgery to remove cancer surgery in us jail\n",
      "\n",
      "\n",
      "원문 : indian pm narendra modi visit palestine envoy adnan said thursday without visit take place india supportive palestinian cause two state solution palestinian envoy added comes day us president donald trump recognised jerusalem israel capital israel palestine claim jerusalem capital \n",
      "실제 요약 : indian pm narendra modi to visit palestine says its envoy \n",
      "예측 요약 :  india will not be allowed to visit india israel pm\n",
      "\n",
      "\n",
      "원문 : nasa cassini spacecraft launched orbiting saturn last years mission last stages planned dive km gap planet rings probe perform flyby around saturn giant moon titan plunging saturn atmosphere taking first ever samples inner ring particles \n",
      "실제 요약 : nasa probe to cross saturn rings end year long mission \n",
      "예측 요약 :  nasa shares video of saturn moon saturn moon last days\n",
      "\n",
      "\n",
      "원문 : mumbai police posted meme twitter wednesday urging women block people harassing messages hey der ur address also urged dial said block call us take good care emotion intention \n",
      "실제 요약 : block them call us mumbai police on women cyber safety \n",
      "예측 요약 :  mumbai police to get its own reference in online attack\n",
      "\n",
      "\n",
      "원문 : official twitter account icc used picture prince harry meghan markle royal wedding reaction rcb ab de villiers one handed leaping catch icc placed picture wherein prince harry seen waving markle appears next picture de villiers taking catch \n",
      "실제 요약 : icc uses royal couple pic as reaction to abd catch \n",
      "예측 요약 :  melania melania wife tried to melania school kids baby boy\n",
      "\n",
      "\n",
      "원문 : panchayat uttar pradesh bulandshahr directed former panchayat head hit wife belt front village neighbour police said video incident occurred earlier month showed woman hands tied branch husband hit police arrested husband \n",
      "실제 요약 : panchayat orders husband to hit wife with belt for \n",
      "예측 요약 :  man kills wife for not giving him to kill him\n",
      "\n",
      "\n",
      "원문 : gross fiscal states soared crore fiscal lakh crore fiscal marking increase according rbi data gap projected improve lakh crore fiscal notably rajasthan saw fiscal deficit rise crore crore period \n",
      "실제 요약 : states fiscal deficit increased by to lakh cr \n",
      "예측 요약 :  crore in fy hit cr in fy at crore report\n",
      "\n",
      "\n",
      "원문 : us couple charged child abuse allegedly putting four month old son microwave incident discovered baby taken hospital found first second degree facial burns head injuries couple claimed baby wound caused chemical cleaner \n",
      "실제 요약 : couple charged with child abuse for putting son in \n",
      "예측 요약 :  year old baby dies after being stuck in us house\n",
      "\n",
      "\n",
      "원문 : mit undergraduate students produced concrete stronger conventional concrete adding discarded plastic team exposed plastic gamma radiation adding concrete technology takes plastic landfill uses less cement makes fewer carbon dioxide emissions said assistant professor michael short \n",
      "실제 요약 : mit students concrete by adding plastic \n",
      "예측 요약 :  nissan recalls lakh cars over cars in the world use\n",
      "\n",
      "\n",
      "원문 : least afghan security officials killed taliban launched multiple attacks northern part country officials said taliban attacks targeted checkpoints provinces three taliban militants also killed clashes security forces officials added \n",
      "실제 요약 : killed in taliban attack on afghan security forces \n",
      "예측 요약 :  taliban attack on afghan air force base in afghanistan report\n",
      "\n",
      "\n",
      "원문 : indian cricket team captain virat kohli anushka sharma marriage actress sagarika ghatge zaheer khan got married november year bodyguard actress hazel yuvraj singh tied knot harbhajan singh geeta got married notably sharmila tagore converted islam marry late cricketer ali khan pataudi \n",
      "실제 요약 : which cricketers have married bollywood actresses \n",
      "예측 요약 :  virat anushka anushka get married to virat anushka wedding reports\n",
      "\n",
      "\n",
      "원문 : solar observatory operated nasa esa captured sun complete year magnetic cycle launched designed probe sun internal structure atmosphere years missions extended owing successful studies sun changes every years field northern southern \n",
      "실제 요약 : made to last yrs telescope shoots full yr sun cycle \n",
      "예측 요약 :  nasa spots to touch sun in the sun for years\n",
      "\n",
      "\n",
      "원문 : matt former co winner wwe tough enough iii passed away age friday first diagnosed brain cancer disease matt went home jesus exactly one year brain surgery matt wife said husband \n",
      "실제 요약 : former wwe champ passes away at \n",
      "예측 요약 :  ex scientist boss to be given year jail for research\n",
      "\n",
      "\n",
      "원문 : delhi police arrested man posed dcp extort money truck drivers sunil tyagi caught red handed delhi extracting money truck driver tyagi said working driver confronted several police officers seeing behaviour decided act like one \n",
      "실제 요약 : delhi man poses as to extort money from truck drivers \n",
      "예측 요약 :  delhi man held for posing as man at delhi airport\n",
      "\n",
      "\n",
      "원문 : china denied reports claiming country wants act mediator india pakistan help resolve kashmir issue adding issue settled state run publication global times stated earlier china ready act mediator vested interest owing investments pakistan occupied kashmir \n",
      "실제 요약 : will not mediate between india pakistan over kashmir china \n",
      "예측 요약 :  pak has nothing to do not have pak pak cm\n",
      "\n",
      "\n",
      "원문 : taxi operators goa called strike sunday meeting chief minister manohar parrikar operators opposing mandatory installation speed governors earlier getting fitness certificate speed governors th onwards get fitness certificate association member said \n",
      "실제 요약 : goa taxi call off strike after meeting cm parrikar \n",
      "예측 요약 :  govt to give cr to families of interest in bihar\n",
      "\n",
      "\n",
      "원문 : fir filed five people including three ex aligarh muslim university students allegedly hurting religious sentiments photograph facebook showed drinking delhi bar month ramadan received death threats posts circulating amu groups called lynched three ex amu students gone hiding \n",
      "실제 요약 : fir filed against ex amu students seen at bar during ramadan \n",
      "예측 요약 :  students protest outside sabarimala temple in mp over alleged violence\n",
      "\n",
      "\n",
      "원문 : slamming congress leader mallikarjun kharge remarks pm narendra modi law minister ravi shankar prasad said shocked adding late pm indira gandhi used language adolf hitler emergency kharge said pm modi trying hitler done germany adding constitution danger \n",
      "실제 요약 : indira not pm modi used language of hitler bjp minister \n",
      "예측 요약 :  pm modi is not performing of women dalits union min\n",
      "\n",
      "\n",
      "원문 : top division football match georgia halted around three minutes dog invaded pitch security tried drag dog forcefully pitch second half canine escaped ran away dog later directed towards sidelines player \n",
      "실제 요약 : dog invades pitch during football match delays game by minutes \n",
      "예측 요약 :  spain attack on pitch after holding minute in last match\n",
      "\n",
      "\n",
      "원문 : pune host th edition annual management cultural festival january institute campus located hills event witness participation prestigious schools india celebrity performers event include abhishek rahul subramanian suraj jagan campus princess \n",
      "실제 요약 : pune is back with its annual management and cultural festival \n",
      "예측 요약 :  railways to give free fee to improve khadi for students\n",
      "\n",
      "\n",
      "원문 : irrfan khan currently undergoing treatment neuroendocrine tumour united kingdom return india celebrate diwali nashik farmhouse per reports day trip return uk stated reports also said doctors hopeful irrfan return india march start working \n",
      "실제 요약 : irrfan to celebrate diwali in his reports \n",
      "예측 요약 :  irrfan khan to return to india in november in february\n",
      "\n",
      "\n",
      "원문 : centre monday told delhi high court aadhaar made mandatory ensure poor get subsidised public distribution system stating around crore ration cards turned fake additional general sanjay jain said subsidised reaching poor someone else availing benefit \n",
      "실제 요약 : aadhaar made mandatory to ensure poor get food govt to hc \n",
      "예측 요약 :  hc directs delhi govt to submit aadhaar for sanitary napkins\n",
      "\n",
      "\n",
      "원문 : lucknow district magistrate sharma ordered ban firecrackers weddings functions lucknow till january bid curb increasing level air pollution authorities carried water city order settle dust particles cm yogi adityanath asked take measures check pollution \n",
      "실제 요약 : firecrackers banned at weddings other in lucknow \n",
      "예측 요약 :  up to ban on sale of sellers for sale of\n",
      "\n",
      "\n",
      "원문 : estonian capital city named best destination visit value money planet best travel list one islands administered spain united states arizona ranked second third respectively meanwhile bolivia la poland completed top five \n",
      "실제 요약 : named best destination for value for money \n",
      "예측 요약 :  hong kong best ever best ever to be auctioned for\n",
      "\n",
      "\n",
      "원문 : delhi government suspended vice principal vidyalaya vihar retirement day allegations corruption probe directorate education revealed devi giving allotted purchase learning material school teachers kept rest claiming goods services tax \n",
      "실제 요약 : school vice principal suspended on last day over corruption \n",
      "예측 요약 :  delhi govt asks firms to pay crore for salary delay\n",
      "\n",
      "\n",
      "원문 : ex team india captain ms dhoni become india second capped cricketer achieving feat pakistan asia cup sunday dhoni currently playing th international match india overtook rahul dravid represented india matches dhoni behind sachin tendulkar played record matches india \n",
      "실제 요약 : dhoni overtakes dravid to become india nd most cricketer \n",
      "예측 요약 :  dhoni becomes st indian to slam runs in odi cricket\n",
      "\n",
      "\n",
      "원문 : irrfan khan dismissed recent reports walking sanjay leela bhansali film clarified approached film almost two years back since conversation dates irrfan added question time film even come \n",
      "실제 요약 : irrfan khan rumours of him not doing bhansali film \n",
      "예측 요약 :  srk was not paid more than me in dabangg shahid\n",
      "\n",
      "\n",
      "원문 : chinese government provisionally approved nine us president donald trump organisation previously rejected approval comes amid trump fighting allegations businesses create potential conflicts interest may violate us constitution notably trump organisation least china formally provisionally approved \n",
      "실제 요약 : china approves trump it had rejected \n",
      "예측 요약 :  trump to be linked to us in us state secy\n",
      "\n",
      "\n",
      "원문 : italy based researchers developed screening method claims accurately predict baby would turn left handed right handed using mothers map real time researchers found well established hand dominance around week power \n",
      "실제 요약 : study claims to find if babies are left handed before birth \n",
      "예측 요약 :  scientists find particle that can be used by an cells\n",
      "\n",
      "\n",
      "원문 : pal senior manager tata steel shot dead haryana faridabad friday afternoon allegedly former employee police said accused vishwas pandey directly entered cabin pal shot five times accused sacked company august indiscipline currently absconding \n",
      "실제 요약 : ex tata steel employee enters manager cabin shoots him dead \n",
      "예측 요약 :  cbi probe into fbi probe into murder case in jail\n",
      "\n",
      "\n",
      "원문 : government planning open jan stores railway stations across country provide affordable medicines people plan gradually spread bus stands well pradhan mantri jan scheme generic medicines effect expensive branded ones sold public cheaper rates \n",
      "실제 요약 : railway stations to get govt shops cheap medicines \n",
      "예측 요약 :  govt to open stores to ensure train in next year\n",
      "\n",
      "\n",
      "원문 : bodies two teenage girls found monday railway tracks uttar pradesh district police said girls school students missing since sunday afternoon police added police said clear whether suicide accident bodies sent post mortem examination \n",
      "실제 요약 : bodies of girls found near railway tracks in uttar pradesh \n",
      "예측 요약 :  girls fall ill after falling into school van in mp\n",
      "\n",
      "\n"
     ]
    }
   ],
   "source": [
    "for i in range(30, 80):\n",
    "    print(\"원문 :\", seq2text(encoder_input_test[i]))\n",
    "    print(\"실제 요약 :\", seq2summary(decoder_input_test[i]))\n",
    "    print(\"예측 요약 :\", decode_sequence(encoder_input_test[i].reshape(1, text_max_len)))\n",
    "    print(\"\\n\")"
   ]
  },
  {
   "cell_type": "markdown",
   "id": "224634e8",
   "metadata": {},
   "source": [
    "- **추상적 요약 평가**\n",
    "    - 원문의 핵심을 뽑아서 새로운 문장을 만들어냄\n",
    "    - 생각보다 좋은 성능을 보임\n",
    "    - 두 단어를 연속으로 사용하기도 함 : trump has nothing to do not have good trump trump\n",
    "    - 어법에 맞지 않는 문장이 발생하기도 함 : melania melania wife tried to melania school kids baby boy\n",
    "    - 다른 내용을 요약하기도 함 : year old baby dies after being stuck in us house\n",
    "        - 원문에서 아기는 얼굴에 화상을 입었다고만 나왔지만 예측에서는 죽었다고 요약함"
   ]
  },
  {
   "cell_type": "code",
   "execution_count": null,
   "id": "7ad57713",
   "metadata": {},
   "outputs": [],
   "source": []
  },
  {
   "cell_type": "code",
   "execution_count": null,
   "id": "08f1faeb",
   "metadata": {},
   "outputs": [],
   "source": []
  },
  {
   "cell_type": "markdown",
   "id": "207cf0ca",
   "metadata": {},
   "source": [
    "## 추출적 요약"
   ]
  },
  {
   "cell_type": "markdown",
   "id": "3a8562b1",
   "metadata": {},
   "source": [
    "- 추상적 요약 : 본문에 없는 단어도 사용하여 새로운 문장을 만들어 요약함\n",
    "- 추출적 요약 : 본문에 존재하는 단어구, 문장을 뽑아서 요약함"
   ]
  },
  {
   "cell_type": "markdown",
   "id": "f65b39af",
   "metadata": {},
   "source": [
    "- Summa : 추출적 요약을 위한 모듈인 summarize를 제공하고 있어 아주 간단하게 실습 가능"
   ]
  },
  {
   "cell_type": "code",
   "execution_count": 64,
   "id": "e4161df1",
   "metadata": {},
   "outputs": [],
   "source": [
    "from summa.summarizer import summarize"
   ]
  },
  {
   "cell_type": "code",
   "execution_count": 74,
   "id": "c7361dd1",
   "metadata": {},
   "outputs": [],
   "source": [
    "urllib.request.urlretrieve(\"https://raw.githubusercontent.com/sunnysai12345/News_Summary/master/news_summary_more.csv\", filename=\"news_summary_more.csv\")\n",
    "data = pd.read_csv('news_summary_more.csv', encoding='iso-8859-1')"
   ]
  },
  {
   "cell_type": "markdown",
   "id": "333cb383",
   "metadata": {},
   "source": [
    "### 1. 문제 발생"
   ]
  },
  {
   "cell_type": "code",
   "execution_count": 81,
   "id": "dce6d1be",
   "metadata": {},
   "outputs": [
    {
     "data": {
      "text/plain": [
       "\"Kunal Shah's credit card bill payment platform, CRED, gave users a chance to win free food from Swiggy for one year. Pranav Kaushik, a Delhi techie, bagged this reward after spending 2000 CRED coins. Users get one CRED coin per rupee of bill paid, which can be used to avail rewards from brands like Ixigo, BookMyShow, UberEats, Cult.Fit and more.\""
      ]
     },
     "execution_count": 81,
     "metadata": {},
     "output_type": "execute_result"
    }
   ],
   "source": [
    "data['text'][1]"
   ]
  },
  {
   "cell_type": "code",
   "execution_count": 89,
   "id": "1e0f8572",
   "metadata": {},
   "outputs": [
    {
     "data": {
      "text/plain": [
       "''"
      ]
     },
     "execution_count": 89,
     "metadata": {},
     "output_type": "execute_result"
    }
   ],
   "source": [
    "summarize(data['text'][1], words=10)"
   ]
  },
  {
   "cell_type": "code",
   "execution_count": 93,
   "id": "1f40395a",
   "metadata": {},
   "outputs": [
    {
     "data": {
      "text/plain": [
       "\"New Zealand defeated India by 8 wickets in the fourth ODI at Hamilton on Thursday to win their first match of the five-match ODI series. India lost an international match under Rohit Sharma's captaincy after 12 consecutive victories dating back to March 2018. The match witnessed India getting all out for 92, their seventh lowest total in ODI cricket history.\""
      ]
     },
     "execution_count": 93,
     "metadata": {},
     "output_type": "execute_result"
    }
   ],
   "source": [
    "data['text'][2]"
   ]
  },
  {
   "cell_type": "code",
   "execution_count": 94,
   "id": "7134263d",
   "metadata": {},
   "outputs": [
    {
     "data": {
      "text/plain": [
       "''"
      ]
     },
     "execution_count": 94,
     "metadata": {},
     "output_type": "execute_result"
    }
   ],
   "source": [
    "summarize(data['text'][1], words=10)"
   ]
  },
  {
   "cell_type": "code",
   "execution_count": 90,
   "id": "ca9160fd",
   "metadata": {},
   "outputs": [
    {
     "data": {
      "text/plain": [
       "\"Saurav Kant, an alumnus of upGrad and IIIT-B's PG Program in Machine learning and Artificial Intelligence, was a Sr Systems Engineer at Infosys with almost 5 years of work experience. The program and upGrad's 360-degree career support helped him transition to a Data Scientist at Tech Mahindra with 90% salary hike. upGrad's Online Power Learning has powered 3 lakh+ careers.\""
      ]
     },
     "execution_count": 90,
     "metadata": {},
     "output_type": "execute_result"
    }
   ],
   "source": [
    "data['text'][0]"
   ]
  },
  {
   "cell_type": "code",
   "execution_count": 92,
   "id": "0b58d815",
   "metadata": {},
   "outputs": [
    {
     "data": {
      "text/plain": [
       "\"upGrad's Online Power Learning has powered 3 lakh+ careers.\""
      ]
     },
     "execution_count": 92,
     "metadata": {},
     "output_type": "execute_result"
    }
   ],
   "source": [
    "summarize(data['text'][0], words=10)"
   ]
  },
  {
   "cell_type": "code",
   "execution_count": 95,
   "id": "16656841",
   "metadata": {},
   "outputs": [
    {
     "data": {
      "text/plain": [
       "\"India recorded their lowest ODI total in New Zealand after getting all out for 92 runs in 30.5 overs in the fourth ODI at Hamilton on Thursday. Seven of India's batsmen were dismissed for single-digit scores, while their number ten batsman Yuzvendra Chahal top-scored with 18*(37). India's previous lowest ODI total in New Zealand was 108.\""
      ]
     },
     "execution_count": 95,
     "metadata": {},
     "output_type": "execute_result"
    }
   ],
   "source": [
    "data['text'][6]"
   ]
  },
  {
   "cell_type": "code",
   "execution_count": 97,
   "id": "be6af064",
   "metadata": {},
   "outputs": [
    {
     "data": {
      "text/plain": [
       "\"India's previous lowest ODI total in New Zealand was 108.\""
      ]
     },
     "execution_count": 97,
     "metadata": {},
     "output_type": "execute_result"
    }
   ],
   "source": [
    "summarize(data['text'][6], words=10)"
   ]
  },
  {
   "cell_type": "code",
   "execution_count": 98,
   "id": "4c7f8b4f",
   "metadata": {},
   "outputs": [
    {
     "data": {
      "text/plain": [
       "(347, 360)"
      ]
     },
     "execution_count": 98,
     "metadata": {},
     "output_type": "execute_result"
    }
   ],
   "source": [
    "len(data['text'][1]), len(data['text'][2]) ## summarize()를 사용해도 요약되지 않는 문장"
   ]
  },
  {
   "cell_type": "code",
   "execution_count": 99,
   "id": "54a2e424",
   "metadata": {},
   "outputs": [
    {
     "data": {
      "text/plain": [
       "(375, 339)"
      ]
     },
     "execution_count": 99,
     "metadata": {},
     "output_type": "execute_result"
    }
   ],
   "source": [
    "len(data['text'][0]), len(data['text'][6]) ## summarize()를 사용할때 요약되는 문장"
   ]
  },
  {
   "cell_type": "code",
   "execution_count": 105,
   "id": "bf89015d",
   "metadata": {},
   "outputs": [
    {
     "data": {
      "text/plain": [
       "54"
      ]
     },
     "execution_count": 105,
     "metadata": {},
     "output_type": "execute_result"
    }
   ],
   "source": [
    "lst_temp = []\n",
    "for i in data['text'][1].split():\n",
    "    lst_temp.append(i)\n",
    "len(list(set(lst_temp)))"
   ]
  },
  {
   "cell_type": "code",
   "execution_count": 106,
   "id": "4ea8975f",
   "metadata": {},
   "outputs": [
    {
     "data": {
      "text/plain": [
       "44"
      ]
     },
     "execution_count": 106,
     "metadata": {},
     "output_type": "execute_result"
    }
   ],
   "source": [
    "lst_temp = []\n",
    "for i in data['text'][6].split():\n",
    "    lst_temp.append(i)\n",
    "len(list(set(lst_temp)))"
   ]
  },
  {
   "cell_type": "markdown",
   "id": "b7205841",
   "metadata": {},
   "source": [
    "- **'text'의 일부 문장은 summarize()를 사용해도 요약되지 않는 문제 발생**\n",
    "- summarize()로 요약되는 문장과 요약되지 않는 문장을 비교해봤지만 원인을 찾을 수 없었음\n",
    "- 중복되지 않는 단어 수를 비교해봤지만 원인을 찾을 수 없음\n",
    "    - data['text'][0] : summarize()로 요약 불가능, 중복되지 않는 단어 수는 54개\n",
    "    - data['text'][6] : summarize()로 요약 가능, 중복되지 않는 단어 수는 44개\n",
    "- 더 많은 실험이 필요"
   ]
  },
  {
   "cell_type": "markdown",
   "id": "fb35e239",
   "metadata": {},
   "source": [
    "### 2. summarize()로 요약 가능한 문장 5개 뽑아보기"
   ]
  },
  {
   "cell_type": "code",
   "execution_count": 107,
   "id": "6b97bfe9",
   "metadata": {},
   "outputs": [
    {
     "name": "stdout",
     "output_type": "stream",
     "text": [
      "0\n",
      "6\n",
      "25\n",
      "142\n",
      "174\n"
     ]
    }
   ],
   "source": [
    "cnt = 0\n",
    "for i, s in enumerate(txt):\n",
    "    if summarize(txt[i], words=5) != '':\n",
    "        print(i)\n",
    "        cnt += 1\n",
    "    if cnt == 5:\n",
    "        break"
   ]
  },
  {
   "cell_type": "markdown",
   "id": "741b9e14",
   "metadata": {},
   "source": [
    "- 0, 6, 25, 142, 174번째 문장들은 summarize()로 요약 가능"
   ]
  },
  {
   "cell_type": "code",
   "execution_count": 108,
   "id": "568e3d2e",
   "metadata": {},
   "outputs": [
    {
     "data": {
      "text/plain": [
       "\"Saurav Kant, an alumnus of upGrad and IIIT-B's PG Program in Machine learning and Artificial Intelligence, was a Sr Systems Engineer at Infosys with almost 5 years of work experience. The program and upGrad's 360-degree career support helped him transition to a Data Scientist at Tech Mahindra with 90% salary hike. upGrad's Online Power Learning has powered 3 lakh+ careers.\""
      ]
     },
     "execution_count": 108,
     "metadata": {},
     "output_type": "execute_result"
    }
   ],
   "source": [
    "data['text'][0]"
   ]
  },
  {
   "cell_type": "code",
   "execution_count": 109,
   "id": "daf389b8",
   "metadata": {},
   "outputs": [
    {
     "data": {
      "text/plain": [
       "\"Former Windies fast bowler Curtly Ambrose dismissed seven Australian batsmen within a span of 32 balls giving away just one run, in a Test match on January 30, 1993. Ambrose's spell helped his team bowl out Australia for 119 in the first innings, after being 85 for 2 at one point. Ambrose ended with first-innings figures of 18-9-25-7.\""
      ]
     },
     "execution_count": 109,
     "metadata": {},
     "output_type": "execute_result"
    }
   ],
   "source": [
    "data['text'][25]"
   ]
  },
  {
   "cell_type": "markdown",
   "id": "02d6717f",
   "metadata": {},
   "source": [
    "### 3. 추출적 요약하기"
   ]
  },
  {
   "cell_type": "code",
   "execution_count": 110,
   "id": "57f60734",
   "metadata": {},
   "outputs": [
    {
     "name": "stdout",
     "output_type": "stream",
     "text": [
      "원문 : Saurav Kant, an alumnus of upGrad and IIIT-B's PG Program in Machine learning and Artificial Intelligence, was a Sr Systems Engineer at Infosys with almost 5 years of work experience. The program and upGrad's 360-degree career support helped him transition to a Data Scientist at Tech Mahindra with 90% salary hike. upGrad's Online Power Learning has powered 3 lakh+ careers.\n",
      "실제 요약 : upGrad learner switches to career in ML & Al with 90% salary hike\n",
      "추출적 요약 : upGrad's Online Power Learning has powered 3 lakh+ careers.\n",
      "\n",
      "\n",
      "원문 : India recorded their lowest ODI total in New Zealand after getting all out for 92 runs in 30.5 overs in the fourth ODI at Hamilton on Thursday. Seven of India's batsmen were dismissed for single-digit scores, while their number ten batsman Yuzvendra Chahal top-scored with 18*(37). India's previous lowest ODI total in New Zealand was 108.\n",
      "실제 요약 : India get all out for 92, their lowest ODI total in New Zealand\n",
      "추출적 요약 : India's previous lowest ODI total in New Zealand was 108.\n",
      "\n",
      "\n",
      "원문 : Former Windies fast bowler Curtly Ambrose dismissed seven Australian batsmen within a span of 32 balls giving away just one run, in a Test match on January 30, 1993. Ambrose's spell helped his team bowl out Australia for 119 in the first innings, after being 85 for 2 at one point. Ambrose ended with first-innings figures of 18-9-25-7.\n",
      "실제 요약 : Pacer once took 7 wickets for just 1 run in 32 balls in a Test\n",
      "추출적 요약 : Ambrose ended with first-innings figures of 18-9-25-7.\n",
      "\n",
      "\n",
      "원문 : Congress MP Shashi Tharoor has shared an image of Uttar Pradesh CM Yogi Adityanath taking a holy dip at Kumbh Mela along with his Cabinet ministers. \"You want to keep the Ganga clean and also wash your sins in it. Everyone is naked in this Sangam. Jai Ganga Maiya ki,\" Tharoor's caption on the picture read.\n",
      "실제 요약 : You want Ganga clean & also wash sins in it: Tharoor on UP CM's pic\n",
      "추출적 요약 : Jai Ganga Maiya ki,\" Tharoor's caption on the picture read.\n",
      "\n",
      "\n",
      "원문 : BJP MP Hema Malini on Tuesday claimed that she had been given the \"green signal by higher-ups\" of the party to contest again from Mathura. She also promised the people of her constituency \"modernisation\" of the Mathura Junction railway station. The actor-politician also inaugurated various projects at the Mathura Junction.\n",
      "실제 요약 : BJP has given green signal to fight again from Mathura: Hema\n",
      "추출적 요약 : The actor-politician also inaugurated various projects at the Mathura Junction.\n",
      "\n",
      "\n"
     ]
    }
   ],
   "source": [
    "for i in [0, 6, 25, 142, 174]:\n",
    "    print('원문 : {}'.format(data['text'][i]))\n",
    "    print('실제 요약 : {}'.format(data['headlines'][i]))\n",
    "    print('추출적 요약 : {}'.format(summarize(data['text'][i], words=10)))\n",
    "    print('\\n')"
   ]
  },
  {
   "cell_type": "markdown",
   "id": "a732c9c4",
   "metadata": {},
   "source": [
    "- 추출적 요약을 한 결과 대체로 마지막 문장을 가져오는 경향을 보임  \n",
    "(문장을 그대로 가져왔기 때문에 문법은 틀리지 않았을 것으로 예상됨)\n",
    "- 따라서 올바른 요약으로 볼 수 없다고 판단됨"
   ]
  },
  {
   "cell_type": "code",
   "execution_count": null,
   "id": "e42399fc",
   "metadata": {},
   "outputs": [],
   "source": []
  },
  {
   "cell_type": "code",
   "execution_count": null,
   "id": "ce056b93",
   "metadata": {},
   "outputs": [],
   "source": []
  },
  {
   "cell_type": "markdown",
   "id": "2f90d232",
   "metadata": {},
   "source": [
    "## 회고\n",
    "\n",
    "### 1. 새로 알아갔던 점\n",
    " - 딥러닝으로 추상적 요약을 구현할 수 있다는 점을 알게 됨\n",
    " - 딥러닝 모델 두개를 엮어서 사용할 수 있다는 점을 알게 됨\n",
    " - 어텐션 메커니즘에 대해 대략적으로 알아봤음\n",
    "\n",
    "### 2. 흥미로웠던 점\n",
    " - 복잡하게 보였던 모델 구조를 파악하려 노력했을 때 흥미로웠음 (아직 자세하게는 파악하지 못함, 특히 어텐션 부분)\n",
    " - 추상적 요약을 생각보다 잘했던 점 (일부는 원문에 없는 내용을 잘못 요약하기도 함)\n",
    "\n",
    "### 3. 아쉬웠던 점\n",
    " - summarize()가 요약을 하지 못해 원인을 찾는데 시간을 너무 많이 소모했음\n",
    " - 가장 아쉬운점은 summarize()가 요약하지 못한 원인을 찾지 못함\n",
    " - 어텐션 메커니즘에 대해 대략적으로는 이해했지만 계산이 어떻게 이뤄지는지는 파악하지 못함\n",
    "     - 더 찾다보니 bptt같은 내용이 등장하였는데 정확하게 이해하지 못함\n",
    "\n",
    "### 4. 앞으로의 다짐\n",
    " - RNN 계열의 모델에 조금 더 자세히 알아보고 익숙해져야겠다는 생각을 하게됨 (반성...)"
   ]
  },
  {
   "cell_type": "code",
   "execution_count": null,
   "id": "baa4129c",
   "metadata": {},
   "outputs": [],
   "source": []
  }
 ],
 "metadata": {
  "kernelspec": {
   "display_name": "Python 3 (ipykernel)",
   "language": "python",
   "name": "python3"
  },
  "language_info": {
   "codemirror_mode": {
    "name": "ipython",
    "version": 3
   },
   "file_extension": ".py",
   "mimetype": "text/x-python",
   "name": "python",
   "nbconvert_exporter": "python",
   "pygments_lexer": "ipython3",
   "version": "3.9.7"
  }
 },
 "nbformat": 4,
 "nbformat_minor": 5
}
