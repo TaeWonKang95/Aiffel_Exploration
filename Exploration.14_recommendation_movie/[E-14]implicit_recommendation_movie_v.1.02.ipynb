{
 "cells": [
  {
   "cell_type": "markdown",
   "id": "cb91ba9b",
   "metadata": {},
   "source": [
    "# Exploration.14 - 영화 추천 시스템 만들기"
   ]
  },
  {
   "cell_type": "code",
   "execution_count": null,
   "id": "e4826ef5",
   "metadata": {},
   "outputs": [],
   "source": []
  },
  {
   "cell_type": "markdown",
   "id": "981f872a",
   "metadata": {},
   "source": [
    "## 사전 지식"
   ]
  },
  {
   "cell_type": "markdown",
   "id": "f1761366",
   "metadata": {},
   "source": [
    "### 1. 용어\n",
    "- 추천 시스템 : 사용자가 선호할 만한 아이템을 추측함으로써 여러 가지 항목 중 사용자에게 적합한 특정 항목을 선택(information filtering)하여 제공하는 시스템\n",
    "\n",
    "- 필터링 : 여러 가지 항목 중 적당한 항목을 선택하는 기술을 말하는 IT 용어\n",
    "\n",
    "- 추천 알고리즘\n",
    "    - 추천 시스템은 정보를 추려서(filtering) 사용자에게 제공\n",
    "    - 다시 말하면 사용자가 전체 정보를 볼 기회를 박탈당할 수도 있음\n",
    "\n",
    "- 필터버블\n",
    "    - 추천 시스템이 고도화될수록 사용자의 입맛에 맞는 정보만 제공되고 나머지 정보는 감추어지는 위험이 발생"
   ]
  },
  {
   "cell_type": "markdown",
   "id": "17c7c241",
   "metadata": {},
   "source": [
    "### 2. 추천 시스템 종류\n",
    "- 협업필터링(Collaborative filtering)\n",
    "    - 협업 필터링이란 대규모의 기존 사용자 행동 정보를 분석\n",
    "    - 해당 사용자와 비슷한 성향의 사용자들이 기존에 좋아했던 항목을 추천하는 기술  \n",
    "    (가장 일반적인 예는 온라인 쇼핑 사이트에서 흔히 볼 수 있는 ‘이 상품을 구매한 사용자가 구매한 상품들’ 서비스)\n",
    "    - 비슷한 패턴을 가진 사용자나 항목을 추출하는 기술이 핵심\n",
    "    - 방법\n",
    "        - 행렬분해(Matrix Factorization)\n",
    "        - k-최근접 이웃 알고리즘 (k-Nearest Neighbor algorithm, kNN)\n",
    "    - 문제점\n",
    "        - 콜드 스타트(Cold Start)\n",
    "            - 기존에 없던 새로운 항목이 추가되는 경우는 추천이 곤란\n",
    "        - 계산량이 비교적 많은 알고리즘이므로 사용자 수가 많은 경우 효율적으로 추천할 수 없음\n",
    "            - 행렬분해의 경우, 사용자 수가 커짐에 따라 계산이 몇 시간에서 며칠까지 걸리는 경우가 종종 생김\n",
    "        - 롱테일(Long tail)\n",
    "            - 시스템 항목이 많다 하더라도 사용자들은 소수의 인기 있는 항목에만 관심을 보임\n",
    "            - 사용자들의 관심이 적은 다수의 항목은 추천을 위한 충분한 정보를 제공하지 못함\n",
    "<br><br>\n",
    "\n",
    "- 콘텐츠 기반 필터링 (Content-based filtering)\n",
    "    - 항목을 분석한 프로파일(item profile)과 사용자의 선호도를 추출한 프로파일(user profile)을 추출하여 이의 유사성을 계산  \n",
    "    (음악을 추천하기 위해 음악 자체를 분석하여 유사한 음악을 추천하는 방식)\n",
    "    - 콘텐츠의 내용을 분석해야 하므로 아이템 분석 알고리즘이 핵심\n",
    "    - 방법\n",
    "        - 군집분석(Clustering analysis)\n",
    "        - 인공신경망(Artificial neural network)\n",
    "        - tf-idf(term frequency-inverse document frequency)\n",
    "    - 문제점\n",
    "        - 다양한 형식의 항목을 추천하기 어려움\n",
    "        - 음악과 사진, 비디오를 동시에 추천해야 하는 경우, 각각의 항목에서 얻을 수 있는 정보가 달라 프로파일을 구성하기 매우 어려움 \n",
    "<br><br>\n",
    "- http://www.kocca.kr/insight/vol05/vol05_04.pdf"
   ]
  },
  {
   "cell_type": "markdown",
   "id": "4c45c413",
   "metadata": {},
   "source": [
    "### 3. 암묵적 피드백 (Implicit-feedback)\n",
    "- 사용자의 아이템 선호도를 말해 주는 유저 행동 데이터셋이 없는 경우  \n",
    "- 특징\n",
    "    - 부정적인 피드백이 없음 (No Negative Feedback)\n",
    "    - 애초에 잡음이 많음 (Inherently Noisy)\n",
    "    - 수치는 신뢰도를 의미함 (The numerical value of implicit feedback indicates confidence)\n",
    "    - 평가는 적절한 방법을 고민해봐야 함 (Evaluation of implicit-feedback recommender requires appropriate measures)"
   ]
  },
  {
   "cell_type": "code",
   "execution_count": null,
   "id": "88427dbc",
   "metadata": {},
   "outputs": [],
   "source": []
  },
  {
   "cell_type": "code",
   "execution_count": null,
   "id": "306f63d2",
   "metadata": {},
   "outputs": [],
   "source": []
  },
  {
   "cell_type": "markdown",
   "id": "f3037411",
   "metadata": {},
   "source": [
    "## 데이터 불러오기"
   ]
  },
  {
   "cell_type": "markdown",
   "id": "45681c4e",
   "metadata": {},
   "source": [
    "### 1. 유저에 따른 영화 데이터 불러오기"
   ]
  },
  {
   "cell_type": "code",
   "execution_count": 1,
   "id": "a1c7dcee",
   "metadata": {},
   "outputs": [
    {
     "data": {
      "text/html": [
       "<div>\n",
       "<style scoped>\n",
       "    .dataframe tbody tr th:only-of-type {\n",
       "        vertical-align: middle;\n",
       "    }\n",
       "\n",
       "    .dataframe tbody tr th {\n",
       "        vertical-align: top;\n",
       "    }\n",
       "\n",
       "    .dataframe thead th {\n",
       "        text-align: right;\n",
       "    }\n",
       "</style>\n",
       "<table border=\"1\" class=\"dataframe\">\n",
       "  <thead>\n",
       "    <tr style=\"text-align: right;\">\n",
       "      <th></th>\n",
       "      <th>user_id</th>\n",
       "      <th>movie_id</th>\n",
       "      <th>counts</th>\n",
       "      <th>timestamp</th>\n",
       "    </tr>\n",
       "  </thead>\n",
       "  <tbody>\n",
       "    <tr>\n",
       "      <th>0</th>\n",
       "      <td>1</td>\n",
       "      <td>1193</td>\n",
       "      <td>5</td>\n",
       "      <td>978300760</td>\n",
       "    </tr>\n",
       "    <tr>\n",
       "      <th>1</th>\n",
       "      <td>1</td>\n",
       "      <td>661</td>\n",
       "      <td>3</td>\n",
       "      <td>978302109</td>\n",
       "    </tr>\n",
       "    <tr>\n",
       "      <th>2</th>\n",
       "      <td>1</td>\n",
       "      <td>914</td>\n",
       "      <td>3</td>\n",
       "      <td>978301968</td>\n",
       "    </tr>\n",
       "    <tr>\n",
       "      <th>3</th>\n",
       "      <td>1</td>\n",
       "      <td>3408</td>\n",
       "      <td>4</td>\n",
       "      <td>978300275</td>\n",
       "    </tr>\n",
       "    <tr>\n",
       "      <th>4</th>\n",
       "      <td>1</td>\n",
       "      <td>2355</td>\n",
       "      <td>5</td>\n",
       "      <td>978824291</td>\n",
       "    </tr>\n",
       "  </tbody>\n",
       "</table>\n",
       "</div>"
      ],
      "text/plain": [
       "   user_id  movie_id  counts  timestamp\n",
       "0        1      1193       5  978300760\n",
       "1        1       661       3  978302109\n",
       "2        1       914       3  978301968\n",
       "3        1      3408       4  978300275\n",
       "4        1      2355       5  978824291"
      ]
     },
     "execution_count": 1,
     "metadata": {},
     "output_type": "execute_result"
    }
   ],
   "source": [
    "import pandas as pd\n",
    "import os\n",
    "\n",
    "rating_file_path=os.getenv('HOME') + '/aiffel/recommendata_iu/data/ml-1m/ratings.dat'\n",
    "ratings_cols = ['user_id', 'movie_id', 'counts', 'timestamp']\n",
    "ratings = pd.read_csv(rating_file_path, sep='::', names=ratings_cols, engine='python', encoding = \"ISO-8859-1\")\n",
    "orginal_data_size = len(ratings)\n",
    "ratings.head()"
   ]
  },
  {
   "cell_type": "markdown",
   "id": "a5e8cd5b",
   "metadata": {},
   "source": [
    "- 'counts'에 해당하는 것은 원래 별점임\n",
    "- 암묵적 평가를 위해 별점 대신 'counts'(시청횟수)로 간주하고 문제를 풀어갈 예정"
   ]
  },
  {
   "cell_type": "code",
   "execution_count": 2,
   "id": "8c005eda",
   "metadata": {},
   "outputs": [
    {
     "name": "stdout",
     "output_type": "stream",
     "text": [
      "orginal_data_size: 1000209, filtered_data_size: 836478\n",
      "Ratio of Remaining Data is 83.63%\n"
     ]
    }
   ],
   "source": [
    "# 3점 이상만 남깁니다.\n",
    "ratings = ratings[ratings['counts']>=3]\n",
    "filtered_data_size = len(ratings)\n",
    "\n",
    "print(f'orginal_data_size: {orginal_data_size}, filtered_data_size: {filtered_data_size}')\n",
    "print(f'Ratio of Remaining Data is {filtered_data_size / orginal_data_size:.2%}')"
   ]
  },
  {
   "cell_type": "markdown",
   "id": "b37813b5",
   "metadata": {},
   "source": [
    "- 시청 횟수 3회 미만은 선호하지 않는다고 간주하고 제외함"
   ]
  },
  {
   "cell_type": "markdown",
   "id": "34a616e4",
   "metadata": {},
   "source": [
    "- 3회 미만을 제외한 데이터 사이즈 : 836,478  \n",
    "    - 제외 전 : 1,000,209\n",
    "    - 83.63%의 데이터가 제외되지 않고 남음"
   ]
  },
  {
   "cell_type": "code",
   "execution_count": 3,
   "id": "52564fa3",
   "metadata": {},
   "outputs": [
    {
     "data": {
      "text/plain": [
       "6039"
      ]
     },
     "execution_count": 3,
     "metadata": {},
     "output_type": "execute_result"
    }
   ],
   "source": [
    "# 유저 수\n",
    "ratings['user_id'].nunique()"
   ]
  },
  {
   "cell_type": "markdown",
   "id": "86cc3f4e",
   "metadata": {},
   "source": [
    "- 총 유저 수는 6,040명"
   ]
  },
  {
   "cell_type": "code",
   "execution_count": 4,
   "id": "86b72062",
   "metadata": {},
   "outputs": [
    {
     "data": {
      "text/plain": [
       "3628"
      ]
     },
     "execution_count": 4,
     "metadata": {},
     "output_type": "execute_result"
    }
   ],
   "source": [
    "ratings['movie_id'].nunique()"
   ]
  },
  {
   "cell_type": "markdown",
   "id": "8e67b02d",
   "metadata": {},
   "source": [
    "- 유저들이 3회 이상 본 영화 수 : 3,706편"
   ]
  },
  {
   "cell_type": "markdown",
   "id": "bfafe544",
   "metadata": {},
   "source": [
    "### 2. 영화 데이터 불러오기"
   ]
  },
  {
   "cell_type": "code",
   "execution_count": 5,
   "id": "b39133f5",
   "metadata": {},
   "outputs": [
    {
     "data": {
      "text/html": [
       "<div>\n",
       "<style scoped>\n",
       "    .dataframe tbody tr th:only-of-type {\n",
       "        vertical-align: middle;\n",
       "    }\n",
       "\n",
       "    .dataframe tbody tr th {\n",
       "        vertical-align: top;\n",
       "    }\n",
       "\n",
       "    .dataframe thead th {\n",
       "        text-align: right;\n",
       "    }\n",
       "</style>\n",
       "<table border=\"1\" class=\"dataframe\">\n",
       "  <thead>\n",
       "    <tr style=\"text-align: right;\">\n",
       "      <th></th>\n",
       "      <th>movie_id</th>\n",
       "      <th>title</th>\n",
       "      <th>genre</th>\n",
       "    </tr>\n",
       "  </thead>\n",
       "  <tbody>\n",
       "    <tr>\n",
       "      <th>0</th>\n",
       "      <td>1</td>\n",
       "      <td>Toy Story (1995)</td>\n",
       "      <td>Animation|Children's|Comedy</td>\n",
       "    </tr>\n",
       "    <tr>\n",
       "      <th>1</th>\n",
       "      <td>2</td>\n",
       "      <td>Jumanji (1995)</td>\n",
       "      <td>Adventure|Children's|Fantasy</td>\n",
       "    </tr>\n",
       "    <tr>\n",
       "      <th>2</th>\n",
       "      <td>3</td>\n",
       "      <td>Grumpier Old Men (1995)</td>\n",
       "      <td>Comedy|Romance</td>\n",
       "    </tr>\n",
       "    <tr>\n",
       "      <th>3</th>\n",
       "      <td>4</td>\n",
       "      <td>Waiting to Exhale (1995)</td>\n",
       "      <td>Comedy|Drama</td>\n",
       "    </tr>\n",
       "    <tr>\n",
       "      <th>4</th>\n",
       "      <td>5</td>\n",
       "      <td>Father of the Bride Part II (1995)</td>\n",
       "      <td>Comedy</td>\n",
       "    </tr>\n",
       "  </tbody>\n",
       "</table>\n",
       "</div>"
      ],
      "text/plain": [
       "   movie_id                               title                         genre\n",
       "0         1                    Toy Story (1995)   Animation|Children's|Comedy\n",
       "1         2                      Jumanji (1995)  Adventure|Children's|Fantasy\n",
       "2         3             Grumpier Old Men (1995)                Comedy|Romance\n",
       "3         4            Waiting to Exhale (1995)                  Comedy|Drama\n",
       "4         5  Father of the Bride Part II (1995)                        Comedy"
      ]
     },
     "execution_count": 5,
     "metadata": {},
     "output_type": "execute_result"
    }
   ],
   "source": [
    "# 영화 제목을 보기 위해 메타 데이터를 읽어옵니다.\n",
    "movie_file_path=os.getenv('HOME') + '/aiffel/recommendata_iu/data/ml-1m/movies.dat'\n",
    "cols = ['movie_id', 'title', 'genre'] \n",
    "movies = pd.read_csv(movie_file_path, sep='::', names=cols, engine='python', encoding='ISO-8859-1')\n",
    "movies.head()"
   ]
  },
  {
   "cell_type": "code",
   "execution_count": 6,
   "id": "ab6949d5",
   "metadata": {},
   "outputs": [
    {
     "data": {
      "text/plain": [
       "3883"
      ]
     },
     "execution_count": 6,
     "metadata": {},
     "output_type": "execute_result"
    }
   ],
   "source": [
    "movies['movie_id'].nunique()"
   ]
  },
  {
   "cell_type": "markdown",
   "id": "d0db9da7",
   "metadata": {},
   "source": [
    "### 3. 영화 제목 소문자로 변경하기"
   ]
  },
  {
   "cell_type": "markdown",
   "id": "b7758f0f",
   "metadata": {},
   "source": [
    "- 전체 데이터에 있는 총 영화 수 : 3,883편"
   ]
  },
  {
   "cell_type": "code",
   "execution_count": 7,
   "id": "2189188a",
   "metadata": {},
   "outputs": [],
   "source": [
    "movies['title'] = movies['title'].str.lower()"
   ]
  },
  {
   "cell_type": "markdown",
   "id": "d2111afd",
   "metadata": {},
   "source": [
    "### 4. 데이터 합치기"
   ]
  },
  {
   "cell_type": "code",
   "execution_count": 8,
   "id": "27fd1f69",
   "metadata": {},
   "outputs": [
    {
     "data": {
      "text/html": [
       "<div>\n",
       "<style scoped>\n",
       "    .dataframe tbody tr th:only-of-type {\n",
       "        vertical-align: middle;\n",
       "    }\n",
       "\n",
       "    .dataframe tbody tr th {\n",
       "        vertical-align: top;\n",
       "    }\n",
       "\n",
       "    .dataframe thead th {\n",
       "        text-align: right;\n",
       "    }\n",
       "</style>\n",
       "<table border=\"1\" class=\"dataframe\">\n",
       "  <thead>\n",
       "    <tr style=\"text-align: right;\">\n",
       "      <th></th>\n",
       "      <th>user_id</th>\n",
       "      <th>movie_id</th>\n",
       "      <th>counts</th>\n",
       "      <th>timestamp</th>\n",
       "      <th>title</th>\n",
       "      <th>genre</th>\n",
       "    </tr>\n",
       "  </thead>\n",
       "  <tbody>\n",
       "    <tr>\n",
       "      <th>0</th>\n",
       "      <td>1</td>\n",
       "      <td>1193</td>\n",
       "      <td>5</td>\n",
       "      <td>978300760</td>\n",
       "      <td>one flew over the cuckoo's nest (1975)</td>\n",
       "      <td>Drama</td>\n",
       "    </tr>\n",
       "    <tr>\n",
       "      <th>1</th>\n",
       "      <td>1</td>\n",
       "      <td>661</td>\n",
       "      <td>3</td>\n",
       "      <td>978302109</td>\n",
       "      <td>james and the giant peach (1996)</td>\n",
       "      <td>Animation|Children's|Musical</td>\n",
       "    </tr>\n",
       "    <tr>\n",
       "      <th>2</th>\n",
       "      <td>1</td>\n",
       "      <td>914</td>\n",
       "      <td>3</td>\n",
       "      <td>978301968</td>\n",
       "      <td>my fair lady (1964)</td>\n",
       "      <td>Musical|Romance</td>\n",
       "    </tr>\n",
       "    <tr>\n",
       "      <th>3</th>\n",
       "      <td>1</td>\n",
       "      <td>3408</td>\n",
       "      <td>4</td>\n",
       "      <td>978300275</td>\n",
       "      <td>erin brockovich (2000)</td>\n",
       "      <td>Drama</td>\n",
       "    </tr>\n",
       "    <tr>\n",
       "      <th>4</th>\n",
       "      <td>1</td>\n",
       "      <td>2355</td>\n",
       "      <td>5</td>\n",
       "      <td>978824291</td>\n",
       "      <td>bug's life, a (1998)</td>\n",
       "      <td>Animation|Children's|Comedy</td>\n",
       "    </tr>\n",
       "  </tbody>\n",
       "</table>\n",
       "</div>"
      ],
      "text/plain": [
       "   user_id  movie_id  counts  timestamp  \\\n",
       "0        1      1193       5  978300760   \n",
       "1        1       661       3  978302109   \n",
       "2        1       914       3  978301968   \n",
       "3        1      3408       4  978300275   \n",
       "4        1      2355       5  978824291   \n",
       "\n",
       "                                    title                         genre  \n",
       "0  one flew over the cuckoo's nest (1975)                         Drama  \n",
       "1        james and the giant peach (1996)  Animation|Children's|Musical  \n",
       "2                     my fair lady (1964)               Musical|Romance  \n",
       "3                  erin brockovich (2000)                         Drama  \n",
       "4                    bug's life, a (1998)   Animation|Children's|Comedy  "
      ]
     },
     "execution_count": 8,
     "metadata": {},
     "output_type": "execute_result"
    }
   ],
   "source": [
    "df = pd.merge(ratings, movies, how='left', on='movie_id')\n",
    "df.head()"
   ]
  },
  {
   "cell_type": "markdown",
   "id": "e325cc4b",
   "metadata": {},
   "source": [
    "### 5. 필요없는 데이터 없애기"
   ]
  },
  {
   "cell_type": "code",
   "execution_count": 9,
   "id": "8a548c77",
   "metadata": {},
   "outputs": [],
   "source": [
    "df = df.drop(['timestamp'], axis=1)"
   ]
  },
  {
   "cell_type": "code",
   "execution_count": 10,
   "id": "15676d9a",
   "metadata": {},
   "outputs": [
    {
     "data": {
      "text/html": [
       "<div>\n",
       "<style scoped>\n",
       "    .dataframe tbody tr th:only-of-type {\n",
       "        vertical-align: middle;\n",
       "    }\n",
       "\n",
       "    .dataframe tbody tr th {\n",
       "        vertical-align: top;\n",
       "    }\n",
       "\n",
       "    .dataframe thead th {\n",
       "        text-align: right;\n",
       "    }\n",
       "</style>\n",
       "<table border=\"1\" class=\"dataframe\">\n",
       "  <thead>\n",
       "    <tr style=\"text-align: right;\">\n",
       "      <th></th>\n",
       "      <th>user_id</th>\n",
       "      <th>movie_id</th>\n",
       "      <th>counts</th>\n",
       "      <th>title</th>\n",
       "      <th>genre</th>\n",
       "    </tr>\n",
       "  </thead>\n",
       "  <tbody>\n",
       "    <tr>\n",
       "      <th>0</th>\n",
       "      <td>1</td>\n",
       "      <td>1193</td>\n",
       "      <td>5</td>\n",
       "      <td>one flew over the cuckoo's nest (1975)</td>\n",
       "      <td>Drama</td>\n",
       "    </tr>\n",
       "    <tr>\n",
       "      <th>1</th>\n",
       "      <td>1</td>\n",
       "      <td>661</td>\n",
       "      <td>3</td>\n",
       "      <td>james and the giant peach (1996)</td>\n",
       "      <td>Animation|Children's|Musical</td>\n",
       "    </tr>\n",
       "    <tr>\n",
       "      <th>2</th>\n",
       "      <td>1</td>\n",
       "      <td>914</td>\n",
       "      <td>3</td>\n",
       "      <td>my fair lady (1964)</td>\n",
       "      <td>Musical|Romance</td>\n",
       "    </tr>\n",
       "    <tr>\n",
       "      <th>3</th>\n",
       "      <td>1</td>\n",
       "      <td>3408</td>\n",
       "      <td>4</td>\n",
       "      <td>erin brockovich (2000)</td>\n",
       "      <td>Drama</td>\n",
       "    </tr>\n",
       "    <tr>\n",
       "      <th>4</th>\n",
       "      <td>1</td>\n",
       "      <td>2355</td>\n",
       "      <td>5</td>\n",
       "      <td>bug's life, a (1998)</td>\n",
       "      <td>Animation|Children's|Comedy</td>\n",
       "    </tr>\n",
       "  </tbody>\n",
       "</table>\n",
       "</div>"
      ],
      "text/plain": [
       "   user_id  movie_id  counts                                   title  \\\n",
       "0        1      1193       5  one flew over the cuckoo's nest (1975)   \n",
       "1        1       661       3        james and the giant peach (1996)   \n",
       "2        1       914       3                     my fair lady (1964)   \n",
       "3        1      3408       4                  erin brockovich (2000)   \n",
       "4        1      2355       5                    bug's life, a (1998)   \n",
       "\n",
       "                          genre  \n",
       "0                         Drama  \n",
       "1  Animation|Children's|Musical  \n",
       "2               Musical|Romance  \n",
       "3                         Drama  \n",
       "4   Animation|Children's|Comedy  "
      ]
     },
     "execution_count": 10,
     "metadata": {},
     "output_type": "execute_result"
    }
   ],
   "source": [
    "df.head()"
   ]
  },
  {
   "cell_type": "markdown",
   "id": "43084c90",
   "metadata": {},
   "source": [
    "- 필요없다고 판단되는 'timestamp'를 제거함"
   ]
  },
  {
   "cell_type": "code",
   "execution_count": null,
   "id": "ee426825",
   "metadata": {},
   "outputs": [],
   "source": []
  },
  {
   "cell_type": "code",
   "execution_count": null,
   "id": "917de782",
   "metadata": {},
   "outputs": [],
   "source": []
  },
  {
   "cell_type": "markdown",
   "id": "60aa9eb5",
   "metadata": {},
   "source": [
    "## 데이터 살펴보기"
   ]
  },
  {
   "cell_type": "markdown",
   "id": "a0253bab",
   "metadata": {},
   "source": [
    "### 1. 결측치 확인"
   ]
  },
  {
   "cell_type": "code",
   "execution_count": 11,
   "id": "0fa93772",
   "metadata": {},
   "outputs": [
    {
     "data": {
      "text/plain": [
       "user_id     0\n",
       "movie_id    0\n",
       "counts      0\n",
       "title       0\n",
       "genre       0\n",
       "dtype: int64"
      ]
     },
     "execution_count": 11,
     "metadata": {},
     "output_type": "execute_result"
    }
   ],
   "source": [
    "df.isnull().sum()"
   ]
  },
  {
   "cell_type": "markdown",
   "id": "cb56972f",
   "metadata": {},
   "source": [
    "- 결측치는 없음"
   ]
  },
  {
   "cell_type": "markdown",
   "id": "069d2fd2",
   "metadata": {},
   "source": [
    "### 2. 중복 확인"
   ]
  },
  {
   "cell_type": "code",
   "execution_count": 12,
   "id": "2ebd2500",
   "metadata": {},
   "outputs": [
    {
     "data": {
      "text/html": [
       "<div>\n",
       "<style scoped>\n",
       "    .dataframe tbody tr th:only-of-type {\n",
       "        vertical-align: middle;\n",
       "    }\n",
       "\n",
       "    .dataframe tbody tr th {\n",
       "        vertical-align: top;\n",
       "    }\n",
       "\n",
       "    .dataframe thead th {\n",
       "        text-align: right;\n",
       "    }\n",
       "</style>\n",
       "<table border=\"1\" class=\"dataframe\">\n",
       "  <thead>\n",
       "    <tr style=\"text-align: right;\">\n",
       "      <th></th>\n",
       "      <th>movie_id</th>\n",
       "      <th>title</th>\n",
       "      <th>genre</th>\n",
       "    </tr>\n",
       "  </thead>\n",
       "  <tbody>\n",
       "  </tbody>\n",
       "</table>\n",
       "</div>"
      ],
      "text/plain": [
       "Empty DataFrame\n",
       "Columns: [movie_id, title, genre]\n",
       "Index: []"
      ]
     },
     "execution_count": 12,
     "metadata": {},
     "output_type": "execute_result"
    }
   ],
   "source": [
    "movies[movies.duplicated('movie_id')]"
   ]
  },
  {
   "cell_type": "code",
   "execution_count": 13,
   "id": "3a738bb2",
   "metadata": {},
   "outputs": [
    {
     "data": {
      "text/html": [
       "<div>\n",
       "<style scoped>\n",
       "    .dataframe tbody tr th:only-of-type {\n",
       "        vertical-align: middle;\n",
       "    }\n",
       "\n",
       "    .dataframe tbody tr th {\n",
       "        vertical-align: top;\n",
       "    }\n",
       "\n",
       "    .dataframe thead th {\n",
       "        text-align: right;\n",
       "    }\n",
       "</style>\n",
       "<table border=\"1\" class=\"dataframe\">\n",
       "  <thead>\n",
       "    <tr style=\"text-align: right;\">\n",
       "      <th></th>\n",
       "      <th>movie_id</th>\n",
       "      <th>title</th>\n",
       "      <th>genre</th>\n",
       "    </tr>\n",
       "  </thead>\n",
       "  <tbody>\n",
       "  </tbody>\n",
       "</table>\n",
       "</div>"
      ],
      "text/plain": [
       "Empty DataFrame\n",
       "Columns: [movie_id, title, genre]\n",
       "Index: []"
      ]
     },
     "execution_count": 13,
     "metadata": {},
     "output_type": "execute_result"
    }
   ],
   "source": [
    "movies[movies.duplicated('title')]"
   ]
  },
  {
   "cell_type": "markdown",
   "id": "0c6dc652",
   "metadata": {},
   "source": [
    "- 영화에 관한 데이터 중 'movie_id'와 'title'이 중복으로 기입된 것은 없음"
   ]
  },
  {
   "cell_type": "markdown",
   "id": "555d8a66",
   "metadata": {},
   "source": [
    "### 3. 통계"
   ]
  },
  {
   "cell_type": "code",
   "execution_count": 14,
   "id": "80d1eed8",
   "metadata": {},
   "outputs": [
    {
     "data": {
      "text/plain": [
       "count    6039.000000\n",
       "mean      138.512668\n",
       "std       156.241599\n",
       "min         1.000000\n",
       "25%        38.000000\n",
       "50%        81.000000\n",
       "75%       177.000000\n",
       "max      1968.000000\n",
       "Name: movie_id, dtype: float64"
      ]
     },
     "execution_count": 14,
     "metadata": {},
     "output_type": "execute_result"
    }
   ],
   "source": [
    "# 유저별 몇 편의 영화를 봤는지에 대한 통계\n",
    "user_count = df.groupby('user_id')['movie_id'].count()\n",
    "user_count.describe()"
   ]
  },
  {
   "cell_type": "markdown",
   "id": "ce2c6a76",
   "metadata": {},
   "source": [
    "- 유저들은 평균 166편의 영화를 봄\n",
    "- 가장 영화를 조금 본 유저는 20편의 영화를 봄\n",
    "- 가장 영화를 많이 본 유저는 2,314편의 영화를 봄"
   ]
  },
  {
   "cell_type": "code",
   "execution_count": 15,
   "id": "03950448",
   "metadata": {},
   "outputs": [
    {
     "data": {
      "text/plain": [
       "count    6039.000000\n",
       "mean        4.025078\n",
       "std         0.275632\n",
       "min         3.000000\n",
       "25%         3.833333\n",
       "50%         4.023622\n",
       "75%         4.212225\n",
       "max         5.000000\n",
       "Name: counts, dtype: float64"
      ]
     },
     "execution_count": 15,
     "metadata": {},
     "output_type": "execute_result"
    }
   ],
   "source": [
    "# 유저별 각 영화 시청 횟수 평균에 대한 통계\n",
    "user_mean = df.groupby('user_id')['counts'].mean()\n",
    "user_mean.describe()"
   ]
  },
  {
   "cell_type": "markdown",
   "id": "5d26b5f5",
   "metadata": {},
   "source": [
    "- 유저들은 평균 한 영화를 3.7회 시청함\n",
    "- 각각의 한 영화를 가장 조금 본 유저는 평균 약 1번씩 시청함\n",
    "- 각각의 한 영화를 가장 많이 본 유저는 평균 약 5번씩 시청함"
   ]
  },
  {
   "cell_type": "markdown",
   "id": "32d7f6c8",
   "metadata": {},
   "source": [
    "### 4. 유저들이 가장 많이 본 영화 30위"
   ]
  },
  {
   "cell_type": "code",
   "execution_count": 16,
   "id": "da3b588a",
   "metadata": {},
   "outputs": [],
   "source": [
    "favorite_movie = df.groupby('title')['user_id'].count()\n",
    "favorite_movie_top30 = favorite_movie.sort_values(ascending=False).head(30)"
   ]
  },
  {
   "cell_type": "code",
   "execution_count": 17,
   "id": "f17127bf",
   "metadata": {},
   "outputs": [
    {
     "data": {
      "text/plain": [
       "title\n",
       "american beauty (1999)                                   3211\n",
       "star wars: episode iv - a new hope (1977)                2910\n",
       "star wars: episode v - the empire strikes back (1980)    2885\n",
       "star wars: episode vi - return of the jedi (1983)        2716\n",
       "saving private ryan (1998)                               2561\n",
       "terminator 2: judgment day (1991)                        2509\n",
       "silence of the lambs, the (1991)                         2498\n",
       "raiders of the lost ark (1981)                           2473\n",
       "back to the future (1985)                                2460\n",
       "matrix, the (1999)                                       2434\n",
       "jurassic park (1993)                                     2413\n",
       "sixth sense, the (1999)                                  2385\n",
       "fargo (1996)                                             2371\n",
       "braveheart (1995)                                        2314\n",
       "men in black (1997)                                      2297\n",
       "schindler's list (1993)                                  2257\n",
       "princess bride, the (1987)                               2252\n",
       "shakespeare in love (1998)                               2213\n",
       "l.a. confidential (1997)                                 2210\n",
       "shawshank redemption, the (1994)                         2194\n",
       "godfather, the (1972)                                    2167\n",
       "groundhog day (1993)                                     2121\n",
       "e.t. the extra-terrestrial (1982)                        2102\n",
       "being john malkovich (1999)                              2066\n",
       "ghostbusters (1984)                                      2051\n",
       "pulp fiction (1994)                                      2030\n",
       "forrest gump (1994)                                      2022\n",
       "terminator, the (1984)                                   2019\n",
       "toy story (1995)                                         2000\n",
       "fugitive, the (1993)                                     1941\n",
       "Name: user_id, dtype: int64"
      ]
     },
     "execution_count": 17,
     "metadata": {},
     "output_type": "execute_result"
    }
   ],
   "source": [
    "favorite_movie_top30"
   ]
  },
  {
   "cell_type": "markdown",
   "id": "9a9a7132",
   "metadata": {},
   "source": [
    "- 유저들이 가장 많이 본 영화 1위는 'American Beauty'로 3,428명이 시청함"
   ]
  },
  {
   "cell_type": "markdown",
   "id": "f6486c46",
   "metadata": {},
   "source": [
    "### 5. 총 시청횟수가 가장 많은 영화 30위"
   ]
  },
  {
   "cell_type": "code",
   "execution_count": 18,
   "id": "0336aea0",
   "metadata": {},
   "outputs": [],
   "source": [
    "favorite_movie_sum_view = df.groupby('title')['counts'].sum()\n",
    "favorite_movie_sum_view_top30 = favorite_movie_sum_view.sort_values(ascending=False).head(30)"
   ]
  },
  {
   "cell_type": "code",
   "execution_count": 19,
   "id": "78d76896",
   "metadata": {},
   "outputs": [
    {
     "data": {
      "text/plain": [
       "title\n",
       "american beauty (1999)                                   14449\n",
       "star wars: episode iv - a new hope (1977)                13178\n",
       "star wars: episode v - the empire strikes back (1980)    12648\n",
       "saving private ryan (1998)                               11348\n",
       "star wars: episode vi - return of the jedi (1983)        11303\n",
       "raiders of the lost ark (1981)                           11179\n",
       "silence of the lambs, the (1991)                         11096\n",
       "matrix, the (1999)                                       10903\n",
       "sixth sense, the (1999)                                  10703\n",
       "terminator 2: judgment day (1991)                        10513\n",
       "fargo (1996)                                             10465\n",
       "schindler's list (1993)                                  10317\n",
       "braveheart (1995)                                        10125\n",
       "shawshank redemption, the (1994)                         10085\n",
       "back to the future (1985)                                10081\n",
       "godfather, the (1972)                                     9965\n",
       "princess bride, the (1987)                                9866\n",
       "jurassic park (1993)                                      9601\n",
       "l.a. confidential (1997)                                  9515\n",
       "shakespeare in love (1998)                                9503\n",
       "men in black (1997)                                       9057\n",
       "pulp fiction (1994)                                       9053\n",
       "being john malkovich (1999)                               8964\n",
       "groundhog day (1993)                                      8727\n",
       "e.t. the extra-terrestrial (1982)                         8696\n",
       "forrest gump (1994)                                       8679\n",
       "terminator, the (1984)                                    8571\n",
       "toy story (1995)                                          8475\n",
       "ghostbusters (1984)                                       8282\n",
       "alien (1979)                                              8244\n",
       "Name: counts, dtype: int64"
      ]
     },
     "execution_count": 19,
     "metadata": {},
     "output_type": "execute_result"
    }
   ],
   "source": [
    "favorite_movie_sum_view_top30"
   ]
  },
  {
   "cell_type": "markdown",
   "id": "0a56e085",
   "metadata": {},
   "source": [
    "- 총 시청수가 가장 많은 영화는 'American Beauty'로 전체 유저에서 총 14,800번 시청함"
   ]
  },
  {
   "cell_type": "code",
   "execution_count": null,
   "id": "0138ac99",
   "metadata": {},
   "outputs": [],
   "source": []
  },
  {
   "cell_type": "code",
   "execution_count": null,
   "id": "41e5cb20",
   "metadata": {},
   "outputs": [],
   "source": []
  },
  {
   "cell_type": "markdown",
   "id": "c8f0c4f4",
   "metadata": {},
   "source": [
    "## 데이터 추가하기"
   ]
  },
  {
   "cell_type": "markdown",
   "id": "decbb502",
   "metadata": {},
   "source": [
    "### 1. 선호하는 영화 5개 정보 추출\n",
    "- 영화 풀네임을 정확히 검색하기 어려움\n",
    "- .str.contains()를 통해 원하는 영화명을 찾을 예정\n",
    "- **기존 데이터에 없는 영화 정보를 추가하여 비교해 볼 예정**\n",
    "    - "
   ]
  },
  {
   "cell_type": "code",
   "execution_count": 20,
   "id": "f9c2e0e9",
   "metadata": {},
   "outputs": [
    {
     "data": {
      "text/html": [
       "<div>\n",
       "<style scoped>\n",
       "    .dataframe tbody tr th:only-of-type {\n",
       "        vertical-align: middle;\n",
       "    }\n",
       "\n",
       "    .dataframe tbody tr th {\n",
       "        vertical-align: top;\n",
       "    }\n",
       "\n",
       "    .dataframe thead th {\n",
       "        text-align: right;\n",
       "    }\n",
       "</style>\n",
       "<table border=\"1\" class=\"dataframe\">\n",
       "  <thead>\n",
       "    <tr style=\"text-align: right;\">\n",
       "      <th></th>\n",
       "      <th>movie_id</th>\n",
       "      <th>title</th>\n",
       "      <th>genre</th>\n",
       "    </tr>\n",
       "  </thead>\n",
       "  <tbody>\n",
       "    <tr>\n",
       "      <th>360</th>\n",
       "      <td>364</td>\n",
       "      <td>lion king, the (1994)</td>\n",
       "      <td>Animation|Children's|Musical</td>\n",
       "    </tr>\n",
       "    <tr>\n",
       "      <th>1980</th>\n",
       "      <td>2049</td>\n",
       "      <td>happiest millionaire, the (1967)</td>\n",
       "      <td>Comedy|Musical</td>\n",
       "    </tr>\n",
       "  </tbody>\n",
       "</table>\n",
       "</div>"
      ],
      "text/plain": [
       "      movie_id                             title                         genre\n",
       "360        364             lion king, the (1994)  Animation|Children's|Musical\n",
       "1980      2049  happiest millionaire, the (1967)                Comedy|Musical"
      ]
     },
     "execution_count": 20,
     "metadata": {},
     "output_type": "execute_result"
    }
   ],
   "source": [
    "movies[movies['title'].str.contains('lion')]"
   ]
  },
  {
   "cell_type": "code",
   "execution_count": 21,
   "id": "983513de",
   "metadata": {},
   "outputs": [
    {
     "data": {
      "text/html": [
       "<div>\n",
       "<style scoped>\n",
       "    .dataframe tbody tr th:only-of-type {\n",
       "        vertical-align: middle;\n",
       "    }\n",
       "\n",
       "    .dataframe tbody tr th {\n",
       "        vertical-align: top;\n",
       "    }\n",
       "\n",
       "    .dataframe thead th {\n",
       "        text-align: right;\n",
       "    }\n",
       "</style>\n",
       "<table border=\"1\" class=\"dataframe\">\n",
       "  <thead>\n",
       "    <tr style=\"text-align: right;\">\n",
       "      <th></th>\n",
       "      <th>movie_id</th>\n",
       "      <th>title</th>\n",
       "      <th>genre</th>\n",
       "    </tr>\n",
       "  </thead>\n",
       "  <tbody>\n",
       "    <tr>\n",
       "      <th>2502</th>\n",
       "      <td>2571</td>\n",
       "      <td>matrix, the (1999)</td>\n",
       "      <td>Action|Sci-Fi|Thriller</td>\n",
       "    </tr>\n",
       "  </tbody>\n",
       "</table>\n",
       "</div>"
      ],
      "text/plain": [
       "      movie_id               title                   genre\n",
       "2502      2571  matrix, the (1999)  Action|Sci-Fi|Thriller"
      ]
     },
     "execution_count": 21,
     "metadata": {},
     "output_type": "execute_result"
    }
   ],
   "source": [
    "movies[movies['title'].str.contains('matrix')]"
   ]
  },
  {
   "cell_type": "code",
   "execution_count": 22,
   "id": "fc8b68ed",
   "metadata": {},
   "outputs": [
    {
     "data": {
      "text/html": [
       "<div>\n",
       "<style scoped>\n",
       "    .dataframe tbody tr th:only-of-type {\n",
       "        vertical-align: middle;\n",
       "    }\n",
       "\n",
       "    .dataframe tbody tr th {\n",
       "        vertical-align: top;\n",
       "    }\n",
       "\n",
       "    .dataframe thead th {\n",
       "        text-align: right;\n",
       "    }\n",
       "</style>\n",
       "<table border=\"1\" class=\"dataframe\">\n",
       "  <thead>\n",
       "    <tr style=\"text-align: right;\">\n",
       "      <th></th>\n",
       "      <th>movie_id</th>\n",
       "      <th>title</th>\n",
       "      <th>genre</th>\n",
       "    </tr>\n",
       "  </thead>\n",
       "  <tbody>\n",
       "    <tr>\n",
       "      <th>0</th>\n",
       "      <td>1</td>\n",
       "      <td>toy story (1995)</td>\n",
       "      <td>Animation|Children's|Comedy</td>\n",
       "    </tr>\n",
       "    <tr>\n",
       "      <th>1948</th>\n",
       "      <td>2017</td>\n",
       "      <td>babes in toyland (1961)</td>\n",
       "      <td>Children's|Fantasy|Musical</td>\n",
       "    </tr>\n",
       "    <tr>\n",
       "      <th>2184</th>\n",
       "      <td>2253</td>\n",
       "      <td>toys (1992)</td>\n",
       "      <td>Action|Comedy|Fantasy</td>\n",
       "    </tr>\n",
       "    <tr>\n",
       "      <th>2411</th>\n",
       "      <td>2480</td>\n",
       "      <td>dry cleaning (nettoyage à sec) (1997)</td>\n",
       "      <td>Drama</td>\n",
       "    </tr>\n",
       "    <tr>\n",
       "      <th>3017</th>\n",
       "      <td>3086</td>\n",
       "      <td>march of the wooden soldiers (a.k.a. laurel &amp; ...</td>\n",
       "      <td>Comedy</td>\n",
       "    </tr>\n",
       "    <tr>\n",
       "      <th>3045</th>\n",
       "      <td>3114</td>\n",
       "      <td>toy story 2 (1999)</td>\n",
       "      <td>Animation|Children's|Comedy</td>\n",
       "    </tr>\n",
       "  </tbody>\n",
       "</table>\n",
       "</div>"
      ],
      "text/plain": [
       "      movie_id                                              title  \\\n",
       "0            1                                   toy story (1995)   \n",
       "1948      2017                            babes in toyland (1961)   \n",
       "2184      2253                                        toys (1992)   \n",
       "2411      2480              dry cleaning (nettoyage à sec) (1997)   \n",
       "3017      3086  march of the wooden soldiers (a.k.a. laurel & ...   \n",
       "3045      3114                                 toy story 2 (1999)   \n",
       "\n",
       "                            genre  \n",
       "0     Animation|Children's|Comedy  \n",
       "1948   Children's|Fantasy|Musical  \n",
       "2184        Action|Comedy|Fantasy  \n",
       "2411                        Drama  \n",
       "3017                       Comedy  \n",
       "3045  Animation|Children's|Comedy  "
      ]
     },
     "execution_count": 22,
     "metadata": {},
     "output_type": "execute_result"
    }
   ],
   "source": [
    "movies[movies['title'].str.contains('toy')]"
   ]
  },
  {
   "cell_type": "code",
   "execution_count": 23,
   "id": "2967565f",
   "metadata": {},
   "outputs": [
    {
     "data": {
      "text/html": [
       "<div>\n",
       "<style scoped>\n",
       "    .dataframe tbody tr th:only-of-type {\n",
       "        vertical-align: middle;\n",
       "    }\n",
       "\n",
       "    .dataframe tbody tr th {\n",
       "        vertical-align: top;\n",
       "    }\n",
       "\n",
       "    .dataframe thead th {\n",
       "        text-align: right;\n",
       "    }\n",
       "</style>\n",
       "<table border=\"1\" class=\"dataframe\">\n",
       "  <thead>\n",
       "    <tr style=\"text-align: right;\">\n",
       "      <th></th>\n",
       "      <th>movie_id</th>\n",
       "      <th>title</th>\n",
       "      <th>genre</th>\n",
       "    </tr>\n",
       "  </thead>\n",
       "  <tbody>\n",
       "    <tr>\n",
       "      <th>1526</th>\n",
       "      <td>1566</td>\n",
       "      <td>hercules (1997)</td>\n",
       "      <td>Adventure|Animation|Children's|Comedy|Musical</td>\n",
       "    </tr>\n",
       "  </tbody>\n",
       "</table>\n",
       "</div>"
      ],
      "text/plain": [
       "      movie_id            title                                          genre\n",
       "1526      1566  hercules (1997)  Adventure|Animation|Children's|Comedy|Musical"
      ]
     },
     "execution_count": 23,
     "metadata": {},
     "output_type": "execute_result"
    }
   ],
   "source": [
    "movies[movies['title'].str.contains('hercules')]"
   ]
  },
  {
   "cell_type": "code",
   "execution_count": 24,
   "id": "7ddd7dbf",
   "metadata": {},
   "outputs": [
    {
     "data": {
      "text/html": [
       "<div>\n",
       "<style scoped>\n",
       "    .dataframe tbody tr th:only-of-type {\n",
       "        vertical-align: middle;\n",
       "    }\n",
       "\n",
       "    .dataframe tbody tr th {\n",
       "        vertical-align: top;\n",
       "    }\n",
       "\n",
       "    .dataframe thead th {\n",
       "        text-align: right;\n",
       "    }\n",
       "</style>\n",
       "<table border=\"1\" class=\"dataframe\">\n",
       "  <thead>\n",
       "    <tr style=\"text-align: right;\">\n",
       "      <th></th>\n",
       "      <th>movie_id</th>\n",
       "      <th>title</th>\n",
       "      <th>genre</th>\n",
       "    </tr>\n",
       "  </thead>\n",
       "  <tbody>\n",
       "    <tr>\n",
       "      <th>1980</th>\n",
       "      <td>2049</td>\n",
       "      <td>happiest millionaire, the (1967)</td>\n",
       "      <td>Comedy|Musical</td>\n",
       "    </tr>\n",
       "  </tbody>\n",
       "</table>\n",
       "</div>"
      ],
      "text/plain": [
       "      movie_id                             title           genre\n",
       "1980      2049  happiest millionaire, the (1967)  Comedy|Musical"
      ]
     },
     "execution_count": 24,
     "metadata": {},
     "output_type": "execute_result"
    }
   ],
   "source": [
    "movies[movies['title'].str.contains('million')]"
   ]
  },
  {
   "cell_type": "markdown",
   "id": "31d23635",
   "metadata": {},
   "source": [
    "- 'Million Dollar Baby'를 넣고 싶었지만 기존 항목에 없어서 추가할 예정"
   ]
  },
  {
   "cell_type": "markdown",
   "id": "a7978955",
   "metadata": {},
   "source": [
    "### 2. 좋아하는 영화를 데이터프레임에 추가하기"
   ]
  },
  {
   "cell_type": "code",
   "execution_count": 25,
   "id": "d67b1de0",
   "metadata": {},
   "outputs": [
    {
     "data": {
      "text/html": [
       "<div>\n",
       "<style scoped>\n",
       "    .dataframe tbody tr th:only-of-type {\n",
       "        vertical-align: middle;\n",
       "    }\n",
       "\n",
       "    .dataframe tbody tr th {\n",
       "        vertical-align: top;\n",
       "    }\n",
       "\n",
       "    .dataframe thead th {\n",
       "        text-align: right;\n",
       "    }\n",
       "</style>\n",
       "<table border=\"1\" class=\"dataframe\">\n",
       "  <thead>\n",
       "    <tr style=\"text-align: right;\">\n",
       "      <th></th>\n",
       "      <th>user_id</th>\n",
       "      <th>movie_id</th>\n",
       "      <th>counts</th>\n",
       "      <th>title</th>\n",
       "      <th>genre</th>\n",
       "    </tr>\n",
       "  </thead>\n",
       "  <tbody>\n",
       "    <tr>\n",
       "      <th>836473</th>\n",
       "      <td>6040</td>\n",
       "      <td>1090.0</td>\n",
       "      <td>3</td>\n",
       "      <td>platoon (1986)</td>\n",
       "      <td>Drama|War</td>\n",
       "    </tr>\n",
       "    <tr>\n",
       "      <th>836474</th>\n",
       "      <td>6040</td>\n",
       "      <td>1094.0</td>\n",
       "      <td>5</td>\n",
       "      <td>crying game, the (1992)</td>\n",
       "      <td>Drama|Romance|War</td>\n",
       "    </tr>\n",
       "    <tr>\n",
       "      <th>836475</th>\n",
       "      <td>6040</td>\n",
       "      <td>562.0</td>\n",
       "      <td>5</td>\n",
       "      <td>welcome to the dollhouse (1995)</td>\n",
       "      <td>Comedy|Drama</td>\n",
       "    </tr>\n",
       "    <tr>\n",
       "      <th>836476</th>\n",
       "      <td>6040</td>\n",
       "      <td>1096.0</td>\n",
       "      <td>4</td>\n",
       "      <td>sophie's choice (1982)</td>\n",
       "      <td>Drama</td>\n",
       "    </tr>\n",
       "    <tr>\n",
       "      <th>836477</th>\n",
       "      <td>6040</td>\n",
       "      <td>1097.0</td>\n",
       "      <td>4</td>\n",
       "      <td>e.t. the extra-terrestrial (1982)</td>\n",
       "      <td>Children's|Drama|Fantasy|Sci-Fi</td>\n",
       "    </tr>\n",
       "    <tr>\n",
       "      <th>0</th>\n",
       "      <td>ktw</td>\n",
       "      <td>NaN</td>\n",
       "      <td>5</td>\n",
       "      <td>lion king, the (1994)</td>\n",
       "      <td>NaN</td>\n",
       "    </tr>\n",
       "    <tr>\n",
       "      <th>1</th>\n",
       "      <td>ktw</td>\n",
       "      <td>NaN</td>\n",
       "      <td>5</td>\n",
       "      <td>matrix, the (1999)</td>\n",
       "      <td>NaN</td>\n",
       "    </tr>\n",
       "    <tr>\n",
       "      <th>2</th>\n",
       "      <td>ktw</td>\n",
       "      <td>NaN</td>\n",
       "      <td>5</td>\n",
       "      <td>toy story (1995)</td>\n",
       "      <td>NaN</td>\n",
       "    </tr>\n",
       "    <tr>\n",
       "      <th>3</th>\n",
       "      <td>ktw</td>\n",
       "      <td>NaN</td>\n",
       "      <td>5</td>\n",
       "      <td>hercules (1997)</td>\n",
       "      <td>NaN</td>\n",
       "    </tr>\n",
       "    <tr>\n",
       "      <th>4</th>\n",
       "      <td>ktw</td>\n",
       "      <td>NaN</td>\n",
       "      <td>5</td>\n",
       "      <td>million dollar baby</td>\n",
       "      <td>NaN</td>\n",
       "    </tr>\n",
       "  </tbody>\n",
       "</table>\n",
       "</div>"
      ],
      "text/plain": [
       "       user_id  movie_id  counts                              title  \\\n",
       "836473    6040    1090.0       3                     platoon (1986)   \n",
       "836474    6040    1094.0       5            crying game, the (1992)   \n",
       "836475    6040     562.0       5    welcome to the dollhouse (1995)   \n",
       "836476    6040    1096.0       4             sophie's choice (1982)   \n",
       "836477    6040    1097.0       4  e.t. the extra-terrestrial (1982)   \n",
       "0          ktw       NaN       5              lion king, the (1994)   \n",
       "1          ktw       NaN       5                 matrix, the (1999)   \n",
       "2          ktw       NaN       5                   toy story (1995)   \n",
       "3          ktw       NaN       5                    hercules (1997)   \n",
       "4          ktw       NaN       5                million dollar baby   \n",
       "\n",
       "                                  genre  \n",
       "836473                        Drama|War  \n",
       "836474                Drama|Romance|War  \n",
       "836475                     Comedy|Drama  \n",
       "836476                            Drama  \n",
       "836477  Children's|Drama|Fantasy|Sci-Fi  \n",
       "0                                   NaN  \n",
       "1                                   NaN  \n",
       "2                                   NaN  \n",
       "3                                   NaN  \n",
       "4                                   NaN  "
      ]
     },
     "execution_count": 25,
     "metadata": {},
     "output_type": "execute_result"
    }
   ],
   "source": [
    "my_favorite = ['lion king, the (1994)' , 'matrix, the (1999)' ,'toy story (1995)' ,'hercules (1997)', 'million dollar baby']\n",
    "\n",
    "# 'ktw'이라는 user_id가 위 영화를 5회씩 봤다고 가정하겠습니다.\n",
    "my_playlist = pd.DataFrame({'user_id': ['ktw']*5, 'title': my_favorite, 'counts':[5]*5})\n",
    "\n",
    "if not df.isin({'user_id':['ktw']})['user_id'].any():  # user_id에 'zimin'이라는 데이터가 없다면\n",
    "    df = df.append(my_playlist)                           # 위에 임의로 만든 my_favorite 데이터를 추가해 줍니다. \n",
    "\n",
    "df.tail(10)       # 잘 추가되었는지 확인해 봅시다."
   ]
  },
  {
   "cell_type": "markdown",
   "id": "91973664",
   "metadata": {},
   "source": [
    "### 3. movies에 'million dollar baby' 정보 추가하기\n",
    "- 'million dollar baby'는 원래 데이터에 없던 영화임\n",
    "- 결측치에 대한 내용을 추가할 예정"
   ]
  },
  {
   "cell_type": "code",
   "execution_count": 26,
   "id": "7c45718a",
   "metadata": {},
   "outputs": [
    {
     "data": {
      "text/html": [
       "<div>\n",
       "<style scoped>\n",
       "    .dataframe tbody tr th:only-of-type {\n",
       "        vertical-align: middle;\n",
       "    }\n",
       "\n",
       "    .dataframe tbody tr th {\n",
       "        vertical-align: top;\n",
       "    }\n",
       "\n",
       "    .dataframe thead th {\n",
       "        text-align: right;\n",
       "    }\n",
       "</style>\n",
       "<table border=\"1\" class=\"dataframe\">\n",
       "  <thead>\n",
       "    <tr style=\"text-align: right;\">\n",
       "      <th></th>\n",
       "      <th>movie_id</th>\n",
       "      <th>title</th>\n",
       "      <th>genre</th>\n",
       "    </tr>\n",
       "  </thead>\n",
       "  <tbody>\n",
       "    <tr>\n",
       "      <th>3878</th>\n",
       "      <td>3948</td>\n",
       "      <td>meet the parents (2000)</td>\n",
       "      <td>Comedy</td>\n",
       "    </tr>\n",
       "    <tr>\n",
       "      <th>3879</th>\n",
       "      <td>3949</td>\n",
       "      <td>requiem for a dream (2000)</td>\n",
       "      <td>Drama</td>\n",
       "    </tr>\n",
       "    <tr>\n",
       "      <th>3880</th>\n",
       "      <td>3950</td>\n",
       "      <td>tigerland (2000)</td>\n",
       "      <td>Drama</td>\n",
       "    </tr>\n",
       "    <tr>\n",
       "      <th>3881</th>\n",
       "      <td>3951</td>\n",
       "      <td>two family house (2000)</td>\n",
       "      <td>Drama</td>\n",
       "    </tr>\n",
       "    <tr>\n",
       "      <th>3882</th>\n",
       "      <td>3952</td>\n",
       "      <td>contender, the (2000)</td>\n",
       "      <td>Drama|Thriller</td>\n",
       "    </tr>\n",
       "  </tbody>\n",
       "</table>\n",
       "</div>"
      ],
      "text/plain": [
       "      movie_id                       title           genre\n",
       "3878      3948     meet the parents (2000)          Comedy\n",
       "3879      3949  requiem for a dream (2000)           Drama\n",
       "3880      3950            tigerland (2000)           Drama\n",
       "3881      3951     two family house (2000)           Drama\n",
       "3882      3952       contender, the (2000)  Drama|Thriller"
      ]
     },
     "execution_count": 26,
     "metadata": {},
     "output_type": "execute_result"
    }
   ],
   "source": [
    "movies.tail()"
   ]
  },
  {
   "cell_type": "code",
   "execution_count": 27,
   "id": "4126c2df",
   "metadata": {},
   "outputs": [
    {
     "data": {
      "text/plain": [
       "3952"
      ]
     },
     "execution_count": 27,
     "metadata": {},
     "output_type": "execute_result"
    }
   ],
   "source": [
    "movies['movie_id'].max()"
   ]
  },
  {
   "cell_type": "markdown",
   "id": "091b64f9",
   "metadata": {},
   "source": [
    "- moives의 가장 큰 movie_id는 3,952임\n",
    "- 'million dollar baby'를 movie_id는 3,953으로 지정하려고 함"
   ]
  },
  {
   "cell_type": "code",
   "execution_count": 28,
   "id": "5e439681",
   "metadata": {},
   "outputs": [
    {
     "data": {
      "text/html": [
       "<div>\n",
       "<style scoped>\n",
       "    .dataframe tbody tr th:only-of-type {\n",
       "        vertical-align: middle;\n",
       "    }\n",
       "\n",
       "    .dataframe tbody tr th {\n",
       "        vertical-align: top;\n",
       "    }\n",
       "\n",
       "    .dataframe thead th {\n",
       "        text-align: right;\n",
       "    }\n",
       "</style>\n",
       "<table border=\"1\" class=\"dataframe\">\n",
       "  <thead>\n",
       "    <tr style=\"text-align: right;\">\n",
       "      <th></th>\n",
       "      <th>movie_id</th>\n",
       "      <th>title</th>\n",
       "      <th>genre</th>\n",
       "    </tr>\n",
       "  </thead>\n",
       "  <tbody>\n",
       "  </tbody>\n",
       "</table>\n",
       "</div>"
      ],
      "text/plain": [
       "Empty DataFrame\n",
       "Columns: [movie_id, title, genre]\n",
       "Index: []"
      ]
     },
     "execution_count": 28,
     "metadata": {},
     "output_type": "execute_result"
    }
   ],
   "source": [
    "movies[movies['movie_id'] == 3953]"
   ]
  },
  {
   "cell_type": "markdown",
   "id": "5e37de53",
   "metadata": {},
   "source": [
    "- 현재 movie_id는 3,953인 영화는 없음"
   ]
  },
  {
   "cell_type": "code",
   "execution_count": 29,
   "id": "3804e06f",
   "metadata": {},
   "outputs": [],
   "source": [
    "million_dollar = {'movie_id':3953, 'title':'million dollar baby', 'genre':'Drama'}"
   ]
  },
  {
   "cell_type": "code",
   "execution_count": 30,
   "id": "a183630b",
   "metadata": {},
   "outputs": [],
   "source": [
    "movies = movies.append(million_dollar, ignore_index=True)"
   ]
  },
  {
   "cell_type": "code",
   "execution_count": 31,
   "id": "1455a1cf",
   "metadata": {},
   "outputs": [
    {
     "data": {
      "text/html": [
       "<div>\n",
       "<style scoped>\n",
       "    .dataframe tbody tr th:only-of-type {\n",
       "        vertical-align: middle;\n",
       "    }\n",
       "\n",
       "    .dataframe tbody tr th {\n",
       "        vertical-align: top;\n",
       "    }\n",
       "\n",
       "    .dataframe thead th {\n",
       "        text-align: right;\n",
       "    }\n",
       "</style>\n",
       "<table border=\"1\" class=\"dataframe\">\n",
       "  <thead>\n",
       "    <tr style=\"text-align: right;\">\n",
       "      <th></th>\n",
       "      <th>movie_id</th>\n",
       "      <th>title</th>\n",
       "      <th>genre</th>\n",
       "    </tr>\n",
       "  </thead>\n",
       "  <tbody>\n",
       "    <tr>\n",
       "      <th>3879</th>\n",
       "      <td>3949</td>\n",
       "      <td>requiem for a dream (2000)</td>\n",
       "      <td>Drama</td>\n",
       "    </tr>\n",
       "    <tr>\n",
       "      <th>3880</th>\n",
       "      <td>3950</td>\n",
       "      <td>tigerland (2000)</td>\n",
       "      <td>Drama</td>\n",
       "    </tr>\n",
       "    <tr>\n",
       "      <th>3881</th>\n",
       "      <td>3951</td>\n",
       "      <td>two family house (2000)</td>\n",
       "      <td>Drama</td>\n",
       "    </tr>\n",
       "    <tr>\n",
       "      <th>3882</th>\n",
       "      <td>3952</td>\n",
       "      <td>contender, the (2000)</td>\n",
       "      <td>Drama|Thriller</td>\n",
       "    </tr>\n",
       "    <tr>\n",
       "      <th>3883</th>\n",
       "      <td>3953</td>\n",
       "      <td>million dollar baby</td>\n",
       "      <td>Drama</td>\n",
       "    </tr>\n",
       "  </tbody>\n",
       "</table>\n",
       "</div>"
      ],
      "text/plain": [
       "      movie_id                       title           genre\n",
       "3879      3949  requiem for a dream (2000)           Drama\n",
       "3880      3950            tigerland (2000)           Drama\n",
       "3881      3951     two family house (2000)           Drama\n",
       "3882      3952       contender, the (2000)  Drama|Thriller\n",
       "3883      3953         million dollar baby           Drama"
      ]
     },
     "execution_count": 31,
     "metadata": {},
     "output_type": "execute_result"
    }
   ],
   "source": [
    "movies.tail()"
   ]
  },
  {
   "cell_type": "markdown",
   "id": "fc721658",
   "metadata": {},
   "source": [
    "- 'million dollar baby'를 movies에 추가함"
   ]
  },
  {
   "cell_type": "markdown",
   "id": "2b5f5e94",
   "metadata": {},
   "source": [
    "### 4. 결측치에 대한 정보 넣기"
   ]
  },
  {
   "cell_type": "code",
   "execution_count": 32,
   "id": "9b17ebc6",
   "metadata": {},
   "outputs": [
    {
     "data": {
      "text/plain": [
       "0   NaN\n",
       "Name: movie_id, dtype: float64"
      ]
     },
     "execution_count": 32,
     "metadata": {},
     "output_type": "execute_result"
    }
   ],
   "source": [
    "df[(df['user_id'] == 'ktw') & (df['title'] == 'lion king, the (1994)')]['movie_id']"
   ]
  },
  {
   "cell_type": "code",
   "execution_count": 33,
   "id": "927612da",
   "metadata": {},
   "outputs": [
    {
     "data": {
      "text/plain": [
       "360    364\n",
       "Name: movie_id, dtype: int64"
      ]
     },
     "execution_count": 33,
     "metadata": {},
     "output_type": "execute_result"
    }
   ],
   "source": [
    "movies.loc[movies['title'] == 'lion king, the (1994)', 'movie_id']"
   ]
  },
  {
   "cell_type": "code",
   "execution_count": 34,
   "id": "4ba08c4e",
   "metadata": {},
   "outputs": [
    {
     "data": {
      "text/plain": [
       "array([364])"
      ]
     },
     "execution_count": 34,
     "metadata": {},
     "output_type": "execute_result"
    }
   ],
   "source": [
    "movies.loc[movies['title'] == 'lion king, the (1994)', 'movie_id'].values"
   ]
  },
  {
   "cell_type": "markdown",
   "id": "02effff0",
   "metadata": {},
   "source": [
    "- .values 로 해당 값만 가져옴"
   ]
  },
  {
   "cell_type": "code",
   "execution_count": 35,
   "id": "ef69b8ef",
   "metadata": {},
   "outputs": [],
   "source": [
    "df.loc[(df['user_id'] == 'ktw') & (df['title'] == 'lion king, the (1994)'), 'movie_id'] = movies.loc[movies['title'] == 'lion king, the (1994)', 'movie_id'].values"
   ]
  },
  {
   "cell_type": "code",
   "execution_count": 36,
   "id": "ccb2bcb2",
   "metadata": {},
   "outputs": [
    {
     "data": {
      "text/plain": [
       "0    364.0\n",
       "Name: movie_id, dtype: float64"
      ]
     },
     "execution_count": 36,
     "metadata": {},
     "output_type": "execute_result"
    }
   ],
   "source": [
    "df[(df['user_id'] == 'ktw') & (df['title'] == 'lion king, the (1994)')]['movie_id']"
   ]
  },
  {
   "cell_type": "markdown",
   "id": "4641dc99",
   "metadata": {},
   "source": [
    "- 시험삼아 'lion king'에 대한 'moive_id' 추가\n",
    "- 잘 추가된 것을 확인함"
   ]
  },
  {
   "cell_type": "code",
   "execution_count": 37,
   "id": "fd29dd94",
   "metadata": {},
   "outputs": [],
   "source": [
    "temp_lst = ['matrix, the (1999)', 'toy story (1995)', 'hercules (1997)', 'million dollar baby']"
   ]
  },
  {
   "cell_type": "code",
   "execution_count": 38,
   "id": "89a1a64f",
   "metadata": {},
   "outputs": [],
   "source": [
    "for i in temp_lst:\n",
    "    df.loc[(df['user_id'] == 'ktw') & (df['title'] == i), 'movie_id'] = movies.loc[movies['title'] == i, 'movie_id'].values"
   ]
  },
  {
   "cell_type": "code",
   "execution_count": 39,
   "id": "bcf15b5d",
   "metadata": {},
   "outputs": [
    {
     "data": {
      "text/html": [
       "<div>\n",
       "<style scoped>\n",
       "    .dataframe tbody tr th:only-of-type {\n",
       "        vertical-align: middle;\n",
       "    }\n",
       "\n",
       "    .dataframe tbody tr th {\n",
       "        vertical-align: top;\n",
       "    }\n",
       "\n",
       "    .dataframe thead th {\n",
       "        text-align: right;\n",
       "    }\n",
       "</style>\n",
       "<table border=\"1\" class=\"dataframe\">\n",
       "  <thead>\n",
       "    <tr style=\"text-align: right;\">\n",
       "      <th></th>\n",
       "      <th>user_id</th>\n",
       "      <th>movie_id</th>\n",
       "      <th>counts</th>\n",
       "      <th>title</th>\n",
       "      <th>genre</th>\n",
       "    </tr>\n",
       "  </thead>\n",
       "  <tbody>\n",
       "    <tr>\n",
       "      <th>836473</th>\n",
       "      <td>6040</td>\n",
       "      <td>1090.0</td>\n",
       "      <td>3</td>\n",
       "      <td>platoon (1986)</td>\n",
       "      <td>Drama|War</td>\n",
       "    </tr>\n",
       "    <tr>\n",
       "      <th>836474</th>\n",
       "      <td>6040</td>\n",
       "      <td>1094.0</td>\n",
       "      <td>5</td>\n",
       "      <td>crying game, the (1992)</td>\n",
       "      <td>Drama|Romance|War</td>\n",
       "    </tr>\n",
       "    <tr>\n",
       "      <th>836475</th>\n",
       "      <td>6040</td>\n",
       "      <td>562.0</td>\n",
       "      <td>5</td>\n",
       "      <td>welcome to the dollhouse (1995)</td>\n",
       "      <td>Comedy|Drama</td>\n",
       "    </tr>\n",
       "    <tr>\n",
       "      <th>836476</th>\n",
       "      <td>6040</td>\n",
       "      <td>1096.0</td>\n",
       "      <td>4</td>\n",
       "      <td>sophie's choice (1982)</td>\n",
       "      <td>Drama</td>\n",
       "    </tr>\n",
       "    <tr>\n",
       "      <th>836477</th>\n",
       "      <td>6040</td>\n",
       "      <td>1097.0</td>\n",
       "      <td>4</td>\n",
       "      <td>e.t. the extra-terrestrial (1982)</td>\n",
       "      <td>Children's|Drama|Fantasy|Sci-Fi</td>\n",
       "    </tr>\n",
       "    <tr>\n",
       "      <th>0</th>\n",
       "      <td>ktw</td>\n",
       "      <td>364.0</td>\n",
       "      <td>5</td>\n",
       "      <td>lion king, the (1994)</td>\n",
       "      <td>NaN</td>\n",
       "    </tr>\n",
       "    <tr>\n",
       "      <th>1</th>\n",
       "      <td>ktw</td>\n",
       "      <td>2571.0</td>\n",
       "      <td>5</td>\n",
       "      <td>matrix, the (1999)</td>\n",
       "      <td>NaN</td>\n",
       "    </tr>\n",
       "    <tr>\n",
       "      <th>2</th>\n",
       "      <td>ktw</td>\n",
       "      <td>1.0</td>\n",
       "      <td>5</td>\n",
       "      <td>toy story (1995)</td>\n",
       "      <td>NaN</td>\n",
       "    </tr>\n",
       "    <tr>\n",
       "      <th>3</th>\n",
       "      <td>ktw</td>\n",
       "      <td>1566.0</td>\n",
       "      <td>5</td>\n",
       "      <td>hercules (1997)</td>\n",
       "      <td>NaN</td>\n",
       "    </tr>\n",
       "    <tr>\n",
       "      <th>4</th>\n",
       "      <td>ktw</td>\n",
       "      <td>3953.0</td>\n",
       "      <td>5</td>\n",
       "      <td>million dollar baby</td>\n",
       "      <td>NaN</td>\n",
       "    </tr>\n",
       "  </tbody>\n",
       "</table>\n",
       "</div>"
      ],
      "text/plain": [
       "       user_id  movie_id  counts                              title  \\\n",
       "836473    6040    1090.0       3                     platoon (1986)   \n",
       "836474    6040    1094.0       5            crying game, the (1992)   \n",
       "836475    6040     562.0       5    welcome to the dollhouse (1995)   \n",
       "836476    6040    1096.0       4             sophie's choice (1982)   \n",
       "836477    6040    1097.0       4  e.t. the extra-terrestrial (1982)   \n",
       "0          ktw     364.0       5              lion king, the (1994)   \n",
       "1          ktw    2571.0       5                 matrix, the (1999)   \n",
       "2          ktw       1.0       5                   toy story (1995)   \n",
       "3          ktw    1566.0       5                    hercules (1997)   \n",
       "4          ktw    3953.0       5                million dollar baby   \n",
       "\n",
       "                                  genre  \n",
       "836473                        Drama|War  \n",
       "836474                Drama|Romance|War  \n",
       "836475                     Comedy|Drama  \n",
       "836476                            Drama  \n",
       "836477  Children's|Drama|Fantasy|Sci-Fi  \n",
       "0                                   NaN  \n",
       "1                                   NaN  \n",
       "2                                   NaN  \n",
       "3                                   NaN  \n",
       "4                                   NaN  "
      ]
     },
     "execution_count": 39,
     "metadata": {},
     "output_type": "execute_result"
    }
   ],
   "source": [
    "df.tail(10) "
   ]
  },
  {
   "cell_type": "markdown",
   "id": "9026ee41",
   "metadata": {},
   "source": [
    "### 5. movie_id를 기존 형태인 int로 바꾸기"
   ]
  },
  {
   "cell_type": "code",
   "execution_count": 40,
   "id": "bbab2eee",
   "metadata": {},
   "outputs": [
    {
     "data": {
      "text/html": [
       "<div>\n",
       "<style scoped>\n",
       "    .dataframe tbody tr th:only-of-type {\n",
       "        vertical-align: middle;\n",
       "    }\n",
       "\n",
       "    .dataframe tbody tr th {\n",
       "        vertical-align: top;\n",
       "    }\n",
       "\n",
       "    .dataframe thead th {\n",
       "        text-align: right;\n",
       "    }\n",
       "</style>\n",
       "<table border=\"1\" class=\"dataframe\">\n",
       "  <thead>\n",
       "    <tr style=\"text-align: right;\">\n",
       "      <th></th>\n",
       "      <th>user_id</th>\n",
       "      <th>movie_id</th>\n",
       "      <th>counts</th>\n",
       "      <th>title</th>\n",
       "      <th>genre</th>\n",
       "    </tr>\n",
       "  </thead>\n",
       "  <tbody>\n",
       "    <tr>\n",
       "      <th>0</th>\n",
       "      <td>ktw</td>\n",
       "      <td>364</td>\n",
       "      <td>5</td>\n",
       "      <td>lion king, the (1994)</td>\n",
       "      <td>NaN</td>\n",
       "    </tr>\n",
       "    <tr>\n",
       "      <th>1</th>\n",
       "      <td>ktw</td>\n",
       "      <td>2571</td>\n",
       "      <td>5</td>\n",
       "      <td>matrix, the (1999)</td>\n",
       "      <td>NaN</td>\n",
       "    </tr>\n",
       "    <tr>\n",
       "      <th>2</th>\n",
       "      <td>ktw</td>\n",
       "      <td>1</td>\n",
       "      <td>5</td>\n",
       "      <td>toy story (1995)</td>\n",
       "      <td>NaN</td>\n",
       "    </tr>\n",
       "    <tr>\n",
       "      <th>3</th>\n",
       "      <td>ktw</td>\n",
       "      <td>1566</td>\n",
       "      <td>5</td>\n",
       "      <td>hercules (1997)</td>\n",
       "      <td>NaN</td>\n",
       "    </tr>\n",
       "    <tr>\n",
       "      <th>4</th>\n",
       "      <td>ktw</td>\n",
       "      <td>3953</td>\n",
       "      <td>5</td>\n",
       "      <td>million dollar baby</td>\n",
       "      <td>NaN</td>\n",
       "    </tr>\n",
       "  </tbody>\n",
       "</table>\n",
       "</div>"
      ],
      "text/plain": [
       "  user_id  movie_id  counts                  title genre\n",
       "0     ktw       364       5  lion king, the (1994)   NaN\n",
       "1     ktw      2571       5     matrix, the (1999)   NaN\n",
       "2     ktw         1       5       toy story (1995)   NaN\n",
       "3     ktw      1566       5        hercules (1997)   NaN\n",
       "4     ktw      3953       5    million dollar baby   NaN"
      ]
     },
     "execution_count": 40,
     "metadata": {},
     "output_type": "execute_result"
    }
   ],
   "source": [
    "df['movie_id'] = df['movie_id'].astype(int)\n",
    "df.tail()"
   ]
  },
  {
   "cell_type": "code",
   "execution_count": null,
   "id": "bdf64b1a",
   "metadata": {},
   "outputs": [],
   "source": []
  },
  {
   "cell_type": "code",
   "execution_count": null,
   "id": "2a5495b1",
   "metadata": {},
   "outputs": [],
   "source": []
  },
  {
   "cell_type": "markdown",
   "id": "2c360dc9",
   "metadata": {},
   "source": [
    "##  CSR matrix"
   ]
  },
  {
   "cell_type": "markdown",
   "id": "ab8af255",
   "metadata": {},
   "source": [
    "- Sparse Matrix\n",
    "    - 유저 수 X 영화 수만큼 행렬 계산을 했을 때\n",
    "        - 유저가 보지 않은 영화에 대한 정보까지 모두 행렬에 포함되어 계산\n",
    "        - 평가행렬 내에는 유저가 안 본 영화가 대부분이기 때문에 0으로 채워진 공간이 많아짐\n",
    "    - 메모리 낭비가 심함"
   ]
  },
  {
   "cell_type": "markdown",
   "id": "de9f7fab",
   "metadata": {},
   "source": [
    "- CSR Matrix\n",
    "    - Sparse matrix에서 0이 아닌 유효한 데이터로 채워지는 데이터의 값과 좌표 정보만으로 구성\n",
    "    - 메모리 사용량을 최소화\n",
    "    - Sparse matrix와 동일한 행렬을 표현할 수 있도록 하는 데이터 구조\n",
    "    - data, indices, indptr 로 행렬을 압축하여 표현"
   ]
  },
  {
   "attachments": {
    "image.png": {
     "image/png": "[encoded data removed]"
    }
   },
   "cell_type": "markdown",
   "id": "18178532",
   "metadata": {},
   "source": [
    "![image.png](attachment:image.png)"
   ]
  },
  {
   "cell_type": "markdown",
   "id": "4c509ec8",
   "metadata": {},
   "source": [
    "- data : 0이 아닌 원소를 차례로 기입한 값\n",
    "    - data = [1, 2, 3, 4, 5, 6]\n",
    "<br><br>\n",
    "- indices : data의 각 요소가 어느 열(column)에 있는지를 표현한 index\n",
    "    - indices = [0, 4, 1, 3, 0, 3]\n",
    "    - 첫 번째 열에서의 data index : 0, 4\n",
    "    - 두 번째 열에서의 data index : 1, 3\n",
    "<br><br>\n",
    "- indptr : 각 행(row)에서 0이 아닌 첫 번째 원소가 data 리스트에서의 몇 번째에 해당하는지와 마지막에 data 벡터의 길이를 추가한 값\n",
    "    - indptr = [0, 2, 4, 4, 6]\n",
    "    - 0 : 첫번째 행의 첫번째 0이 아닌 값의 전체 데이터에서의 인덱스\n",
    "    - 2 : 두번재 행의 첫번째 0이 아닌 값의 전체 데이터에서의 인덱스\n",
    "    - 6 : 0이 아닌 데이터의 갯수\n",
    "<br><br>\n",
    "- data[0:2]는 첫 번째 행, data[2:4]는 두 번째 행, data[4:4]는 세 번째 행, data[4:6]는 네 번째 행에 위치함을 나타낼 수 있음"
   ]
  },
  {
   "cell_type": "markdown",
   "id": "c955e1a7",
   "metadata": {},
   "source": [
    "### 1. indexing\n",
    "- 새로 추가한 user_id인 'ktw'는 문자열이므로 정수형으로 변환 필요\n",
    "- 관리하기 편하도록 정수로 변환 필요\n",
    "- user_id와 title을 인덱싱할 예정"
   ]
  },
  {
   "cell_type": "code",
   "execution_count": 41,
   "id": "58db08ff",
   "metadata": {},
   "outputs": [],
   "source": [
    "# 고유한 유저, 영화를 찾아내는 코드\n",
    "user_unique = df['user_id'].unique()\n",
    "moive_unique = df['title'].unique()\n",
    "\n",
    "# 유저, 영화 indexing 하는 코드 idx는 index의 약자입니다.\n",
    "user_to_idx = {v:k for k,v in enumerate(user_unique)}\n",
    "movie_to_idx = {v:k for k,v in enumerate(moive_unique)}"
   ]
  },
  {
   "cell_type": "code",
   "execution_count": 42,
   "id": "103e7e92",
   "metadata": {},
   "outputs": [
    {
     "name": "stdout",
     "output_type": "stream",
     "text": [
      "6039\n"
     ]
    }
   ],
   "source": [
    "print(user_to_idx['ktw']) "
   ]
  },
  {
   "cell_type": "code",
   "execution_count": 43,
   "id": "63f142ec",
   "metadata": {},
   "outputs": [
    {
     "name": "stdout",
     "output_type": "stream",
     "text": [
      "user_id column indexing OK!!\n",
      "title column indexing OK!!\n"
     ]
    }
   ],
   "source": [
    "# indexing을 통해 데이터 컬럼 내 값을 바꾸는 코드\n",
    "# dictionary 자료형의 get 함수는 https://wikidocs.net/16 을 참고하세요.\n",
    "\n",
    "# user_to_idx.get을 통해 user_id 컬럼의 모든 값을 인덱싱한 Series를 구해 봅시다. \n",
    "# 혹시 정상적으로 인덱싱되지 않은 row가 있다면 인덱스가 NaN이 될 테니 dropna()로 제거합니다. \n",
    "temp_user_data = df['user_id'].map(user_to_idx.get).dropna()\n",
    "if len(temp_user_data) == len(df):   # 모든 row가 정상적으로 인덱싱되었다면\n",
    "    print('user_id column indexing OK!!')\n",
    "    df['user_id'] = temp_user_data   # data['user_id']을 인덱싱된 Series로 교체해 줍니다. \n",
    "else:\n",
    "    print('user_id column indexing Fail!!')\n",
    "\n",
    "# movie_to_idx을 통해 title 컬럼도 동일한 방식으로 인덱싱해 줍니다. \n",
    "temp_movie_data = df['title'].map(movie_to_idx.get).dropna()\n",
    "if len(temp_movie_data) == len(df):\n",
    "    print('title column indexing OK!!')\n",
    "    df['title'] = temp_movie_data\n",
    "else:\n",
    "    print('title column indexing Fail!!')"
   ]
  },
  {
   "cell_type": "code",
   "execution_count": 44,
   "id": "6fd0b47e",
   "metadata": {},
   "outputs": [
    {
     "data": {
      "text/html": [
       "<div>\n",
       "<style scoped>\n",
       "    .dataframe tbody tr th:only-of-type {\n",
       "        vertical-align: middle;\n",
       "    }\n",
       "\n",
       "    .dataframe tbody tr th {\n",
       "        vertical-align: top;\n",
       "    }\n",
       "\n",
       "    .dataframe thead th {\n",
       "        text-align: right;\n",
       "    }\n",
       "</style>\n",
       "<table border=\"1\" class=\"dataframe\">\n",
       "  <thead>\n",
       "    <tr style=\"text-align: right;\">\n",
       "      <th></th>\n",
       "      <th>user_id</th>\n",
       "      <th>movie_id</th>\n",
       "      <th>counts</th>\n",
       "      <th>title</th>\n",
       "      <th>genre</th>\n",
       "    </tr>\n",
       "  </thead>\n",
       "  <tbody>\n",
       "    <tr>\n",
       "      <th>0</th>\n",
       "      <td>6039</td>\n",
       "      <td>364</td>\n",
       "      <td>5</td>\n",
       "      <td>330</td>\n",
       "      <td>NaN</td>\n",
       "    </tr>\n",
       "    <tr>\n",
       "      <th>1</th>\n",
       "      <td>6039</td>\n",
       "      <td>2571</td>\n",
       "      <td>5</td>\n",
       "      <td>124</td>\n",
       "      <td>NaN</td>\n",
       "    </tr>\n",
       "    <tr>\n",
       "      <th>2</th>\n",
       "      <td>6039</td>\n",
       "      <td>1</td>\n",
       "      <td>5</td>\n",
       "      <td>40</td>\n",
       "      <td>NaN</td>\n",
       "    </tr>\n",
       "    <tr>\n",
       "      <th>3</th>\n",
       "      <td>6039</td>\n",
       "      <td>1566</td>\n",
       "      <td>5</td>\n",
       "      <td>32</td>\n",
       "      <td>NaN</td>\n",
       "    </tr>\n",
       "    <tr>\n",
       "      <th>4</th>\n",
       "      <td>6039</td>\n",
       "      <td>3953</td>\n",
       "      <td>5</td>\n",
       "      <td>3628</td>\n",
       "      <td>NaN</td>\n",
       "    </tr>\n",
       "  </tbody>\n",
       "</table>\n",
       "</div>"
      ],
      "text/plain": [
       "   user_id  movie_id  counts  title genre\n",
       "0     6039       364       5    330   NaN\n",
       "1     6039      2571       5    124   NaN\n",
       "2     6039         1       5     40   NaN\n",
       "3     6039      1566       5     32   NaN\n",
       "4     6039      3953       5   3628   NaN"
      ]
     },
     "execution_count": 44,
     "metadata": {},
     "output_type": "execute_result"
    }
   ],
   "source": [
    "df.tail()"
   ]
  },
  {
   "cell_type": "markdown",
   "id": "8cc896ad",
   "metadata": {},
   "source": [
    "### 2. CSR matrix 만들기"
   ]
  },
  {
   "cell_type": "code",
   "execution_count": 45,
   "id": "0003b1e6",
   "metadata": {},
   "outputs": [
    {
     "data": {
      "text/plain": [
       "<6040x3629 sparse matrix of type '<class 'numpy.int64'>'\n",
       "\twith 836483 stored elements in Compressed Sparse Row format>"
      ]
     },
     "execution_count": 45,
     "metadata": {},
     "output_type": "execute_result"
    }
   ],
   "source": [
    "from scipy.sparse import csr_matrix\n",
    "\n",
    "num_user = df['user_id'].nunique()\n",
    "num_movie = df['title'].nunique()\n",
    "\n",
    "csr_data = csr_matrix((df.counts, (df.user_id, df.title)), shape= (num_user, num_movie))\n",
    "csr_data"
   ]
  },
  {
   "cell_type": "code",
   "execution_count": null,
   "id": "cb72ff7c",
   "metadata": {},
   "outputs": [],
   "source": []
  },
  {
   "cell_type": "code",
   "execution_count": null,
   "id": "27597d1f",
   "metadata": {},
   "outputs": [],
   "source": []
  },
  {
   "cell_type": "markdown",
   "id": "30c8a022",
   "metadata": {},
   "source": [
    "## AlternatingLeastSquares 모델"
   ]
  },
  {
   "cell_type": "markdown",
   "id": "7b8b30f7",
   "metadata": {},
   "source": [
    "### 1. 모델 선언"
   ]
  },
  {
   "cell_type": "code",
   "execution_count": 46,
   "id": "687f4159",
   "metadata": {},
   "outputs": [],
   "source": [
    "from implicit.als import AlternatingLeastSquares\n",
    "import os\n",
    "import numpy as np\n",
    "\n",
    "# implicit 라이브러리에서 권장하고 있는 부분입니다. 학습 내용과는 무관합니다.\n",
    "os.environ['OPENBLAS_NUM_THREADS']='1'\n",
    "os.environ['KMP_DUPLICATE_LIB_OK']='True'\n",
    "os.environ['MKL_NUM_THREADS']='1'"
   ]
  },
  {
   "cell_type": "code",
   "execution_count": 47,
   "id": "b1fe6fc4",
   "metadata": {},
   "outputs": [],
   "source": [
    "# Implicit AlternatingLeastSquares 모델의 선언\n",
    "als_model = AlternatingLeastSquares(factors=100, regularization=0.01, use_gpu=False, iterations=15, dtype=np.float32)"
   ]
  },
  {
   "cell_type": "markdown",
   "id": "a06bc798",
   "metadata": {},
   "source": [
    "AlternatingLeastSquares 클래스의 __init__ 파라미터를 살펴보겠습니다.\n",
    "\n",
    "- factors : 유저와 아이템의 벡터를 몇 차원으로 할 것인지\n",
    "- regularization : 과적합을 방지하기 위해 정규화 값을 얼마나 사용할 것인지\n",
    "- use_gpu : GPU를 사용할 것인지\n",
    "- iterations : epochs와 같은 의미입니다. 데이터를 몇 번 반복해서 학습할 것인지\n",
    "1과 4를 늘릴수록 학습 데이터를 잘 학습하게 되지만 과적합의 우려가 있으니 좋은 값을 찾아야 합니다."
   ]
  },
  {
   "cell_type": "markdown",
   "id": "0655bc35",
   "metadata": {},
   "source": [
    "### 2. 입력 형태 맞추기"
   ]
  },
  {
   "cell_type": "code",
   "execution_count": 48,
   "id": "44875866",
   "metadata": {},
   "outputs": [
    {
     "data": {
      "text/plain": [
       "<3629x6040 sparse matrix of type '<class 'numpy.int64'>'\n",
       "\twith 836483 stored elements in Compressed Sparse Column format>"
      ]
     },
     "execution_count": 48,
     "metadata": {},
     "output_type": "execute_result"
    }
   ],
   "source": [
    "# als 모델은 input으로 (item X user 꼴의 matrix를 받기 때문에 Transpose해줍니다.)\n",
    "csr_data_transpose = csr_data.T\n",
    "csr_data_transpose"
   ]
  },
  {
   "cell_type": "markdown",
   "id": "54975c4b",
   "metadata": {},
   "source": [
    "### 3. 모델 학습"
   ]
  },
  {
   "cell_type": "code",
   "execution_count": 49,
   "id": "100895b1",
   "metadata": {},
   "outputs": [
    {
     "data": {
      "application/vnd.jupyter.widget-view+json": {
       "model_id": "dece291608454279b39f94218e12d7c6",
       "version_major": 2,
       "version_minor": 0
      },
      "text/plain": [
       "  0%|          | 0/15 [00:00<?, ?it/s]"
      ]
     },
     "metadata": {},
     "output_type": "display_data"
    }
   ],
   "source": [
    "# 모델 훈련\n",
    "als_model.fit(csr_data_transpose)"
   ]
  },
  {
   "cell_type": "code",
   "execution_count": null,
   "id": "84f9cdbc",
   "metadata": {},
   "outputs": [],
   "source": []
  },
  {
   "cell_type": "code",
   "execution_count": null,
   "id": "296ff8d2",
   "metadata": {},
   "outputs": [],
   "source": []
  },
  {
   "cell_type": "markdown",
   "id": "820a275a",
   "metadata": {},
   "source": [
    "## 학습 확인"
   ]
  },
  {
   "cell_type": "markdown",
   "id": "52a83cd2",
   "metadata": {},
   "source": [
    "### 1. 벡터 변환 확인\n",
    "- ktw(user_id)와 million dollar baby(title)의 벡터 변환을 확인할 예정"
   ]
  },
  {
   "cell_type": "code",
   "execution_count": 50,
   "id": "3ad75af9",
   "metadata": {},
   "outputs": [],
   "source": [
    "ktw, million_dollar, lion_king = user_to_idx['ktw'], movie_to_idx['million dollar baby'], movie_to_idx['lion king, the (1994)']\n",
    "ktw_vector, million_dollar_vector, lion_king_vector = als_model.user_factors[ktw], als_model.item_factors[million_dollar], als_model.item_factors[lion_king]"
   ]
  },
  {
   "cell_type": "code",
   "execution_count": 51,
   "id": "a53b9a74",
   "metadata": {},
   "outputs": [
    {
     "data": {
      "text/plain": [
       "array([ 0.33359233,  0.2643448 ,  0.21811873, -0.99354905,  0.87071365,\n",
       "        0.12501141,  0.5532534 , -0.01834329,  0.34193787,  0.04410231,\n",
       "       -0.5924143 ,  0.94037634, -0.2789585 , -0.15194672, -0.23645857,\n",
       "       -0.23301189,  0.33272603,  0.03451527, -0.94368696,  0.8045294 ,\n",
       "       -0.7470223 ,  0.142916  , -0.3093962 , -0.5101821 ,  0.63034385,\n",
       "       -0.17040202,  0.44444436, -0.78429043, -0.13622575,  0.06699647,\n",
       "        0.58611107,  0.43812126,  0.33869976, -0.2673672 , -0.3561182 ,\n",
       "       -0.5145375 , -0.283657  , -0.3772254 , -0.4490324 ,  0.02629614,\n",
       "       -0.27704018, -0.05335082,  0.09340529, -0.32450342,  0.47076994,\n",
       "        0.4293107 ,  0.39500952, -0.8114822 ,  0.33405927,  0.9074672 ,\n",
       "        0.392354  ,  0.07353829, -0.41643086, -0.3673198 , -0.30774114,\n",
       "        0.27212226,  0.16110013,  0.22850645,  0.21239524,  0.07287802,\n",
       "       -0.88868594, -0.78090775, -0.44765988, -0.31383398,  0.5816907 ,\n",
       "       -0.2645656 , -0.49543434,  0.11052037,  0.3126668 ,  0.04147809,\n",
       "        0.08400049, -0.33532754,  0.62848157, -0.99107844,  0.28902996,\n",
       "        0.2595087 , -0.29403314,  0.29922247, -0.03775816,  0.8235905 ,\n",
       "        0.5059744 , -0.763965  ,  0.5337347 ,  0.3824366 , -0.01260068,\n",
       "        0.26252794, -0.6314654 , -0.14080092, -0.16622221, -0.13744177,\n",
       "        0.1462442 ,  0.35849527,  0.8857179 ,  0.0797548 ,  0.1537964 ,\n",
       "        0.300778  ,  0.14858626,  0.11479416, -0.10816772,  0.3126123 ],\n",
       "      dtype=float32)"
      ]
     },
     "execution_count": 51,
     "metadata": {},
     "output_type": "execute_result"
    }
   ],
   "source": [
    "ktw_vector"
   ]
  },
  {
   "cell_type": "code",
   "execution_count": 52,
   "id": "897bfc27",
   "metadata": {},
   "outputs": [
    {
     "data": {
      "text/plain": [
       "array([ 5.06059150e-04,  1.23229134e-03,  5.44828246e-04,  2.10355342e-04,\n",
       "        8.03769915e-04, -2.01600924e-04,  1.14523864e-03,  6.33082411e-04,\n",
       "        3.36829893e-04,  7.56690570e-04,  8.43424757e-04,  5.09394973e-04,\n",
       "        9.59124081e-05,  4.33393434e-04,  7.32950051e-04,  6.15410157e-04,\n",
       "        2.73315760e-04,  6.85599749e-04, -2.32677892e-04,  1.15038338e-03,\n",
       "       -7.45423749e-05,  6.72342256e-04,  2.50890793e-04,  1.66815560e-04,\n",
       "        6.95063558e-04,  9.06780479e-04,  1.00884552e-03, -9.21051978e-05,\n",
       "        3.31726478e-04, -1.56101363e-04,  5.46448166e-04,  2.07721256e-04,\n",
       "        5.21749433e-04,  3.31374002e-04,  3.97564727e-04,  8.58937346e-05,\n",
       "        2.73123180e-04,  1.07674277e-03, -3.21796630e-04,  4.70148894e-04,\n",
       "        1.80025585e-04, -2.38111214e-04,  4.22294630e-04,  6.46916102e-04,\n",
       "        1.22274476e-04,  8.60770873e-04,  1.00426434e-03, -2.12755374e-04,\n",
       "        9.12350137e-04,  1.51892344e-03,  4.35645983e-04,  3.59741825e-04,\n",
       "        1.06864965e-04,  8.74314108e-04,  8.45717557e-04,  3.42524843e-04,\n",
       "        4.82260511e-04,  3.65651649e-04,  9.64760766e-05,  3.46498814e-06,\n",
       "       -2.50450212e-05,  5.55953069e-04,  7.21626799e-04,  5.68986638e-04,\n",
       "        6.32761570e-04,  7.53291824e-04,  3.78006662e-04,  2.87169707e-04,\n",
       "        2.19894631e-04,  5.08655321e-05,  4.78847651e-04,  2.13626990e-04,\n",
       "        5.89417818e-04,  1.78022528e-04,  7.96265842e-04,  6.93491747e-05,\n",
       "       -3.12291668e-05,  2.40379770e-04,  1.84678996e-04,  7.85219367e-04,\n",
       "        3.25664267e-04,  5.40257315e-04, -1.86722566e-04,  5.39085653e-04,\n",
       "        8.44762078e-04,  5.02468669e-04,  2.37379121e-04,  6.46264016e-05,\n",
       "        5.38273074e-04,  8.20781104e-04,  8.41503905e-04,  6.61609985e-04,\n",
       "        3.76458513e-04,  4.06614854e-04,  6.88474276e-04,  4.16534109e-04,\n",
       "        8.38749285e-04,  6.61650090e-04,  7.29975465e-04,  6.89555949e-04],\n",
       "      dtype=float32)"
      ]
     },
     "execution_count": 52,
     "metadata": {},
     "output_type": "execute_result"
    }
   ],
   "source": [
    "million_dollar_vector"
   ]
  },
  {
   "cell_type": "code",
   "execution_count": 53,
   "id": "13c1f13c",
   "metadata": {},
   "outputs": [
    {
     "data": {
      "text/plain": [
       "array([ 0.00991975,  0.00979106, -0.00292   , -0.03459685,  0.01300436,\n",
       "       -0.0005848 , -0.00344969, -0.01585981,  0.01662136, -0.00182652,\n",
       "       -0.02404995,  0.0052463 ,  0.00328473,  0.01629239,  0.02325302,\n",
       "       -0.01089928, -0.00087657, -0.00018104, -0.01934638,  0.02982664,\n",
       "       -0.00755606,  0.01436232, -0.01917235, -0.00311813,  0.03159802,\n",
       "        0.01030385,  0.01625496, -0.02640362,  0.007177  ,  0.03162846,\n",
       "        0.03048793,  0.0177908 ,  0.02143758, -0.02231318, -0.02699241,\n",
       "        0.0108612 , -0.00986888, -0.01431317,  0.00037952,  0.01104288,\n",
       "        0.01248775,  0.00251702,  0.02167098, -0.00776926,  0.01746384,\n",
       "        0.00441572,  0.00680436,  0.00547255,  0.018056  ,  0.03073861,\n",
       "        0.01377911,  0.00983719, -0.00283669,  0.0133808 ,  0.0038506 ,\n",
       "        0.03706323,  0.01255996,  0.00274008,  0.02540595,  0.00133679,\n",
       "       -0.02003265, -0.00844973,  0.01049142,  0.00991563,  0.02186151,\n",
       "        0.00192989, -0.01016915,  0.01282866,  0.0125079 ,  0.00223786,\n",
       "        0.00187836,  0.0013233 ,  0.01951844, -0.04446045,  0.02635978,\n",
       "        0.01490758,  0.02075896,  0.03385944, -0.00508251,  0.03562689,\n",
       "        0.00676492, -0.00021671,  0.0144125 ,  0.00338115, -0.00893698,\n",
       "        0.01411781, -0.02359056,  0.00658389, -0.01512601,  0.01811613,\n",
       "       -0.01061697,  0.012314  ,  0.04407518,  0.01087253,  0.01469493,\n",
       "        0.00475885,  0.00275536,  0.01600431,  0.01629344,  0.00477389],\n",
       "      dtype=float32)"
      ]
     },
     "execution_count": 53,
     "metadata": {},
     "output_type": "execute_result"
    }
   ],
   "source": [
    "lion_king_vector"
   ]
  },
  {
   "cell_type": "markdown",
   "id": "fddd550c",
   "metadata": {},
   "source": [
    "### 2. 선호도 파악"
   ]
  },
  {
   "cell_type": "code",
   "execution_count": 54,
   "id": "28777d80",
   "metadata": {},
   "outputs": [
    {
     "data": {
      "text/plain": [
       "0.0069375774"
      ]
     },
     "execution_count": 54,
     "metadata": {},
     "output_type": "execute_result"
    }
   ],
   "source": [
    "# ktw와 million dollar baby를 내적하는 코드\n",
    "np.dot(ktw_vector, million_dollar_vector)"
   ]
  },
  {
   "cell_type": "markdown",
   "id": "b8f7ed2f",
   "metadata": {},
   "source": [
    "- 'million dollar baby'에 대한 정보는 'ktw'에만 있음\n",
    "- 다른 유저에서는 'million dollar baby' 정보가 없으므로 선호도 파악에서 정보가 희석되었을 가능성이 있음"
   ]
  },
  {
   "cell_type": "code",
   "execution_count": 55,
   "id": "50186cdc",
   "metadata": {},
   "outputs": [
    {
     "data": {
      "text/plain": [
       "0.50519943"
      ]
     },
     "execution_count": 55,
     "metadata": {},
     "output_type": "execute_result"
    }
   ],
   "source": [
    "np.dot(ktw_vector, lion_king_vector)"
   ]
  },
  {
   "cell_type": "markdown",
   "id": "9f1a267a",
   "metadata": {},
   "source": [
    "- 추가 학습으로 'lion king'에 대한 선호도를 올려야 함"
   ]
  },
  {
   "cell_type": "code",
   "execution_count": null,
   "id": "7975c388",
   "metadata": {},
   "outputs": [],
   "source": []
  },
  {
   "cell_type": "code",
   "execution_count": null,
   "id": "d61e2174",
   "metadata": {},
   "outputs": [],
   "source": []
  },
  {
   "cell_type": "markdown",
   "id": "bb76686f",
   "metadata": {},
   "source": [
    "## 하이퍼파라미터 튜닝"
   ]
  },
  {
   "cell_type": "markdown",
   "id": "0da37f60",
   "metadata": {},
   "source": [
    "### 1. 모델 학습과 임시 평가를 위한 함수 정의"
   ]
  },
  {
   "cell_type": "code",
   "execution_count": 56,
   "id": "b14674c5",
   "metadata": {},
   "outputs": [],
   "source": [
    "def als_model_fit(factors_inp, regularization_inp, iterations_inp):\n",
    "    als_model = AlternatingLeastSquares(factors=factors_inp, regularization=regularization_inp, use_gpu=False, iterations=iterations_inp, dtype=np.float32)\n",
    "    als_model.fit(csr_data_transpose)\n",
    "    \n",
    "    return als_model\n",
    "\n",
    "\n",
    "def als_ktw_millon_lion(als_model):\n",
    "    \n",
    "    ktw_vector, million_dollar_vector, lion_king_vector = als_model.user_factors[ktw], als_model.item_factors[million_dollar], als_model.item_factors[lion_king]\n",
    "    \n",
    "    corr_mill = np.dot(ktw_vector, million_dollar_vector)\n",
    "    corr_lion = np.dot(ktw_vector, lion_king_vector)\n",
    "\n",
    "    print('ktw & million_dollar : {}'.format(corr_mill))\n",
    "    print('ktw & lion : {}'.format(corr_lion))\n",
    "    \n",
    "    return corr_lion"
   ]
  },
  {
   "cell_type": "code",
   "execution_count": 57,
   "id": "9c995ad4",
   "metadata": {},
   "outputs": [
    {
     "data": {
      "application/vnd.jupyter.widget-view+json": {
       "model_id": "ec940aca56414cc18cd8ed4856f37c90",
       "version_major": 2,
       "version_minor": 0
      },
      "text/plain": [
       "  0%|          | 0/10 [00:00<?, ?it/s]"
      ]
     },
     "metadata": {},
     "output_type": "display_data"
    }
   ],
   "source": [
    "als_model3 = als_model_fit(factors_inp=100, regularization_inp=0.01, iterations_inp=10)"
   ]
  },
  {
   "cell_type": "code",
   "execution_count": 58,
   "id": "23b18a88",
   "metadata": {},
   "outputs": [
    {
     "name": "stdout",
     "output_type": "stream",
     "text": [
      "ktw & million_dollar : 0.007412900682538748\n",
      "ktw & lion : 0.5088484287261963\n"
     ]
    },
    {
     "data": {
      "text/plain": [
       "0.5088484"
      ]
     },
     "execution_count": 58,
     "metadata": {},
     "output_type": "execute_result"
    }
   ],
   "source": [
    "als_ktw_millon_lion(als_model3)"
   ]
  },
  {
   "cell_type": "markdown",
   "id": "e8c5d993",
   "metadata": {},
   "source": [
    "- user_id : ktw에 대한 title : lion king, the (1994)의 **선호도 체크도 잘 나오는 것으로 파악됨**"
   ]
  },
  {
   "cell_type": "code",
   "execution_count": 59,
   "id": "1fec5309",
   "metadata": {},
   "outputs": [
    {
     "data": {
      "text/plain": [
       "0.05019811"
      ]
     },
     "execution_count": 59,
     "metadata": {},
     "output_type": "execute_result"
    }
   ],
   "source": [
    "temp = movie_to_idx['tarzan (1999)']\n",
    "temp_vector = als_model3.item_factors[temp]\n",
    "np.dot(ktw_vector, temp_vector)"
   ]
  },
  {
   "cell_type": "markdown",
   "id": "e90a5698",
   "metadata": {},
   "source": [
    "### 하이퍼 파라미터 탐색 (Grid search)\n",
    "- 테스트 또는 validation 데이터가 따로 없는 문제이므로 자신만의 기준을 정해야함\n",
    "- grid search를 해보며 어떤 하이퍼 파라미터가 더 중요하게 작용하는지 알아보고자 함"
   ]
  },
  {
   "cell_type": "code",
   "execution_count": 60,
   "id": "74e0bbb9",
   "metadata": {},
   "outputs": [
    {
     "data": {
      "application/vnd.jupyter.widget-view+json": {
       "model_id": "afc3123c284742f88ba721fb1dd77745",
       "version_major": 2,
       "version_minor": 0
      },
      "text/plain": [
       "  0%|          | 0/15 [00:00<?, ?it/s]"
      ]
     },
     "metadata": {},
     "output_type": "display_data"
    },
    {
     "name": "stdout",
     "output_type": "stream",
     "text": [
      "ktw & million_dollar : 0.007618297822773457\n",
      "ktw & lion : 0.5220489501953125\n"
     ]
    },
    {
     "data": {
      "application/vnd.jupyter.widget-view+json": {
       "model_id": "377afd46b8be4f8a81cdf7686929fdfb",
       "version_major": 2,
       "version_minor": 0
      },
      "text/plain": [
       "  0%|          | 0/30 [00:00<?, ?it/s]"
      ]
     },
     "metadata": {},
     "output_type": "display_data"
    },
    {
     "name": "stdout",
     "output_type": "stream",
     "text": [
      "ktw & million_dollar : 0.007341108750551939\n",
      "ktw & lion : 0.5116795897483826\n"
     ]
    },
    {
     "data": {
      "application/vnd.jupyter.widget-view+json": {
       "model_id": "90c640129ef240c18bf9b7146b2073a9",
       "version_major": 2,
       "version_minor": 0
      },
      "text/plain": [
       "  0%|          | 0/60 [00:00<?, ?it/s]"
      ]
     },
     "metadata": {},
     "output_type": "display_data"
    },
    {
     "name": "stdout",
     "output_type": "stream",
     "text": [
      "ktw & million_dollar : 0.00759984040632844\n",
      "ktw & lion : 0.5368705987930298\n"
     ]
    },
    {
     "data": {
      "application/vnd.jupyter.widget-view+json": {
       "model_id": "7037bf3c5b9f452993de2241c17a7e9e",
       "version_major": 2,
       "version_minor": 0
      },
      "text/plain": [
       "  0%|          | 0/90 [00:00<?, ?it/s]"
      ]
     },
     "metadata": {},
     "output_type": "display_data"
    },
    {
     "name": "stdout",
     "output_type": "stream",
     "text": [
      "ktw & million_dollar : 0.0076520005241036415\n",
      "ktw & lion : 0.5380383729934692\n"
     ]
    },
    {
     "data": {
      "application/vnd.jupyter.widget-view+json": {
       "model_id": "720edece424e4b7fa0178066db064359",
       "version_major": 2,
       "version_minor": 0
      },
      "text/plain": [
       "  0%|          | 0/15 [00:00<?, ?it/s]"
      ]
     },
     "metadata": {},
     "output_type": "display_data"
    },
    {
     "name": "stdout",
     "output_type": "stream",
     "text": [
      "ktw & million_dollar : 0.010684655979275703\n",
      "ktw & lion : 0.582369327545166\n"
     ]
    },
    {
     "data": {
      "application/vnd.jupyter.widget-view+json": {
       "model_id": "936526f97093474ca9b2817c38b9205e",
       "version_major": 2,
       "version_minor": 0
      },
      "text/plain": [
       "  0%|          | 0/30 [00:00<?, ?it/s]"
      ]
     },
     "metadata": {},
     "output_type": "display_data"
    },
    {
     "name": "stdout",
     "output_type": "stream",
     "text": [
      "ktw & million_dollar : 0.010462996549904346\n",
      "ktw & lion : 0.5815303921699524\n"
     ]
    },
    {
     "data": {
      "application/vnd.jupyter.widget-view+json": {
       "model_id": "8d36b16d812a40ae9e10699305acc3b8",
       "version_major": 2,
       "version_minor": 0
      },
      "text/plain": [
       "  0%|          | 0/60 [00:00<?, ?it/s]"
      ]
     },
     "metadata": {},
     "output_type": "display_data"
    },
    {
     "name": "stdout",
     "output_type": "stream",
     "text": [
      "ktw & million_dollar : 0.010198919102549553\n",
      "ktw & lion : 0.5895534157752991\n"
     ]
    },
    {
     "data": {
      "application/vnd.jupyter.widget-view+json": {
       "model_id": "df6b8f8e143c449b9fd1a4c19c029d3a",
       "version_major": 2,
       "version_minor": 0
      },
      "text/plain": [
       "  0%|          | 0/90 [00:00<?, ?it/s]"
      ]
     },
     "metadata": {},
     "output_type": "display_data"
    },
    {
     "name": "stdout",
     "output_type": "stream",
     "text": [
      "ktw & million_dollar : 0.010409330949187279\n",
      "ktw & lion : 0.5808557271957397\n"
     ]
    },
    {
     "data": {
      "application/vnd.jupyter.widget-view+json": {
       "model_id": "5ab0cf0290284679a885811d6d09f239",
       "version_major": 2,
       "version_minor": 0
      },
      "text/plain": [
       "  0%|          | 0/15 [00:00<?, ?it/s]"
      ]
     },
     "metadata": {},
     "output_type": "display_data"
    },
    {
     "name": "stdout",
     "output_type": "stream",
     "text": [
      "ktw & million_dollar : 0.014685266651213169\n",
      "ktw & lion : 0.6266083121299744\n"
     ]
    },
    {
     "data": {
      "application/vnd.jupyter.widget-view+json": {
       "model_id": "7be0b9f8b50b4e168f2599812867613c",
       "version_major": 2,
       "version_minor": 0
      },
      "text/plain": [
       "  0%|          | 0/30 [00:00<?, ?it/s]"
      ]
     },
     "metadata": {},
     "output_type": "display_data"
    },
    {
     "name": "stdout",
     "output_type": "stream",
     "text": [
      "ktw & million_dollar : 0.015163769945502281\n",
      "ktw & lion : 0.6236353516578674\n"
     ]
    },
    {
     "data": {
      "application/vnd.jupyter.widget-view+json": {
       "model_id": "c436fa7d266f4cab9ebc81ef7dac0e53",
       "version_major": 2,
       "version_minor": 0
      },
      "text/plain": [
       "  0%|          | 0/60 [00:00<?, ?it/s]"
      ]
     },
     "metadata": {},
     "output_type": "display_data"
    },
    {
     "name": "stdout",
     "output_type": "stream",
     "text": [
      "ktw & million_dollar : 0.013103779405355453\n",
      "ktw & lion : 0.6222151517868042\n"
     ]
    },
    {
     "data": {
      "application/vnd.jupyter.widget-view+json": {
       "model_id": "e5e9651708f34c57b4cbdb1acfbd2088",
       "version_major": 2,
       "version_minor": 0
      },
      "text/plain": [
       "  0%|          | 0/90 [00:00<?, ?it/s]"
      ]
     },
     "metadata": {},
     "output_type": "display_data"
    },
    {
     "name": "stdout",
     "output_type": "stream",
     "text": [
      "ktw & million_dollar : 0.012812526896595955\n",
      "ktw & lion : 0.6288800835609436\n"
     ]
    },
    {
     "data": {
      "application/vnd.jupyter.widget-view+json": {
       "model_id": "16978473f7c14f60a234ce462c1dccd7",
       "version_major": 2,
       "version_minor": 0
      },
      "text/plain": [
       "  0%|          | 0/15 [00:00<?, ?it/s]"
      ]
     },
     "metadata": {},
     "output_type": "display_data"
    },
    {
     "name": "stdout",
     "output_type": "stream",
     "text": [
      "ktw & million_dollar : 0.018746208399534225\n",
      "ktw & lion : 0.6733450293540955\n"
     ]
    },
    {
     "data": {
      "application/vnd.jupyter.widget-view+json": {
       "model_id": "e48e13246d0740608fdb9b1f893ef1f3",
       "version_major": 2,
       "version_minor": 0
      },
      "text/plain": [
       "  0%|          | 0/30 [00:00<?, ?it/s]"
      ]
     },
     "metadata": {},
     "output_type": "display_data"
    },
    {
     "name": "stdout",
     "output_type": "stream",
     "text": [
      "ktw & million_dollar : 0.016759077087044716\n",
      "ktw & lion : 0.6804291009902954\n"
     ]
    },
    {
     "data": {
      "application/vnd.jupyter.widget-view+json": {
       "model_id": "0a7f87beeaa944619e5dc2eb21b1aeaa",
       "version_major": 2,
       "version_minor": 0
      },
      "text/plain": [
       "  0%|          | 0/60 [00:00<?, ?it/s]"
      ]
     },
     "metadata": {},
     "output_type": "display_data"
    },
    {
     "name": "stdout",
     "output_type": "stream",
     "text": [
      "ktw & million_dollar : 0.015876583755016327\n",
      "ktw & lion : 0.662398636341095\n"
     ]
    },
    {
     "data": {
      "application/vnd.jupyter.widget-view+json": {
       "model_id": "41b9a6bfe03b4b478a49d1c13534b734",
       "version_major": 2,
       "version_minor": 0
      },
      "text/plain": [
       "  0%|          | 0/90 [00:00<?, ?it/s]"
      ]
     },
     "metadata": {},
     "output_type": "display_data"
    },
    {
     "name": "stdout",
     "output_type": "stream",
     "text": [
      "ktw & million_dollar : 0.015461405739188194\n",
      "ktw & lion : 0.668938159942627\n"
     ]
    },
    {
     "data": {
      "application/vnd.jupyter.widget-view+json": {
       "model_id": "8d89f378067f43dcaf7c7f8fcaf8b12c",
       "version_major": 2,
       "version_minor": 0
      },
      "text/plain": [
       "  0%|          | 0/15 [00:00<?, ?it/s]"
      ]
     },
     "metadata": {},
     "output_type": "display_data"
    },
    {
     "name": "stdout",
     "output_type": "stream",
     "text": [
      "ktw & million_dollar : 0.020960070192813873\n",
      "ktw & lion : 0.7073670029640198\n"
     ]
    },
    {
     "data": {
      "application/vnd.jupyter.widget-view+json": {
       "model_id": "84c11afa1626437683d25459d1d19959",
       "version_major": 2,
       "version_minor": 0
      },
      "text/plain": [
       "  0%|          | 0/30 [00:00<?, ?it/s]"
      ]
     },
     "metadata": {},
     "output_type": "display_data"
    },
    {
     "name": "stdout",
     "output_type": "stream",
     "text": [
      "ktw & million_dollar : 0.020138071849942207\n",
      "ktw & lion : 0.7011038661003113\n"
     ]
    },
    {
     "data": {
      "application/vnd.jupyter.widget-view+json": {
       "model_id": "7e5c9b65d4fc4a628422a59677afb934",
       "version_major": 2,
       "version_minor": 0
      },
      "text/plain": [
       "  0%|          | 0/60 [00:00<?, ?it/s]"
      ]
     },
     "metadata": {},
     "output_type": "display_data"
    },
    {
     "name": "stdout",
     "output_type": "stream",
     "text": [
      "ktw & million_dollar : 0.018559681251645088\n",
      "ktw & lion : 0.7070684432983398\n"
     ]
    },
    {
     "data": {
      "application/vnd.jupyter.widget-view+json": {
       "model_id": "6211e9dd4d24440bbf038953a20deb3c",
       "version_major": 2,
       "version_minor": 0
      },
      "text/plain": [
       "  0%|          | 0/90 [00:00<?, ?it/s]"
      ]
     },
     "metadata": {},
     "output_type": "display_data"
    },
    {
     "name": "stdout",
     "output_type": "stream",
     "text": [
      "ktw & million_dollar : 0.01675967313349247\n",
      "ktw & lion : 0.7064778804779053\n"
     ]
    },
    {
     "data": {
      "text/html": [
       "<div>\n",
       "<style scoped>\n",
       "    .dataframe tbody tr th:only-of-type {\n",
       "        vertical-align: middle;\n",
       "    }\n",
       "\n",
       "    .dataframe tbody tr th {\n",
       "        vertical-align: top;\n",
       "    }\n",
       "\n",
       "    .dataframe thead th {\n",
       "        text-align: right;\n",
       "    }\n",
       "</style>\n",
       "<table border=\"1\" class=\"dataframe\">\n",
       "  <thead>\n",
       "    <tr style=\"text-align: right;\">\n",
       "      <th></th>\n",
       "      <th>factors_inp</th>\n",
       "      <th>iterations_inp</th>\n",
       "      <th>corr_lion</th>\n",
       "    </tr>\n",
       "  </thead>\n",
       "  <tbody>\n",
       "    <tr>\n",
       "      <th>16</th>\n",
       "      <td>300</td>\n",
       "      <td>15</td>\n",
       "      <td>0.707367</td>\n",
       "    </tr>\n",
       "    <tr>\n",
       "      <th>18</th>\n",
       "      <td>300</td>\n",
       "      <td>60</td>\n",
       "      <td>0.707068</td>\n",
       "    </tr>\n",
       "  </tbody>\n",
       "</table>\n",
       "</div>"
      ],
      "text/plain": [
       "    factors_inp  iterations_inp  corr_lion\n",
       "16          300              15   0.707367\n",
       "18          300              60   0.707068"
      ]
     },
     "execution_count": 60,
     "metadata": {},
     "output_type": "execute_result"
    }
   ],
   "source": [
    "factors_lst = [100, 150, 200, 250, 300]\n",
    "iterations_lst = [15, 30, 60, 90]\n",
    "\n",
    "history_lion = []\n",
    "\n",
    "for i in factors_lst:\n",
    "    for j in iterations_lst:\n",
    "        als_model_temp = als_model_fit(factors_inp=i, regularization_inp=0.01, iterations_inp=j)\n",
    "        corr_lion_temp = als_ktw_millon_lion(als_model_temp)\n",
    "        \n",
    "        history_lion.append({'factors_inp' : i, \n",
    "                             'iterations_inp' : j, \n",
    "                             'corr_lion' : corr_lion_temp\n",
    "                            })\n",
    "\n",
    "history = pd.DataFrame(history_lion).sort_values(by='corr_lion', ascending=False)\n",
    "history.head(2)"
   ]
  },
  {
   "cell_type": "markdown",
   "id": "21b1a094",
   "metadata": {},
   "source": [
    "- 'factors'(벡터 차원수)의 범위는 크게 잡아서 그런지 범위가 변할 때마다 성능이 크게 향상됨\n",
    "- 'iterations'(학습 반복 횟수)에 따라서는 성능의 큰 변화를 못 느낌 \n",
    "    - 때로는 학습 횟수가 늘었지만 성능이 저하되기도 함\n",
    "- 테스트 할 데이터가 따로 주어지지 않아서 기준을 세우기 어려움\n",
    "- 임의의 기준\n",
    "    - user_id : ktw에 대한 title : lion king, the (1994)의 선호도를 기준으로 하고자 함\n",
    "    - 0.7 이상을 임의의 기준으로 삼음"
   ]
  },
  {
   "cell_type": "code",
   "execution_count": null,
   "id": "9584f055",
   "metadata": {},
   "outputs": [],
   "source": []
  },
  {
   "cell_type": "code",
   "execution_count": null,
   "id": "2e780085",
   "metadata": {},
   "outputs": [],
   "source": []
  },
  {
   "cell_type": "markdown",
   "id": "9a393afa",
   "metadata": {},
   "source": [
    "## 재학습\n",
    "- 임의의 기준(0.7)을 넘긴 하이퍼 파라미터 정보를 보며 임의의 하이퍼 파라미터를 넣고 학습을 다시 시킴"
   ]
  },
  {
   "cell_type": "code",
   "execution_count": 61,
   "id": "ffaee6d0",
   "metadata": {},
   "outputs": [
    {
     "data": {
      "application/vnd.jupyter.widget-view+json": {
       "model_id": "bcfb34154ee647a5b5717522a47753e5",
       "version_major": 2,
       "version_minor": 0
      },
      "text/plain": [
       "  0%|          | 0/60 [00:00<?, ?it/s]"
      ]
     },
     "metadata": {},
     "output_type": "display_data"
    }
   ],
   "source": [
    "als_model_final = als_model_fit(factors_inp=300, regularization_inp=0.01, iterations_inp=60)"
   ]
  },
  {
   "cell_type": "code",
   "execution_count": null,
   "id": "f6170dfe",
   "metadata": {},
   "outputs": [],
   "source": []
  },
  {
   "cell_type": "code",
   "execution_count": null,
   "id": "37f41012",
   "metadata": {},
   "outputs": [],
   "source": []
  },
  {
   "cell_type": "markdown",
   "id": "1408e677",
   "metadata": {},
   "source": [
    "## 내가 좋아하는 영화와 비슷한 영화를 추천받기"
   ]
  },
  {
   "cell_type": "markdown",
   "id": "d9739ae2",
   "metadata": {},
   "source": [
    "### 1. indexing을 전환하여 영화명을 반환하기"
   ]
  },
  {
   "cell_type": "code",
   "execution_count": 62,
   "id": "200693a7",
   "metadata": {},
   "outputs": [],
   "source": [
    "#movie_to_idx 를 뒤집어, index로부터 artist 이름을 얻는 dict를 생성합니다. \n",
    "idx_to_movie = {v:k for k,v in movie_to_idx.items()}"
   ]
  },
  {
   "cell_type": "markdown",
   "id": "82674da3",
   "metadata": {},
   "source": [
    "### 2. 내가 좋아하는 영화와 비슷한 영화 15개 추천받기"
   ]
  },
  {
   "cell_type": "code",
   "execution_count": 63,
   "id": "ef47c370",
   "metadata": {},
   "outputs": [],
   "source": [
    "def get_similar_movie(movie_name: str):\n",
    "    movie_id = movie_to_idx[movie_name]\n",
    "    similar_movie = als_model_final.similar_items(movie_id, N=15)\n",
    "    similar_movie = [idx_to_movie[i[0]] for i in similar_movie]\n",
    "    return similar_movie"
   ]
  },
  {
   "cell_type": "code",
   "execution_count": 64,
   "id": "f4b3cf04",
   "metadata": {},
   "outputs": [
    {
     "data": {
      "text/plain": [
       "['lion king, the (1994)',\n",
       " 'beauty and the beast (1991)',\n",
       " 'aladdin (1992)',\n",
       " 'mulan (1998)',\n",
       " 'anastasia (1997)',\n",
       " 'tarzan (1999)',\n",
       " 'hunchback of notre dame, the (1996)',\n",
       " 'antz (1998)',\n",
       " 'cinderella (1950)',\n",
       " 'hercules (1997)',\n",
       " 'snow white and the seven dwarfs (1937)',\n",
       " 'little mermaid, the (1989)',\n",
       " 'pocahontas (1995)',\n",
       " 'boys life 2 (1997)',\n",
       " 'return of jafar, the (1993)']"
      ]
     },
     "execution_count": 64,
     "metadata": {},
     "output_type": "execute_result"
    }
   ],
   "source": [
    "get_similar_movie('lion king, the (1994)')"
   ]
  },
  {
   "cell_type": "markdown",
   "id": "142abf51",
   "metadata": {},
   "source": [
    "- 'lion king, the (1994)'과 관련성 있다고 판단되는 애니메이션 장르가 추천 됨\n",
    "- **성능이 매우 좋게 나타남**"
   ]
  },
  {
   "cell_type": "code",
   "execution_count": 65,
   "id": "efb9cbdd",
   "metadata": {},
   "outputs": [
    {
     "data": {
      "text/plain": [
       "['million dollar baby',\n",
       " 'chain of fools (2000)',\n",
       " 'soft toilet seats (1999)',\n",
       " 'aiqing wansui (1994)',\n",
       " 'for ever mozart (1996)',\n",
       " 'open season (1996)',\n",
       " 'song of freedom (1936)',\n",
       " 'loser (1991)',\n",
       " 'make them die slowly (cannibal ferox) (1980)',\n",
       " 'sunchaser, the (1996)',\n",
       " 'jeanne and the perfect guy (jeanne et le garçon formidable) (1998)',\n",
       " '1-900 (1994)',\n",
       " \"heaven's burning (1997)\",\n",
       " 'back stage (2000)',\n",
       " 'voyage to the beginning of the world (1997)']"
      ]
     },
     "execution_count": 65,
     "metadata": {},
     "output_type": "execute_result"
    }
   ],
   "source": [
    "get_similar_movie('million dollar baby')"
   ]
  },
  {
   "cell_type": "markdown",
   "id": "5a3104b0",
   "metadata": {},
   "source": [
    "- chain of fools (2000) : 범죄, 코미디 영화\n",
    "- for ever mozart (1996) : 드라마, 전쟁 영화\n",
    "- jeanne and the perfect guy : 로맨틱 드라마 영화\n",
    "<br><br>\n",
    "- 협업필터링(Collaborative filtering)의 **'콜드 스타트'** 문제 발생\n",
    "    - 'million dollar baby'에 대한 정보가 다른 유저들에게는 없으므로 추천을 잘 하지 못함\n",
    "    - million dollar baby는 슬픈 드라마 스토리\n",
    "    - 추천한 영화들은 다양한 장르가 있음"
   ]
  },
  {
   "cell_type": "code",
   "execution_count": null,
   "id": "9cdf4a40",
   "metadata": {},
   "outputs": [],
   "source": []
  },
  {
   "cell_type": "code",
   "execution_count": null,
   "id": "95a946aa",
   "metadata": {},
   "outputs": [],
   "source": []
  },
  {
   "cell_type": "markdown",
   "id": "0fa6fea9",
   "metadata": {},
   "source": [
    "## 내가 가장 좋아할 만한 영화들을 추천받기"
   ]
  },
  {
   "cell_type": "code",
   "execution_count": 66,
   "id": "16f72164",
   "metadata": {},
   "outputs": [
    {
     "data": {
      "text/plain": [
       "[(33, 0.421645),\n",
       " (10, 0.3376831),\n",
       " (34, 0.28404313),\n",
       " (35, 0.256073),\n",
       " (50, 0.25178635),\n",
       " (16, 0.24845947),\n",
       " (25, 0.2065792),\n",
       " (329, 0.18935294),\n",
       " (92, 0.17668119),\n",
       " (30, 0.15339069),\n",
       " (4, 0.14972699),\n",
       " (731, 0.13995612),\n",
       " (169, 0.1379401),\n",
       " (191, 0.13295314),\n",
       " (48, 0.13203444),\n",
       " (851, 0.12531637),\n",
       " (1, 0.12367011),\n",
       " (145, 0.123479575),\n",
       " (160, 0.12127762),\n",
       " (513, 0.12072484)]"
      ]
     },
     "execution_count": 66,
     "metadata": {},
     "output_type": "execute_result"
    }
   ],
   "source": [
    "user = user_to_idx['ktw']\n",
    "# recommend에서는 user*item CSR Matrix를 받습니다.\n",
    "movie_recommended = als_model_final.recommend(user, csr_data, N=20, filter_already_liked_items=True)\n",
    "movie_recommended"
   ]
  },
  {
   "cell_type": "markdown",
   "id": "12ad3026",
   "metadata": {},
   "source": [
    "- recommend()를 통해 얻은 결과는 인덱스로 나타남\n",
    "- 인덱스를 영화명으로 바꿔서 보여줄 필요가 있음"
   ]
  },
  {
   "cell_type": "code",
   "execution_count": 67,
   "id": "6d403945",
   "metadata": {},
   "outputs": [
    {
     "data": {
      "text/plain": [
       "['aladdin (1992)',\n",
       " 'beauty and the beast (1991)',\n",
       " 'mulan (1998)',\n",
       " 'hunchback of notre dame, the (1996)',\n",
       " 'toy story 2 (1999)',\n",
       " 'tarzan (1999)',\n",
       " 'pocahontas (1995)',\n",
       " 'anastasia (1997)',\n",
       " 'terminator 2: judgment day (1991)',\n",
       " 'antz (1998)',\n",
       " \"bug's life, a (1998)\",\n",
       " 'hoop dreams (1994)',\n",
       " 'fish called wanda, a (1988)',\n",
       " 'little mermaid, the (1989)',\n",
       " 'saving private ryan (1998)',\n",
       " 'iron giant, the (1999)',\n",
       " 'james and the giant peach (1996)',\n",
       " 'fifth element, the (1997)',\n",
       " 'forrest gump (1994)',\n",
       " 'jumanji (1995)']"
      ]
     },
     "execution_count": 67,
     "metadata": {},
     "output_type": "execute_result"
    }
   ],
   "source": [
    "[idx_to_movie[i[0]] for i in movie_recommended]"
   ]
  },
  {
   "cell_type": "markdown",
   "id": "cf475c4e",
   "metadata": {},
   "source": [
    "- 거의 대부분 애니메이션을 추천해줌\n",
    "    - ktw의 시청 기록에는 'lion king, the (1994)', 'toy story (1995)', 'hercules (1997)' 총 세 편의 애니메이션이 있음\n",
    "- 'terminator 2: judgment day (1991)' 추천은 'matrix, the (1999)' 때문이라고 예상됨\n",
    "- **추천을 잘 해줬다고 판단됨**"
   ]
  },
  {
   "cell_type": "code",
   "execution_count": 68,
   "id": "b492c41c",
   "metadata": {},
   "outputs": [],
   "source": [
    "aladdin = movie_to_idx['aladdin (1992)']\n",
    "explain_aladdin = als_model_final.explain(user, csr_data, itemid=aladdin)"
   ]
  },
  {
   "cell_type": "code",
   "execution_count": 69,
   "id": "161b6a27",
   "metadata": {},
   "outputs": [
    {
     "data": {
      "text/plain": [
       "[('lion king, the (1994)', 0.2395199737698347),\n",
       " ('hercules (1997)', 0.09643952857760502),\n",
       " ('toy story (1995)', 0.074351650421483),\n",
       " ('matrix, the (1999)', 0.006100433189566646),\n",
       " ('million dollar baby', 0.0022913056481413544)]"
      ]
     },
     "execution_count": 69,
     "metadata": {},
     "output_type": "execute_result"
    }
   ],
   "source": [
    "[(idx_to_movie[i[0]], i[1]) for i in explain_aladdin[1]]"
   ]
  },
  {
   "cell_type": "markdown",
   "id": "6aaf22d0",
   "metadata": {},
   "source": [
    "- 예상대로 알라딘에 대한 추천은 'lion king, the (1994)', 'toy story (1995)', 'hercules (1997)'의 영향이 컸음"
   ]
  },
  {
   "cell_type": "code",
   "execution_count": null,
   "id": "50489289",
   "metadata": {},
   "outputs": [],
   "source": []
  },
  {
   "cell_type": "code",
   "execution_count": null,
   "id": "75b9d9da",
   "metadata": {},
   "outputs": [],
   "source": []
  },
  {
   "cell_type": "markdown",
   "id": "7cf5d12f",
   "metadata": {},
   "source": [
    "## 회고\n",
    "\n",
    "### 1. 새로 알아갔던 점\n",
    " - 추천 시스템을 좀 더 자세히 알아가게 됨\n",
    " - CSR Matrix에 대해서 알게 됨\n",
    "\n",
    "### 2. 흥미로웠던 점\n",
    " - 영화 추천을 잘해줘 흥미로웠음\n",
    " - 넷플릭스를 생각하면서 exploration을 진행하였더니 흥미를 느꼈음\n",
    " - 원래 없던 영화 데이터를 추가하여 얼마나 추천을 못하는지를 체크해봤던 점\n",
    "\n",
    "### 3. 아쉬웠던 점\n",
    " - exploration 제목에 '아이유'가 언급됐지만 '아이유'에 대한 내용은 없어서 굉장히 실망감이 컸음!!!!!!!\n",
    " - 2000년까지의 영화만 데이터에 있어서 어린 시절을 회상하면서 문제를 풀었더니 애니메이션 정보만 넣게 된 점이 아쉬웠음\n",
    "\n",
    "### 4. 앞으로의 다짐\n",
    " - 콘텐츠를 분석해서 추천 시스템 만드는 것을 도전해보고 싶음"
   ]
  },
  {
   "cell_type": "code",
   "execution_count": null,
   "id": "610bd14d",
   "metadata": {},
   "outputs": [],
   "source": []
  }
 ],
 "metadata": {
  "kernelspec": {
   "display_name": "Python 3 (ipykernel)",
   "language": "python",
   "name": "python3"
  },
  "language_info": {
   "codemirror_mode": {
    "name": "ipython",
    "version": 3
   },
   "file_extension": ".py",
   "mimetype": "text/x-python",
   "name": "python",
   "nbconvert_exporter": "python",
   "pygments_lexer": "ipython3",
   "version": "3.9.7"
  }
 },
 "nbformat": 4,
 "nbformat_minor": 5
}
