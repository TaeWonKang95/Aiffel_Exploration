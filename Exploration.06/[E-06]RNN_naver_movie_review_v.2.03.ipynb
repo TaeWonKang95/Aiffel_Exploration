{
 "cells": [
  {
   "cell_type": "markdown",
   "id": "de320068",
   "metadata": {},
   "source": [
    "# 네이버 영화 리뷰 감성 분석"
   ]
  },
  {
   "cell_type": "code",
   "execution_count": null,
   "id": "dc857963",
   "metadata": {},
   "outputs": [],
   "source": []
  },
  {
   "cell_type": "markdown",
   "id": "f2872338",
   "metadata": {},
   "source": [
    "## import packge"
   ]
  },
  {
   "cell_type": "code",
   "execution_count": 1,
   "id": "0252c9b9",
   "metadata": {},
   "outputs": [],
   "source": [
    "import pandas as pd\n",
    "import numpy as np\n",
    "import matplotlib.pyplot as plt\n",
    "import seaborn as sns\n",
    "\n",
    "import tensorflow as tf\n",
    "\n",
    "from konlpy.tag import Mecab\n",
    "from collections import Counter\n",
    "import re\n",
    "import os"
   ]
  },
  {
   "cell_type": "code",
   "execution_count": null,
   "id": "a904691b",
   "metadata": {},
   "outputs": [],
   "source": []
  },
  {
   "cell_type": "markdown",
   "id": "4bac3b1c",
   "metadata": {},
   "source": [
    "## 데이터 불러오기"
   ]
  },
  {
   "cell_type": "code",
   "execution_count": 2,
   "id": "0f0f1a2c",
   "metadata": {},
   "outputs": [
    {
     "data": {
      "text/html": [
       "<div>\n",
       "<style scoped>\n",
       "    .dataframe tbody tr th:only-of-type {\n",
       "        vertical-align: middle;\n",
       "    }\n",
       "\n",
       "    .dataframe tbody tr th {\n",
       "        vertical-align: top;\n",
       "    }\n",
       "\n",
       "    .dataframe thead th {\n",
       "        text-align: right;\n",
       "    }\n",
       "</style>\n",
       "<table border=\"1\" class=\"dataframe\">\n",
       "  <thead>\n",
       "    <tr style=\"text-align: right;\">\n",
       "      <th></th>\n",
       "      <th>id</th>\n",
       "      <th>document</th>\n",
       "      <th>label</th>\n",
       "    </tr>\n",
       "  </thead>\n",
       "  <tbody>\n",
       "    <tr>\n",
       "      <th>0</th>\n",
       "      <td>9976970</td>\n",
       "      <td>아 더빙.. 진짜 짜증나네요 목소리</td>\n",
       "      <td>0</td>\n",
       "    </tr>\n",
       "    <tr>\n",
       "      <th>1</th>\n",
       "      <td>3819312</td>\n",
       "      <td>흠...포스터보고 초딩영화줄....오버연기조차 가볍지 않구나</td>\n",
       "      <td>1</td>\n",
       "    </tr>\n",
       "    <tr>\n",
       "      <th>2</th>\n",
       "      <td>10265843</td>\n",
       "      <td>너무재밓었다그래서보는것을추천한다</td>\n",
       "      <td>0</td>\n",
       "    </tr>\n",
       "    <tr>\n",
       "      <th>3</th>\n",
       "      <td>9045019</td>\n",
       "      <td>교도소 이야기구먼 ..솔직히 재미는 없다..평점 조정</td>\n",
       "      <td>0</td>\n",
       "    </tr>\n",
       "    <tr>\n",
       "      <th>4</th>\n",
       "      <td>6483659</td>\n",
       "      <td>사이몬페그의 익살스런 연기가 돋보였던 영화!스파이더맨에서 늙어보이기만 했던 커스틴 ...</td>\n",
       "      <td>1</td>\n",
       "    </tr>\n",
       "  </tbody>\n",
       "</table>\n",
       "</div>"
      ],
      "text/plain": [
       "         id                                           document  label\n",
       "0   9976970                                아 더빙.. 진짜 짜증나네요 목소리      0\n",
       "1   3819312                  흠...포스터보고 초딩영화줄....오버연기조차 가볍지 않구나      1\n",
       "2  10265843                                  너무재밓었다그래서보는것을추천한다      0\n",
       "3   9045019                      교도소 이야기구먼 ..솔직히 재미는 없다..평점 조정      0\n",
       "4   6483659  사이몬페그의 익살스런 연기가 돋보였던 영화!스파이더맨에서 늙어보이기만 했던 커스틴 ...      1"
      ]
     },
     "execution_count": 2,
     "metadata": {},
     "output_type": "execute_result"
    }
   ],
   "source": [
    "train_data = pd.read_table('~/aiffel/sentiment_classification/data/ratings_train.txt')\n",
    "test_data = pd.read_table('~/aiffel/sentiment_classification/data/ratings_test.txt')\n",
    "\n",
    "train_data.head()"
   ]
  },
  {
   "cell_type": "code",
   "execution_count": 3,
   "id": "bb9dabb0",
   "metadata": {},
   "outputs": [
    {
     "data": {
      "text/plain": [
       "(150000, 3)"
      ]
     },
     "execution_count": 3,
     "metadata": {},
     "output_type": "execute_result"
    }
   ],
   "source": [
    "train_data.shape"
   ]
  },
  {
   "cell_type": "markdown",
   "id": "a1e94f22",
   "metadata": {},
   "source": [
    "train셋\n",
    "- 150,000개의 리뷰로 구성됨\n",
    "- 3개의 columns는 id, document(리뷰 내용), label로 구성됨\n",
    "- label\n",
    "    - 0 : 부정적인 리뷰\n",
    "    - 1 : 긍정적인 리뷰"
   ]
  },
  {
   "cell_type": "code",
   "execution_count": 4,
   "id": "df14b4e5",
   "metadata": {},
   "outputs": [
    {
     "data": {
      "text/html": [
       "<div>\n",
       "<style scoped>\n",
       "    .dataframe tbody tr th:only-of-type {\n",
       "        vertical-align: middle;\n",
       "    }\n",
       "\n",
       "    .dataframe tbody tr th {\n",
       "        vertical-align: top;\n",
       "    }\n",
       "\n",
       "    .dataframe thead th {\n",
       "        text-align: right;\n",
       "    }\n",
       "</style>\n",
       "<table border=\"1\" class=\"dataframe\">\n",
       "  <thead>\n",
       "    <tr style=\"text-align: right;\">\n",
       "      <th></th>\n",
       "      <th>id</th>\n",
       "      <th>document</th>\n",
       "      <th>label</th>\n",
       "    </tr>\n",
       "  </thead>\n",
       "  <tbody>\n",
       "    <tr>\n",
       "      <th>0</th>\n",
       "      <td>6270596</td>\n",
       "      <td>굳 ㅋ</td>\n",
       "      <td>1</td>\n",
       "    </tr>\n",
       "    <tr>\n",
       "      <th>1</th>\n",
       "      <td>9274899</td>\n",
       "      <td>GDNTOPCLASSINTHECLUB</td>\n",
       "      <td>0</td>\n",
       "    </tr>\n",
       "    <tr>\n",
       "      <th>2</th>\n",
       "      <td>8544678</td>\n",
       "      <td>뭐야 이 평점들은.... 나쁘진 않지만 10점 짜리는 더더욱 아니잖아</td>\n",
       "      <td>0</td>\n",
       "    </tr>\n",
       "    <tr>\n",
       "      <th>3</th>\n",
       "      <td>6825595</td>\n",
       "      <td>지루하지는 않은데 완전 막장임... 돈주고 보기에는....</td>\n",
       "      <td>0</td>\n",
       "    </tr>\n",
       "    <tr>\n",
       "      <th>4</th>\n",
       "      <td>6723715</td>\n",
       "      <td>3D만 아니었어도 별 다섯 개 줬을텐데.. 왜 3D로 나와서 제 심기를 불편하게 하죠??</td>\n",
       "      <td>0</td>\n",
       "    </tr>\n",
       "  </tbody>\n",
       "</table>\n",
       "</div>"
      ],
      "text/plain": [
       "        id                                           document  label\n",
       "0  6270596                                                굳 ㅋ      1\n",
       "1  9274899                               GDNTOPCLASSINTHECLUB      0\n",
       "2  8544678             뭐야 이 평점들은.... 나쁘진 않지만 10점 짜리는 더더욱 아니잖아      0\n",
       "3  6825595                   지루하지는 않은데 완전 막장임... 돈주고 보기에는....      0\n",
       "4  6723715  3D만 아니었어도 별 다섯 개 줬을텐데.. 왜 3D로 나와서 제 심기를 불편하게 하죠??      0"
      ]
     },
     "execution_count": 4,
     "metadata": {},
     "output_type": "execute_result"
    }
   ],
   "source": [
    "test_data.head()"
   ]
  },
  {
   "cell_type": "code",
   "execution_count": 5,
   "id": "d51ddfcf",
   "metadata": {},
   "outputs": [
    {
     "data": {
      "text/plain": [
       "(50000, 3)"
      ]
     },
     "execution_count": 5,
     "metadata": {},
     "output_type": "execute_result"
    }
   ],
   "source": [
    "test_data.shape"
   ]
  },
  {
   "cell_type": "markdown",
   "id": "8bb0dc8e",
   "metadata": {},
   "source": [
    "test셋\n",
    "- 50,000개의 리뷰로 구성됨\n",
    "- columns 구성은 train셋과 동일함"
   ]
  },
  {
   "cell_type": "code",
   "execution_count": null,
   "id": "accad3e4",
   "metadata": {},
   "outputs": [],
   "source": []
  },
  {
   "cell_type": "code",
   "execution_count": null,
   "id": "f4a0bd68",
   "metadata": {},
   "outputs": [],
   "source": []
  },
  {
   "cell_type": "markdown",
   "id": "59f7d582",
   "metadata": {},
   "source": [
    "## 데이터 살펴보기"
   ]
  },
  {
   "cell_type": "markdown",
   "id": "cbaaf984",
   "metadata": {},
   "source": [
    "### 1. 결측치 확인"
   ]
  },
  {
   "cell_type": "code",
   "execution_count": 6,
   "id": "bc105750",
   "metadata": {},
   "outputs": [
    {
     "data": {
      "text/plain": [
       "id          0\n",
       "document    5\n",
       "label       0\n",
       "dtype: int64"
      ]
     },
     "execution_count": 6,
     "metadata": {},
     "output_type": "execute_result"
    }
   ],
   "source": [
    "train_data.isnull().sum()"
   ]
  },
  {
   "cell_type": "code",
   "execution_count": 7,
   "id": "bfc62150",
   "metadata": {},
   "outputs": [
    {
     "data": {
      "text/html": [
       "<div>\n",
       "<style scoped>\n",
       "    .dataframe tbody tr th:only-of-type {\n",
       "        vertical-align: middle;\n",
       "    }\n",
       "\n",
       "    .dataframe tbody tr th {\n",
       "        vertical-align: top;\n",
       "    }\n",
       "\n",
       "    .dataframe thead th {\n",
       "        text-align: right;\n",
       "    }\n",
       "</style>\n",
       "<table border=\"1\" class=\"dataframe\">\n",
       "  <thead>\n",
       "    <tr style=\"text-align: right;\">\n",
       "      <th></th>\n",
       "      <th>id</th>\n",
       "      <th>document</th>\n",
       "      <th>label</th>\n",
       "    </tr>\n",
       "  </thead>\n",
       "  <tbody>\n",
       "    <tr>\n",
       "      <th>25857</th>\n",
       "      <td>2172111</td>\n",
       "      <td>NaN</td>\n",
       "      <td>1</td>\n",
       "    </tr>\n",
       "    <tr>\n",
       "      <th>55737</th>\n",
       "      <td>6369843</td>\n",
       "      <td>NaN</td>\n",
       "      <td>1</td>\n",
       "    </tr>\n",
       "    <tr>\n",
       "      <th>110014</th>\n",
       "      <td>1034280</td>\n",
       "      <td>NaN</td>\n",
       "      <td>0</td>\n",
       "    </tr>\n",
       "    <tr>\n",
       "      <th>126782</th>\n",
       "      <td>5942978</td>\n",
       "      <td>NaN</td>\n",
       "      <td>0</td>\n",
       "    </tr>\n",
       "    <tr>\n",
       "      <th>140721</th>\n",
       "      <td>1034283</td>\n",
       "      <td>NaN</td>\n",
       "      <td>0</td>\n",
       "    </tr>\n",
       "  </tbody>\n",
       "</table>\n",
       "</div>"
      ],
      "text/plain": [
       "             id document  label\n",
       "25857   2172111      NaN      1\n",
       "55737   6369843      NaN      1\n",
       "110014  1034280      NaN      0\n",
       "126782  5942978      NaN      0\n",
       "140721  1034283      NaN      0"
      ]
     },
     "execution_count": 7,
     "metadata": {},
     "output_type": "execute_result"
    }
   ],
   "source": [
    "train_data[train_data['document'].isnull()]"
   ]
  },
  {
   "cell_type": "code",
   "execution_count": 8,
   "id": "6c423e2e",
   "metadata": {},
   "outputs": [
    {
     "data": {
      "text/plain": [
       "id          0\n",
       "document    3\n",
       "label       0\n",
       "dtype: int64"
      ]
     },
     "execution_count": 8,
     "metadata": {},
     "output_type": "execute_result"
    }
   ],
   "source": [
    "test_data.isnull().sum()"
   ]
  },
  {
   "cell_type": "code",
   "execution_count": 9,
   "id": "f52d7ee8",
   "metadata": {},
   "outputs": [
    {
     "data": {
      "text/html": [
       "<div>\n",
       "<style scoped>\n",
       "    .dataframe tbody tr th:only-of-type {\n",
       "        vertical-align: middle;\n",
       "    }\n",
       "\n",
       "    .dataframe tbody tr th {\n",
       "        vertical-align: top;\n",
       "    }\n",
       "\n",
       "    .dataframe thead th {\n",
       "        text-align: right;\n",
       "    }\n",
       "</style>\n",
       "<table border=\"1\" class=\"dataframe\">\n",
       "  <thead>\n",
       "    <tr style=\"text-align: right;\">\n",
       "      <th></th>\n",
       "      <th>id</th>\n",
       "      <th>document</th>\n",
       "      <th>label</th>\n",
       "    </tr>\n",
       "  </thead>\n",
       "  <tbody>\n",
       "    <tr>\n",
       "      <th>5746</th>\n",
       "      <td>402110</td>\n",
       "      <td>NaN</td>\n",
       "      <td>1</td>\n",
       "    </tr>\n",
       "    <tr>\n",
       "      <th>7899</th>\n",
       "      <td>5026896</td>\n",
       "      <td>NaN</td>\n",
       "      <td>0</td>\n",
       "    </tr>\n",
       "    <tr>\n",
       "      <th>27097</th>\n",
       "      <td>511097</td>\n",
       "      <td>NaN</td>\n",
       "      <td>1</td>\n",
       "    </tr>\n",
       "  </tbody>\n",
       "</table>\n",
       "</div>"
      ],
      "text/plain": [
       "            id document  label\n",
       "5746    402110      NaN      1\n",
       "7899   5026896      NaN      0\n",
       "27097   511097      NaN      1"
      ]
     },
     "execution_count": 9,
     "metadata": {},
     "output_type": "execute_result"
    }
   ],
   "source": [
    "test_data[test_data['document'].isnull()]"
   ]
  },
  {
   "cell_type": "markdown",
   "id": "8d5e4133",
   "metadata": {},
   "source": [
    "- 결측치는 train셋에 5개, test셋에 3개 존재\n",
    "- document 내용으로 분석해야하기 때문에 결측치에 대한 데이터는 삭제할 예정"
   ]
  },
  {
   "cell_type": "code",
   "execution_count": 10,
   "id": "4b1d320a",
   "metadata": {},
   "outputs": [],
   "source": [
    "train_data.dropna(axis=0, inplace=True)"
   ]
  },
  {
   "cell_type": "code",
   "execution_count": 11,
   "id": "8a7c5080",
   "metadata": {},
   "outputs": [],
   "source": [
    "test_data.dropna(axis=0, inplace=True)"
   ]
  },
  {
   "cell_type": "code",
   "execution_count": 12,
   "id": "784af52e",
   "metadata": {},
   "outputs": [
    {
     "data": {
      "text/plain": [
       "((149995, 3), (49997, 3))"
      ]
     },
     "execution_count": 12,
     "metadata": {},
     "output_type": "execute_result"
    }
   ],
   "source": [
    "train_data.shape, test_data.shape"
   ]
  },
  {
   "cell_type": "markdown",
   "id": "83046ed6",
   "metadata": {},
   "source": [
    "- train셋과 test셋에서 결측치가 있는 row를 모두 삭제함\n",
    "- train셋 5개 삭제, test셋 3개 삭제"
   ]
  },
  {
   "cell_type": "code",
   "execution_count": null,
   "id": "d3e2faa0",
   "metadata": {},
   "outputs": [],
   "source": []
  },
  {
   "cell_type": "markdown",
   "id": "54f91c5b",
   "metadata": {},
   "source": [
    "### 2.중복 데이터 확인"
   ]
  },
  {
   "cell_type": "code",
   "execution_count": 13,
   "id": "4c0b24c3",
   "metadata": {},
   "outputs": [
    {
     "data": {
      "text/html": [
       "<div>\n",
       "<style scoped>\n",
       "    .dataframe tbody tr th:only-of-type {\n",
       "        vertical-align: middle;\n",
       "    }\n",
       "\n",
       "    .dataframe tbody tr th {\n",
       "        vertical-align: top;\n",
       "    }\n",
       "\n",
       "    .dataframe thead th {\n",
       "        text-align: right;\n",
       "    }\n",
       "</style>\n",
       "<table border=\"1\" class=\"dataframe\">\n",
       "  <thead>\n",
       "    <tr style=\"text-align: right;\">\n",
       "      <th></th>\n",
       "      <th>id</th>\n",
       "      <th>document</th>\n",
       "      <th>label</th>\n",
       "    </tr>\n",
       "  </thead>\n",
       "  <tbody>\n",
       "    <tr>\n",
       "      <th>1058</th>\n",
       "      <td>5890638</td>\n",
       "      <td>4</td>\n",
       "      <td>0</td>\n",
       "    </tr>\n",
       "    <tr>\n",
       "      <th>1097</th>\n",
       "      <td>2062443</td>\n",
       "      <td>쵝오</td>\n",
       "      <td>1</td>\n",
       "    </tr>\n",
       "    <tr>\n",
       "      <th>1248</th>\n",
       "      <td>3502685</td>\n",
       "      <td>최고</td>\n",
       "      <td>1</td>\n",
       "    </tr>\n",
       "    <tr>\n",
       "      <th>1483</th>\n",
       "      <td>775332</td>\n",
       "      <td>최고</td>\n",
       "      <td>1</td>\n",
       "    </tr>\n",
       "    <tr>\n",
       "      <th>1707</th>\n",
       "      <td>8009134</td>\n",
       "      <td>재밌다</td>\n",
       "      <td>1</td>\n",
       "    </tr>\n",
       "  </tbody>\n",
       "</table>\n",
       "</div>"
      ],
      "text/plain": [
       "           id document  label\n",
       "1058  5890638        4      0\n",
       "1097  2062443       쵝오      1\n",
       "1248  3502685       최고      1\n",
       "1483   775332       최고      1\n",
       "1707  8009134      재밌다      1"
      ]
     },
     "execution_count": 13,
     "metadata": {},
     "output_type": "execute_result"
    }
   ],
   "source": [
    "train_data[train_data.duplicated(subset=['document'])].head()"
   ]
  },
  {
   "cell_type": "code",
   "execution_count": 14,
   "id": "fb059017",
   "metadata": {},
   "outputs": [
    {
     "data": {
      "text/html": [
       "<div>\n",
       "<style scoped>\n",
       "    .dataframe tbody tr th:only-of-type {\n",
       "        vertical-align: middle;\n",
       "    }\n",
       "\n",
       "    .dataframe tbody tr th {\n",
       "        vertical-align: top;\n",
       "    }\n",
       "\n",
       "    .dataframe thead th {\n",
       "        text-align: right;\n",
       "    }\n",
       "</style>\n",
       "<table border=\"1\" class=\"dataframe\">\n",
       "  <thead>\n",
       "    <tr style=\"text-align: right;\">\n",
       "      <th></th>\n",
       "      <th>id</th>\n",
       "      <th>document</th>\n",
       "      <th>label</th>\n",
       "    </tr>\n",
       "  </thead>\n",
       "  <tbody>\n",
       "    <tr>\n",
       "      <th>857</th>\n",
       "      <td>2084375</td>\n",
       "      <td>bad</td>\n",
       "      <td>0</td>\n",
       "    </tr>\n",
       "    <tr>\n",
       "      <th>956</th>\n",
       "      <td>195683</td>\n",
       "      <td>재미있어요</td>\n",
       "      <td>1</td>\n",
       "    </tr>\n",
       "    <tr>\n",
       "      <th>1089</th>\n",
       "      <td>2235528</td>\n",
       "      <td>볼만함</td>\n",
       "      <td>1</td>\n",
       "    </tr>\n",
       "    <tr>\n",
       "      <th>1149</th>\n",
       "      <td>4409686</td>\n",
       "      <td>굿</td>\n",
       "      <td>1</td>\n",
       "    </tr>\n",
       "    <tr>\n",
       "      <th>1600</th>\n",
       "      <td>3805716</td>\n",
       "      <td>최고</td>\n",
       "      <td>1</td>\n",
       "    </tr>\n",
       "  </tbody>\n",
       "</table>\n",
       "</div>"
      ],
      "text/plain": [
       "           id document  label\n",
       "857   2084375      bad      0\n",
       "956    195683    재미있어요      1\n",
       "1089  2235528      볼만함      1\n",
       "1149  4409686        굿      1\n",
       "1600  3805716       최고      1"
      ]
     },
     "execution_count": 14,
     "metadata": {},
     "output_type": "execute_result"
    }
   ],
   "source": [
    "test_data[test_data.duplicated(subset=['document'])].head()"
   ]
  },
  {
   "cell_type": "markdown",
   "id": "51bdac33",
   "metadata": {},
   "source": [
    "- duplicated()로 본 결과, train셋과 test셋에 중복이 존재함"
   ]
  },
  {
   "cell_type": "code",
   "execution_count": 15,
   "id": "fc8f588a",
   "metadata": {},
   "outputs": [],
   "source": [
    "train_data.drop_duplicates(subset=['document'], inplace=True)"
   ]
  },
  {
   "cell_type": "code",
   "execution_count": 16,
   "id": "c0e5e303",
   "metadata": {},
   "outputs": [],
   "source": [
    "test_data.drop_duplicates(subset=['document'], inplace=True)"
   ]
  },
  {
   "cell_type": "code",
   "execution_count": 17,
   "id": "edcf7720",
   "metadata": {},
   "outputs": [
    {
     "data": {
      "text/plain": [
       "((146182, 3), (49157, 3))"
      ]
     },
     "execution_count": 17,
     "metadata": {},
     "output_type": "execute_result"
    }
   ],
   "source": [
    "train_data.shape, test_data.shape"
   ]
  },
  {
   "cell_type": "markdown",
   "id": "f798d123",
   "metadata": {},
   "source": [
    "- 중복을 drop_duplicates으로 제거함 (중복된 것 중, 디폴트값에 의해 첫번째만 남고 나머지 제거됨)\n",
    "- 중복 제거된 train과 test는 146,182개, 49,157개의 데이터가 있음"
   ]
  },
  {
   "cell_type": "code",
   "execution_count": null,
   "id": "bf4e5c7d",
   "metadata": {},
   "outputs": [],
   "source": []
  },
  {
   "cell_type": "code",
   "execution_count": null,
   "id": "4cffb308",
   "metadata": {},
   "outputs": [],
   "source": []
  },
  {
   "cell_type": "markdown",
   "id": "a1049028",
   "metadata": {},
   "source": [
    "## Data loader 만들기"
   ]
  },
  {
   "cell_type": "markdown",
   "id": "0818c83c",
   "metadata": {},
   "source": [
    "### 1. Mecab() 알아보기"
   ]
  },
  {
   "cell_type": "code",
   "execution_count": 18,
   "id": "f2a119a9",
   "metadata": {},
   "outputs": [],
   "source": [
    "tokenizer = Mecab()"
   ]
  },
  {
   "cell_type": "code",
   "execution_count": 19,
   "id": "c830cd69",
   "metadata": {
    "scrolled": true
   },
   "outputs": [
    {
     "data": {
      "text/plain": [
       "['테스트', '.', '나', '는', '강태원', '입니다', '.', '당신', '은', '누구', '십니까', '?']"
      ]
     },
     "execution_count": 19,
     "metadata": {},
     "output_type": "execute_result"
    }
   ],
   "source": [
    "tokenizer.morphs(\"테스트. 나는 강태원입니다. 당신은 누구십니까?\")"
   ]
  },
  {
   "cell_type": "code",
   "execution_count": 20,
   "id": "e570218c",
   "metadata": {},
   "outputs": [
    {
     "data": {
      "text/plain": [
       "[('테스트', 'NNG'),\n",
       " ('.', 'SF'),\n",
       " ('나', 'NP'),\n",
       " ('는', 'JX'),\n",
       " ('강태원', 'NNP'),\n",
       " ('입니다', 'VCP+EF'),\n",
       " ('.', 'SF'),\n",
       " ('당신', 'NP'),\n",
       " ('은', 'JX'),\n",
       " ('누구', 'NP'),\n",
       " ('십니까', 'VCP+EP+EF'),\n",
       " ('?', 'SF')]"
      ]
     },
     "execution_count": 20,
     "metadata": {},
     "output_type": "execute_result"
    }
   ],
   "source": [
    "tokenizer.pos(\"테스트. 나는 강태원입니다. 당신은 누구십니까?\")"
   ]
  },
  {
   "cell_type": "markdown",
   "id": "6a87e05d",
   "metadata": {},
   "source": [
    "- morphs : 토큰만 뽑아냄\n",
    "- pos : 토큰의 형태도 출력함"
   ]
  },
  {
   "cell_type": "code",
   "execution_count": null,
   "id": "170b0a7a",
   "metadata": {},
   "outputs": [],
   "source": []
  },
  {
   "cell_type": "markdown",
   "id": "1a7df9e8",
   "metadata": {},
   "source": [
    "### 2. 토큰 추출 및 데이터셋에 'token' column 추가"
   ]
  },
  {
   "cell_type": "code",
   "execution_count": 21,
   "id": "a3cbe8ce",
   "metadata": {},
   "outputs": [],
   "source": [
    "stopwords = ['의','가','이','은','들','는','좀','잘','걍','과','도','를','으로','자','에','와','한','하다']"
   ]
  },
  {
   "cell_type": "markdown",
   "id": "f7972847",
   "metadata": {},
   "source": [
    "- 불용어 리스트를 지정\n",
    "- 불용어에 해당하는 토큰은 제외하고자 함"
   ]
  },
  {
   "cell_type": "code",
   "execution_count": 22,
   "id": "750940f6",
   "metadata": {},
   "outputs": [
    {
     "name": "stderr",
     "output_type": "stream",
     "text": [
      "/tmp/ipykernel_6767/2766228128.py:18: SettingWithCopyWarning: \n",
      "A value is trying to be set on a copy of a slice from a DataFrame\n",
      "\n",
      "See the caveats in the documentation: https://pandas.pydata.org/pandas-docs/stable/user_guide/indexing.html#returning-a-view-versus-a-copy\n",
      "  train_data['token'][idx] = good_senten_token  # good_senten_token : 'token' column에 토큰들의 리스트를 추가\n",
      "/opt/conda/lib/python3.9/site-packages/pandas/core/indexing.py:1732: SettingWithCopyWarning: \n",
      "A value is trying to be set on a copy of a slice from a DataFrame\n",
      "\n",
      "See the caveats in the documentation: https://pandas.pydata.org/pandas-docs/stable/user_guide/indexing.html#returning-a-view-versus-a-copy\n",
      "  self._setitem_single_block(indexer, value, name)\n"
     ]
    }
   ],
   "source": [
    "word_list = []\n",
    "\n",
    "train_data['token'] = 0\n",
    "\n",
    "for sentence, idx in zip(train_data['document'], train_data.index):\n",
    "    sentence = re.sub(r\"[^가-힣a-zA-Z]+\", \" \", str(sentence))  # 정규식을 통해 (가-힣, a-z, A-Z, 0-9)가 아닌 것은 없앰\n",
    "    senten_token = tokenizer.morphs(sentence)  # 문장에서 토큰 추출\n",
    "    \n",
    "    good_senten_token = []\n",
    "    for token in senten_token:\n",
    "        \n",
    "        if token in stopwords:  # 불용어에 해당하는 토큰은 continue를 통해 제외함\n",
    "            continue\n",
    "            \n",
    "        else:\n",
    "            good_senten_token.append(token)  # 불용어에 해당하지 않는 토큰은 good_senten_token에 추가함\n",
    "            \n",
    "    train_data['token'][idx] = good_senten_token  # good_senten_token : 'token' column에 토큰들의 리스트를 추가\n",
    "    \n",
    "    for word in good_senten_token:   # good_senten_token에 들어있는 토큰들을 word_list에 추가\n",
    "        word_list.append(word)"
   ]
  },
  {
   "cell_type": "markdown",
   "id": "aac99017",
   "metadata": {},
   "source": [
    "- re.sub(r\"[^가-힣a-zA-Z]+\", \" \", str(sentence) : 정규식을 통해 (가-힣, a-z, A-Z)가 아닌 것은 없앰\n",
    "- tokenizer.morphs(sentence) : 문장에서 토큰 추출\n",
    "- if token in stopwords : 불용어에 해당하는 토큰은 continue를 통해 제외함\n",
    "- good_senten_token.append(token) : 불용어에 해당하지 않는 토큰은 good_senten_token에 추가함\n",
    "- train_data['token'][idx] : good_senten_token : 'token' column에 토큰들의 리스트를 추가\n",
    "- word_list.append(word) : good_senten_token에 들어있는 토큰들을 word_list에 추가"
   ]
  },
  {
   "cell_type": "code",
   "execution_count": 23,
   "id": "f358d29f",
   "metadata": {},
   "outputs": [
    {
     "name": "stderr",
     "output_type": "stream",
     "text": [
      "/tmp/ipykernel_6767/1273413689.py:16: SettingWithCopyWarning: \n",
      "A value is trying to be set on a copy of a slice from a DataFrame\n",
      "\n",
      "See the caveats in the documentation: https://pandas.pydata.org/pandas-docs/stable/user_guide/indexing.html#returning-a-view-versus-a-copy\n",
      "  test_data['token'][idx] = good_senten_token\n"
     ]
    }
   ],
   "source": [
    "test_data['token'] = 0\n",
    "\n",
    "for sentence, idx in zip(test_data['document'], test_data.index):\n",
    "    sentence = re.sub(r\"[^가-힣a-zA-Z]+\", \" \", str(sentence))\n",
    "    senten_token = tokenizer.morphs(sentence)\n",
    "    \n",
    "    good_senten_token = []\n",
    "    for token in senten_token:\n",
    "        \n",
    "        if token in stopwords:\n",
    "            continue\n",
    "            \n",
    "        else:\n",
    "            good_senten_token.append(token)\n",
    "            \n",
    "    test_data['token'][idx] = good_senten_token"
   ]
  },
  {
   "cell_type": "code",
   "execution_count": 24,
   "id": "6ea08cfe",
   "metadata": {},
   "outputs": [
    {
     "data": {
      "text/html": [
       "<div>\n",
       "<style scoped>\n",
       "    .dataframe tbody tr th:only-of-type {\n",
       "        vertical-align: middle;\n",
       "    }\n",
       "\n",
       "    .dataframe tbody tr th {\n",
       "        vertical-align: top;\n",
       "    }\n",
       "\n",
       "    .dataframe thead th {\n",
       "        text-align: right;\n",
       "    }\n",
       "</style>\n",
       "<table border=\"1\" class=\"dataframe\">\n",
       "  <thead>\n",
       "    <tr style=\"text-align: right;\">\n",
       "      <th></th>\n",
       "      <th>id</th>\n",
       "      <th>document</th>\n",
       "      <th>label</th>\n",
       "      <th>token</th>\n",
       "    </tr>\n",
       "  </thead>\n",
       "  <tbody>\n",
       "    <tr>\n",
       "      <th>0</th>\n",
       "      <td>9976970</td>\n",
       "      <td>아 더빙.. 진짜 짜증나네요 목소리</td>\n",
       "      <td>0</td>\n",
       "      <td>[아, 더, 빙, 진짜, 짜증, 나, 네요, 목소리]</td>\n",
       "    </tr>\n",
       "    <tr>\n",
       "      <th>1</th>\n",
       "      <td>3819312</td>\n",
       "      <td>흠...포스터보고 초딩영화줄....오버연기조차 가볍지 않구나</td>\n",
       "      <td>1</td>\n",
       "      <td>[흠, 포스터, 보고, 초딩, 영화, 줄, 오버, 연기, 조차, 가볍, 지, 않, 구나]</td>\n",
       "    </tr>\n",
       "    <tr>\n",
       "      <th>2</th>\n",
       "      <td>10265843</td>\n",
       "      <td>너무재밓었다그래서보는것을추천한다</td>\n",
       "      <td>0</td>\n",
       "      <td>[너무, 재, 밓었다그래서보는것을추천한다]</td>\n",
       "    </tr>\n",
       "    <tr>\n",
       "      <th>3</th>\n",
       "      <td>9045019</td>\n",
       "      <td>교도소 이야기구먼 ..솔직히 재미는 없다..평점 조정</td>\n",
       "      <td>0</td>\n",
       "      <td>[교도소, 이야기, 구먼, 솔직히, 재미, 없, 다, 평점, 조정]</td>\n",
       "    </tr>\n",
       "    <tr>\n",
       "      <th>4</th>\n",
       "      <td>6483659</td>\n",
       "      <td>사이몬페그의 익살스런 연기가 돋보였던 영화!스파이더맨에서 늙어보이기만 했던 커스틴 ...</td>\n",
       "      <td>1</td>\n",
       "      <td>[사이몬페그, 익살, 스런, 연기, 돋보였, 던, 영화, 스파이더맨, 에서, 늙, ...</td>\n",
       "    </tr>\n",
       "  </tbody>\n",
       "</table>\n",
       "</div>"
      ],
      "text/plain": [
       "         id                                           document  label  \\\n",
       "0   9976970                                아 더빙.. 진짜 짜증나네요 목소리      0   \n",
       "1   3819312                  흠...포스터보고 초딩영화줄....오버연기조차 가볍지 않구나      1   \n",
       "2  10265843                                  너무재밓었다그래서보는것을추천한다      0   \n",
       "3   9045019                      교도소 이야기구먼 ..솔직히 재미는 없다..평점 조정      0   \n",
       "4   6483659  사이몬페그의 익살스런 연기가 돋보였던 영화!스파이더맨에서 늙어보이기만 했던 커스틴 ...      1   \n",
       "\n",
       "                                               token  \n",
       "0                      [아, 더, 빙, 진짜, 짜증, 나, 네요, 목소리]  \n",
       "1  [흠, 포스터, 보고, 초딩, 영화, 줄, 오버, 연기, 조차, 가볍, 지, 않, 구나]  \n",
       "2                            [너무, 재, 밓었다그래서보는것을추천한다]  \n",
       "3              [교도소, 이야기, 구먼, 솔직히, 재미, 없, 다, 평점, 조정]  \n",
       "4  [사이몬페그, 익살, 스런, 연기, 돋보였, 던, 영화, 스파이더맨, 에서, 늙, ...  "
      ]
     },
     "execution_count": 24,
     "metadata": {},
     "output_type": "execute_result"
    }
   ],
   "source": [
    "train_data.head()"
   ]
  },
  {
   "cell_type": "code",
   "execution_count": 25,
   "id": "53e4df01",
   "metadata": {},
   "outputs": [
    {
     "data": {
      "text/html": [
       "<div>\n",
       "<style scoped>\n",
       "    .dataframe tbody tr th:only-of-type {\n",
       "        vertical-align: middle;\n",
       "    }\n",
       "\n",
       "    .dataframe tbody tr th {\n",
       "        vertical-align: top;\n",
       "    }\n",
       "\n",
       "    .dataframe thead th {\n",
       "        text-align: right;\n",
       "    }\n",
       "</style>\n",
       "<table border=\"1\" class=\"dataframe\">\n",
       "  <thead>\n",
       "    <tr style=\"text-align: right;\">\n",
       "      <th></th>\n",
       "      <th>id</th>\n",
       "      <th>document</th>\n",
       "      <th>label</th>\n",
       "      <th>token</th>\n",
       "    </tr>\n",
       "  </thead>\n",
       "  <tbody>\n",
       "    <tr>\n",
       "      <th>0</th>\n",
       "      <td>6270596</td>\n",
       "      <td>굳 ㅋ</td>\n",
       "      <td>1</td>\n",
       "      <td>[굳]</td>\n",
       "    </tr>\n",
       "    <tr>\n",
       "      <th>1</th>\n",
       "      <td>9274899</td>\n",
       "      <td>GDNTOPCLASSINTHECLUB</td>\n",
       "      <td>0</td>\n",
       "      <td>[GDNTOPCLASSINTHECLUB]</td>\n",
       "    </tr>\n",
       "    <tr>\n",
       "      <th>2</th>\n",
       "      <td>8544678</td>\n",
       "      <td>뭐야 이 평점들은.... 나쁘진 않지만 10점 짜리는 더더욱 아니잖아</td>\n",
       "      <td>0</td>\n",
       "      <td>[뭐, 야, 평점, 나쁘, 진, 않, 지만, 점, 짜리, 더더욱, 아니, 잖아]</td>\n",
       "    </tr>\n",
       "    <tr>\n",
       "      <th>3</th>\n",
       "      <td>6825595</td>\n",
       "      <td>지루하지는 않은데 완전 막장임... 돈주고 보기에는....</td>\n",
       "      <td>0</td>\n",
       "      <td>[지루, 하, 지, 않, 은데, 완전, 막장, 임, 돈, 주, 고, 보, 기]</td>\n",
       "    </tr>\n",
       "    <tr>\n",
       "      <th>4</th>\n",
       "      <td>6723715</td>\n",
       "      <td>3D만 아니었어도 별 다섯 개 줬을텐데.. 왜 3D로 나와서 제 심기를 불편하게 하죠??</td>\n",
       "      <td>0</td>\n",
       "      <td>[D, 만, 아니, 었, 어도, 별, 다섯, 개, 줬, 을, 텐데, 왜, D, 로,...</td>\n",
       "    </tr>\n",
       "  </tbody>\n",
       "</table>\n",
       "</div>"
      ],
      "text/plain": [
       "        id                                           document  label  \\\n",
       "0  6270596                                                굳 ㅋ      1   \n",
       "1  9274899                               GDNTOPCLASSINTHECLUB      0   \n",
       "2  8544678             뭐야 이 평점들은.... 나쁘진 않지만 10점 짜리는 더더욱 아니잖아      0   \n",
       "3  6825595                   지루하지는 않은데 완전 막장임... 돈주고 보기에는....      0   \n",
       "4  6723715  3D만 아니었어도 별 다섯 개 줬을텐데.. 왜 3D로 나와서 제 심기를 불편하게 하죠??      0   \n",
       "\n",
       "                                               token  \n",
       "0                                                [굳]  \n",
       "1                             [GDNTOPCLASSINTHECLUB]  \n",
       "2       [뭐, 야, 평점, 나쁘, 진, 않, 지만, 점, 짜리, 더더욱, 아니, 잖아]  \n",
       "3        [지루, 하, 지, 않, 은데, 완전, 막장, 임, 돈, 주, 고, 보, 기]  \n",
       "4  [D, 만, 아니, 었, 어도, 별, 다섯, 개, 줬, 을, 텐데, 왜, D, 로,...  "
      ]
     },
     "execution_count": 25,
     "metadata": {},
     "output_type": "execute_result"
    }
   ],
   "source": [
    "test_data.head()"
   ]
  },
  {
   "cell_type": "code",
   "execution_count": 26,
   "id": "429fe318",
   "metadata": {},
   "outputs": [
    {
     "data": {
      "text/plain": [
       "id          0\n",
       "document    0\n",
       "label       0\n",
       "token       0\n",
       "dtype: int64"
      ]
     },
     "execution_count": 26,
     "metadata": {},
     "output_type": "execute_result"
    }
   ],
   "source": [
    "train_data.isnull().sum()"
   ]
  },
  {
   "cell_type": "code",
   "execution_count": 27,
   "id": "83314885",
   "metadata": {},
   "outputs": [
    {
     "data": {
      "text/plain": [
       "id          0\n",
       "document    0\n",
       "label       0\n",
       "token       0\n",
       "dtype: int64"
      ]
     },
     "execution_count": 27,
     "metadata": {},
     "output_type": "execute_result"
    }
   ],
   "source": [
    "test_data.isnull().sum()"
   ]
  },
  {
   "cell_type": "markdown",
   "id": "41675aa9",
   "metadata": {},
   "source": [
    "- train과 test에는 결측치가 없음"
   ]
  },
  {
   "cell_type": "code",
   "execution_count": null,
   "id": "5dc43c91",
   "metadata": {},
   "outputs": [],
   "source": []
  },
  {
   "cell_type": "markdown",
   "id": "72b8b2ad",
   "metadata": {},
   "source": [
    "### 3. 모델에 들어갈 train셋과 test셋 분할"
   ]
  },
  {
   "cell_type": "code",
   "execution_count": 28,
   "id": "f59a49ca",
   "metadata": {},
   "outputs": [],
   "source": [
    "x_train = train_data['token']\n",
    "y_train = train_data['label']"
   ]
  },
  {
   "cell_type": "markdown",
   "id": "825d2f97",
   "metadata": {},
   "source": [
    "- train셋에서 feature와 label을 나눔"
   ]
  },
  {
   "cell_type": "code",
   "execution_count": 29,
   "id": "f09993b7",
   "metadata": {},
   "outputs": [],
   "source": [
    "x_test = test_data['token']\n",
    "y_test = test_data['label']"
   ]
  },
  {
   "cell_type": "markdown",
   "id": "295a625d",
   "metadata": {},
   "source": [
    "- test셋에서 feature와 label을 나눔"
   ]
  },
  {
   "cell_type": "code",
   "execution_count": 30,
   "id": "c8925843",
   "metadata": {},
   "outputs": [
    {
     "data": {
      "text/plain": [
       "((146182,), (146182,))"
      ]
     },
     "execution_count": 30,
     "metadata": {},
     "output_type": "execute_result"
    }
   ],
   "source": [
    "x_train.shape, y_train.shape"
   ]
  },
  {
   "cell_type": "code",
   "execution_count": 31,
   "id": "4644b470",
   "metadata": {},
   "outputs": [
    {
     "data": {
      "text/plain": [
       "((49157,), (49157,))"
      ]
     },
     "execution_count": 31,
     "metadata": {},
     "output_type": "execute_result"
    }
   ],
   "source": [
    "x_test.shape, y_test.shape"
   ]
  },
  {
   "cell_type": "markdown",
   "id": "ed2ac02b",
   "metadata": {},
   "source": [
    "### 4. 토큰 가공"
   ]
  },
  {
   "cell_type": "code",
   "execution_count": 32,
   "id": "afa1556d",
   "metadata": {},
   "outputs": [
    {
     "data": {
      "text/plain": [
       "'아'"
      ]
     },
     "execution_count": 32,
     "metadata": {},
     "output_type": "execute_result"
    }
   ],
   "source": [
    "word_list[0]"
   ]
  },
  {
   "cell_type": "code",
   "execution_count": 33,
   "id": "23b112a8",
   "metadata": {},
   "outputs": [],
   "source": [
    "counter = Counter(word_list)"
   ]
  },
  {
   "cell_type": "markdown",
   "id": "d1d6e2d3",
   "metadata": {},
   "source": [
    "- Counter()를 통해 word_list의 토큰들의 빈도 체크"
   ]
  },
  {
   "cell_type": "code",
   "execution_count": 34,
   "id": "47971f88",
   "metadata": {},
   "outputs": [],
   "source": [
    "counter = counter.most_common(10000-4)"
   ]
  },
  {
   "cell_type": "markdown",
   "id": "774465b6",
   "metadata": {},
   "source": [
    "- 가장 많이 사용된 토큰을 9,996개 뽑아둠 (3개는 \\'\\<PAD>': 0, \\'\\<BOS>': 1, \\'\\<UNK>': 2 로 채울 예정)"
   ]
  },
  {
   "cell_type": "code",
   "execution_count": 35,
   "id": "be3d30a7",
   "metadata": {},
   "outputs": [
    {
     "data": {
      "text/plain": [
       "[('영화', 57417), ('다', 54780), ('고', 47303), ('하', 44683)]"
      ]
     },
     "execution_count": 35,
     "metadata": {},
     "output_type": "execute_result"
    }
   ],
   "source": [
    "counter[0:4]"
   ]
  },
  {
   "cell_type": "code",
   "execution_count": 36,
   "id": "6f93f07f",
   "metadata": {},
   "outputs": [],
   "source": [
    "count_list = []\n",
    "for i, j in counter:\n",
    "    count_list.append(i)"
   ]
  },
  {
   "cell_type": "code",
   "execution_count": 37,
   "id": "190aaef9",
   "metadata": {},
   "outputs": [
    {
     "data": {
      "text/plain": [
       "9996"
      ]
     },
     "execution_count": 37,
     "metadata": {},
     "output_type": "execute_result"
    }
   ],
   "source": [
    "len(count_list)"
   ]
  },
  {
   "cell_type": "markdown",
   "id": "69c4a5b3",
   "metadata": {},
   "source": [
    "### 5. 토큰을 딕셔너리로 묶음"
   ]
  },
  {
   "cell_type": "code",
   "execution_count": 38,
   "id": "9dc2521b",
   "metadata": {},
   "outputs": [],
   "source": [
    "word_to_index={}\n",
    "\n",
    "word_to_index['<PAD>'] = 0  # 패딩이 들어갈 자리\n",
    "word_to_index['<BOS>'] = 1  # 문장의 시작을 알리는 토큰\n",
    "word_to_index['<UNK>'] = 2  # 빈도수 기준 9,996개에 들어가지 못한 토큰들은 UNK로 표현될 예정\n",
    "\n",
    "for idx, word in enumerate(count_list):\n",
    "    word_to_index[word]=idx+3"
   ]
  },
  {
   "cell_type": "code",
   "execution_count": 39,
   "id": "17160910",
   "metadata": {},
   "outputs": [
    {
     "data": {
      "text/plain": [
       "0"
      ]
     },
     "execution_count": 39,
     "metadata": {},
     "output_type": "execute_result"
    }
   ],
   "source": [
    "word_to_index['<PAD>']"
   ]
  },
  {
   "cell_type": "markdown",
   "id": "bc5f6213",
   "metadata": {},
   "source": [
    "- 토큰을 key값으로 하고 인덱스를 value로 가지는 딕셔너리 생성"
   ]
  },
  {
   "cell_type": "code",
   "execution_count": 40,
   "id": "7a2b0fcc",
   "metadata": {},
   "outputs": [],
   "source": [
    "# index_to_word"
   ]
  },
  {
   "cell_type": "code",
   "execution_count": 41,
   "id": "2921478c",
   "metadata": {},
   "outputs": [
    {
     "data": {
      "text/plain": [
       "9999"
      ]
     },
     "execution_count": 41,
     "metadata": {},
     "output_type": "execute_result"
    }
   ],
   "source": [
    "len(word_to_index)"
   ]
  },
  {
   "cell_type": "code",
   "execution_count": 42,
   "id": "0b962be9",
   "metadata": {},
   "outputs": [],
   "source": [
    "index_to_word = {index:word for word, index in word_to_index.items()}"
   ]
  },
  {
   "cell_type": "markdown",
   "id": "c28d6f19",
   "metadata": {},
   "source": [
    "- 인덱스를 key값으로 하고 토큰을 value로 가지는 딕셔너리 생성"
   ]
  },
  {
   "cell_type": "code",
   "execution_count": 43,
   "id": "b13bd185",
   "metadata": {},
   "outputs": [
    {
     "data": {
      "text/plain": [
       "9999"
      ]
     },
     "execution_count": 43,
     "metadata": {},
     "output_type": "execute_result"
    }
   ],
   "source": [
    "len(index_to_word)"
   ]
  },
  {
   "cell_type": "code",
   "execution_count": null,
   "id": "db000d23",
   "metadata": {},
   "outputs": [],
   "source": []
  },
  {
   "cell_type": "code",
   "execution_count": null,
   "id": "da3496c6",
   "metadata": {},
   "outputs": [],
   "source": []
  },
  {
   "cell_type": "markdown",
   "id": "58ccd521",
   "metadata": {},
   "source": [
    "## 인코딩과 디코딩 함수 만들기"
   ]
  },
  {
   "cell_type": "code",
   "execution_count": 44,
   "id": "22cca906",
   "metadata": {},
   "outputs": [],
   "source": [
    "def get_encoded_sentence(sentence, word_to_index):\n",
    "    return [word_to_index['<BOS>']]+[word_to_index[word] if word in word_to_index else word_to_index['<UNK>'] for word in sentence]"
   ]
  },
  {
   "cell_type": "markdown",
   "id": "4e4fe13f",
   "metadata": {},
   "source": [
    "- 문장 1개를 인덱스 리스트 벡터로 인코딩하는 함수입니다. \n",
    "- 모든 문장은 \\<BOS>로 시작함"
   ]
  },
  {
   "cell_type": "code",
   "execution_count": 45,
   "id": "f40be81c",
   "metadata": {},
   "outputs": [],
   "source": [
    "def get_encoded_sentences(sentences, word_to_index):\n",
    "    return [get_encoded_sentence(sentence, word_to_index) for sentence in sentences]"
   ]
  },
  {
   "cell_type": "markdown",
   "id": "df2ef990",
   "metadata": {},
   "source": [
    "- 문장 여러개를 인덱스 리스트 벡터로 인코딩하는 함수입니다."
   ]
  },
  {
   "cell_type": "code",
   "execution_count": 46,
   "id": "56a425d7",
   "metadata": {},
   "outputs": [],
   "source": [
    "def get_decoded_sentence(encoded_sentence, index_to_word):\n",
    "    return ' '.join(index_to_word[index] if index in index_to_word else '<UNK>' for index in encoded_sentence[1:])"
   ]
  },
  {
   "cell_type": "markdown",
   "id": "3ce813a2",
   "metadata": {},
   "source": [
    "- 인코딩된 벡터 1개를 문장으로 디코딩하는 함수"
   ]
  },
  {
   "cell_type": "code",
   "execution_count": 47,
   "id": "ea7cfc74",
   "metadata": {},
   "outputs": [],
   "source": [
    "def get_decoded_sentences(encoded_sentences, index_to_word):\n",
    "    return [get_decoded_sentence(encoded_sentence, index_to_word) for encoded_sentence in encoded_sentences]"
   ]
  },
  {
   "cell_type": "markdown",
   "id": "1423468a",
   "metadata": {},
   "source": [
    "- 인코딩된 벡터 여러개를 문장들로 디코딩하는 함수"
   ]
  },
  {
   "cell_type": "code",
   "execution_count": null,
   "id": "8f4c6d9f",
   "metadata": {},
   "outputs": [],
   "source": []
  },
  {
   "cell_type": "code",
   "execution_count": null,
   "id": "f09b7131",
   "metadata": {},
   "outputs": [],
   "source": []
  },
  {
   "cell_type": "markdown",
   "id": "701d3c68",
   "metadata": {},
   "source": [
    "## 시퀀스 만들기"
   ]
  },
  {
   "cell_type": "markdown",
   "id": "8351029f",
   "metadata": {},
   "source": [
    "### 1. 인코딩하기"
   ]
  },
  {
   "cell_type": "code",
   "execution_count": 48,
   "id": "049e3755",
   "metadata": {},
   "outputs": [],
   "source": [
    "x_train_encode = get_encoded_sentences(x_train, word_to_index)"
   ]
  },
  {
   "cell_type": "code",
   "execution_count": 49,
   "id": "370acb68",
   "metadata": {},
   "outputs": [
    {
     "data": {
      "text/plain": [
       "[1, 26, 64, 880, 32, 207, 14, 27, 691]"
      ]
     },
     "execution_count": 49,
     "metadata": {},
     "output_type": "execute_result"
    }
   ],
   "source": [
    "x_train_encode[0]"
   ]
  },
  {
   "cell_type": "code",
   "execution_count": 50,
   "id": "9a8b928f",
   "metadata": {},
   "outputs": [],
   "source": [
    "x_test_encode = get_encoded_sentences(x_test, word_to_index)"
   ]
  },
  {
   "cell_type": "code",
   "execution_count": 51,
   "id": "1213eacf",
   "metadata": {},
   "outputs": [
    {
     "data": {
      "text/plain": [
       "[1, 768]"
      ]
     },
     "execution_count": 51,
     "metadata": {},
     "output_type": "execute_result"
    }
   ],
   "source": [
    "x_test_encode[0]"
   ]
  },
  {
   "cell_type": "markdown",
   "id": "ced53939",
   "metadata": {},
   "source": [
    "### 2. 시퀀스 길이 정하기"
   ]
  },
  {
   "cell_type": "code",
   "execution_count": 52,
   "id": "bdfca316",
   "metadata": {},
   "outputs": [
    {
     "name": "stdout",
     "output_type": "stream",
     "text": [
      "문장길이 평균 :  14.639053133270878\n",
      "문장길이 최대 :  106\n",
      "문장길이 표준편차 :  11.465804944898359\n",
      "pad_sequences maxlen :  37\n",
      "전체 문장의 0.934278357112507%가 maxlen 설정값 이내에 포함됩니다. \n"
     ]
    }
   ],
   "source": [
    "total_data_text = list(x_train_encode) + list(x_test_encode)\n",
    "# 텍스트데이터 문장길이의 리스트를 생성한 후\n",
    "num_tokens = [len(tokens) for tokens in total_data_text]\n",
    "num_tokens = np.array(num_tokens)\n",
    "# 문장길이의 평균값, 최대값, 표준편차를 계산해 본다. \n",
    "print('문장길이 평균 : ', np.mean(num_tokens))\n",
    "print('문장길이 최대 : ', np.max(num_tokens))\n",
    "print('문장길이 표준편차 : ', np.std(num_tokens))\n",
    "\n",
    "# 예를들어, 최대 길이를 (평균 + 2*표준편차)로 한다면,  \n",
    "max_tokens = np.mean(num_tokens) + 2 * np.std(num_tokens)\n",
    "maxlen = int(max_tokens)\n",
    "print('pad_sequences maxlen : ', maxlen)\n",
    "print('전체 문장의 {}%가 maxlen 설정값 이내에 포함됩니다. '.format(np.sum(num_tokens < max_tokens) / len(num_tokens)))"
   ]
  },
  {
   "cell_type": "markdown",
   "id": "d65b1b5c",
   "metadata": {},
   "source": [
    "시퀀스의 길이는 : 37로 정함"
   ]
  },
  {
   "cell_type": "markdown",
   "id": "3173d55a",
   "metadata": {},
   "source": [
    "### 3. 패딩하기\n",
    "- 패딩은 pre-padding을 적용함\n",
    "    - pre-padding : 시퀀스의 길이만큼 채우기 위한 0의 값을 앞에서부터 채움\n",
    "    - RNN으로 모델이 학습할 때, 마지막에 의미없는 0으로 끝나지 않게 함"
   ]
  },
  {
   "cell_type": "code",
   "execution_count": 53,
   "id": "e3bb09ea",
   "metadata": {},
   "outputs": [
    {
     "name": "stdout",
     "output_type": "stream",
     "text": [
      "(146182, 37)\n"
     ]
    }
   ],
   "source": [
    "x_train = tf.keras.preprocessing.sequence.pad_sequences(x_train_encode,\n",
    "                                                        value=word_to_index[\"<PAD>\"],\n",
    "                                                        padding='pre', # 혹은 'pre'\n",
    "                                                        maxlen=maxlen)\n",
    "\n",
    "x_test = tf.keras.preprocessing.sequence.pad_sequences(x_test_encode,\n",
    "                                                       value=word_to_index[\"<PAD>\"],\n",
    "                                                       padding='pre', # 혹은 'pre'\n",
    "                                                       maxlen=maxlen)\n",
    "\n",
    "print(x_train.shape)"
   ]
  },
  {
   "cell_type": "code",
   "execution_count": null,
   "id": "5c6d2cbd",
   "metadata": {},
   "outputs": [],
   "source": []
  },
  {
   "cell_type": "code",
   "execution_count": null,
   "id": "7998f79b",
   "metadata": {},
   "outputs": [],
   "source": []
  },
  {
   "cell_type": "markdown",
   "id": "f5ad25d3",
   "metadata": {},
   "source": [
    "## Train셋에서 Train과 Validation으로 나누기\n",
    "- train : 모델 학습에 필요\n",
    "- validation\n",
    "    - test에 평가해보기 전에 성능 체크\n",
    "    - 하이퍼 파라미터 조정을 할 수 있도록 validation을 둠"
   ]
  },
  {
   "cell_type": "code",
   "execution_count": 54,
   "id": "49687d03",
   "metadata": {},
   "outputs": [
    {
     "name": "stdout",
     "output_type": "stream",
     "text": [
      "(136182, 37)\n",
      "(136182,)\n"
     ]
    }
   ],
   "source": [
    "# validation set 10000건 분리\n",
    "x_val = x_train[:10000]   \n",
    "y_val = y_train[:10000]\n",
    "\n",
    "# validation set을 제외한 나머지 15000건\n",
    "partial_x_train = x_train[10000:]  \n",
    "partial_y_train = y_train[10000:]\n",
    "\n",
    "print(partial_x_train.shape)\n",
    "print(partial_y_train.shape)"
   ]
  },
  {
   "cell_type": "markdown",
   "id": "805b807c",
   "metadata": {},
   "source": [
    "- 학습에 들어갈 train셋은 136,182개\n",
    "- 시퀀스의 길이는 37"
   ]
  },
  {
   "cell_type": "code",
   "execution_count": null,
   "id": "a7c889b2",
   "metadata": {},
   "outputs": [],
   "source": []
  },
  {
   "cell_type": "code",
   "execution_count": null,
   "id": "ce353a1f",
   "metadata": {},
   "outputs": [],
   "source": []
  },
  {
   "cell_type": "markdown",
   "id": "1d313873",
   "metadata": {},
   "source": [
    "## 모델 1 - RNN (LSTM)"
   ]
  },
  {
   "cell_type": "markdown",
   "id": "b9e17769",
   "metadata": {},
   "source": [
    "### 1. 모델 만들기"
   ]
  },
  {
   "cell_type": "code",
   "execution_count": 55,
   "id": "502e8083",
   "metadata": {},
   "outputs": [
    {
     "name": "stdout",
     "output_type": "stream",
     "text": [
      "Model: \"sequential\"\n",
      "_________________________________________________________________\n",
      "Layer (type)                 Output Shape              Param #   \n",
      "=================================================================\n",
      "embedding (Embedding)        (None, None, 16)          159984    \n",
      "_________________________________________________________________\n",
      "lstm (LSTM)                  (None, 8)                 800       \n",
      "_________________________________________________________________\n",
      "dense (Dense)                (None, 8)                 72        \n",
      "_________________________________________________________________\n",
      "dense_1 (Dense)              (None, 1)                 9         \n",
      "=================================================================\n",
      "Total params: 160,865\n",
      "Trainable params: 160,865\n",
      "Non-trainable params: 0\n",
      "_________________________________________________________________\n"
     ]
    }
   ],
   "source": [
    "vocab_size = 9999    # 어휘 사전의 크기입니다(9999 게의 단어)\n",
    "word_vector_dim = 16  # 워드 벡터의 차원 수 (변경 가능한 하이퍼파라미터)\n",
    "\n",
    "model = tf.keras.Sequential()\n",
    "model.add(tf.keras.layers.Embedding(vocab_size, word_vector_dim, input_shape=(None,)))\n",
    "model.add(tf.keras.layers.LSTM(8))   # 가장 널리 쓰이는 RNN인 LSTM 레이어를 사용하였습니다. 이때 LSTM state 벡터의 차원수는 8로 하였습니다. (변경 가능)\n",
    "model.add(tf.keras.layers.Dense(8, activation='relu'))\n",
    "model.add(tf.keras.layers.Dense(1, activation='sigmoid'))\n",
    "\n",
    "model.summary()"
   ]
  },
  {
   "cell_type": "markdown",
   "id": "7ac490b8",
   "metadata": {},
   "source": [
    "- **Embedding**\n",
    "    - input : 단어 사전수만큼을 vocab_size로 지정해서 넣음\n",
    "    - output : 컴퓨터가 이해할 수 있도록 숫자로 된 벡터 차원 수로 word_vector_dim으로 지정해서 넣음\n",
    "    - input_shape는 1차원 벡터의 형태이므로 벡터형태 표기 (현재에서는 생략 가능)"
   ]
  },
  {
   "cell_type": "markdown",
   "id": "4fdda82b",
   "metadata": {},
   "source": [
    "### 2. 모델 학습시키기"
   ]
  },
  {
   "cell_type": "code",
   "execution_count": 56,
   "id": "2477d8b9",
   "metadata": {},
   "outputs": [
    {
     "name": "stdout",
     "output_type": "stream",
     "text": [
      "Epoch 1/8\n",
      "266/266 [==============================] - 5s 7ms/step - loss: 0.5084 - accuracy: 0.7848 - val_loss: 0.3772 - val_accuracy: 0.8392\n",
      "Epoch 2/8\n",
      "266/266 [==============================] - 1s 5ms/step - loss: 0.3550 - accuracy: 0.8494 - val_loss: 0.3586 - val_accuracy: 0.8427\n",
      "Epoch 3/8\n",
      "266/266 [==============================] - 1s 5ms/step - loss: 0.3334 - accuracy: 0.8595 - val_loss: 0.3563 - val_accuracy: 0.8435\n",
      "Epoch 4/8\n",
      "266/266 [==============================] - 1s 5ms/step - loss: 0.3218 - accuracy: 0.8647 - val_loss: 0.3592 - val_accuracy: 0.8447\n",
      "Epoch 5/8\n",
      "266/266 [==============================] - 1s 5ms/step - loss: 0.3142 - accuracy: 0.8688 - val_loss: 0.3584 - val_accuracy: 0.8433\n",
      "Epoch 6/8\n",
      "266/266 [==============================] - 1s 5ms/step - loss: 0.3057 - accuracy: 0.8726 - val_loss: 0.3625 - val_accuracy: 0.8403\n",
      "Epoch 7/8\n",
      "266/266 [==============================] - 1s 5ms/step - loss: 0.2972 - accuracy: 0.8774 - val_loss: 0.3629 - val_accuracy: 0.8423\n",
      "Epoch 8/8\n",
      "266/266 [==============================] - 1s 5ms/step - loss: 0.2881 - accuracy: 0.8822 - val_loss: 0.3744 - val_accuracy: 0.8409\n"
     ]
    }
   ],
   "source": [
    "model.compile(optimizer='adam',\n",
    "              loss='binary_crossentropy',\n",
    "              metrics=['accuracy'])\n",
    "              \n",
    "epochs=8  # 몇 epoch를 훈련하면 좋을지 결과를 보면서 바꾸어 봅시다. \n",
    "\n",
    "history = model.fit(partial_x_train,\n",
    "                    partial_y_train,\n",
    "                    epochs=epochs,\n",
    "                    batch_size=512,\n",
    "                    validation_data=(x_val, y_val),\n",
    "                    verbose=1)"
   ]
  },
  {
   "cell_type": "markdown",
   "id": "130b039b",
   "metadata": {},
   "source": [
    "- loss funtion은 2진 분류(긍적평가, 부정평가)이므로 binary_crossentropy를 사용"
   ]
  },
  {
   "cell_type": "markdown",
   "id": "eeaca591",
   "metadata": {},
   "source": [
    "### 3. test셋에 평가"
   ]
  },
  {
   "cell_type": "code",
   "execution_count": 57,
   "id": "f33973dc",
   "metadata": {},
   "outputs": [
    {
     "name": "stdout",
     "output_type": "stream",
     "text": [
      "1537/1537 - 3s - loss: 0.3806 - accuracy: 0.8398\n",
      "[0.3805934488773346, 0.8398396968841553]\n"
     ]
    }
   ],
   "source": [
    "results = model.evaluate(x_test,  y_test, verbose=2)\n",
    "\n",
    "print(results)"
   ]
  },
  {
   "cell_type": "markdown",
   "id": "c91f6722",
   "metadata": {},
   "source": [
    "- test셋에 평가\n",
    "- loss : 약 0.37\n",
    "- accuracy : 약 83.9%"
   ]
  },
  {
   "cell_type": "markdown",
   "id": "f3591330",
   "metadata": {},
   "source": [
    "### 4. 그래프로 시각화하여 loss와 accuarcy 흐름 파악"
   ]
  },
  {
   "cell_type": "code",
   "execution_count": 58,
   "id": "b0990881",
   "metadata": {},
   "outputs": [
    {
     "name": "stdout",
     "output_type": "stream",
     "text": [
      "dict_keys(['loss', 'accuracy', 'val_loss', 'val_accuracy'])\n"
     ]
    }
   ],
   "source": [
    "history_dict = history.history\n",
    "print(history_dict.keys()) # epoch에 따른 그래프를 그려볼 수 있는 항목들"
   ]
  },
  {
   "cell_type": "code",
   "execution_count": 59,
   "id": "88bd31c9",
   "metadata": {},
   "outputs": [],
   "source": [
    "acc = history_dict['accuracy']\n",
    "val_acc = history_dict['val_accuracy']\n",
    "loss = history_dict['loss']\n",
    "val_loss = history_dict['val_loss']\n",
    "\n",
    "epochs = range(1, len(acc) + 1)"
   ]
  },
  {
   "cell_type": "code",
   "execution_count": 60,
   "id": "24d5faff",
   "metadata": {},
   "outputs": [
    {
     "data": {
      "text/plain": [
       "Text(0, 0.5, 'Loss')"
      ]
     },
     "execution_count": 60,
     "metadata": {},
     "output_type": "execute_result"
    },
    {
     "data": {
      "image/png": "[encoded data removed]",
      "text/plain": [
       "<Figure size 720x432 with 1 Axes>"
      ]
     },
     "metadata": {
      "needs_background": "light"
     },
     "output_type": "display_data"
    }
   ],
   "source": [
    "plt.figure(figsize=(10,6))\n",
    "sns.lineplot(data=history_dict, x=epochs, y=loss, label='Training loss')\n",
    "sns.lineplot(data=history_dict, x=epochs, y=val_loss, label='Validation loss')\n",
    "plt.title('Training and validation loss')\n",
    "plt.xlabel('Epochs')\n",
    "plt.ylabel('Loss')"
   ]
  },
  {
   "cell_type": "markdown",
   "id": "8af43701",
   "metadata": {},
   "source": [
    "- 학습이 진행될수록 train loss는 줄어들음\n",
    "- 3번째 epoch에서 validation의 loss는 늘어나기 시작함\n",
    "- 3번째 epoch부터 overfitting이 시작됨"
   ]
  },
  {
   "cell_type": "code",
   "execution_count": 61,
   "id": "5e330ff8",
   "metadata": {},
   "outputs": [
    {
     "data": {
      "text/plain": [
       "Text(0, 0.5, 'Accuracy')"
      ]
     },
     "execution_count": 61,
     "metadata": {},
     "output_type": "execute_result"
    },
    {
     "data": {
      "image/png": "[encoded data removed]",
      "text/plain": [
       "<Figure size 720x432 with 1 Axes>"
      ]
     },
     "metadata": {
      "needs_background": "light"
     },
     "output_type": "display_data"
    }
   ],
   "source": [
    "plt.figure(figsize=(10,6))\n",
    "sns.lineplot(data=history_dict, x=epochs, y=acc, label='Training acc')\n",
    "sns.lineplot(data=history_dict, x=epochs, y=val_acc, label='Validation acc')\n",
    "plt.title('Training and validation accuracy')\n",
    "plt.xlabel('Epochs')\n",
    "plt.ylabel('Accuracy')"
   ]
  },
  {
   "cell_type": "markdown",
   "id": "f2c8d4f2",
   "metadata": {},
   "source": [
    "- 학습이 진행될수록 train accuracy는 올라감\n",
    "- 4번째 epoch에서 validation의 accuracy는 변화가 거의 없음\n",
    "- 4번째 epoch부터 overfitting이 시작됨"
   ]
  },
  {
   "cell_type": "code",
   "execution_count": null,
   "id": "30b884d1",
   "metadata": {},
   "outputs": [],
   "source": []
  },
  {
   "cell_type": "code",
   "execution_count": null,
   "id": "54e3fb7d",
   "metadata": {},
   "outputs": [],
   "source": []
  },
  {
   "cell_type": "markdown",
   "id": "b9c38307",
   "metadata": {},
   "source": [
    "## 모델 2 - RNN (LSTM을 두개 쓰기)"
   ]
  },
  {
   "cell_type": "markdown",
   "id": "27e98277",
   "metadata": {},
   "source": [
    "### 1. 모델 만들기"
   ]
  },
  {
   "cell_type": "code",
   "execution_count": 62,
   "id": "df5d3a18",
   "metadata": {},
   "outputs": [
    {
     "name": "stdout",
     "output_type": "stream",
     "text": [
      "Model: \"sequential_1\"\n",
      "_________________________________________________________________\n",
      "Layer (type)                 Output Shape              Param #   \n",
      "=================================================================\n",
      "embedding_1 (Embedding)      (None, None, 16)          159984    \n",
      "_________________________________________________________________\n",
      "lstm_1 (LSTM)                (None, None, 8)           800       \n",
      "_________________________________________________________________\n",
      "lstm_2 (LSTM)                (None, 8)                 544       \n",
      "_________________________________________________________________\n",
      "dense_2 (Dense)              (None, 8)                 72        \n",
      "_________________________________________________________________\n",
      "dense_3 (Dense)              (None, 1)                 9         \n",
      "=================================================================\n",
      "Total params: 161,409\n",
      "Trainable params: 161,409\n",
      "Non-trainable params: 0\n",
      "_________________________________________________________________\n"
     ]
    }
   ],
   "source": [
    "vocab_size = 9999    # 어휘 사전의 크기입니다(9999개의 단어)\n",
    "word_vector_dim = 16  # 워드 벡터의 차원 수 (변경 가능한 하이퍼파라미터)\n",
    "\n",
    "model_rnn2 = tf.keras.Sequential()\n",
    "model_rnn2.add(tf.keras.layers.Embedding(vocab_size, word_vector_dim, input_shape=(None,)))\n",
    "model_rnn2.add(tf.keras.layers.LSTM(8, return_sequences=True))\n",
    "model_rnn2.add(tf.keras.layers.LSTM(8))\n",
    "model_rnn2.add(tf.keras.layers.Dense(8, activation='relu'))\n",
    "model_rnn2.add(tf.keras.layers.Dense(1, activation='sigmoid'))\n",
    "\n",
    "model_rnn2.summary()"
   ]
  },
  {
   "cell_type": "markdown",
   "id": "7ed6fca1",
   "metadata": {},
   "source": [
    "- return_sequences=True : 한개의 신경망이 한번 돌고 다음 신경망을 돌림 (모두 다 돌아간 이후에 다음 신경망으로 가지 않음)"
   ]
  },
  {
   "cell_type": "markdown",
   "id": "44f6a2d1",
   "metadata": {},
   "source": [
    "### 2. 모델 학습시키기"
   ]
  },
  {
   "cell_type": "code",
   "execution_count": 63,
   "id": "c79077bd",
   "metadata": {},
   "outputs": [
    {
     "name": "stdout",
     "output_type": "stream",
     "text": [
      "Epoch 1/8\n",
      "266/266 [==============================] - 5s 10ms/step - loss: 0.5063 - accuracy: 0.7517 - val_loss: 0.3738 - val_accuracy: 0.8385\n",
      "Epoch 2/8\n",
      "266/266 [==============================] - 2s 7ms/step - loss: 0.3514 - accuracy: 0.8489 - val_loss: 0.3516 - val_accuracy: 0.8457\n",
      "Epoch 3/8\n",
      "266/266 [==============================] - 2s 7ms/step - loss: 0.3278 - accuracy: 0.8598 - val_loss: 0.3478 - val_accuracy: 0.8466\n",
      "Epoch 4/8\n",
      "266/266 [==============================] - 2s 7ms/step - loss: 0.3137 - accuracy: 0.8663 - val_loss: 0.3483 - val_accuracy: 0.8462\n",
      "Epoch 5/8\n",
      "266/266 [==============================] - 2s 7ms/step - loss: 0.3024 - accuracy: 0.8713 - val_loss: 0.3486 - val_accuracy: 0.8478\n",
      "Epoch 6/8\n",
      "266/266 [==============================] - 2s 7ms/step - loss: 0.2897 - accuracy: 0.8766 - val_loss: 0.3501 - val_accuracy: 0.8492\n",
      "Epoch 7/8\n",
      "266/266 [==============================] - 2s 7ms/step - loss: 0.2774 - accuracy: 0.8825 - val_loss: 0.3566 - val_accuracy: 0.8457\n",
      "Epoch 8/8\n",
      "266/266 [==============================] - 2s 8ms/step - loss: 0.2645 - accuracy: 0.8880 - val_loss: 0.3657 - val_accuracy: 0.8464\n"
     ]
    }
   ],
   "source": [
    "model_rnn2.compile(optimizer='adam',\n",
    "              loss='binary_crossentropy',\n",
    "              metrics=['accuracy'])\n",
    "              \n",
    "epochs=8  # 몇 epoch를 훈련하면 좋을지 결과를 보면서 바꾸어 봅시다. \n",
    "\n",
    "history_rnn2 = model_rnn2.fit(partial_x_train,\n",
    "                              partial_y_train,\n",
    "                              epochs=epochs,\n",
    "                              batch_size=512,\n",
    "                              validation_data=(x_val, y_val),\n",
    "                              verbose=1)"
   ]
  },
  {
   "cell_type": "markdown",
   "id": "1432ef0d",
   "metadata": {},
   "source": [
    "- loss funtion은 2진 분류(긍적평가, 부정평가)이므로 binary_crossentropy를 사용"
   ]
  },
  {
   "cell_type": "markdown",
   "id": "37d2f825",
   "metadata": {},
   "source": [
    "### 3. test셋에 평가"
   ]
  },
  {
   "cell_type": "code",
   "execution_count": 64,
   "id": "f4b6fb4b",
   "metadata": {},
   "outputs": [
    {
     "name": "stdout",
     "output_type": "stream",
     "text": [
      "1537/1537 - 4s - loss: 0.3755 - accuracy: 0.8402\n",
      "[0.375457763671875, 0.8402058482170105]\n"
     ]
    }
   ],
   "source": [
    "results_rnn2 = model_rnn2.evaluate(x_test,  y_test, verbose=2)\n",
    "\n",
    "print(results_rnn2)"
   ]
  },
  {
   "cell_type": "markdown",
   "id": "7e66266c",
   "metadata": {},
   "source": [
    "- test셋에 평가\n",
    "- loss : 약 0.38\n",
    "- accuracy : 약 84.0%"
   ]
  },
  {
   "cell_type": "markdown",
   "id": "0147832a",
   "metadata": {},
   "source": [
    "### 4. 그래프로 시각화하여 loss와 accuarcy 흐름 파악"
   ]
  },
  {
   "cell_type": "code",
   "execution_count": 65,
   "id": "42a57c8f",
   "metadata": {},
   "outputs": [
    {
     "name": "stdout",
     "output_type": "stream",
     "text": [
      "dict_keys(['loss', 'accuracy', 'val_loss', 'val_accuracy'])\n"
     ]
    }
   ],
   "source": [
    "history_dict_rnn2 = history_rnn2.history\n",
    "print(history_dict_rnn2.keys()) # epoch에 따른 그래프를 그려볼 수 있는 항목들"
   ]
  },
  {
   "cell_type": "code",
   "execution_count": 66,
   "id": "822e4cee",
   "metadata": {},
   "outputs": [],
   "source": [
    "acc = history_dict_rnn2['accuracy']\n",
    "val_acc = history_dict_rnn2['val_accuracy']\n",
    "loss = history_dict_rnn2['loss']\n",
    "val_loss = history_dict_rnn2['val_loss']\n",
    "\n",
    "epochs = range(1, len(acc) + 1)"
   ]
  },
  {
   "cell_type": "code",
   "execution_count": 67,
   "id": "1b133164",
   "metadata": {},
   "outputs": [
    {
     "data": {
      "text/plain": [
       "Text(0, 0.5, 'Loss')"
      ]
     },
     "execution_count": 67,
     "metadata": {},
     "output_type": "execute_result"
    },
    {
     "data": {
      "image/png": "[encoded data removed]",
      "text/plain": [
       "<Figure size 720x432 with 1 Axes>"
      ]
     },
     "metadata": {
      "needs_background": "light"
     },
     "output_type": "display_data"
    }
   ],
   "source": [
    "plt.figure(figsize=(10,6))\n",
    "sns.lineplot(data=history_dict_rnn2, x=epochs, y=loss, label='Training loss')\n",
    "sns.lineplot(data=history_dict_rnn2, x=epochs, y=val_loss, label='Validation loss')\n",
    "plt.title('Training and validation loss')\n",
    "plt.xlabel('Epochs')\n",
    "plt.ylabel('Loss')"
   ]
  },
  {
   "cell_type": "markdown",
   "id": "9fc3d08b",
   "metadata": {},
   "source": [
    "- 학습이 진행될수록 train loss는 줄어들음\n",
    "- 3번째 epoch에서 validation의 loss는 늘어나기 시작함\n",
    "- 3번째 epoch부터 overfitting이 시작됨"
   ]
  },
  {
   "cell_type": "code",
   "execution_count": 68,
   "id": "2bab6189",
   "metadata": {},
   "outputs": [
    {
     "data": {
      "text/plain": [
       "Text(0, 0.5, 'Accuracy')"
      ]
     },
     "execution_count": 68,
     "metadata": {},
     "output_type": "execute_result"
    },
    {
     "data": {
      "image/png": "[encoded data removed]",
      "text/plain": [
       "<Figure size 720x432 with 1 Axes>"
      ]
     },
     "metadata": {
      "needs_background": "light"
     },
     "output_type": "display_data"
    }
   ],
   "source": [
    "plt.figure(figsize=(10,6))\n",
    "sns.lineplot(data=history_dict_rnn2, x=epochs, y=acc, label='Training acc')\n",
    "sns.lineplot(data=history_dict_rnn2, x=epochs, y=val_acc, label='Validation acc')\n",
    "plt.title('Training and validation accuracy')\n",
    "plt.xlabel('Epochs')\n",
    "plt.ylabel('Accuracy')"
   ]
  },
  {
   "cell_type": "markdown",
   "id": "192d3bae",
   "metadata": {},
   "source": [
    "- 학습이 진행될수록 train accuracy는 올라감\n",
    "- 3번째 epoch에서 validation의 accuracy의 변화는 별로 없음"
   ]
  },
  {
   "cell_type": "code",
   "execution_count": null,
   "id": "f095f8b1",
   "metadata": {},
   "outputs": [],
   "source": []
  },
  {
   "cell_type": "code",
   "execution_count": null,
   "id": "ce0ab343",
   "metadata": {},
   "outputs": [],
   "source": []
  },
  {
   "cell_type": "markdown",
   "id": "20b50195",
   "metadata": {},
   "source": [
    "## 모델 3 - CNN"
   ]
  },
  {
   "cell_type": "markdown",
   "id": "ef2131f9",
   "metadata": {},
   "source": [
    "### 1. 모델 만들기"
   ]
  },
  {
   "cell_type": "code",
   "execution_count": 69,
   "id": "ca640555",
   "metadata": {},
   "outputs": [
    {
     "name": "stdout",
     "output_type": "stream",
     "text": [
      "Model: \"sequential_2\"\n",
      "_________________________________________________________________\n",
      "Layer (type)                 Output Shape              Param #   \n",
      "=================================================================\n",
      "embedding_2 (Embedding)      (None, None, 16)          159984    \n",
      "_________________________________________________________________\n",
      "conv1d (Conv1D)              (None, None, 16)          1808      \n",
      "_________________________________________________________________\n",
      "global_max_pooling1d (Global (None, 16)                0         \n",
      "_________________________________________________________________\n",
      "dense_4 (Dense)              (None, 8)                 136       \n",
      "_________________________________________________________________\n",
      "dense_5 (Dense)              (None, 1)                 9         \n",
      "=================================================================\n",
      "Total params: 161,937\n",
      "Trainable params: 161,937\n",
      "Non-trainable params: 0\n",
      "_________________________________________________________________\n"
     ]
    }
   ],
   "source": [
    "vocab_size = 9999    # 어휘 사전의 크기입니다(10,000개의 단어)\n",
    "word_vector_dim = 16  # 워드 벡터의 차원 수 (변경 가능한 하이퍼파라미터)\n",
    "\n",
    "model_cnn = tf.keras.Sequential()\n",
    "model_cnn.add(tf.keras.layers.Embedding(vocab_size, word_vector_dim, input_shape=(None,)))\n",
    "model_cnn.add(tf.keras.layers.Conv1D(16, 7, activation='relu'))\n",
    "model_cnn.add(tf.keras.layers.GlobalMaxPooling1D())\n",
    "model_cnn.add(tf.keras.layers.Dense(8, activation='relu'))\n",
    "model_cnn.add(tf.keras.layers.Dense(1, activation='sigmoid'))\n",
    "\n",
    "model_cnn.summary()"
   ]
  },
  {
   "cell_type": "markdown",
   "id": "ede43eeb",
   "metadata": {},
   "source": [
    "- 이미지와는 다르게 입력이 1차원 벡터로 되어있기 때문에 Conv1D, MaxPooling1D 사용\n",
    "- Conv1D : 16개의 필터, 필터 사이즈는 7 (7단어)\n",
    "- GlobalMaxPooling1D() : 문장 전체에서 가장 중요한 단어를 뽑아냄"
   ]
  },
  {
   "cell_type": "markdown",
   "id": "834bc014",
   "metadata": {},
   "source": [
    "### 2. 모델 학습시키기"
   ]
  },
  {
   "cell_type": "code",
   "execution_count": 70,
   "id": "e4498fc1",
   "metadata": {},
   "outputs": [
    {
     "name": "stdout",
     "output_type": "stream",
     "text": [
      "Epoch 1/8\n",
      "266/266 [==============================] - 3s 5ms/step - loss: 0.5066 - accuracy: 0.7594 - val_loss: 0.3628 - val_accuracy: 0.8371\n",
      "Epoch 2/8\n",
      "266/266 [==============================] - 1s 4ms/step - loss: 0.3424 - accuracy: 0.8515 - val_loss: 0.3473 - val_accuracy: 0.8454\n",
      "Epoch 3/8\n",
      "266/266 [==============================] - 1s 4ms/step - loss: 0.3090 - accuracy: 0.8693 - val_loss: 0.3445 - val_accuracy: 0.8472\n",
      "Epoch 4/8\n",
      "266/266 [==============================] - 1s 4ms/step - loss: 0.2844 - accuracy: 0.8827 - val_loss: 0.3485 - val_accuracy: 0.8508\n",
      "Epoch 5/8\n",
      "266/266 [==============================] - 1s 4ms/step - loss: 0.2612 - accuracy: 0.8941 - val_loss: 0.3594 - val_accuracy: 0.8480\n",
      "Epoch 6/8\n",
      "266/266 [==============================] - 1s 4ms/step - loss: 0.2371 - accuracy: 0.9070 - val_loss: 0.3733 - val_accuracy: 0.8426\n",
      "Epoch 7/8\n",
      "266/266 [==============================] - 1s 4ms/step - loss: 0.2126 - accuracy: 0.9190 - val_loss: 0.3947 - val_accuracy: 0.8405\n",
      "Epoch 8/8\n",
      "266/266 [==============================] - 1s 4ms/step - loss: 0.1899 - accuracy: 0.9299 - val_loss: 0.4184 - val_accuracy: 0.8387\n"
     ]
    }
   ],
   "source": [
    "model_cnn.compile(optimizer='adam',\n",
    "              loss='binary_crossentropy',\n",
    "              metrics=['accuracy'])\n",
    "              \n",
    "epochs=8  # 몇 epoch를 훈련하면 좋을지 결과를 보면서 바꾸어 봅시다. \n",
    "\n",
    "history_cnn = model_cnn.fit(partial_x_train,\n",
    "                            partial_y_train,\n",
    "                            batch_size=512,\n",
    "                            epochs=epochs,\n",
    "                            validation_data=(x_val, y_val),\n",
    "                            verbose=1)"
   ]
  },
  {
   "cell_type": "markdown",
   "id": "f38ffbbd",
   "metadata": {},
   "source": [
    "### 3. test셋에 평가"
   ]
  },
  {
   "cell_type": "code",
   "execution_count": 71,
   "id": "07a97f33",
   "metadata": {},
   "outputs": [
    {
     "name": "stdout",
     "output_type": "stream",
     "text": [
      "1537/1537 - 2s - loss: 0.4206 - accuracy: 0.8364\n",
      "[0.4205872714519501, 0.8364017605781555]\n"
     ]
    }
   ],
   "source": [
    "results_cnn = model_cnn.evaluate(x_test,  y_test, verbose=2)\n",
    "\n",
    "print(results_cnn)"
   ]
  },
  {
   "cell_type": "markdown",
   "id": "67d7441e",
   "metadata": {},
   "source": [
    "- test셋에 평가\n",
    "- loss : 약 0.42\n",
    "- accuracy : 약 83.6%"
   ]
  },
  {
   "cell_type": "markdown",
   "id": "430e9bd9",
   "metadata": {},
   "source": [
    "### 4. 그래프로 시각화하여 loss와 accuarcy 흐름 파악"
   ]
  },
  {
   "cell_type": "code",
   "execution_count": 72,
   "id": "95406409",
   "metadata": {},
   "outputs": [
    {
     "name": "stdout",
     "output_type": "stream",
     "text": [
      "dict_keys(['loss', 'accuracy', 'val_loss', 'val_accuracy'])\n"
     ]
    }
   ],
   "source": [
    "history_dict_cnn = history_cnn.history\n",
    "print(history_dict_cnn.keys()) # epoch에 따른 그래프를 그려볼 수 있는 항목들"
   ]
  },
  {
   "cell_type": "code",
   "execution_count": 73,
   "id": "4572eac4",
   "metadata": {},
   "outputs": [],
   "source": [
    "acc = history_dict_cnn['accuracy']\n",
    "val_acc = history_dict_cnn['val_accuracy']\n",
    "loss = history_dict_cnn['loss']\n",
    "val_loss = history_dict_cnn['val_loss']\n",
    "\n",
    "epochs = range(1, len(acc) + 1)"
   ]
  },
  {
   "cell_type": "code",
   "execution_count": 74,
   "id": "67f9cfb9",
   "metadata": {},
   "outputs": [
    {
     "data": {
      "text/plain": [
       "Text(0, 0.5, 'Loss')"
      ]
     },
     "execution_count": 74,
     "metadata": {},
     "output_type": "execute_result"
    },
    {
     "data": {
      "image/png": "[encoded data removed]",
      "text/plain": [
       "<Figure size 720x432 with 1 Axes>"
      ]
     },
     "metadata": {
      "needs_background": "light"
     },
     "output_type": "display_data"
    }
   ],
   "source": [
    "plt.figure(figsize=(10,6))\n",
    "sns.lineplot(data=history_dict_cnn, x=epochs, y=loss, label='Training loss')\n",
    "sns.lineplot(data=history_dict_cnn, x=epochs, y=val_loss, label='Validation loss')\n",
    "plt.title('Training and validation loss')\n",
    "plt.xlabel('Epochs')\n",
    "plt.ylabel('Loss')"
   ]
  },
  {
   "cell_type": "markdown",
   "id": "11871e36",
   "metadata": {},
   "source": [
    "- 학습이 진행될수록 train loss는 줄어들음\n",
    "- 3번째 epoch에서 validation의 loss는 늘어나기 시작함\n",
    "- 3번째 epoch부터 overfitting이 시작됨"
   ]
  },
  {
   "cell_type": "code",
   "execution_count": 75,
   "id": "77b701f3",
   "metadata": {},
   "outputs": [
    {
     "data": {
      "text/plain": [
       "Text(0, 0.5, 'Accuracy')"
      ]
     },
     "execution_count": 75,
     "metadata": {},
     "output_type": "execute_result"
    },
    {
     "data": {
      "image/png": "[encoded data removed]",
      "text/plain": [
       "<Figure size 720x432 with 1 Axes>"
      ]
     },
     "metadata": {
      "needs_background": "light"
     },
     "output_type": "display_data"
    }
   ],
   "source": [
    "plt.figure(figsize=(10,6))\n",
    "sns.lineplot(data=history_dict_cnn, x=epochs, y=acc, label='Training acc')\n",
    "sns.lineplot(data=history_dict_cnn, x=epochs, y=val_acc, label='Validation acc')\n",
    "plt.title('Training and validation accuracy')\n",
    "plt.xlabel('Epochs')\n",
    "plt.ylabel('Accuracy')"
   ]
  },
  {
   "cell_type": "markdown",
   "id": "9b3800a4",
   "metadata": {},
   "source": [
    "- 학습이 진행될수록 train accuracy는 올라감\n",
    "- 4번째 epoch에서 validation의 accuracy는 서서히 줄어들음\n",
    "- 4번째 epoch부터 overfitting이 시작됨"
   ]
  },
  {
   "cell_type": "code",
   "execution_count": null,
   "id": "114e35fe",
   "metadata": {},
   "outputs": [],
   "source": []
  },
  {
   "cell_type": "code",
   "execution_count": null,
   "id": "51c77736",
   "metadata": {},
   "outputs": [],
   "source": []
  },
  {
   "cell_type": "markdown",
   "id": "cb9196d2",
   "metadata": {},
   "source": [
    "## 세가지 모델 비교\n",
    "- RNN (LSTM)\n",
    "- RNN (LSTM 두개)\n",
    "- CNN"
   ]
  },
  {
   "attachments": {
    "loss,acc.png": {
     "image/png": "[encoded data removed]"
    }
   },
   "cell_type": "markdown",
   "id": "b38cf8c8",
   "metadata": {},
   "source": [
    "![loss,acc.png](attachment:loss,acc.png)"
   ]
  },
  {
   "cell_type": "markdown",
   "id": "42863af4",
   "metadata": {},
   "source": [
    "<결과>\n",
    "- loss값은 RNN이 가장 작게 나옴\n",
    "- accuracy는 RNN(LSTM 2개)가 가장 높게 나옴\n",
    "- CNN은 모두 가장 높은 loss와 낮은 accuracy가 나옴\n",
    "- 세가지 모델 모두 큰 차이는 없음"
   ]
  },
  {
   "cell_type": "code",
   "execution_count": null,
   "id": "2a2c9535",
   "metadata": {},
   "outputs": [],
   "source": []
  },
  {
   "cell_type": "code",
   "execution_count": null,
   "id": "70931c72",
   "metadata": {},
   "outputs": [],
   "source": []
  },
  {
   "cell_type": "markdown",
   "id": "4986d916",
   "metadata": {},
   "source": [
    "## gensim 패키지를 이용하여 유사단어 찾기"
   ]
  },
  {
   "cell_type": "markdown",
   "id": "b8457457",
   "metadata": {},
   "source": [
    "### 1. 자체 학습한 embedding"
   ]
  },
  {
   "cell_type": "code",
   "execution_count": 76,
   "id": "12fe48c1",
   "metadata": {},
   "outputs": [
    {
     "name": "stdout",
     "output_type": "stream",
     "text": [
      "(9999, 16)\n"
     ]
    }
   ],
   "source": [
    "embedding_layer = model.layers[0]\n",
    "weights = embedding_layer.get_weights()[0]\n",
    "print(weights.shape)    # shape: (vocab_size, embedding_dim)"
   ]
  },
  {
   "cell_type": "code",
   "execution_count": 77,
   "id": "d07f1055",
   "metadata": {},
   "outputs": [],
   "source": [
    "word2vec_file_path = os.getenv('HOME')+'/aiffel/sentiment_classification/data/word2vec.txt'\n",
    "f = open(word2vec_file_path, 'w')\n",
    "f.write('{} {}\\n'.format(vocab_size-4, word_vector_dim))  # 몇개의 벡터를 얼마 사이즈로 기재할지 타이틀을 씁니다.\n",
    "\n",
    "# 단어 개수(에서 특수문자 4개는 제외하고)만큼의 워드 벡터를 파일에 기록합니다. \n",
    "vectors = model.get_weights()[0]\n",
    "for i in range(4,vocab_size):\n",
    "    f.write('{} {}\\n'.format(index_to_word[i], ' '.join(map(str, list(vectors[i, :])))))\n",
    "f.close()"
   ]
  },
  {
   "cell_type": "markdown",
   "id": "a73d5155",
   "metadata": {},
   "source": [
    "- 학습한 Embedding 파라미터를 파일에 써서 저장합니다.\n",
    "- 파일명 : word2vec"
   ]
  },
  {
   "cell_type": "code",
   "execution_count": 78,
   "id": "fef6bcb1",
   "metadata": {
    "scrolled": true
   },
   "outputs": [],
   "source": [
    "from gensim.models.keyedvectors import Word2VecKeyedVectors\n",
    "\n",
    "word_vectors = Word2VecKeyedVectors.load_word2vec_format(word2vec_file_path, binary=False)"
   ]
  },
  {
   "cell_type": "code",
   "execution_count": 79,
   "id": "64f084cc",
   "metadata": {},
   "outputs": [
    {
     "data": {
      "text/plain": [
       "array([ 0.1192082 , -0.11890228, -0.02296213,  0.04987673,  0.1392197 ,\n",
       "        0.09335904, -0.0991051 ,  0.11945079,  0.0481686 , -0.17206535,\n",
       "       -0.13849124, -0.05985862, -0.12031361,  0.11352997,  0.08508775,\n",
       "        0.06812623], dtype=float32)"
      ]
     },
     "execution_count": 79,
     "metadata": {},
     "output_type": "execute_result"
    }
   ],
   "source": [
    "vector = word_vectors['사랑']\n",
    "vector"
   ]
  },
  {
   "cell_type": "code",
   "execution_count": 93,
   "id": "b6f9281d",
   "metadata": {},
   "outputs": [
    {
     "data": {
      "text/plain": [
       "[('놓치', 0.9644392728805542),\n",
       " ('뛰어났', 0.9631916880607605),\n",
       " ('조니뎁', 0.9618322849273682),\n",
       " ('똘', 0.9616032838821411),\n",
       " ('샀', 0.9593460559844971),\n",
       " ('이만큼', 0.9559633731842041),\n",
       " ('와우', 0.9556348323822021),\n",
       " ('치열', 0.9555698037147522),\n",
       " ('부른', 0.9553150534629822),\n",
       " ('싱크로', 0.9550693035125732)]"
      ]
     },
     "execution_count": 93,
     "metadata": {},
     "output_type": "execute_result"
    }
   ],
   "source": [
    "word_vectors.similar_by_word(\"사랑\")"
   ]
  },
  {
   "cell_type": "markdown",
   "id": "be5efd9f",
   "metadata": {},
   "source": [
    "- 자체 학습한 Embedding에서는 제시어인 '사랑'과 무관한 단어들을 출력함"
   ]
  },
  {
   "cell_type": "markdown",
   "id": "55374b61",
   "metadata": {},
   "source": [
    "### 2. 사전 학습된 embedding"
   ]
  },
  {
   "cell_type": "code",
   "execution_count": 81,
   "id": "db8cda2b",
   "metadata": {},
   "outputs": [],
   "source": [
    "from gensim.models import Word2Vec\n",
    "word2vec_path = os.getenv('HOME')+'/aiffel/sentiment_classification/data/ko.bin'\n",
    "word2vec = Word2Vec.load(word2vec_path)"
   ]
  },
  {
   "cell_type": "markdown",
   "id": "d8b9b074",
   "metadata": {},
   "source": [
    "- gensim==3.4.0 버전으로 실행함"
   ]
  },
  {
   "cell_type": "code",
   "execution_count": 82,
   "id": "59e2f0a5",
   "metadata": {},
   "outputs": [
    {
     "name": "stderr",
     "output_type": "stream",
     "text": [
      "/tmp/ipykernel_6767/1360476464.py:1: DeprecationWarning: Call to deprecated `similar_by_word` (Method will be removed in 4.0.0, use self.wv.similar_by_word() instead).\n",
      "  word2vec.similar_by_word(\"사랑\")\n"
     ]
    },
    {
     "data": {
      "text/plain": [
       "[('슬픔', 0.7216662764549255),\n",
       " ('행복', 0.6759077310562134),\n",
       " ('절망', 0.6468985080718994),\n",
       " ('기쁨', 0.6458414196968079),\n",
       " ('이별', 0.6334798336029053),\n",
       " ('추억', 0.6320937275886536),\n",
       " ('인생', 0.6216273307800293),\n",
       " ('애정', 0.6206069588661194),\n",
       " ('연인', 0.6186063289642334),\n",
       " ('유혹', 0.5965287685394287)]"
      ]
     },
     "execution_count": 82,
     "metadata": {},
     "output_type": "execute_result"
    }
   ],
   "source": [
    "word2vec.similar_by_word(\"사랑\")"
   ]
  },
  {
   "cell_type": "markdown",
   "id": "27cfc712",
   "metadata": {},
   "source": [
    "- 사전 학습된 Embedding에서는 제시어인 '사랑'과 관련된 단어들을 출력함\n",
    "- 감정에 관련된 단어들이 많이 나옴"
   ]
  },
  {
   "cell_type": "code",
   "execution_count": null,
   "id": "cebaff89",
   "metadata": {},
   "outputs": [],
   "source": []
  },
  {
   "cell_type": "code",
   "execution_count": null,
   "id": "4641ecbe",
   "metadata": {},
   "outputs": [],
   "source": []
  },
  {
   "cell_type": "markdown",
   "id": "45d4cc9a",
   "metadata": {},
   "source": [
    "## 사전 학습된 Embedding으로 모델 학습시키기"
   ]
  },
  {
   "cell_type": "code",
   "execution_count": 83,
   "id": "5d6c1a96",
   "metadata": {},
   "outputs": [
    {
     "name": "stderr",
     "output_type": "stream",
     "text": [
      "/tmp/ipykernel_6767/640343864.py:7: DeprecationWarning: Call to deprecated `__contains__` (Method will be removed in 4.0.0, use self.wv.__contains__() instead).\n",
      "  if index_to_word[i] in word2vec:\n",
      "/tmp/ipykernel_6767/640343864.py:8: DeprecationWarning: Call to deprecated `__getitem__` (Method will be removed in 4.0.0, use self.wv.__getitem__() instead).\n",
      "  embedding_matrix[i] = word2vec[index_to_word[i]]\n"
     ]
    }
   ],
   "source": [
    "vocab_size = 9999    # 어휘 사전의 크기입니다(10,000개의 단어)\n",
    "word_vector_dim = 200  # 워드 벡터의 차원수\n",
    "embedding_matrix = np.random.rand(vocab_size, word_vector_dim)\n",
    "\n",
    "# embedding_matrix에 Word2Vec 워드 벡터를 단어 하나씩마다 차례차례 카피한다.\n",
    "for i in range(4,vocab_size):\n",
    "    if index_to_word[i] in word2vec:\n",
    "        embedding_matrix[i] = word2vec[index_to_word[i]]"
   ]
  },
  {
   "cell_type": "markdown",
   "id": "8eefe950",
   "metadata": {},
   "source": [
    "- embedding_matrix에 사전 학습된 embedding를 넣음"
   ]
  },
  {
   "cell_type": "markdown",
   "id": "b38eee7b",
   "metadata": {},
   "source": [
    "### 1. RNN (LSTM)으로 학습시키기"
   ]
  },
  {
   "cell_type": "code",
   "execution_count": 84,
   "id": "fe45cfee",
   "metadata": {},
   "outputs": [
    {
     "name": "stdout",
     "output_type": "stream",
     "text": [
      "Model: \"sequential_3\"\n",
      "_________________________________________________________________\n",
      "Layer (type)                 Output Shape              Param #   \n",
      "=================================================================\n",
      "embedding_3 (Embedding)      (None, 37, 200)           1999800   \n",
      "_________________________________________________________________\n",
      "lstm_3 (LSTM)                (None, 8)                 6688      \n",
      "_________________________________________________________________\n",
      "dense_6 (Dense)              (None, 8)                 72        \n",
      "_________________________________________________________________\n",
      "dense_7 (Dense)              (None, 1)                 9         \n",
      "=================================================================\n",
      "Total params: 2,006,569\n",
      "Trainable params: 2,006,569\n",
      "Non-trainable params: 0\n",
      "_________________________________________________________________\n"
     ]
    }
   ],
   "source": [
    "from tensorflow.keras.initializers import Constant\n",
    "\n",
    "vocab_size = 9999    # 어휘 사전의 크기입니다(10,000개의 단어)\n",
    "word_vector_dim = 200  # 워드 벡터의 차원 수 \n",
    "\n",
    "# 모델 구성\n",
    "model_tr = tf.keras.Sequential()\n",
    "model_tr.add(tf.keras.layers.Embedding(vocab_size, \n",
    "                                 word_vector_dim, \n",
    "                                 embeddings_initializer=Constant(embedding_matrix),  # 카피한 임베딩을 여기서 활용\n",
    "                                 input_length=maxlen, \n",
    "                                 trainable=True))   # trainable을 True로 주면 Fine-tuning\n",
    "model_tr.add(tf.keras.layers.LSTM(8))   # 가장 널리 쓰이는 RNN인 LSTM 레이어를 사용하였습니다. 이때 LSTM state 벡터의 차원수는 8로 하였습니다. (변경 가능)\n",
    "model_tr.add(tf.keras.layers.Dense(8, activation='relu'))\n",
    "model_tr.add(tf.keras.layers.Dense(1, activation='sigmoid'))\n",
    "\n",
    "model_tr.summary()"
   ]
  },
  {
   "cell_type": "markdown",
   "id": "33865bbd",
   "metadata": {},
   "source": [
    "- Constant(embedding_matrix) : 사전학습된 embedding을 넣은 embedding_matrix를 활용"
   ]
  },
  {
   "cell_type": "code",
   "execution_count": 85,
   "id": "0b110ed4",
   "metadata": {},
   "outputs": [
    {
     "name": "stdout",
     "output_type": "stream",
     "text": [
      "Epoch 1/8\n",
      "266/266 [==============================] - 4s 8ms/step - loss: 0.5158 - accuracy: 0.7395 - val_loss: 0.3980 - val_accuracy: 0.8248\n",
      "Epoch 2/8\n",
      "266/266 [==============================] - 2s 6ms/step - loss: 0.3660 - accuracy: 0.8402 - val_loss: 0.3595 - val_accuracy: 0.8435\n",
      "Epoch 3/8\n",
      "266/266 [==============================] - 2s 6ms/step - loss: 0.3293 - accuracy: 0.8587 - val_loss: 0.3551 - val_accuracy: 0.8449\n",
      "Epoch 4/8\n",
      "266/266 [==============================] - 2s 6ms/step - loss: 0.3072 - accuracy: 0.8706 - val_loss: 0.3524 - val_accuracy: 0.8477\n",
      "Epoch 5/8\n",
      "266/266 [==============================] - 2s 6ms/step - loss: 0.2915 - accuracy: 0.8784 - val_loss: 0.3531 - val_accuracy: 0.8485\n",
      "Epoch 6/8\n",
      "266/266 [==============================] - 2s 6ms/step - loss: 0.2775 - accuracy: 0.8858 - val_loss: 0.3579 - val_accuracy: 0.8476\n",
      "Epoch 7/8\n",
      "266/266 [==============================] - 2s 7ms/step - loss: 0.2655 - accuracy: 0.8918 - val_loss: 0.3632 - val_accuracy: 0.8445\n",
      "Epoch 8/8\n",
      "266/266 [==============================] - 2s 6ms/step - loss: 0.2540 - accuracy: 0.8974 - val_loss: 0.3690 - val_accuracy: 0.8457\n"
     ]
    }
   ],
   "source": [
    "# 학습의 진행\n",
    "model_tr.compile(optimizer='adam',\n",
    "              loss='binary_crossentropy',\n",
    "              metrics=['accuracy'])\n",
    "              \n",
    "epochs=8  # 몇 epoch를 훈련하면 좋을지 결과를 보면서 바꾸어 봅시다. \n",
    "\n",
    "history_tr = model_tr.fit(partial_x_train,\n",
    "                    partial_y_train,\n",
    "                    epochs=epochs,\n",
    "                    batch_size=512,\n",
    "                    validation_data=(x_val, y_val),\n",
    "                    verbose=1)"
   ]
  },
  {
   "cell_type": "code",
   "execution_count": 86,
   "id": "810549f9",
   "metadata": {},
   "outputs": [
    {
     "name": "stdout",
     "output_type": "stream",
     "text": [
      "1537/1537 - 3s - loss: 0.3809 - accuracy: 0.8412\n",
      "[0.3808659017086029, 0.8412433862686157]\n"
     ]
    }
   ],
   "source": [
    "# 테스트셋을 통한 모델 평가\n",
    "results_tr = model_tr.evaluate(x_test,  y_test, verbose=2)\n",
    "\n",
    "print(results_tr)"
   ]
  },
  {
   "cell_type": "markdown",
   "id": "c2647186",
   "metadata": {},
   "source": [
    "- test셋에 평가  \n",
    "- loss : 약 0.38  \n",
    "- accuracy : 약 84.1%"
   ]
  },
  {
   "cell_type": "markdown",
   "id": "17eb5f33",
   "metadata": {},
   "source": [
    "### 2. RNN (LSTM 2개)로 모델 학습시키기"
   ]
  },
  {
   "cell_type": "code",
   "execution_count": 87,
   "id": "6efb2385",
   "metadata": {},
   "outputs": [
    {
     "name": "stdout",
     "output_type": "stream",
     "text": [
      "Model: \"sequential_4\"\n",
      "_________________________________________________________________\n",
      "Layer (type)                 Output Shape              Param #   \n",
      "=================================================================\n",
      "embedding_4 (Embedding)      (None, 37, 200)           1999800   \n",
      "_________________________________________________________________\n",
      "lstm_4 (LSTM)                (None, 37, 8)             6688      \n",
      "_________________________________________________________________\n",
      "lstm_5 (LSTM)                (None, 8)                 544       \n",
      "_________________________________________________________________\n",
      "dense_8 (Dense)              (None, 8)                 72        \n",
      "_________________________________________________________________\n",
      "dense_9 (Dense)              (None, 1)                 9         \n",
      "=================================================================\n",
      "Total params: 2,007,113\n",
      "Trainable params: 2,007,113\n",
      "Non-trainable params: 0\n",
      "_________________________________________________________________\n"
     ]
    }
   ],
   "source": [
    "vocab_size = 9999    # 어휘 사전의 크기입니다(10,000개의 단어)\n",
    "word_vector_dim = 200  # 워드 벡터의 차원 수 \n",
    "\n",
    "# 모델 구성\n",
    "model_tr2 = tf.keras.Sequential()\n",
    "model_tr2.add(tf.keras.layers.Embedding(vocab_size, \n",
    "                                 word_vector_dim, \n",
    "                                 embeddings_initializer=Constant(embedding_matrix),  # 카피한 임베딩을 여기서 활용\n",
    "                                 input_length=maxlen, \n",
    "                                 trainable=True))   # trainable을 True로 주면 Fine-tuning\n",
    "model_tr2.add(tf.keras.layers.LSTM(8, return_sequences=True))\n",
    "model_tr2.add(tf.keras.layers.LSTM(8))\n",
    "model_tr2.add(tf.keras.layers.Dense(8, activation='relu'))\n",
    "model_tr2.add(tf.keras.layers.Dense(1, activation='sigmoid'))\n",
    "\n",
    "model_tr2.summary()"
   ]
  },
  {
   "cell_type": "code",
   "execution_count": 88,
   "id": "5c6b1742",
   "metadata": {},
   "outputs": [
    {
     "name": "stdout",
     "output_type": "stream",
     "text": [
      "Epoch 1/8\n",
      "266/266 [==============================] - 5s 11ms/step - loss: 0.5224 - accuracy: 0.7429 - val_loss: 0.4035 - val_accuracy: 0.8211\n",
      "Epoch 2/8\n",
      "266/266 [==============================] - 2s 9ms/step - loss: 0.3704 - accuracy: 0.8400 - val_loss: 0.3619 - val_accuracy: 0.8428\n",
      "Epoch 3/8\n",
      "266/266 [==============================] - 2s 9ms/step - loss: 0.3285 - accuracy: 0.8602 - val_loss: 0.3497 - val_accuracy: 0.8453\n",
      "Epoch 4/8\n",
      "266/266 [==============================] - 2s 9ms/step - loss: 0.3077 - accuracy: 0.8702 - val_loss: 0.3492 - val_accuracy: 0.8478\n",
      "Epoch 5/8\n",
      "266/266 [==============================] - 2s 9ms/step - loss: 0.2915 - accuracy: 0.8780 - val_loss: 0.3509 - val_accuracy: 0.8470\n",
      "Epoch 6/8\n",
      "266/266 [==============================] - 2s 9ms/step - loss: 0.2781 - accuracy: 0.8846 - val_loss: 0.3506 - val_accuracy: 0.8467\n",
      "Epoch 7/8\n",
      "266/266 [==============================] - 2s 9ms/step - loss: 0.2661 - accuracy: 0.8910 - val_loss: 0.3542 - val_accuracy: 0.8476\n",
      "Epoch 8/8\n",
      "266/266 [==============================] - 2s 9ms/step - loss: 0.2548 - accuracy: 0.8966 - val_loss: 0.3567 - val_accuracy: 0.8477\n"
     ]
    }
   ],
   "source": [
    "# 학습의 진행\n",
    "model_tr2.compile(optimizer='adam',\n",
    "              loss='binary_crossentropy',\n",
    "              metrics=['accuracy'])\n",
    "              \n",
    "epochs=8  # 몇 epoch를 훈련하면 좋을지 결과를 보면서 바꾸어 봅시다. \n",
    "\n",
    "history_tr2 = model_tr2.fit(partial_x_train,\n",
    "                    partial_y_train,\n",
    "                    epochs=epochs,\n",
    "                    batch_size=512,\n",
    "                    validation_data=(x_val, y_val),\n",
    "                    verbose=1)"
   ]
  },
  {
   "cell_type": "code",
   "execution_count": 89,
   "id": "c52d6604",
   "metadata": {},
   "outputs": [
    {
     "name": "stdout",
     "output_type": "stream",
     "text": [
      "1537/1537 - 4s - loss: 0.3640 - accuracy: 0.8449\n",
      "[0.36396753787994385, 0.8448644280433655]\n"
     ]
    }
   ],
   "source": [
    "# 테스트셋을 통한 모델 평가\n",
    "results_tr2 = model_tr2.evaluate(x_test,  y_test, verbose=2)\n",
    "\n",
    "print(results_tr2)"
   ]
  },
  {
   "cell_type": "markdown",
   "id": "b87977aa",
   "metadata": {},
   "source": [
    "- test셋에 평가\n",
    "- loss : 약 0.36\n",
    "- accuracy : 약 84.4%"
   ]
  },
  {
   "cell_type": "markdown",
   "id": "02ad46e2",
   "metadata": {},
   "source": [
    "### 3. RNN (LSTM 2개, 하이퍼 파라미터 조정)으로 모델 학습시키기"
   ]
  },
  {
   "cell_type": "code",
   "execution_count": 90,
   "id": "c006bc2b",
   "metadata": {},
   "outputs": [
    {
     "name": "stdout",
     "output_type": "stream",
     "text": [
      "Model: \"sequential_5\"\n",
      "_________________________________________________________________\n",
      "Layer (type)                 Output Shape              Param #   \n",
      "=================================================================\n",
      "embedding_5 (Embedding)      (None, 37, 200)           1999800   \n",
      "_________________________________________________________________\n",
      "lstm_6 (LSTM)                (None, 37, 128)           168448    \n",
      "_________________________________________________________________\n",
      "lstm_7 (LSTM)                (None, 128)               131584    \n",
      "_________________________________________________________________\n",
      "dense_10 (Dense)             (None, 8)                 1032      \n",
      "_________________________________________________________________\n",
      "dense_11 (Dense)             (None, 1)                 9         \n",
      "=================================================================\n",
      "Total params: 2,300,873\n",
      "Trainable params: 2,300,873\n",
      "Non-trainable params: 0\n",
      "_________________________________________________________________\n"
     ]
    }
   ],
   "source": [
    "vocab_size = 9999    # 어휘 사전의 크기입니다(10,000개의 단어)\n",
    "word_vector_dim = 200  # 워드 벡터의 차원 수 \n",
    "\n",
    "# 모델 구성\n",
    "model_tr3 = tf.keras.Sequential()\n",
    "model_tr3.add(tf.keras.layers.Embedding(vocab_size, \n",
    "                                 word_vector_dim, \n",
    "                                 embeddings_initializer=Constant(embedding_matrix),  # 카피한 임베딩을 여기서 활용\n",
    "                                 input_length=maxlen, \n",
    "                                 trainable=True))   # trainable을 True로 주면 Fine-tuning\n",
    "model_tr3.add(tf.keras.layers.LSTM(128, return_sequences=True))\n",
    "model_tr3.add(tf.keras.layers.LSTM(128))\n",
    "model_tr3.add(tf.keras.layers.Dense(8, activation='relu'))\n",
    "model_tr3.add(tf.keras.layers.Dense(1, activation='sigmoid'))\n",
    "\n",
    "model_tr3.summary()"
   ]
  },
  {
   "cell_type": "markdown",
   "id": "ffbbab42",
   "metadata": {},
   "source": [
    "- LSTM의 units을 8에서 128로 변경\n",
    "- 두 LSTM 모두 동일하게 변경함"
   ]
  },
  {
   "cell_type": "code",
   "execution_count": 91,
   "id": "4b6c256d",
   "metadata": {},
   "outputs": [
    {
     "name": "stdout",
     "output_type": "stream",
     "text": [
      "Epoch 1/8\n",
      "266/266 [==============================] - 9s 23ms/step - loss: 0.4454 - accuracy: 0.7848 - val_loss: 0.3611 - val_accuracy: 0.8391\n",
      "Epoch 2/8\n",
      "266/266 [==============================] - 6s 21ms/step - loss: 0.3226 - accuracy: 0.8594 - val_loss: 0.3276 - val_accuracy: 0.8577\n",
      "Epoch 3/8\n",
      "266/266 [==============================] - 6s 21ms/step - loss: 0.2835 - accuracy: 0.8792 - val_loss: 0.3183 - val_accuracy: 0.8644\n",
      "Epoch 4/8\n",
      "266/266 [==============================] - 6s 21ms/step - loss: 0.2553 - accuracy: 0.8934 - val_loss: 0.3309 - val_accuracy: 0.8569\n",
      "Epoch 5/8\n",
      "266/266 [==============================] - 6s 21ms/step - loss: 0.2285 - accuracy: 0.9062 - val_loss: 0.3451 - val_accuracy: 0.8625\n",
      "Epoch 6/8\n",
      "266/266 [==============================] - 6s 21ms/step - loss: 0.2016 - accuracy: 0.9188 - val_loss: 0.3504 - val_accuracy: 0.8584\n",
      "Epoch 7/8\n",
      "266/266 [==============================] - 5s 21ms/step - loss: 0.1735 - accuracy: 0.9319 - val_loss: 0.3755 - val_accuracy: 0.8539\n",
      "Epoch 8/8\n",
      "266/266 [==============================] - 5s 20ms/step - loss: 0.1448 - accuracy: 0.9440 - val_loss: 0.4214 - val_accuracy: 0.8557\n"
     ]
    }
   ],
   "source": [
    "# 학습의 진행\n",
    "model_tr3.compile(optimizer='adam',\n",
    "              loss='binary_crossentropy',\n",
    "              metrics=['accuracy'])\n",
    "              \n",
    "epochs=8  # 몇 epoch를 훈련하면 좋을지 결과를 보면서 바꾸어 봅시다. \n",
    "\n",
    "history_tr3 = model_tr3.fit(partial_x_train,\n",
    "                    partial_y_train,\n",
    "                    epochs=epochs,\n",
    "                    batch_size=512,\n",
    "                    validation_data=(x_val, y_val),\n",
    "                    verbose=1)"
   ]
  },
  {
   "cell_type": "code",
   "execution_count": 92,
   "id": "77c88b31",
   "metadata": {},
   "outputs": [
    {
     "name": "stdout",
     "output_type": "stream",
     "text": [
      "1537/1537 - 5s - loss: 0.4319 - accuracy: 0.8523\n",
      "[0.4318752884864807, 0.8522692322731018]\n"
     ]
    }
   ],
   "source": [
    "# 테스트셋을 통한 모델 평가\n",
    "results_tr3 = model_tr3.evaluate(x_test,  y_test, verbose=2)\n",
    "\n",
    "print(results_tr3)"
   ]
  },
  {
   "cell_type": "markdown",
   "id": "fabfedb5",
   "metadata": {},
   "source": [
    "- test셋에 평가\n",
    "- loss : 약 0.43\n",
    "- accuracy : 약 85.23%"
   ]
  },
  {
   "cell_type": "code",
   "execution_count": null,
   "id": "672d7fa6",
   "metadata": {},
   "outputs": [],
   "source": []
  },
  {
   "cell_type": "code",
   "execution_count": null,
   "id": "6f14a994",
   "metadata": {},
   "outputs": [],
   "source": []
  },
  {
   "cell_type": "markdown",
   "id": "7b41ec72",
   "metadata": {},
   "source": [
    "## 결론"
   ]
  },
  {
   "attachments": {
    "%EC%9E%90%EC%B2%B4%ED%95%99%EC%8A%B5.png": {
     "image/png": "[encoded data removed]"
    }
   },
   "cell_type": "markdown",
   "id": "ba28df24",
   "metadata": {},
   "source": [
    "![%EC%9E%90%EC%B2%B4%ED%95%99%EC%8A%B5.png](attachment:%EC%9E%90%EC%B2%B4%ED%95%99%EC%8A%B5.png)"
   ]
  },
  {
   "attachments": {
    "%EC%82%AC%EC%A0%84%ED%95%99%EC%8A%B5.png": {
     "image/png": "[encoded data removed]"
    }
   },
   "cell_type": "markdown",
   "id": "ce772566",
   "metadata": {},
   "source": [
    "![%EC%82%AC%EC%A0%84%ED%95%99%EC%8A%B5.png](attachment:%EC%82%AC%EC%A0%84%ED%95%99%EC%8A%B5.png)"
   ]
  },
  {
   "cell_type": "markdown",
   "id": "dc4ddac3",
   "metadata": {},
   "source": [
    "- 사전 학습된 Embedding을 활용하여 **accuracy를 85% 넘김**\n",
    "- 자체 학습한 Embedding을 활용해도 accuracy를 85% 넘길 수 있을 것으로 판단됨\n",
    "- 동일한 조건에서는 사전 학습된 Embedding이 자체 학습한 Embedding보다 좋은 성능을 보임"
   ]
  },
  {
   "cell_type": "code",
   "execution_count": null,
   "id": "5826b518",
   "metadata": {},
   "outputs": [],
   "source": []
  },
  {
   "cell_type": "code",
   "execution_count": null,
   "id": "b8aec23b",
   "metadata": {},
   "outputs": [],
   "source": []
  },
  {
   "cell_type": "markdown",
   "id": "e5d6540e",
   "metadata": {},
   "source": [
    "## 회고\n",
    "\n",
    "### 1. 새로 알아갔던 점\n",
    " - 시퀀스를 다루는 딥러닝 모델로 CNN을 사용할 수 있다는 점\n",
    " - gensim 패키지를 통해 단어 유사도를 파악할 수 있다는 점\n",
    " - pre-padding이 post-padding보다 효과가 좋다는 점\n",
    "\n",
    "### 2. 흥미로웠던 점\n",
    " - 노드에 제시된 예시 답안이 있는 줄 모르고 Data_loader를 직접 만듦\n",
    " - Mecab이 생각보다 토큰을 잘 추출하지 못했던 점 (한국어에 대한 연구가 영어에 비해 많이 부족하다는 것을 알게됨)\n",
    " - exploration04에서 활용했었던 정규식을 이용해서 문장에 필요없는 부분을 골라낸 점\n",
    " - LSTM을 두개 쓰는 방법을 알아보고 어떻게 작용하는지 찾아보는 과정이 흥미로웠음\n",
    "\n",
    "### 3. 아쉬웠던 점\n",
    " - gensim버전에 따라 ko.bin을 인식 못하는게 아쉬웠음 (추천 버전 명시가 되었다면 좋았을 것 같다는 생각을 함)\n",
    " - gensim버전을 다운그레이드해야 ko.bin을 쓸 수 있다는 점에서 한국어에 대한 연구가 활발해졌으면 하는 소망을 함\n",
    "\n",
    "### 4. 앞으로의 다짐\n",
    " - 한국어로 된 문장에서 토큰을 분류하는 과정이 어떻게 이뤄지는지 자세히 알아보고자 함"
   ]
  },
  {
   "cell_type": "code",
   "execution_count": null,
   "id": "bd91f0d2",
   "metadata": {},
   "outputs": [],
   "source": []
  }
 ],
 "metadata": {
  "kernelspec": {
   "display_name": "Python 3 (ipykernel)",
   "language": "python",
   "name": "python3"
  },
  "language_info": {
   "codemirror_mode": {
    "name": "ipython",
    "version": 3
   },
   "file_extension": ".py",
   "mimetype": "text/x-python",
   "name": "python",
   "nbconvert_exporter": "python",
   "pygments_lexer": "ipython3",
   "version": "3.9.7"
  }
 },
 "nbformat": 4,
 "nbformat_minor": 5
}
