{
 "cells": [
  {
   "cell_type": "markdown",
   "id": "a12c4914",
   "metadata": {},
   "source": [
    "# 손글씨 분류하기"
   ]
  },
  {
   "cell_type": "code",
   "execution_count": null,
   "id": "ad25ae63",
   "metadata": {},
   "outputs": [],
   "source": []
  },
  {
   "cell_type": "markdown",
   "id": "eefafc0e",
   "metadata": {},
   "source": [
    "## 패키지 불러오기"
   ]
  },
  {
   "cell_type": "code",
   "execution_count": 1,
   "id": "6a14ee1f",
   "metadata": {},
   "outputs": [],
   "source": [
    "from sklearn.datasets import load_digits\n",
    "from sklearn.model_selection import train_test_split\n",
    "from sklearn.metrics import classification_report\n",
    "import matplotlib.pyplot as plt"
   ]
  },
  {
   "cell_type": "code",
   "execution_count": null,
   "id": "f3a989fc",
   "metadata": {},
   "outputs": [],
   "source": []
  },
  {
   "cell_type": "code",
   "execution_count": null,
   "id": "49ed4fda",
   "metadata": {},
   "outputs": [],
   "source": []
  },
  {
   "cell_type": "markdown",
   "id": "040945e5",
   "metadata": {},
   "source": [
    "## 데이터 준비"
   ]
  },
  {
   "cell_type": "code",
   "execution_count": 2,
   "id": "79ce9750",
   "metadata": {},
   "outputs": [],
   "source": [
    "digits = load_digits()"
   ]
  },
  {
   "cell_type": "code",
   "execution_count": null,
   "id": "43952487",
   "metadata": {},
   "outputs": [],
   "source": []
  },
  {
   "cell_type": "code",
   "execution_count": null,
   "id": "c08cf19d",
   "metadata": {},
   "outputs": [],
   "source": []
  },
  {
   "cell_type": "markdown",
   "id": "4346c822",
   "metadata": {},
   "source": [
    "## 데이터 뜯어보기"
   ]
  },
  {
   "cell_type": "code",
   "execution_count": 3,
   "id": "47078684",
   "metadata": {},
   "outputs": [
    {
     "data": {
      "text/plain": [
       "dict_keys(['data', 'target', 'frame', 'feature_names', 'target_names', 'images', 'DESCR'])"
      ]
     },
     "execution_count": 3,
     "metadata": {},
     "output_type": "execute_result"
    }
   ],
   "source": [
    "digits.keys()"
   ]
  },
  {
   "cell_type": "code",
   "execution_count": 4,
   "id": "d2c2df3b",
   "metadata": {},
   "outputs": [
    {
     "data": {
      "text/plain": [
       "array([[ 0.,  0.,  5., ...,  0.,  0.,  0.],\n",
       "       [ 0.,  0.,  0., ..., 10.,  0.,  0.],\n",
       "       [ 0.,  0.,  0., ..., 16.,  9.,  0.],\n",
       "       ...,\n",
       "       [ 0.,  0.,  1., ...,  6.,  0.,  0.],\n",
       "       [ 0.,  0.,  2., ..., 12.,  0.,  0.],\n",
       "       [ 0.,  0., 10., ..., 12.,  1.,  0.]])"
      ]
     },
     "execution_count": 4,
     "metadata": {},
     "output_type": "execute_result"
    }
   ],
   "source": [
    "digits.data"
   ]
  },
  {
   "cell_type": "code",
   "execution_count": 5,
   "id": "d3e7bdfa",
   "metadata": {},
   "outputs": [
    {
     "data": {
      "text/plain": [
       "(1797, 64)"
      ]
     },
     "execution_count": 5,
     "metadata": {},
     "output_type": "execute_result"
    }
   ],
   "source": [
    "digits.data.shape  # 1794개의 데이터, 64개의 feature"
   ]
  },
  {
   "cell_type": "code",
   "execution_count": 6,
   "id": "4d592034",
   "metadata": {},
   "outputs": [
    {
     "data": {
      "text/plain": [
       "array([ 0.,  0.,  5., 13.,  9.,  1.,  0.,  0.,  0.,  0., 13., 15., 10.,\n",
       "       15.,  5.,  0.,  0.,  3., 15.,  2.,  0., 11.,  8.,  0.,  0.,  4.,\n",
       "       12.,  0.,  0.,  8.,  8.,  0.,  0.,  5.,  8.,  0.,  0.,  9.,  8.,\n",
       "        0.,  0.,  4., 11.,  0.,  1., 12.,  7.,  0.,  0.,  2., 14.,  5.,\n",
       "       10., 12.,  0.,  0.,  0.,  0.,  6., 13., 10.,  0.,  0.,  0.])"
      ]
     },
     "execution_count": 6,
     "metadata": {},
     "output_type": "execute_result"
    }
   ],
   "source": [
    "digits.data[0]"
   ]
  },
  {
   "cell_type": "code",
   "execution_count": 7,
   "id": "84c69953",
   "metadata": {},
   "outputs": [
    {
     "data": {
      "text/plain": [
       "array([[ 0.,  0.,  5., 13.,  9.,  1.,  0.,  0.],\n",
       "       [ 0.,  0., 13., 15., 10., 15.,  5.,  0.],\n",
       "       [ 0.,  3., 15.,  2.,  0., 11.,  8.,  0.],\n",
       "       [ 0.,  4., 12.,  0.,  0.,  8.,  8.,  0.],\n",
       "       [ 0.,  5.,  8.,  0.,  0.,  9.,  8.,  0.],\n",
       "       [ 0.,  4., 11.,  0.,  1., 12.,  7.,  0.],\n",
       "       [ 0.,  2., 14.,  5., 10., 12.,  0.,  0.],\n",
       "       [ 0.,  0.,  6., 13., 10.,  0.,  0.,  0.]])"
      ]
     },
     "execution_count": 7,
     "metadata": {},
     "output_type": "execute_result"
    }
   ],
   "source": [
    "digits.images[0]   # (8, 8) 픽셀의 이미지"
   ]
  },
  {
   "cell_type": "code",
   "execution_count": 8,
   "id": "4c8a9970",
   "metadata": {},
   "outputs": [
    {
     "data": {
      "text/plain": [
       "['pixel_0_0', 'pixel_0_1', 'pixel_0_2', 'pixel_0_3', 'pixel_0_4']"
      ]
     },
     "execution_count": 8,
     "metadata": {},
     "output_type": "execute_result"
    }
   ],
   "source": [
    "digits.feature_names[0:5]"
   ]
  },
  {
   "cell_type": "code",
   "execution_count": 9,
   "id": "b7a83260",
   "metadata": {},
   "outputs": [
    {
     "data": {
      "text/plain": [
       "array([0, 1, 2, ..., 8, 9, 8])"
      ]
     },
     "execution_count": 9,
     "metadata": {},
     "output_type": "execute_result"
    }
   ],
   "source": [
    "digits.target"
   ]
  },
  {
   "cell_type": "code",
   "execution_count": 10,
   "id": "77c70e15",
   "metadata": {},
   "outputs": [
    {
     "data": {
      "text/plain": [
       "(1797,)"
      ]
     },
     "execution_count": 10,
     "metadata": {},
     "output_type": "execute_result"
    }
   ],
   "source": [
    "digits.target.shape"
   ]
  },
  {
   "cell_type": "code",
   "execution_count": 11,
   "id": "4a39bba7",
   "metadata": {},
   "outputs": [
    {
     "data": {
      "text/plain": [
       "array([5, 6, 7, 8, 9, 0, 1, 2, 3, 4, 5, 6, 7, 8, 9])"
      ]
     },
     "execution_count": 11,
     "metadata": {},
     "output_type": "execute_result"
    }
   ],
   "source": [
    "digits.target[15:30]"
   ]
  },
  {
   "cell_type": "code",
   "execution_count": 12,
   "id": "8cbf98e4",
   "metadata": {},
   "outputs": [
    {
     "data": {
      "text/plain": [
       "array([0, 1, 2, 3, 4, 5, 6, 7, 8, 9])"
      ]
     },
     "execution_count": 12,
     "metadata": {},
     "output_type": "execute_result"
    }
   ],
   "source": [
    "digits.target_names"
   ]
  },
  {
   "cell_type": "code",
   "execution_count": 13,
   "id": "186944bc",
   "metadata": {},
   "outputs": [],
   "source": [
    "digits.frame"
   ]
  },
  {
   "cell_type": "code",
   "execution_count": 14,
   "id": "4d41ad33",
   "metadata": {},
   "outputs": [
    {
     "data": {
      "text/plain": [
       "NoneType"
      ]
     },
     "execution_count": 14,
     "metadata": {},
     "output_type": "execute_result"
    }
   ],
   "source": [
    "type(digits.frame)"
   ]
  },
  {
   "cell_type": "code",
   "execution_count": 15,
   "id": "7f81f67e",
   "metadata": {},
   "outputs": [
    {
     "data": {
      "text/plain": [
       "\".. _digits_dataset:\\n\\nOptical recognition of handwritten digits dataset\\n--------------------------------------------------\\n\\n**Data Set Characteristics:**\\n\\n    :Number of Instances: 1797\\n    :Number of Attributes: 64\\n    :Attribute Information: 8x8 image of integer pixels in the range 0..16.\\n    :Missing Attribute Values: None\\n    :Creator: E. Alpaydin (alpaydin '@' boun.edu.tr)\\n    :Date: July; 1998\\n\\nThis is a copy of the test set of the UCI ML hand-written digits datasets\\nhttps://archive.ics.uci.edu/ml/datasets/Optical+Recognition+of+Handwritten+Digits\\n\\nThe data set contains images of hand-written digits: 10 classes where\\neach class refers to a digit.\\n\\nPreprocessing programs made available by NIST were used to extract\\nnormalized bitmaps of handwritten digits from a preprinted form. From a\\ntotal of 43 people, 30 contributed to the training set and different 13\\nto the test set. 32x32 bitmaps are divided into nonoverlapping blocks of\\n4x4 and the number of on pixels are counted in each block. This generates\\nan input matrix of 8x8 where each element is an integer in the range\\n0..16. This reduces dimensionality and gives invariance to small\\ndistortions.\\n\\nFor info on NIST preprocessing routines, see M. D. Garris, J. L. Blue, G.\\nT. Candela, D. L. Dimmick, J. Geist, P. J. Grother, S. A. Janet, and C.\\nL. Wilson, NIST Form-Based Handprint Recognition System, NISTIR 5469,\\n1994.\\n\\n.. topic:: References\\n\\n  - C. Kaynak (1995) Methods of Combining Multiple Classifiers and Their\\n    Applications to Handwritten Digit Recognition, MSc Thesis, Institute of\\n    Graduate Studies in Science and Engineering, Bogazici University.\\n  - E. Alpaydin, C. Kaynak (1998) Cascading Classifiers, Kybernetika.\\n  - Ken Tang and Ponnuthurai N. Suganthan and Xi Yao and A. Kai Qin.\\n    Linear dimensionalityreduction using relevance weighted LDA. School of\\n    Electrical and Electronic Engineering Nanyang Technological University.\\n    2005.\\n  - Claudio Gentile. A New Approximate Maximal Margin Classification\\n    Algorithm. NIPS. 2000.\\n\""
      ]
     },
     "execution_count": 15,
     "metadata": {},
     "output_type": "execute_result"
    }
   ],
   "source": [
    "digits.DESCR  # 데이터셋 설명"
   ]
  },
  {
   "cell_type": "code",
   "execution_count": null,
   "id": "d614137b",
   "metadata": {},
   "outputs": [],
   "source": []
  },
  {
   "cell_type": "code",
   "execution_count": null,
   "id": "b4253bf4",
   "metadata": {},
   "outputs": [],
   "source": []
  },
  {
   "cell_type": "markdown",
   "id": "17f65910",
   "metadata": {},
   "source": [
    "## Feature 데이터, Label 데이터 지정"
   ]
  },
  {
   "cell_type": "code",
   "execution_count": 16,
   "id": "991682d5",
   "metadata": {},
   "outputs": [],
   "source": [
    "x = digits.data\n",
    "y = digits.target"
   ]
  },
  {
   "cell_type": "code",
   "execution_count": 17,
   "id": "93a4baa5",
   "metadata": {},
   "outputs": [
    {
     "data": {
      "text/plain": [
       "<matplotlib.image.AxesImage at 0x1ecec8a6640>"
      ]
     },
     "execution_count": 17,
     "metadata": {},
     "output_type": "execute_result"
    },
    {
     "data": {
      "image/png": "[encoded data removed]",
      "text/plain": [
       "<Figure size 432x288 with 1 Axes>"
      ]
     },
     "metadata": {
      "needs_background": "light"
     },
     "output_type": "display_data"
    }
   ],
   "source": [
    "plt.imshow(digits.data[0].reshape(8, 8), cmap='gray')  \n",
    "# 벡터 형태(1,64)의 각 픽셀값을 (8,8)의 매트릭스로 변환(reshape)하여 이미지 출력\n",
    "# cmap='gray' : 흑백으로 전환"
   ]
  },
  {
   "cell_type": "code",
   "execution_count": 18,
   "id": "0df9c2d0",
   "metadata": {},
   "outputs": [
    {
     "data": {
      "text/plain": [
       "<matplotlib.image.AxesImage at 0x1ecec68b1c0>"
      ]
     },
     "execution_count": 18,
     "metadata": {},
     "output_type": "execute_result"
    },
    {
     "data": {
      "image/png": "[encoded data removed]",
      "text/plain": [
       "<Figure size 432x288 with 1 Axes>"
      ]
     },
     "metadata": {
      "needs_background": "light"
     },
     "output_type": "display_data"
    }
   ],
   "source": [
    "plt.imshow(digits.data[-1].reshape(8, 8), cmap='gray')  "
   ]
  },
  {
   "cell_type": "code",
   "execution_count": 19,
   "id": "b341ddd8",
   "metadata": {},
   "outputs": [
    {
     "data": {
      "text/plain": [
       "(16.0, 0.0)"
      ]
     },
     "execution_count": 19,
     "metadata": {},
     "output_type": "execute_result"
    }
   ],
   "source": [
    "x.max(), x.min()  # 각 픽셀에 지정된 값의 범위가 0~16으로 비교적 작은 편이므로 스케일링 pass"
   ]
  },
  {
   "cell_type": "code",
   "execution_count": null,
   "id": "ef489779",
   "metadata": {},
   "outputs": [],
   "source": []
  },
  {
   "cell_type": "code",
   "execution_count": null,
   "id": "02d42b52",
   "metadata": {},
   "outputs": [],
   "source": []
  },
  {
   "cell_type": "markdown",
   "id": "e9f401a0",
   "metadata": {},
   "source": [
    "## train, test 셋 분리"
   ]
  },
  {
   "cell_type": "code",
   "execution_count": 20,
   "id": "bb3d0687",
   "metadata": {},
   "outputs": [],
   "source": [
    "from sklearn.model_selection import train_test_split"
   ]
  },
  {
   "cell_type": "code",
   "execution_count": 21,
   "id": "80f3c28a",
   "metadata": {},
   "outputs": [],
   "source": [
    "x_train, x_test, y_train, y_test = train_test_split(x, y, test_size=0.2, random_state=95)\n",
    "# train : test의 비율을 0.8 : 0.2로 지정\n",
    "# train, test 데이터가 랜덤으로 변경되지 않도록 random_state=95로 지정함"
   ]
  },
  {
   "cell_type": "code",
   "execution_count": 22,
   "id": "b25497a3",
   "metadata": {},
   "outputs": [
    {
     "data": {
      "text/plain": [
       "((1437, 64), (360, 64))"
      ]
     },
     "execution_count": 22,
     "metadata": {},
     "output_type": "execute_result"
    }
   ],
   "source": [
    "x_train.shape, x_test.shape  # train셋 : 1,437개  # test셋 : 360개"
   ]
  },
  {
   "cell_type": "code",
   "execution_count": null,
   "id": "50e05182",
   "metadata": {},
   "outputs": [],
   "source": []
  },
  {
   "cell_type": "code",
   "execution_count": null,
   "id": "5b8d3ee7",
   "metadata": {},
   "outputs": [],
   "source": []
  },
  {
   "cell_type": "markdown",
   "id": "27743e69",
   "metadata": {},
   "source": [
    "## 모델 적용"
   ]
  },
  {
   "cell_type": "markdown",
   "id": "bd8a1761",
   "metadata": {},
   "source": [
    "### 1. Decision Tree Classifier"
   ]
  },
  {
   "cell_type": "markdown",
   "id": "b708ee00",
   "metadata": {},
   "source": [
    "#### 1-1. 모델 생성"
   ]
  },
  {
   "cell_type": "code",
   "execution_count": 23,
   "id": "86b204a4",
   "metadata": {},
   "outputs": [],
   "source": [
    "from sklearn.tree import DecisionTreeClassifier"
   ]
  },
  {
   "cell_type": "code",
   "execution_count": 24,
   "id": "93b8379e",
   "metadata": {},
   "outputs": [
    {
     "data": {
      "text/plain": [
       "DecisionTreeClassifier(random_state=95)"
      ]
     },
     "execution_count": 24,
     "metadata": {},
     "output_type": "execute_result"
    }
   ],
   "source": [
    "dt_cf = DecisionTreeClassifier(random_state=95)\n",
    "dt_cf"
   ]
  },
  {
   "cell_type": "markdown",
   "id": "d16d40fd",
   "metadata": {},
   "source": [
    "#### 1-2. 모델 학습"
   ]
  },
  {
   "cell_type": "code",
   "execution_count": 25,
   "id": "87c21d94",
   "metadata": {},
   "outputs": [
    {
     "data": {
      "text/plain": [
       "DecisionTreeClassifier(random_state=95)"
      ]
     },
     "execution_count": 25,
     "metadata": {},
     "output_type": "execute_result"
    }
   ],
   "source": [
    "dt_cf.fit(x_train, y_train)"
   ]
  },
  {
   "cell_type": "markdown",
   "id": "7c4e092e",
   "metadata": {},
   "source": [
    "#### 1-3. 학습을 토대로 test"
   ]
  },
  {
   "cell_type": "code",
   "execution_count": 26,
   "id": "42a03dd4",
   "metadata": {},
   "outputs": [],
   "source": [
    "pred_test_dt_cf = dt_cf.predict(x_test)"
   ]
  },
  {
   "cell_type": "markdown",
   "id": "e17f2d5f",
   "metadata": {},
   "source": [
    "#### 1-4. 모델 평가"
   ]
  },
  {
   "cell_type": "code",
   "execution_count": 27,
   "id": "19315182",
   "metadata": {},
   "outputs": [],
   "source": [
    "from sklearn.metrics import accuracy_score\n",
    "from sklearn.metrics import recall_score\n",
    "from sklearn.metrics import precision_score\n",
    "from sklearn.metrics import f1_score\n",
    "from sklearn.metrics import classification_report"
   ]
  },
  {
   "cell_type": "code",
   "execution_count": 28,
   "id": "f1276ad7",
   "metadata": {},
   "outputs": [],
   "source": [
    "score_test = (y_test == pred_test_dt_cf).mean()"
   ]
  },
  {
   "cell_type": "code",
   "execution_count": 29,
   "id": "9cf8c2fd",
   "metadata": {},
   "outputs": [
    {
     "data": {
      "text/plain": [
       "0.8444444444444444"
      ]
     },
     "execution_count": 29,
     "metadata": {},
     "output_type": "execute_result"
    }
   ],
   "source": [
    "score_test"
   ]
  },
  {
   "cell_type": "code",
   "execution_count": 30,
   "id": "62c3c97f",
   "metadata": {},
   "outputs": [
    {
     "data": {
      "text/plain": [
       "(1.0, 0.8444444444444444)"
      ]
     },
     "execution_count": 30,
     "metadata": {},
     "output_type": "execute_result"
    }
   ],
   "source": [
    "dt_cf.score(x_train, y_train), dt_cf.score(x_test, y_test)  # Overfitting"
   ]
  },
  {
   "cell_type": "code",
   "execution_count": 31,
   "id": "bea3427f",
   "metadata": {},
   "outputs": [
    {
     "name": "stdout",
     "output_type": "stream",
     "text": [
      "              precision    recall  f1-score   support\n",
      "\n",
      "           0       0.95      0.90      0.92        39\n",
      "           1       1.00      0.64      0.78        45\n",
      "           2       0.88      0.91      0.90        33\n",
      "           3       0.79      0.72      0.75        32\n",
      "           4       0.94      0.81      0.87        37\n",
      "           5       0.86      0.89      0.87        35\n",
      "           6       0.89      0.94      0.92        36\n",
      "           7       0.92      0.90      0.91        39\n",
      "           8       0.61      0.93      0.74        30\n",
      "           9       0.71      0.85      0.77        34\n",
      "\n",
      "    accuracy                           0.84       360\n",
      "   macro avg       0.86      0.85      0.84       360\n",
      "weighted avg       0.87      0.84      0.85       360\n",
      "\n"
     ]
    }
   ],
   "source": [
    "print(classification_report(y_test, pred_test_dt_cf))"
   ]
  },
  {
   "cell_type": "code",
   "execution_count": null,
   "id": "5bc15d03",
   "metadata": {},
   "outputs": [],
   "source": []
  },
  {
   "cell_type": "markdown",
   "id": "8fd5db4f",
   "metadata": {},
   "source": [
    "### 2. Random Forest Classifier"
   ]
  },
  {
   "cell_type": "markdown",
   "id": "af409a48",
   "metadata": {},
   "source": [
    "#### 2-1. 모델 생성"
   ]
  },
  {
   "cell_type": "code",
   "execution_count": 32,
   "id": "fef363d2",
   "metadata": {},
   "outputs": [],
   "source": [
    "from sklearn.ensemble import RandomForestClassifier"
   ]
  },
  {
   "cell_type": "code",
   "execution_count": 33,
   "id": "2567f685",
   "metadata": {},
   "outputs": [
    {
     "data": {
      "text/plain": [
       "RandomForestClassifier(random_state=95)"
      ]
     },
     "execution_count": 33,
     "metadata": {},
     "output_type": "execute_result"
    }
   ],
   "source": [
    "rf_cf = RandomForestClassifier(random_state=95)\n",
    "rf_cf"
   ]
  },
  {
   "cell_type": "markdown",
   "id": "5e2a6fa8",
   "metadata": {},
   "source": [
    "#### 2-2. 모델 학습"
   ]
  },
  {
   "cell_type": "code",
   "execution_count": 34,
   "id": "9e3321a8",
   "metadata": {},
   "outputs": [
    {
     "data": {
      "text/plain": [
       "RandomForestClassifier(random_state=95)"
      ]
     },
     "execution_count": 34,
     "metadata": {},
     "output_type": "execute_result"
    }
   ],
   "source": [
    "rf_cf.fit(x_train, y_train)"
   ]
  },
  {
   "cell_type": "markdown",
   "id": "72f87c1c",
   "metadata": {},
   "source": [
    "#### 2-3. 학습을 토대로 test"
   ]
  },
  {
   "cell_type": "code",
   "execution_count": 35,
   "id": "f3cd8658",
   "metadata": {},
   "outputs": [],
   "source": [
    "pred_test_rf_cf = rf_cf.predict(x_test)"
   ]
  },
  {
   "cell_type": "markdown",
   "id": "9c3c844a",
   "metadata": {},
   "source": [
    "#### 2-4. 모델 평가"
   ]
  },
  {
   "cell_type": "code",
   "execution_count": 36,
   "id": "1f561477",
   "metadata": {},
   "outputs": [],
   "source": [
    "score_test = (y_test == pred_test_rf_cf).mean()"
   ]
  },
  {
   "cell_type": "code",
   "execution_count": 37,
   "id": "ca3f760b",
   "metadata": {},
   "outputs": [
    {
     "data": {
      "text/plain": [
       "0.9777777777777777"
      ]
     },
     "execution_count": 37,
     "metadata": {},
     "output_type": "execute_result"
    }
   ],
   "source": [
    "score_test"
   ]
  },
  {
   "cell_type": "code",
   "execution_count": 38,
   "id": "06060daf",
   "metadata": {},
   "outputs": [
    {
     "data": {
      "text/plain": [
       "(1.0, 0.9777777777777777)"
      ]
     },
     "execution_count": 38,
     "metadata": {},
     "output_type": "execute_result"
    }
   ],
   "source": [
    "rf_cf.score(x_train, y_train), rf_cf.score(x_test, y_test)  # Decision Tree의 Overfitting 문제 해결"
   ]
  },
  {
   "cell_type": "code",
   "execution_count": 39,
   "id": "ca41d374",
   "metadata": {
    "scrolled": true
   },
   "outputs": [
    {
     "name": "stdout",
     "output_type": "stream",
     "text": [
      "              precision    recall  f1-score   support\n",
      "\n",
      "           0       0.97      0.97      0.97        39\n",
      "           1       0.98      0.98      0.98        45\n",
      "           2       1.00      0.94      0.97        33\n",
      "           3       1.00      1.00      1.00        32\n",
      "           4       0.95      0.97      0.96        37\n",
      "           5       1.00      0.97      0.99        35\n",
      "           6       1.00      0.97      0.99        36\n",
      "           7       1.00      0.97      0.99        39\n",
      "           8       0.97      1.00      0.98        30\n",
      "           9       0.92      1.00      0.96        34\n",
      "\n",
      "    accuracy                           0.98       360\n",
      "   macro avg       0.98      0.98      0.98       360\n",
      "weighted avg       0.98      0.98      0.98       360\n",
      "\n"
     ]
    }
   ],
   "source": [
    "print(classification_report(y_test, pred_test_rf_cf))"
   ]
  },
  {
   "cell_type": "code",
   "execution_count": null,
   "id": "1ba87bde",
   "metadata": {},
   "outputs": [],
   "source": []
  },
  {
   "cell_type": "markdown",
   "id": "80b7fed4",
   "metadata": {},
   "source": [
    "### 3. svm (Support Vector Machine)"
   ]
  },
  {
   "cell_type": "markdown",
   "id": "a6e38563",
   "metadata": {},
   "source": [
    "#### 3-1. 모델 생성"
   ]
  },
  {
   "cell_type": "code",
   "execution_count": 40,
   "id": "cee63313",
   "metadata": {},
   "outputs": [],
   "source": [
    "from sklearn import svm"
   ]
  },
  {
   "cell_type": "code",
   "execution_count": 41,
   "id": "e02f51c1",
   "metadata": {},
   "outputs": [
    {
     "data": {
      "text/plain": [
       "SVC(random_state=95)"
      ]
     },
     "execution_count": 41,
     "metadata": {},
     "output_type": "execute_result"
    }
   ],
   "source": [
    "model_svm = svm.SVC(random_state=95)\n",
    "model_svm"
   ]
  },
  {
   "cell_type": "markdown",
   "id": "4a00bf0e",
   "metadata": {},
   "source": [
    "#### 3-2. 모델 학습"
   ]
  },
  {
   "cell_type": "code",
   "execution_count": 42,
   "id": "acafb671",
   "metadata": {},
   "outputs": [
    {
     "data": {
      "text/plain": [
       "SVC(random_state=95)"
      ]
     },
     "execution_count": 42,
     "metadata": {},
     "output_type": "execute_result"
    }
   ],
   "source": [
    "model_svm.fit(x_train, y_train)"
   ]
  },
  {
   "cell_type": "markdown",
   "id": "d15dba7b",
   "metadata": {},
   "source": [
    "#### 3-3. 학습을 토대로 test"
   ]
  },
  {
   "cell_type": "code",
   "execution_count": 43,
   "id": "41bbf1c0",
   "metadata": {},
   "outputs": [],
   "source": [
    "pred_test_model_svm = model_svm.predict(x_test)"
   ]
  },
  {
   "cell_type": "markdown",
   "id": "c7c53f2a",
   "metadata": {},
   "source": [
    "#### 3-4. 모델 평가"
   ]
  },
  {
   "cell_type": "code",
   "execution_count": 44,
   "id": "c51d8c29",
   "metadata": {},
   "outputs": [],
   "source": [
    "score_test = (y_test == pred_test_model_svm).mean()"
   ]
  },
  {
   "cell_type": "code",
   "execution_count": 45,
   "id": "d9c1e8ff",
   "metadata": {},
   "outputs": [
    {
     "data": {
      "text/plain": [
       "0.9888888888888889"
      ]
     },
     "execution_count": 45,
     "metadata": {},
     "output_type": "execute_result"
    }
   ],
   "source": [
    "score_test"
   ]
  },
  {
   "cell_type": "code",
   "execution_count": 46,
   "id": "1840da3d",
   "metadata": {},
   "outputs": [
    {
     "data": {
      "text/plain": [
       "(0.9965205288796103, 0.9888888888888889)"
      ]
     },
     "execution_count": 46,
     "metadata": {},
     "output_type": "execute_result"
    }
   ],
   "source": [
    "model_svm.score(x_train, y_train), model_svm.score(x_test, y_test)"
   ]
  },
  {
   "cell_type": "code",
   "execution_count": 47,
   "id": "f2bcbb82",
   "metadata": {
    "scrolled": false
   },
   "outputs": [
    {
     "name": "stdout",
     "output_type": "stream",
     "text": [
      "              precision    recall  f1-score   support\n",
      "\n",
      "           0       1.00      1.00      1.00        39\n",
      "           1       0.98      1.00      0.99        45\n",
      "           2       1.00      1.00      1.00        33\n",
      "           3       1.00      1.00      1.00        32\n",
      "           4       1.00      0.97      0.99        37\n",
      "           5       1.00      1.00      1.00        35\n",
      "           6       1.00      1.00      1.00        36\n",
      "           7       1.00      0.97      0.99        39\n",
      "           8       0.94      0.97      0.95        30\n",
      "           9       0.97      0.97      0.97        34\n",
      "\n",
      "    accuracy                           0.99       360\n",
      "   macro avg       0.99      0.99      0.99       360\n",
      "weighted avg       0.99      0.99      0.99       360\n",
      "\n"
     ]
    }
   ],
   "source": [
    "print(classification_report(y_test, pred_test_model_svm))"
   ]
  },
  {
   "cell_type": "code",
   "execution_count": null,
   "id": "f9790db6",
   "metadata": {},
   "outputs": [],
   "source": []
  },
  {
   "cell_type": "markdown",
   "id": "01ae1253",
   "metadata": {},
   "source": [
    "### 4. SGDClassifier (Stochastic Gradient Descent Classifier, 확률적 경사 하강법)"
   ]
  },
  {
   "cell_type": "markdown",
   "id": "d6ffba57",
   "metadata": {},
   "source": [
    "#### 4-1. 모델 생성"
   ]
  },
  {
   "cell_type": "code",
   "execution_count": 48,
   "id": "25464df4",
   "metadata": {},
   "outputs": [],
   "source": [
    "from sklearn.linear_model import SGDClassifier"
   ]
  },
  {
   "cell_type": "code",
   "execution_count": 49,
   "id": "aebc70f8",
   "metadata": {},
   "outputs": [
    {
     "data": {
      "text/plain": [
       "SGDClassifier(random_state=95)"
      ]
     },
     "execution_count": 49,
     "metadata": {},
     "output_type": "execute_result"
    }
   ],
   "source": [
    "SGD_cf = SGDClassifier(random_state=95)\n",
    "SGD_cf"
   ]
  },
  {
   "cell_type": "markdown",
   "id": "6c0e081c",
   "metadata": {},
   "source": [
    "#### 4-2. 모델 학습"
   ]
  },
  {
   "cell_type": "code",
   "execution_count": 50,
   "id": "ab9268a7",
   "metadata": {},
   "outputs": [
    {
     "data": {
      "text/plain": [
       "SGDClassifier(random_state=95)"
      ]
     },
     "execution_count": 50,
     "metadata": {},
     "output_type": "execute_result"
    }
   ],
   "source": [
    "SGD_cf.fit(x_train, y_train)"
   ]
  },
  {
   "cell_type": "markdown",
   "id": "35924904",
   "metadata": {},
   "source": [
    "#### 4-3. 학습을 토대로 test"
   ]
  },
  {
   "cell_type": "code",
   "execution_count": 51,
   "id": "d324c608",
   "metadata": {},
   "outputs": [],
   "source": [
    "pred_test_SGD_cf = SGD_cf.predict(x_test)"
   ]
  },
  {
   "cell_type": "markdown",
   "id": "41e57d19",
   "metadata": {},
   "source": [
    "#### 4-4. 모델 평가"
   ]
  },
  {
   "cell_type": "code",
   "execution_count": 52,
   "id": "3d38f32b",
   "metadata": {},
   "outputs": [],
   "source": [
    "score_test = (y_test == pred_test_SGD_cf).mean()"
   ]
  },
  {
   "cell_type": "code",
   "execution_count": 53,
   "id": "0753584e",
   "metadata": {},
   "outputs": [
    {
     "data": {
      "text/plain": [
       "0.9527777777777777"
      ]
     },
     "execution_count": 53,
     "metadata": {},
     "output_type": "execute_result"
    }
   ],
   "source": [
    "score_test"
   ]
  },
  {
   "cell_type": "code",
   "execution_count": 54,
   "id": "00e54527",
   "metadata": {},
   "outputs": [
    {
     "data": {
      "text/plain": [
       "(0.9749478079331941, 0.9527777777777777)"
      ]
     },
     "execution_count": 54,
     "metadata": {},
     "output_type": "execute_result"
    }
   ],
   "source": [
    "SGD_cf.score(x_train, y_train), SGD_cf.score(x_test, y_test)"
   ]
  },
  {
   "cell_type": "code",
   "execution_count": 55,
   "id": "71db9b2e",
   "metadata": {
    "scrolled": true
   },
   "outputs": [
    {
     "name": "stdout",
     "output_type": "stream",
     "text": [
      "              precision    recall  f1-score   support\n",
      "\n",
      "           0       1.00      0.97      0.99        39\n",
      "           1       0.97      0.84      0.90        45\n",
      "           2       1.00      1.00      1.00        33\n",
      "           3       0.91      0.97      0.94        32\n",
      "           4       1.00      0.97      0.99        37\n",
      "           5       0.90      1.00      0.95        35\n",
      "           6       0.97      0.97      0.97        36\n",
      "           7       1.00      0.97      0.99        39\n",
      "           8       0.76      0.87      0.81        30\n",
      "           9       1.00      0.97      0.99        34\n",
      "\n",
      "    accuracy                           0.95       360\n",
      "   macro avg       0.95      0.95      0.95       360\n",
      "weighted avg       0.96      0.95      0.95       360\n",
      "\n"
     ]
    }
   ],
   "source": [
    "print(classification_report(y_test, pred_test_SGD_cf))"
   ]
  },
  {
   "cell_type": "code",
   "execution_count": null,
   "id": "eeece60b",
   "metadata": {},
   "outputs": [],
   "source": []
  },
  {
   "cell_type": "markdown",
   "id": "588b6b53",
   "metadata": {},
   "source": [
    "### 5. Logistic Regression"
   ]
  },
  {
   "cell_type": "markdown",
   "id": "b5ab2ac1",
   "metadata": {},
   "source": [
    "#### 5-1. 모델 생성"
   ]
  },
  {
   "cell_type": "code",
   "execution_count": 56,
   "id": "54f81b21",
   "metadata": {},
   "outputs": [],
   "source": [
    "from sklearn.linear_model import LogisticRegression"
   ]
  },
  {
   "cell_type": "code",
   "execution_count": 57,
   "id": "6f7e457f",
   "metadata": {},
   "outputs": [
    {
     "data": {
      "text/plain": [
       "LogisticRegression()"
      ]
     },
     "execution_count": 57,
     "metadata": {},
     "output_type": "execute_result"
    }
   ],
   "source": [
    "lr = LogisticRegression()\n",
    "lr"
   ]
  },
  {
   "cell_type": "markdown",
   "id": "613e5e6b",
   "metadata": {},
   "source": [
    "#### 5-2. 모델 학습"
   ]
  },
  {
   "cell_type": "code",
   "execution_count": 58,
   "id": "a9f706c8",
   "metadata": {},
   "outputs": [
    {
     "name": "stderr",
     "output_type": "stream",
     "text": [
      "C:\\ProgramData\\Anaconda3\\lib\\site-packages\\sklearn\\linear_model\\_logistic.py:763: ConvergenceWarning: lbfgs failed to converge (status=1):\n",
      "STOP: TOTAL NO. of ITERATIONS REACHED LIMIT.\n",
      "\n",
      "Increase the number of iterations (max_iter) or scale the data as shown in:\n",
      "    https://scikit-learn.org/stable/modules/preprocessing.html\n",
      "Please also refer to the documentation for alternative solver options:\n",
      "    https://scikit-learn.org/stable/modules/linear_model.html#logistic-regression\n",
      "  n_iter_i = _check_optimize_result(\n"
     ]
    },
    {
     "data": {
      "text/plain": [
       "LogisticRegression()"
      ]
     },
     "execution_count": 58,
     "metadata": {},
     "output_type": "execute_result"
    }
   ],
   "source": [
    "lr.fit(x_train, y_train)  # max_iter의 디폴트 값인 100번동안 결과값에 수렴하지 못해서 경고 발생"
   ]
  },
  {
   "cell_type": "code",
   "execution_count": 59,
   "id": "c0096645",
   "metadata": {},
   "outputs": [
    {
     "data": {
      "text/plain": [
       "LogisticRegression(max_iter=1800, random_state=95)"
      ]
     },
     "execution_count": 59,
     "metadata": {},
     "output_type": "execute_result"
    }
   ],
   "source": [
    "lr = LogisticRegression(max_iter=1800, random_state=95)  # max_iter=1800으로 변경하여 결과값에 수렴하게 함\n",
    "lr"
   ]
  },
  {
   "cell_type": "code",
   "execution_count": 60,
   "id": "8623f963",
   "metadata": {},
   "outputs": [
    {
     "data": {
      "text/plain": [
       "LogisticRegression(max_iter=1800, random_state=95)"
      ]
     },
     "execution_count": 60,
     "metadata": {},
     "output_type": "execute_result"
    }
   ],
   "source": [
    "lr.fit(x_train, y_train)"
   ]
  },
  {
   "cell_type": "markdown",
   "id": "12bfe849",
   "metadata": {},
   "source": [
    "#### 5-3. 학습을 토대로 test"
   ]
  },
  {
   "cell_type": "code",
   "execution_count": 61,
   "id": "5d96d392",
   "metadata": {},
   "outputs": [],
   "source": [
    "pred_test_lr = lr.predict(x_test)"
   ]
  },
  {
   "cell_type": "markdown",
   "id": "04cb310a",
   "metadata": {},
   "source": [
    "#### 5-4. 모델 평가"
   ]
  },
  {
   "cell_type": "code",
   "execution_count": 62,
   "id": "3f5728b6",
   "metadata": {},
   "outputs": [],
   "source": [
    "score_test = (y_test == pred_test_lr).mean()"
   ]
  },
  {
   "cell_type": "code",
   "execution_count": 63,
   "id": "3a5b3601",
   "metadata": {},
   "outputs": [
    {
     "data": {
      "text/plain": [
       "0.9666666666666667"
      ]
     },
     "execution_count": 63,
     "metadata": {},
     "output_type": "execute_result"
    }
   ],
   "source": [
    "score_test"
   ]
  },
  {
   "cell_type": "code",
   "execution_count": 64,
   "id": "3bac9b37",
   "metadata": {},
   "outputs": [
    {
     "data": {
      "text/plain": [
       "(1.0, 0.9666666666666667)"
      ]
     },
     "execution_count": 64,
     "metadata": {},
     "output_type": "execute_result"
    }
   ],
   "source": [
    "lr.score(x_train, y_train), lr.score(x_test, y_test)"
   ]
  },
  {
   "cell_type": "code",
   "execution_count": 65,
   "id": "4f6e8b0c",
   "metadata": {
    "scrolled": true
   },
   "outputs": [
    {
     "name": "stdout",
     "output_type": "stream",
     "text": [
      "              precision    recall  f1-score   support\n",
      "\n",
      "           0       1.00      1.00      1.00        39\n",
      "           1       0.98      0.96      0.97        45\n",
      "           2       1.00      0.97      0.98        33\n",
      "           3       1.00      1.00      1.00        32\n",
      "           4       0.97      0.97      0.97        37\n",
      "           5       0.97      0.91      0.94        35\n",
      "           6       1.00      0.97      0.99        36\n",
      "           7       1.00      0.97      0.99        39\n",
      "           8       0.85      0.93      0.89        30\n",
      "           9       0.89      0.97      0.93        34\n",
      "\n",
      "    accuracy                           0.97       360\n",
      "   macro avg       0.97      0.97      0.97       360\n",
      "weighted avg       0.97      0.97      0.97       360\n",
      "\n"
     ]
    }
   ],
   "source": [
    "print(classification_report(y_test, pred_test_lr))"
   ]
  },
  {
   "cell_type": "code",
   "execution_count": null,
   "id": "6b6d3f87",
   "metadata": {},
   "outputs": [],
   "source": []
  },
  {
   "cell_type": "code",
   "execution_count": null,
   "id": "45670818",
   "metadata": {},
   "outputs": [],
   "source": []
  },
  {
   "cell_type": "markdown",
   "id": "fbda0072",
   "metadata": {},
   "source": [
    "## 모델 비교"
   ]
  },
  {
   "cell_type": "markdown",
   "id": "1bf2732a",
   "metadata": {},
   "source": [
    "- 순수 모델 성능을 보기 위해 하이퍼 파라미터는 최대한 디폴트 값으로 지정\n",
    "- 성능은 train_test_split의 분류에 따라 달라질 수 있음\n",
    "- label의 항목들 사이즈가 약간씩 다른 것을 적용하기 위해 평균은 weighted avg를 이용함"
   ]
  },
  {
   "cell_type": "markdown",
   "id": "3be60e31",
   "metadata": {},
   "source": [
    "평가 항목\n",
    "- macro avg : 각 항목을 더한 후, 전체에 대한 평균을 구하는 방식 (레이블의 비율은 고려되지 않음)\n",
    "- weighted avg : 각 레이블의 비율에 따라 가중치를 적용한 평균을 구하는 방식  \n",
    "(macro avg, weighted avg : https://rython.tistory.com/14)\n",
    "<br><br>\n",
    "- precision(정밀도) : TP / (TP+FP), 모델이 True로 분류한 것 중 실제 True로 분류된 비율\n",
    "- recall(재현율, 민감도) : TP / (TP+FN), 실제 True로 분류된 것 중 모델이 True로 분류한 비율\n",
    "- accuracy(정확도) : (TP + TN) / (TP + FN + FP +TN), 전체에서 모델이 맞게 예측한 비율 \n",
    "- F1-score : precision과 recall의 조화평균"
   ]
  },
  {
   "cell_type": "code",
   "execution_count": null,
   "id": "d5006884",
   "metadata": {},
   "outputs": [],
   "source": []
  },
  {
   "cell_type": "code",
   "execution_count": 66,
   "id": "50930e83",
   "metadata": {},
   "outputs": [],
   "source": [
    "model_list = [pred_test_dt_cf, pred_test_rf_cf, pred_test_model_svm, pred_test_SGD_cf, pred_test_lr]"
   ]
  },
  {
   "cell_type": "code",
   "execution_count": 67,
   "id": "420caa83",
   "metadata": {},
   "outputs": [],
   "source": [
    "model_name = ['DecisionTree', 'RandomForest', 'svm', 'SGDClassifier', 'LogisticRegression']"
   ]
  },
  {
   "cell_type": "code",
   "execution_count": 68,
   "id": "72bb3db7",
   "metadata": {},
   "outputs": [
    {
     "data": {
      "text/plain": [
       "[0.84, 0.98, 0.99, 0.95, 0.97]"
      ]
     },
     "execution_count": 68,
     "metadata": {},
     "output_type": "execute_result"
    }
   ],
   "source": [
    "acc_list = []\n",
    "for i in model_list:\n",
    "    acc = round(accuracy_score(y_test, i), 2)\n",
    "    acc_list.append(acc)\n",
    "acc_list"
   ]
  },
  {
   "cell_type": "code",
   "execution_count": 69,
   "id": "b7a7ea6a",
   "metadata": {},
   "outputs": [
    {
     "data": {
      "text/plain": [
       "[0.84, 0.98, 0.99, 0.95, 0.97]"
      ]
     },
     "execution_count": 69,
     "metadata": {},
     "output_type": "execute_result"
    }
   ],
   "source": [
    "recall_list = []\n",
    "for i in model_list:\n",
    "    rec = round(recall_score(y_test, i, average='weighted'), 2)\n",
    "    recall_list.append(rec)\n",
    "recall_list"
   ]
  },
  {
   "cell_type": "code",
   "execution_count": 70,
   "id": "6e6d1668",
   "metadata": {},
   "outputs": [
    {
     "data": {
      "text/plain": [
       "[0.87, 0.98, 0.99, 0.96, 0.97]"
      ]
     },
     "execution_count": 70,
     "metadata": {},
     "output_type": "execute_result"
    }
   ],
   "source": [
    "precision_list = []\n",
    "for i in model_list:\n",
    "    rec = round(precision_score(y_test, i, average='weighted'), 2)\n",
    "    precision_list.append(rec)\n",
    "precision_list"
   ]
  },
  {
   "cell_type": "code",
   "execution_count": 71,
   "id": "4534eaac",
   "metadata": {},
   "outputs": [
    {
     "data": {
      "text/plain": [
       "[0.85, 0.98, 0.99, 0.95, 0.97]"
      ]
     },
     "execution_count": 71,
     "metadata": {},
     "output_type": "execute_result"
    }
   ],
   "source": [
    "f1_list = []\n",
    "for i in model_list:\n",
    "    f1 = round(f1_score(y_test, i, average='weighted'), 2)\n",
    "    f1_list.append(f1)\n",
    "f1_list"
   ]
  },
  {
   "cell_type": "code",
   "execution_count": 72,
   "id": "9f7c00aa",
   "metadata": {},
   "outputs": [],
   "source": [
    "import pandas as pd"
   ]
  },
  {
   "cell_type": "code",
   "execution_count": 73,
   "id": "044bb9ca",
   "metadata": {},
   "outputs": [],
   "source": [
    "score_df = pd.DataFrame([acc_list, recall_list, precision_list, f1_list], \n",
    "                        index=['accuracy', 'recall', 'precision', 'f1'], columns=model_name)"
   ]
  },
  {
   "cell_type": "code",
   "execution_count": 74,
   "id": "82284557",
   "metadata": {
    "scrolled": false
   },
   "outputs": [
    {
     "data": {
      "text/html": [
       "<div>\n",
       "<style scoped>\n",
       "    .dataframe tbody tr th:only-of-type {\n",
       "        vertical-align: middle;\n",
       "    }\n",
       "\n",
       "    .dataframe tbody tr th {\n",
       "        vertical-align: top;\n",
       "    }\n",
       "\n",
       "    .dataframe thead th {\n",
       "        text-align: right;\n",
       "    }\n",
       "</style>\n",
       "<table border=\"1\" class=\"dataframe\">\n",
       "  <thead>\n",
       "    <tr style=\"text-align: right;\">\n",
       "      <th></th>\n",
       "      <th>accuracy</th>\n",
       "      <th>recall</th>\n",
       "      <th>precision</th>\n",
       "      <th>f1</th>\n",
       "    </tr>\n",
       "  </thead>\n",
       "  <tbody>\n",
       "    <tr>\n",
       "      <th>DecisionTree</th>\n",
       "      <td>0.84</td>\n",
       "      <td>0.84</td>\n",
       "      <td>0.87</td>\n",
       "      <td>0.85</td>\n",
       "    </tr>\n",
       "    <tr>\n",
       "      <th>RandomForest</th>\n",
       "      <td>0.98</td>\n",
       "      <td>0.98</td>\n",
       "      <td>0.98</td>\n",
       "      <td>0.98</td>\n",
       "    </tr>\n",
       "    <tr>\n",
       "      <th>svm</th>\n",
       "      <td>0.99</td>\n",
       "      <td>0.99</td>\n",
       "      <td>0.99</td>\n",
       "      <td>0.99</td>\n",
       "    </tr>\n",
       "    <tr>\n",
       "      <th>SGDClassifier</th>\n",
       "      <td>0.95</td>\n",
       "      <td>0.95</td>\n",
       "      <td>0.96</td>\n",
       "      <td>0.95</td>\n",
       "    </tr>\n",
       "    <tr>\n",
       "      <th>LogisticRegression</th>\n",
       "      <td>0.97</td>\n",
       "      <td>0.97</td>\n",
       "      <td>0.97</td>\n",
       "      <td>0.97</td>\n",
       "    </tr>\n",
       "  </tbody>\n",
       "</table>\n",
       "</div>"
      ],
      "text/plain": [
       "                    accuracy  recall  precision    f1\n",
       "DecisionTree            0.84    0.84       0.87  0.85\n",
       "RandomForest            0.98    0.98       0.98  0.98\n",
       "svm                     0.99    0.99       0.99  0.99\n",
       "SGDClassifier           0.95    0.95       0.96  0.95\n",
       "LogisticRegression      0.97    0.97       0.97  0.97"
      ]
     },
     "execution_count": 74,
     "metadata": {},
     "output_type": "execute_result"
    }
   ],
   "source": [
    "score_df = score_df.transpose()\n",
    "score_df"
   ]
  },
  {
   "cell_type": "code",
   "execution_count": null,
   "id": "6246e178",
   "metadata": {},
   "outputs": [],
   "source": []
  },
  {
   "cell_type": "code",
   "execution_count": null,
   "id": "13944e8b",
   "metadata": {},
   "outputs": [],
   "source": []
  },
  {
   "cell_type": "markdown",
   "id": "d71e2227",
   "metadata": {},
   "source": [
    "## 평가"
   ]
  },
  {
   "cell_type": "markdown",
   "id": "8bc6c416",
   "metadata": {},
   "source": [
    "### 1. 기초적인 평가 (accuracy)"
   ]
  },
  {
   "cell_type": "code",
   "execution_count": 75,
   "id": "21ad7512",
   "metadata": {},
   "outputs": [
    {
     "data": {
      "text/plain": [
       "svm                   0.99\n",
       "RandomForest          0.98\n",
       "LogisticRegression    0.97\n",
       "SGDClassifier         0.95\n",
       "DecisionTree          0.84\n",
       "Name: accuracy, dtype: float64"
      ]
     },
     "execution_count": 75,
     "metadata": {},
     "output_type": "execute_result"
    }
   ],
   "source": [
    "score_df.sort_values(by='accuracy', ascending=False)['accuracy']"
   ]
  },
  {
   "cell_type": "markdown",
   "id": "ea36aa6d",
   "metadata": {},
   "source": [
    "- accuracy로 볼 때는 svm이 가장 좋은 성능을 보임"
   ]
  },
  {
   "cell_type": "markdown",
   "id": "4789818a",
   "metadata": {},
   "source": [
    "### 2. 가상상황 : 비밀번호를 이미지로 입력한 숫자로 맞출 때\n",
    "- 그냥 일반적인 이미지 분류기로는 어떤 평가 항목이 중요한지 판단하기 어려움\n",
    "- 가상의 상황을 만들어봄\n",
    "- precision과 recall 중 어떤게 더 중요한지 파악하고자 함"
   ]
  },
  {
   "cell_type": "code",
   "execution_count": 76,
   "id": "4f3cb784",
   "metadata": {},
   "outputs": [
    {
     "data": {
      "text/plain": [
       "svm                   0.99\n",
       "RandomForest          0.98\n",
       "LogisticRegression    0.97\n",
       "SGDClassifier         0.96\n",
       "DecisionTree          0.87\n",
       "Name: precision, dtype: float64"
      ]
     },
     "execution_count": 76,
     "metadata": {},
     "output_type": "execute_result"
    }
   ],
   "source": [
    "score_df.sort_values(by='precision', ascending=False)['precision']"
   ]
  },
  {
   "cell_type": "markdown",
   "id": "4c665ef8",
   "metadata": {},
   "source": [
    "- precision이 더 중요함\n",
    "- 이미지를 입력 받은 장치가 비밀번호가 맞다고 판단했을 때 실제 비밀번호가 아니라면 보안에 더 큰 문제점이 발생함<br>\n",
    "(recall 관점 : 실제 비밀번호 중 이미지를 입력 받은 장치가 올바른 비밀번호를 출력하는 비율)\n",
    "- precision 관점에서 svm이 가장 좋은 성능을 보임"
   ]
  },
  {
   "cell_type": "markdown",
   "id": "7fd45d4a",
   "metadata": {},
   "source": [
    "### 3. 총 평가"
   ]
  },
  {
   "cell_type": "code",
   "execution_count": 77,
   "id": "1b6d33ad",
   "metadata": {},
   "outputs": [
    {
     "data": {
      "text/html": [
       "<div>\n",
       "<style scoped>\n",
       "    .dataframe tbody tr th:only-of-type {\n",
       "        vertical-align: middle;\n",
       "    }\n",
       "\n",
       "    .dataframe tbody tr th {\n",
       "        vertical-align: top;\n",
       "    }\n",
       "\n",
       "    .dataframe thead th {\n",
       "        text-align: right;\n",
       "    }\n",
       "</style>\n",
       "<table border=\"1\" class=\"dataframe\">\n",
       "  <thead>\n",
       "    <tr style=\"text-align: right;\">\n",
       "      <th></th>\n",
       "      <th>accuracy</th>\n",
       "      <th>recall</th>\n",
       "      <th>precision</th>\n",
       "      <th>f1</th>\n",
       "    </tr>\n",
       "  </thead>\n",
       "  <tbody>\n",
       "    <tr>\n",
       "      <th>svm</th>\n",
       "      <td>0.99</td>\n",
       "      <td>0.99</td>\n",
       "      <td>0.99</td>\n",
       "      <td>0.99</td>\n",
       "    </tr>\n",
       "    <tr>\n",
       "      <th>RandomForest</th>\n",
       "      <td>0.98</td>\n",
       "      <td>0.98</td>\n",
       "      <td>0.98</td>\n",
       "      <td>0.98</td>\n",
       "    </tr>\n",
       "    <tr>\n",
       "      <th>LogisticRegression</th>\n",
       "      <td>0.97</td>\n",
       "      <td>0.97</td>\n",
       "      <td>0.97</td>\n",
       "      <td>0.97</td>\n",
       "    </tr>\n",
       "    <tr>\n",
       "      <th>SGDClassifier</th>\n",
       "      <td>0.95</td>\n",
       "      <td>0.95</td>\n",
       "      <td>0.96</td>\n",
       "      <td>0.95</td>\n",
       "    </tr>\n",
       "    <tr>\n",
       "      <th>DecisionTree</th>\n",
       "      <td>0.84</td>\n",
       "      <td>0.84</td>\n",
       "      <td>0.87</td>\n",
       "      <td>0.85</td>\n",
       "    </tr>\n",
       "  </tbody>\n",
       "</table>\n",
       "</div>"
      ],
      "text/plain": [
       "                    accuracy  recall  precision    f1\n",
       "svm                     0.99    0.99       0.99  0.99\n",
       "RandomForest            0.98    0.98       0.98  0.98\n",
       "LogisticRegression      0.97    0.97       0.97  0.97\n",
       "SGDClassifier           0.95    0.95       0.96  0.95\n",
       "DecisionTree            0.84    0.84       0.87  0.85"
      ]
     },
     "execution_count": 77,
     "metadata": {},
     "output_type": "execute_result"
    }
   ],
   "source": [
    "score_df.sort_values(by='f1', ascending=False)"
   ]
  },
  {
   "cell_type": "markdown",
   "id": "0a0b8c20",
   "metadata": {},
   "source": [
    "- 현재의 조건에서는 accuracy, recall, precision, f1_score 관점에서 **svm**모델이 가장 좋은 성능을 나타냄\n",
    "- DecisionTree는 모든 부분에서 가장 낮은 성능을 나타냄"
   ]
  },
  {
   "cell_type": "code",
   "execution_count": null,
   "id": "fd166a2c",
   "metadata": {},
   "outputs": [],
   "source": []
  }
 ],
 "metadata": {
  "kernelspec": {
   "display_name": "Python 3",
   "language": "python",
   "name": "python3"
  },
  "language_info": {
   "codemirror_mode": {
    "name": "ipython",
    "version": 3
   },
   "file_extension": ".py",
   "mimetype": "text/x-python",
   "name": "python",
   "nbconvert_exporter": "python",
   "pygments_lexer": "ipython3",
   "version": "3.8.8"
  }
 },
 "nbformat": 4,
 "nbformat_minor": 5
}
