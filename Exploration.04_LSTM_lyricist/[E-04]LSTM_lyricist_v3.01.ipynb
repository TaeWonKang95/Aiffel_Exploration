{
 "cells": [
  {
   "cell_type": "markdown",
   "id": "4d73c5f2",
   "metadata": {},
   "source": [
    "# Exploration04. 작사가 만들기\n",
    "- RNN (LSTM)"
   ]
  },
  {
   "cell_type": "code",
   "execution_count": null,
   "id": "130e913a",
   "metadata": {},
   "outputs": [],
   "source": []
  },
  {
   "cell_type": "code",
   "execution_count": 1,
   "id": "b0fcfc6a",
   "metadata": {},
   "outputs": [],
   "source": [
    "import re\n",
    "import numpy as np\n",
    "import tensorflow as tf\n",
    "import matplotlib.pyplot as plt\n",
    "import seaborn as sns"
   ]
  },
  {
   "cell_type": "markdown",
   "id": "446892d3",
   "metadata": {},
   "source": [
    "## 데이터 읽어오기"
   ]
  },
  {
   "cell_type": "code",
   "execution_count": 2,
   "id": "15016dc7",
   "metadata": {
    "scrolled": true
   },
   "outputs": [
    {
     "name": "stdout",
     "output_type": "stream",
     "text": [
      "데이터 크기: 187088\n",
      "Examples:\n",
      " [\"Now I've heard there was a secret chord\", 'That David played, and it pleased the Lord', \"But you don't really care for music, do you?\"]\n"
     ]
    }
   ],
   "source": [
    "import glob\n",
    "import os\n",
    "\n",
    "txt_file_path = os.getenv('HOME')+'/aiffel/lyricist/data/lyrics/*'\n",
    "\n",
    "txt_list = glob.glob(txt_file_path)\n",
    "\n",
    "raw_corpus = []\n",
    "\n",
    "# 여러개의 txt 파일을 모두 읽어서 raw_corpus 에 담습니다.\n",
    "for txt_file in txt_list:\n",
    "    with open(txt_file, \"r\") as f:\n",
    "        raw = f.read().splitlines()\n",
    "        raw_corpus.extend(raw)\n",
    "\n",
    "print(\"데이터 크기:\", len(raw_corpus))\n",
    "print(\"Examples:\\n\", raw_corpus[:3])"
   ]
  },
  {
   "cell_type": "code",
   "execution_count": null,
   "id": "197790c4",
   "metadata": {},
   "outputs": [],
   "source": []
  },
  {
   "cell_type": "code",
   "execution_count": null,
   "id": "dc880ab0",
   "metadata": {},
   "outputs": [],
   "source": []
  },
  {
   "cell_type": "markdown",
   "id": "3c18ec32",
   "metadata": {},
   "source": [
    "## 데이터 정제하고 모으기"
   ]
  },
  {
   "cell_type": "markdown",
   "id": "bf96af8d",
   "metadata": {},
   "source": [
    "데이터 정제하기"
   ]
  },
  {
   "cell_type": "code",
   "execution_count": 3,
   "id": "e2c6033b",
   "metadata": {},
   "outputs": [
    {
     "name": "stdout",
     "output_type": "stream",
     "text": [
      "<start> i am a good boy <end>\n"
     ]
    }
   ],
   "source": [
    "def preprocess_sentence(sentence):\n",
    "    sentence = sentence.lower().strip() # 1\n",
    "    sentence = re.sub(r\"([?.!,¿])\", r\" \\1 \", sentence) # 2\n",
    "    sentence = re.sub(r'[\" \"]+', \" \", sentence) # 3\n",
    "    sentence = re.sub(r\"[^a-zA-Z?.!,¿]+\", \" \", sentence) # 4\n",
    "    sentence = sentence.strip() # 5\n",
    "    sentence = '<start> ' + sentence + ' <end>' # 6\n",
    "    return sentence\n",
    "\n",
    "# 이 문장이 어떻게 필터링되는지 확인해 보세요.\n",
    "print(preprocess_sentence(\"I@ am     a ;;;;;good boy\"))"
   ]
  },
  {
   "cell_type": "markdown",
   "id": "eb61b49c",
   "metadata": {},
   "source": [
    "정규표현식 : https://myeonguni.tistory.com/1555  \n",
    "r\" \\1 \" : 원래 문장을 가져오는데 ([?.!,¿])이 기호 양쪽을 한칸씩 띄어쓰기, https://stackoverflow.com/questions/20802056/python-regular-expression-1/20802130"
   ]
  },
  {
   "cell_type": "code",
   "execution_count": null,
   "id": "281e9907",
   "metadata": {},
   "outputs": [],
   "source": []
  },
  {
   "cell_type": "markdown",
   "id": "4c822ea4",
   "metadata": {},
   "source": [
    "정제된 문장들을 corpus에 모으기"
   ]
  },
  {
   "cell_type": "code",
   "execution_count": 4,
   "id": "2c65e0c7",
   "metadata": {},
   "outputs": [
    {
     "data": {
      "text/plain": [
       "['<start> now i ve heard there was a secret chord <end>',\n",
       " '<start> that david played , and it pleased the lord <end>',\n",
       " '<start> but you don t really care for music , do you ? <end>']"
      ]
     },
     "execution_count": 4,
     "metadata": {},
     "output_type": "execute_result"
    }
   ],
   "source": [
    "corpus = []\n",
    "\n",
    "for sentence in raw_corpus:  # raw_corpus : 라인 단위로 끊은 전체 글\n",
    "    if len(sentence) == 0: continue   # 빈칸으로 된 문장 제외\n",
    "    if sentence[-1] == \":\": continue  # 콜론(:)으로 끝나는 문장 제외\n",
    "    \n",
    "    # 정제를 하고 담아주세요\n",
    "    preprocessed_sentence = preprocess_sentence(sentence)\n",
    "    corpus.append(preprocessed_sentence)\n",
    "        \n",
    "# 정제된 결과를 10개만 확인해보죠\n",
    "corpus[:3]"
   ]
  },
  {
   "cell_type": "code",
   "execution_count": null,
   "id": "171c04e4",
   "metadata": {},
   "outputs": [],
   "source": []
  },
  {
   "cell_type": "code",
   "execution_count": null,
   "id": "6c120d1f",
   "metadata": {},
   "outputs": [],
   "source": []
  },
  {
   "cell_type": "markdown",
   "id": "7a9e7429",
   "metadata": {},
   "source": [
    "## 문장에서 단어를 추출하여 토큰으로 만들기"
   ]
  },
  {
   "cell_type": "code",
   "execution_count": 1,
   "id": "99c939e6",
   "metadata": {},
   "outputs": [],
   "source": [
    "def tokenize(corpus):\n",
    "    # 12000단어를 기억할 수 있는 tokenizer를 만들겁니다\n",
    "    # 우리는 이미 문장을 정제했으니 filters가 필요없어요\n",
    "    # 12000단어에 포함되지 못한 단어는 '<unk>'로 바꿀거에요\n",
    "    tokenizer = tf.keras.preprocessing.text.Tokenizer(\n",
    "        num_words=12000, \n",
    "        filters=' ',\n",
    "        oov_token=\"<unk>\"\n",
    "    )\n",
    "    # corpus를 이용해 tokenizer 내부의 단어장을 완성합니다\n",
    "    tokenizer.fit_on_texts(corpus)\n",
    "    # 준비한 tokenizer를 이용해 corpus를 Tensor로 변환합니다\n",
    "    tensor = tokenizer.texts_to_sequences(corpus)   \n",
    "    \n",
    "    print(tensor,tokenizer)\n",
    "    return tensor, tokenizer\n",
    "\n",
    "# tensor, tokenizer = tokenize(corpus)"
   ]
  },
  {
   "cell_type": "code",
   "execution_count": 6,
   "id": "326b5b00",
   "metadata": {},
   "outputs": [
    {
     "name": "stdout",
     "output_type": "stream",
     "text": [
      "1 : <unk>\n",
      "2 : <start>\n",
      "3 : <end>\n",
      "4 : ,\n",
      "5 : i\n",
      "6 : the\n",
      "7 : you\n",
      "8 : and\n",
      "9 : a\n",
      "10 : to\n"
     ]
    }
   ],
   "source": [
    "for idx in tokenizer.index_word:\n",
    "    print(idx, \":\", tokenizer.index_word[idx])\n",
    "\n",
    "    if idx >= 10: break"
   ]
  },
  {
   "cell_type": "markdown",
   "id": "dfd90b92",
   "metadata": {},
   "source": [
    "토큰의 인덱스 순서는 토큰의 빈도수에 의해 결정됨  \n",
    "https://wikidocs.net/31766"
   ]
  },
  {
   "cell_type": "code",
   "execution_count": null,
   "id": "931a5b3d",
   "metadata": {},
   "outputs": [],
   "source": []
  },
  {
   "cell_type": "code",
   "execution_count": null,
   "id": "8d475a66",
   "metadata": {},
   "outputs": [],
   "source": []
  },
  {
   "cell_type": "markdown",
   "id": "fc65e81b",
   "metadata": {},
   "source": [
    "## 토큰 개수 15개 넘어가는 것 제외시키기"
   ]
  },
  {
   "cell_type": "code",
   "execution_count": 7,
   "id": "6f2dff19",
   "metadata": {},
   "outputs": [
    {
     "data": {
      "text/plain": [
       "[2, 17, 2639, 873, 4, 8, 11, 6043, 6, 329, 3]"
      ]
     },
     "execution_count": 7,
     "metadata": {},
     "output_type": "execute_result"
    }
   ],
   "source": [
    "tensor[1]"
   ]
  },
  {
   "cell_type": "code",
   "execution_count": 8,
   "id": "0d1dbc1d",
   "metadata": {},
   "outputs": [],
   "source": [
    "tensor_temp = []\n",
    "for i in tensor:\n",
    "    if len(i) > 15:\n",
    "        continue\n",
    "    else:\n",
    "        tensor_temp.append(i)"
   ]
  },
  {
   "cell_type": "markdown",
   "id": "640e83a4",
   "metadata": {},
   "source": [
    "for문으로 토큰 갯수가 15개 초과인 시퀀스를 제외시킴"
   ]
  },
  {
   "cell_type": "code",
   "execution_count": 9,
   "id": "998b1d50",
   "metadata": {},
   "outputs": [],
   "source": [
    "# tensor_temp"
   ]
  },
  {
   "cell_type": "code",
   "execution_count": null,
   "id": "0e47919b",
   "metadata": {},
   "outputs": [],
   "source": []
  },
  {
   "cell_type": "code",
   "execution_count": null,
   "id": "bc139e49",
   "metadata": {},
   "outputs": [],
   "source": []
  },
  {
   "cell_type": "markdown",
   "id": "a7bc5c0a",
   "metadata": {},
   "source": [
    "## 시퀀스 길이 통일하기"
   ]
  },
  {
   "cell_type": "code",
   "execution_count": 10,
   "id": "ef19f62a",
   "metadata": {},
   "outputs": [],
   "source": [
    "tensor = tf.keras.preprocessing.sequence.pad_sequences(tensor_temp, padding='post') "
   ]
  },
  {
   "cell_type": "markdown",
   "id": "5f9e17a3",
   "metadata": {},
   "source": [
    "padding='post'\n",
    "- 시퀀스의 길이를 맞춰주기 위해 padding을 넣음\n",
    "- post : 단어 뒷단의 부족한 부분을 0으로 채움\n",
    "- pre-padding과 post-padding : https://blog.naver.com/qbxlvnf11/221945962124"
   ]
  },
  {
   "cell_type": "code",
   "execution_count": null,
   "id": "1129d93f",
   "metadata": {},
   "outputs": [],
   "source": []
  },
  {
   "cell_type": "code",
   "execution_count": null,
   "id": "ff331b87",
   "metadata": {},
   "outputs": [],
   "source": []
  },
  {
   "cell_type": "markdown",
   "id": "21675e2d",
   "metadata": {},
   "source": [
    "## 소스 문장과 타겟 문장 만들기"
   ]
  },
  {
   "cell_type": "code",
   "execution_count": 11,
   "id": "101cb773",
   "metadata": {},
   "outputs": [
    {
     "data": {
      "text/plain": [
       "array([   2,    6, 3604,    4,    6, 2265,    3,    0,    0,    0,    0,\n",
       "          0,    0,    0,    0], dtype=int32)"
      ]
     },
     "execution_count": 11,
     "metadata": {},
     "output_type": "execute_result"
    }
   ],
   "source": [
    "tensor[4]"
   ]
  },
  {
   "cell_type": "code",
   "execution_count": 12,
   "id": "85ae4b18",
   "metadata": {},
   "outputs": [
    {
     "data": {
      "text/plain": [
       "156013"
      ]
     },
     "execution_count": 12,
     "metadata": {},
     "output_type": "execute_result"
    }
   ],
   "source": [
    "len(tensor_temp)"
   ]
  },
  {
   "cell_type": "code",
   "execution_count": 13,
   "id": "cf456b33",
   "metadata": {},
   "outputs": [
    {
     "name": "stdout",
     "output_type": "stream",
     "text": [
      "[   2   50    5   91  297   65   57    9  969 6042    3    0    0    0]\n",
      "[  50    5   91  297   65   57    9  969 6042    3    0    0    0    0]\n"
     ]
    }
   ],
   "source": [
    "# tensor에서 마지막 토큰을 잘라내서 소스 문장을 생성합니다\n",
    "# 마지막 토큰은 <end>가 아니라 <pad>일 가능성이 높습니다.\n",
    "src_input = tensor[:, :-1]  \n",
    "# tensor에서 <start>를 잘라내서 타겟 문장을 생성합니다.\n",
    "tgt_input = tensor[:, 1:]    \n",
    "\n",
    "print(src_input[0])\n",
    "print(tgt_input[0])"
   ]
  },
  {
   "cell_type": "code",
   "execution_count": 14,
   "id": "8ad20199",
   "metadata": {},
   "outputs": [
    {
     "data": {
      "text/plain": [
       "156013"
      ]
     },
     "execution_count": 14,
     "metadata": {},
     "output_type": "execute_result"
    }
   ],
   "source": [
    "len(src_input)"
   ]
  },
  {
   "cell_type": "code",
   "execution_count": null,
   "id": "d7bdbf19",
   "metadata": {},
   "outputs": [],
   "source": []
  },
  {
   "cell_type": "code",
   "execution_count": null,
   "id": "9575b525",
   "metadata": {},
   "outputs": [],
   "source": []
  },
  {
   "cell_type": "markdown",
   "id": "a7907cb7",
   "metadata": {},
   "source": [
    "## 훈련데이터와 평가데이터 분리하기"
   ]
  },
  {
   "cell_type": "code",
   "execution_count": 15,
   "id": "90f2ae73",
   "metadata": {},
   "outputs": [],
   "source": [
    "from sklearn.model_selection import train_test_split"
   ]
  },
  {
   "cell_type": "code",
   "execution_count": 16,
   "id": "a79b681d",
   "metadata": {},
   "outputs": [],
   "source": [
    "enc_train, enc_val, dec_train, dec_val = train_test_split(src_input, tgt_input, test_size = 0.2, random_state=95)"
   ]
  },
  {
   "cell_type": "markdown",
   "id": "09f4b64e",
   "metadata": {},
   "source": [
    "x_train, x_test, y_train, y_test"
   ]
  },
  {
   "cell_type": "code",
   "execution_count": 17,
   "id": "0a8d7265",
   "metadata": {},
   "outputs": [
    {
     "name": "stdout",
     "output_type": "stream",
     "text": [
      "Source Train: (124810, 14)\n",
      "Target Train: (124810, 14)\n"
     ]
    }
   ],
   "source": [
    "print(\"Source Train:\", enc_train.shape)\n",
    "print(\"Target Train:\", dec_train.shape)"
   ]
  },
  {
   "cell_type": "code",
   "execution_count": 18,
   "id": "e5be471c",
   "metadata": {},
   "outputs": [
    {
     "data": {
      "text/plain": [
       "((31203, 14), (31203, 14))"
      ]
     },
     "execution_count": 18,
     "metadata": {},
     "output_type": "execute_result"
    }
   ],
   "source": [
    "enc_val.shape, dec_val.shape"
   ]
  },
  {
   "cell_type": "code",
   "execution_count": null,
   "id": "bd1219e6",
   "metadata": {},
   "outputs": [],
   "source": []
  },
  {
   "cell_type": "code",
   "execution_count": null,
   "id": "fc729d7f",
   "metadata": {},
   "outputs": [],
   "source": []
  },
  {
   "cell_type": "markdown",
   "id": "71246233",
   "metadata": {},
   "source": [
    "## 모델 만들기"
   ]
  },
  {
   "cell_type": "markdown",
   "id": "fa0c735e",
   "metadata": {},
   "source": [
    "![RNN](https://d3s0tskafalll9.cloudfront.net/media/images/E-12-4.max-800x600.png)"
   ]
  },
  {
   "cell_type": "markdown",
   "id": "e3dad014",
   "metadata": {},
   "source": [
    "Embedding : https://casa-de-feel.tistory.com/28\n",
    "- 단어를 벡터형태의 숫자들로 변환함\n",
    "- 단어를 컴퓨터가 인식할 수 없기 때문에 임베딩을 이용하여 표현\n",
    "- 벡터들을 이용하여 다른 단어들과 유사도를 계산해볼 수 있음"
   ]
  },
  {
   "cell_type": "code",
   "execution_count": 19,
   "id": "5722aed2",
   "metadata": {},
   "outputs": [],
   "source": [
    "class TextGenerator(tf.keras.Model):\n",
    "    def __init__(self, vocab_size, embedding_size, hidden_size):\n",
    "        super().__init__()\n",
    "        \n",
    "        self.embedding = tf.keras.layers.Embedding(vocab_size, embedding_size)\n",
    "        self.rnn_1 = tf.keras.layers.LSTM(hidden_size, return_sequences=True)\n",
    "        self.rnn_2 = tf.keras.layers.LSTM(hidden_size, return_sequences=True)\n",
    "        self.linear = tf.keras.layers.Dense(vocab_size)\n",
    "        \n",
    "    def call(self, x):\n",
    "        out = self.embedding(x)\n",
    "        out = self.rnn_1(out)\n",
    "        out = self.rnn_2(out)\n",
    "        out = self.linear(out)\n",
    "        \n",
    "        return out\n",
    "    \n",
    "embedding_size = 1024\n",
    "hidden_size = 2048\n",
    "model = TextGenerator(tokenizer.num_words + 1, embedding_size , hidden_size)"
   ]
  },
  {
   "cell_type": "markdown",
   "id": "9f94fce8",
   "metadata": {},
   "source": [
    "RNN 구조 : https://tykimos.github.io/2017/04/09/RNN_Getting_Started/"
   ]
  },
  {
   "cell_type": "markdown",
   "id": "ea967957",
   "metadata": {},
   "source": [
    "hidden_size : 은닉층의 unit, 은닉층의 뉴런수  \n",
    "return_sequences : 출력 시퀀스 또는 전체 시퀀스에서 마지막 출력을 반환할지 여부. 기본값 : False .  \n",
    "- 현재는 True이므로 시퀀스의 길이(토큰의 갯수)인 20개를 벡터로 변환하여 출력"
   ]
  },
  {
   "cell_type": "code",
   "execution_count": null,
   "id": "d1662aab",
   "metadata": {},
   "outputs": [],
   "source": []
  },
  {
   "cell_type": "code",
   "execution_count": null,
   "id": "b9f82fdf",
   "metadata": {},
   "outputs": [],
   "source": []
  },
  {
   "cell_type": "markdown",
   "id": "11e8f060",
   "metadata": {},
   "source": [
    "## 모델 학습"
   ]
  },
  {
   "cell_type": "code",
   "execution_count": 20,
   "id": "d0f21932",
   "metadata": {},
   "outputs": [
    {
     "name": "stdout",
     "output_type": "stream",
     "text": [
      "Epoch 1/10\n",
      "3901/3901 [==============================] - 493s 121ms/step - loss: 2.8874 - val_loss: 2.5941\n",
      "Epoch 2/10\n",
      "3901/3901 [==============================] - 473s 121ms/step - loss: 2.3130 - val_loss: 2.3447\n",
      "Epoch 3/10\n",
      "3901/3901 [==============================] - 474s 122ms/step - loss: 1.8626 - val_loss: 2.2197\n",
      "Epoch 4/10\n",
      "3901/3901 [==============================] - 474s 121ms/step - loss: 1.5263 - val_loss: 2.1862\n",
      "Epoch 5/10\n",
      "3901/3901 [==============================] - 474s 122ms/step - loss: 1.3094 - val_loss: 2.2059\n",
      "Epoch 6/10\n",
      "3901/3901 [==============================] - 475s 122ms/step - loss: 1.1819 - val_loss: 2.2549\n",
      "Epoch 7/10\n",
      "3901/3901 [==============================] - 475s 122ms/step - loss: 1.1155 - val_loss: 2.2954\n",
      "Epoch 8/10\n",
      "3901/3901 [==============================] - 475s 122ms/step - loss: 1.0788 - val_loss: 2.3416\n",
      "Epoch 9/10\n",
      "3901/3901 [==============================] - 475s 122ms/step - loss: 1.0564 - val_loss: 2.3693\n",
      "Epoch 10/10\n",
      "3901/3901 [==============================] - 474s 122ms/step - loss: 1.0447 - val_loss: 2.4017\n"
     ]
    }
   ],
   "source": [
    "optimizer = tf.keras.optimizers.Adam()\n",
    "loss = tf.keras.losses.SparseCategoricalCrossentropy(\n",
    "    from_logits=True, reduction='none')\n",
    "\n",
    "model.compile(loss=loss, optimizer=optimizer)\n",
    "history = model.fit(enc_train, dec_train, epochs=10, validation_data=(enc_val, dec_val))"
   ]
  },
  {
   "cell_type": "code",
   "execution_count": 21,
   "id": "080d8574",
   "metadata": {},
   "outputs": [
    {
     "data": {
      "text/plain": [
       "<matplotlib.legend.Legend at 0x7fb7f821d670>"
      ]
     },
     "execution_count": 21,
     "metadata": {},
     "output_type": "execute_result"
    },
    {
     "data": {
      "image/png": "[encoded data removed]",
      "text/plain": [
       "<Figure size 432x288 with 1 Axes>"
      ]
     },
     "metadata": {
      "needs_background": "light"
     },
     "output_type": "display_data"
    }
   ],
   "source": [
    "plt.plot(history.history['loss'])\n",
    "plt.plot(history.history['val_loss'])\n",
    "plt.xlabel('epoch')\n",
    "plt.ylabel('loss')\n",
    "plt.legend(['train', 'validation'])"
   ]
  },
  {
   "cell_type": "markdown",
   "id": "b260a977",
   "metadata": {},
   "source": [
    "### 최저 validation_loss = 2.1862 (Epoch=4 일 때)\n",
    "- Epoch=5부터는 Overfitting"
   ]
  },
  {
   "cell_type": "code",
   "execution_count": null,
   "id": "5dfedc7d",
   "metadata": {},
   "outputs": [],
   "source": []
  },
  {
   "cell_type": "code",
   "execution_count": null,
   "id": "81798797",
   "metadata": {},
   "outputs": [],
   "source": []
  },
  {
   "cell_type": "markdown",
   "id": "d6cb46fa",
   "metadata": {},
   "source": [
    "## 작사가 만들기"
   ]
  },
  {
   "cell_type": "code",
   "execution_count": 22,
   "id": "cc9060c8",
   "metadata": {},
   "outputs": [],
   "source": [
    "def generate_text(model, tokenizer, init_sentence=\"<start>\", max_len=20):\n",
    "    # 테스트를 위해서 입력받은 init_sentence도 텐서로 변환합니다\n",
    "    test_input = tokenizer.texts_to_sequences([init_sentence])\n",
    "    test_tensor = tf.convert_to_tensor(test_input, dtype=tf.int64)\n",
    "    end_token = tokenizer.word_index[\"<end>\"]\n",
    "\n",
    "    # 단어 하나씩 예측해 문장을 만듭니다\n",
    "    #    1. 입력받은 문장의 텐서를 입력합니다\n",
    "    #    2. 예측된 값 중 가장 높은 확률인 word index를 뽑아냅니다\n",
    "    #    3. 2에서 예측된 word index를 문장 뒤에 붙입니다\n",
    "    #    4. 모델이 <end>를 예측했거나, max_len에 도달했다면 문장 생성을 마칩니다\n",
    "    while True:\n",
    "        # 1\n",
    "        predict = model(test_tensor) \n",
    "        # 2\n",
    "        predict_word = tf.argmax(tf.nn.softmax(predict, axis=-1), axis=-1)[:, -1] \n",
    "        # 3 \n",
    "        test_tensor = tf.concat([test_tensor, tf.expand_dims(predict_word, axis=0)], axis=-1)\n",
    "        # 4\n",
    "        if predict_word.numpy()[0] == end_token: break\n",
    "        if test_tensor.shape[1] >= max_len: break\n",
    "\n",
    "    generated = \"\"\n",
    "    # tokenizer를 이용해 word index를 단어로 하나씩 변환합니다 \n",
    "    for word_index in test_tensor[0].numpy():\n",
    "        generated += tokenizer.index_word[word_index] + \" \"\n",
    "\n",
    "    return generated"
   ]
  },
  {
   "cell_type": "code",
   "execution_count": 23,
   "id": "0b546331",
   "metadata": {},
   "outputs": [
    {
     "data": {
      "text/plain": [
       "'<start> i love you , i m not gonna crack <end> '"
      ]
     },
     "execution_count": 23,
     "metadata": {},
     "output_type": "execute_result"
    }
   ],
   "source": [
    "generate_text(model, tokenizer, init_sentence=\"<start> i love\", max_len=20)"
   ]
  },
  {
   "cell_type": "code",
   "execution_count": 25,
   "id": "be1dde9b",
   "metadata": {
    "scrolled": true
   },
   "outputs": [
    {
     "data": {
      "text/plain": [
       "'<start> hello , how are you ? i m fine . cause i know <end> '"
      ]
     },
     "execution_count": 25,
     "metadata": {},
     "output_type": "execute_result"
    }
   ],
   "source": [
    "generate_text(model, tokenizer, init_sentence=\"<start> hello\", max_len=20)"
   ]
  },
  {
   "cell_type": "code",
   "execution_count": 26,
   "id": "2caff298",
   "metadata": {},
   "outputs": [
    {
     "data": {
      "text/plain": [
       "'<start> good bye , good bye <end> '"
      ]
     },
     "execution_count": 26,
     "metadata": {},
     "output_type": "execute_result"
    }
   ],
   "source": [
    "generate_text(model, tokenizer, init_sentence=\"<start> good bye\", max_len=20)"
   ]
  },
  {
   "cell_type": "code",
   "execution_count": 28,
   "id": "a4efe008",
   "metadata": {},
   "outputs": [
    {
     "data": {
      "text/plain": [
       "'<start> kill the lights ! <end> '"
      ]
     },
     "execution_count": 28,
     "metadata": {},
     "output_type": "execute_result"
    }
   ],
   "source": [
    "generate_text(model, tokenizer, init_sentence=\"<start> kill\", max_len=20)"
   ]
  },
  {
   "cell_type": "code",
   "execution_count": null,
   "id": "d335d347",
   "metadata": {},
   "outputs": [],
   "source": []
  },
  {
   "cell_type": "code",
   "execution_count": null,
   "id": "fd338c5d",
   "metadata": {},
   "outputs": [],
   "source": []
  },
  {
   "cell_type": "markdown",
   "id": "cd02ffe2",
   "metadata": {},
   "source": [
    "## 결과"
   ]
  },
  {
   "cell_type": "markdown",
   "id": "9a333859",
   "metadata": {},
   "source": [
    "embedding_size와 hidden_size를 바꿔가면서 최저 validattion_loss를 찾아봄"
   ]
  },
  {
   "attachments": {
    "%EC%9E%91%EA%B3%A1%EA%B0%80%20%EB%A7%8C%EB%93%A4%EA%B8%B03.jpg": {
     "image/jpeg": "[encoded data removed]"
    }
   },
   "cell_type": "markdown",
   "id": "37a3eed8",
   "metadata": {},
   "source": [
    "![%EC%9E%91%EA%B3%A1%EA%B0%80%20%EB%A7%8C%EB%93%A4%EA%B8%B03.jpg](attachment:%EC%9E%91%EA%B3%A1%EA%B0%80%20%EB%A7%8C%EB%93%A4%EA%B8%B03.jpg)"
   ]
  },
  {
   "cell_type": "markdown",
   "id": "2500d47b",
   "metadata": {},
   "source": [
    "### 최저 validation_loss = 2.1862 (Epoch=4 일 때)\n",
    "- embedding_size = 1024\n",
    "- hidden_size = 2048\n",
    "- Epoch=5부터는 Overfitting"
   ]
  },
  {
   "cell_type": "markdown",
   "id": "e32b06cb",
   "metadata": {},
   "source": [
    "### 모델이 제시한 단어에 맞게 문장을 잘 만들어냄"
   ]
  },
  {
   "cell_type": "code",
   "execution_count": null,
   "id": "b13fde3b",
   "metadata": {},
   "outputs": [],
   "source": []
  },
  {
   "cell_type": "code",
   "execution_count": null,
   "id": "7ffc0419",
   "metadata": {},
   "outputs": [],
   "source": []
  },
  {
   "cell_type": "markdown",
   "id": "b7acb240",
   "metadata": {},
   "source": [
    "## 회고\n",
    "\n",
    "### 1. 새로 알아갔던 점\n",
    " - 정규표현식을 깊숙히 알아갈 수 있는 시간이었음\n",
    " - keras의 여러 패키지를 알아볼 수 있었음\n",
    "\n",
    "### 2. 흥미로웠던 점\n",
    " - embedding_size와 hidden_size만 변경하면서 validation_loss의 최소값을 찾아갔던 것\n",
    " - 문장을 토큰으로 분할하고 그 토큰을 vector로 구성하는 점이 흥미로웠음\n",
    " - RNN의 구성을 찾아보면서 좀 더 딥러닝을 좀 더 알아가는 것 같아 재밌었음\n",
    "\n",
    "### 3. 아쉬웠던 점\n",
    " - 프로젝트 제출 설명에 '만약 결과가 다르다면 천천히 과정을 다시 살펴 동일한 결과를 얻도록 하세요'라는 문구 때문에 학습 데이터셋을 예시와 똑같이 맞추기 위해 1시간 40분을 소모했지만 꼭 그 수치를 맞출 필요가 없다는 것을 알았음\n",
    "\n",
    "### 4. 앞으로의 다짐\n",
    " - 정교화된 텍스트 말고 영화 리뷰같은 글들도 RNN을 통해서 분석해보고 싶음"
   ]
  },
  {
   "cell_type": "code",
   "execution_count": null,
   "id": "809f1047",
   "metadata": {},
   "outputs": [],
   "source": []
  }
 ],
 "metadata": {
  "kernelspec": {
   "display_name": "Python 3",
   "language": "python",
   "name": "python3"
  },
  "language_info": {
   "codemirror_mode": {
    "name": "ipython",
    "version": 3
   },
   "file_extension": ".py",
   "mimetype": "text/x-python",
   "name": "python",
   "nbconvert_exporter": "python",
   "pygments_lexer": "ipython3",
   "version": "3.8.8"
  }
 },
 "nbformat": 4,
 "nbformat_minor": 5
}
