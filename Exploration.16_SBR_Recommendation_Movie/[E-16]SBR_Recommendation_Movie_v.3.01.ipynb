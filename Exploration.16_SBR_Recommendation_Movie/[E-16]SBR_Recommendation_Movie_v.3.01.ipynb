{
 "cells": [
  {
   "cell_type": "markdown",
   "id": "7736c6f0",
   "metadata": {},
   "source": [
    "# Exploration.16 - 다음에 볼 영화 예측하기 (추천하기)"
   ]
  },
  {
   "cell_type": "markdown",
   "id": "74d2e212",
   "metadata": {},
   "source": [
    "- 현재 데이터는 User별 본 영화에 대한 평점 데이터를 가지고 있음 (Movielens 1M Dataset)\n",
    "- Session based Recommendation 시스템을 제작하고자 하여 UserID를 SeesionID로 가정하고 본 exploration을 진행할 예정"
   ]
  },
  {
   "cell_type": "code",
   "execution_count": null,
   "id": "1c69c63f",
   "metadata": {},
   "outputs": [],
   "source": []
  },
  {
   "cell_type": "code",
   "execution_count": null,
   "id": "691f4e56",
   "metadata": {},
   "outputs": [],
   "source": []
  },
  {
   "cell_type": "markdown",
   "id": "28302c0a",
   "metadata": {},
   "source": [
    "## import Package"
   ]
  },
  {
   "cell_type": "code",
   "execution_count": 1,
   "id": "02938798",
   "metadata": {},
   "outputs": [],
   "source": [
    "import datetime as dt\n",
    "from pathlib import Path\n",
    "import os\n",
    "\n",
    "import numpy as np\n",
    "import pandas as pd\n",
    "import tensorflow as tf\n",
    "\n",
    "import matplotlib.pyplot as plt\n",
    "import seaborn as sns\n",
    "\n",
    "import warnings\n",
    "warnings.filterwarnings('ignore')"
   ]
  },
  {
   "cell_type": "code",
   "execution_count": null,
   "id": "be96de4e",
   "metadata": {},
   "outputs": [],
   "source": []
  },
  {
   "cell_type": "code",
   "execution_count": null,
   "id": "de415bef",
   "metadata": {},
   "outputs": [],
   "source": []
  },
  {
   "cell_type": "markdown",
   "id": "56b2a1b5",
   "metadata": {},
   "source": [
    "## 데이터 불러오기"
   ]
  },
  {
   "cell_type": "code",
   "execution_count": 2,
   "id": "0af1a04d",
   "metadata": {},
   "outputs": [
    {
     "data": {
      "text/html": [
       "<div>\n",
       "<style scoped>\n",
       "    .dataframe tbody tr th:only-of-type {\n",
       "        vertical-align: middle;\n",
       "    }\n",
       "\n",
       "    .dataframe tbody tr th {\n",
       "        vertical-align: top;\n",
       "    }\n",
       "\n",
       "    .dataframe thead th {\n",
       "        text-align: right;\n",
       "    }\n",
       "</style>\n",
       "<table border=\"1\" class=\"dataframe\">\n",
       "  <thead>\n",
       "    <tr style=\"text-align: right;\">\n",
       "      <th></th>\n",
       "      <th>UserId</th>\n",
       "      <th>ItemId</th>\n",
       "      <th>Rating</th>\n",
       "      <th>Time</th>\n",
       "    </tr>\n",
       "  </thead>\n",
       "  <tbody>\n",
       "    <tr>\n",
       "      <th>31</th>\n",
       "      <td>1</td>\n",
       "      <td>3186</td>\n",
       "      <td>4</td>\n",
       "      <td>978300019</td>\n",
       "    </tr>\n",
       "    <tr>\n",
       "      <th>22</th>\n",
       "      <td>1</td>\n",
       "      <td>1270</td>\n",
       "      <td>5</td>\n",
       "      <td>978300055</td>\n",
       "    </tr>\n",
       "    <tr>\n",
       "      <th>27</th>\n",
       "      <td>1</td>\n",
       "      <td>1721</td>\n",
       "      <td>4</td>\n",
       "      <td>978300055</td>\n",
       "    </tr>\n",
       "    <tr>\n",
       "      <th>37</th>\n",
       "      <td>1</td>\n",
       "      <td>1022</td>\n",
       "      <td>5</td>\n",
       "      <td>978300055</td>\n",
       "    </tr>\n",
       "    <tr>\n",
       "      <th>24</th>\n",
       "      <td>1</td>\n",
       "      <td>2340</td>\n",
       "      <td>3</td>\n",
       "      <td>978300103</td>\n",
       "    </tr>\n",
       "  </tbody>\n",
       "</table>\n",
       "</div>"
      ],
      "text/plain": [
       "    UserId  ItemId  Rating       Time\n",
       "31       1    3186       4  978300019\n",
       "22       1    1270       5  978300055\n",
       "27       1    1721       4  978300055\n",
       "37       1    1022       5  978300055\n",
       "24       1    2340       3  978300103"
      ]
     },
     "execution_count": 2,
     "metadata": {},
     "output_type": "execute_result"
    }
   ],
   "source": [
    "data_path = Path(os.getenv('HOME')+'/aiffel/yoochoose/data/') \n",
    "train_path = data_path / 'ratings.dat'\n",
    "\n",
    "def load_data(data_path: Path, nrows=None):\n",
    "    data = pd.read_csv(data_path, sep='::', header=None, usecols=[0, 1, 2, 3], dtype={0: np.int32, 1: np.int32, 2: np.int32}, nrows=nrows)\n",
    "    data.columns = ['UserId', 'ItemId', 'Rating', 'Time']\n",
    "    return data\n",
    "\n",
    "data = load_data(train_path, None)\n",
    "data.sort_values(['UserId', 'Time'], inplace=True)  # data를 id와 시간 순서로 정렬해줍니다.\n",
    "data.head()"
   ]
  },
  {
   "cell_type": "code",
   "execution_count": 3,
   "id": "969d9873",
   "metadata": {},
   "outputs": [
    {
     "data": {
      "text/plain": [
       "1000209"
      ]
     },
     "execution_count": 3,
     "metadata": {},
     "output_type": "execute_result"
    }
   ],
   "source": [
    "len(data)"
   ]
  },
  {
   "cell_type": "markdown",
   "id": "2b061802",
   "metadata": {},
   "source": [
    "- 총 1,000,209 개의 데이터가 존재함\n",
    "- 데이터의 feature는 'UserId', 'ItemId', 'Rating', 'Time'로 총 4개가 있음"
   ]
  },
  {
   "cell_type": "code",
   "execution_count": 4,
   "id": "6f71dba3",
   "metadata": {},
   "outputs": [
    {
     "data": {
      "text/plain": [
       "6040"
      ]
     },
     "execution_count": 4,
     "metadata": {},
     "output_type": "execute_result"
    }
   ],
   "source": [
    "data['UserId'].nunique()"
   ]
  },
  {
   "cell_type": "markdown",
   "id": "b3240706",
   "metadata": {},
   "source": [
    "- 총 6,040 명의 사용자들의 데이터가 있음"
   ]
  },
  {
   "cell_type": "code",
   "execution_count": 5,
   "id": "7a5eed04",
   "metadata": {},
   "outputs": [
    {
     "data": {
      "text/plain": [
       "3706"
      ]
     },
     "execution_count": 5,
     "metadata": {},
     "output_type": "execute_result"
    }
   ],
   "source": [
    "data['ItemId'].nunique()"
   ]
  },
  {
   "cell_type": "markdown",
   "id": "a7103842",
   "metadata": {},
   "source": [
    "- 총 3,706 편의 영화 데이터가 있음"
   ]
  },
  {
   "cell_type": "code",
   "execution_count": null,
   "id": "c49d1f1f",
   "metadata": {},
   "outputs": [],
   "source": []
  },
  {
   "cell_type": "code",
   "execution_count": null,
   "id": "0a14a992",
   "metadata": {},
   "outputs": [],
   "source": []
  },
  {
   "cell_type": "markdown",
   "id": "012757ac",
   "metadata": {},
   "source": [
    "## Preprocessing"
   ]
  },
  {
   "cell_type": "markdown",
   "id": "ce30cb5e",
   "metadata": {},
   "source": [
    "### 1. 결측치 확인"
   ]
  },
  {
   "cell_type": "code",
   "execution_count": 6,
   "id": "ff3c680e",
   "metadata": {},
   "outputs": [
    {
     "data": {
      "text/plain": [
       "UserId    0\n",
       "ItemId    0\n",
       "Rating    0\n",
       "Time      0\n",
       "dtype: int64"
      ]
     },
     "execution_count": 6,
     "metadata": {},
     "output_type": "execute_result"
    }
   ],
   "source": [
    "data.isnull().sum()"
   ]
  },
  {
   "cell_type": "markdown",
   "id": "ede61193",
   "metadata": {},
   "source": [
    "- 현재 기준으로는 결측치는 없다고 판단됨"
   ]
  },
  {
   "cell_type": "markdown",
   "id": "2846c5c2",
   "metadata": {},
   "source": [
    "### 2. 날짜 변환\n",
    "- 현재 날짜는 보기 어렵게 되어있음\n",
    "- pd.to_datetime()을 이용하여 보기 편하게 시간을 표현하려고 함"
   ]
  },
  {
   "cell_type": "code",
   "execution_count": 7,
   "id": "a5b4a0c1",
   "metadata": {},
   "outputs": [
    {
     "data": {
      "text/html": [
       "<div>\n",
       "<style scoped>\n",
       "    .dataframe tbody tr th:only-of-type {\n",
       "        vertical-align: middle;\n",
       "    }\n",
       "\n",
       "    .dataframe tbody tr th {\n",
       "        vertical-align: top;\n",
       "    }\n",
       "\n",
       "    .dataframe thead th {\n",
       "        text-align: right;\n",
       "    }\n",
       "</style>\n",
       "<table border=\"1\" class=\"dataframe\">\n",
       "  <thead>\n",
       "    <tr style=\"text-align: right;\">\n",
       "      <th></th>\n",
       "      <th>UserId</th>\n",
       "      <th>ItemId</th>\n",
       "      <th>Rating</th>\n",
       "      <th>Time</th>\n",
       "    </tr>\n",
       "  </thead>\n",
       "  <tbody>\n",
       "    <tr>\n",
       "      <th>31</th>\n",
       "      <td>1</td>\n",
       "      <td>3186</td>\n",
       "      <td>4</td>\n",
       "      <td>2000-12-31 22:00:19</td>\n",
       "    </tr>\n",
       "    <tr>\n",
       "      <th>22</th>\n",
       "      <td>1</td>\n",
       "      <td>1270</td>\n",
       "      <td>5</td>\n",
       "      <td>2000-12-31 22:00:55</td>\n",
       "    </tr>\n",
       "    <tr>\n",
       "      <th>27</th>\n",
       "      <td>1</td>\n",
       "      <td>1721</td>\n",
       "      <td>4</td>\n",
       "      <td>2000-12-31 22:00:55</td>\n",
       "    </tr>\n",
       "    <tr>\n",
       "      <th>37</th>\n",
       "      <td>1</td>\n",
       "      <td>1022</td>\n",
       "      <td>5</td>\n",
       "      <td>2000-12-31 22:00:55</td>\n",
       "    </tr>\n",
       "    <tr>\n",
       "      <th>24</th>\n",
       "      <td>1</td>\n",
       "      <td>2340</td>\n",
       "      <td>3</td>\n",
       "      <td>2000-12-31 22:01:43</td>\n",
       "    </tr>\n",
       "    <tr>\n",
       "      <th>36</th>\n",
       "      <td>1</td>\n",
       "      <td>1836</td>\n",
       "      <td>5</td>\n",
       "      <td>2000-12-31 22:02:52</td>\n",
       "    </tr>\n",
       "    <tr>\n",
       "      <th>3</th>\n",
       "      <td>1</td>\n",
       "      <td>3408</td>\n",
       "      <td>4</td>\n",
       "      <td>2000-12-31 22:04:35</td>\n",
       "    </tr>\n",
       "    <tr>\n",
       "      <th>7</th>\n",
       "      <td>1</td>\n",
       "      <td>2804</td>\n",
       "      <td>5</td>\n",
       "      <td>2000-12-31 22:11:59</td>\n",
       "    </tr>\n",
       "    <tr>\n",
       "      <th>47</th>\n",
       "      <td>1</td>\n",
       "      <td>1207</td>\n",
       "      <td>4</td>\n",
       "      <td>2000-12-31 22:11:59</td>\n",
       "    </tr>\n",
       "    <tr>\n",
       "      <th>0</th>\n",
       "      <td>1</td>\n",
       "      <td>1193</td>\n",
       "      <td>5</td>\n",
       "      <td>2000-12-31 22:12:40</td>\n",
       "    </tr>\n",
       "  </tbody>\n",
       "</table>\n",
       "</div>"
      ],
      "text/plain": [
       "    UserId  ItemId  Rating                Time\n",
       "31       1    3186       4 2000-12-31 22:00:19\n",
       "22       1    1270       5 2000-12-31 22:00:55\n",
       "27       1    1721       4 2000-12-31 22:00:55\n",
       "37       1    1022       5 2000-12-31 22:00:55\n",
       "24       1    2340       3 2000-12-31 22:01:43\n",
       "36       1    1836       5 2000-12-31 22:02:52\n",
       "3        1    3408       4 2000-12-31 22:04:35\n",
       "7        1    2804       5 2000-12-31 22:11:59\n",
       "47       1    1207       4 2000-12-31 22:11:59\n",
       "0        1    1193       5 2000-12-31 22:12:40"
      ]
     },
     "execution_count": 7,
     "metadata": {},
     "output_type": "execute_result"
    }
   ],
   "source": [
    "data['Time'] = pd.to_datetime(data['Time'], unit='s')\n",
    "data.head(10)"
   ]
  },
  {
   "cell_type": "markdown",
   "id": "d69e309b",
   "metadata": {},
   "source": [
    "- pandas 날짜 변환 : https://blog.doosikbae.com/89"
   ]
  },
  {
   "cell_type": "markdown",
   "id": "8331dfaf",
   "metadata": {},
   "source": [
    "- 'Time' column에서의 시간이 초단위로 바뀌기 때문에 해당 시간은 영화를 본 시간으로 판단되지 않음\n",
    "- 검색 해본 결과 Time에서의 시간은 User가 Rating을 작성한 시간임을 알아냄  \n",
    "https://blog.naver.com/PostView.naver?blogId=mini_s0n&logNo=222409833212&parentCategoryNo=&categoryNo=&viewDate=&isShowPopularPosts=false&from=postView"
   ]
  },
  {
   "cell_type": "code",
   "execution_count": 8,
   "id": "3c1b14e7",
   "metadata": {},
   "outputs": [
    {
     "data": {
      "text/plain": [
       "(Timestamp('2000-04-25 23:05:32'), Timestamp('2003-02-28 17:49:50'))"
      ]
     },
     "execution_count": 8,
     "metadata": {},
     "output_type": "execute_result"
    }
   ],
   "source": [
    "data['Time'].min(), data['Time'].max()"
   ]
  },
  {
   "cell_type": "markdown",
   "id": "c09d5d5d",
   "metadata": {},
   "source": [
    "- 데이터는 2000년 4월 25일부터 2003년 2월 28일까지 약 2년 10개월간의 기간을 가지고 있음"
   ]
  },
  {
   "cell_type": "markdown",
   "id": "34ec95c8",
   "metadata": {},
   "source": [
    "### 3. Rating 가공"
   ]
  },
  {
   "cell_type": "code",
   "execution_count": 9,
   "id": "4ec84246",
   "metadata": {},
   "outputs": [
    {
     "data": {
      "text/plain": [
       "(5, 1)"
      ]
     },
     "execution_count": 9,
     "metadata": {},
     "output_type": "execute_result"
    }
   ],
   "source": [
    "data['Rating'].max(), data['Rating'].min()"
   ]
  },
  {
   "cell_type": "markdown",
   "id": "e19d2f5a",
   "metadata": {},
   "source": [
    "- 'Rating'에서의 평점은 최대 5점, 최소 1점을 가짐"
   ]
  },
  {
   "cell_type": "code",
   "execution_count": 10,
   "id": "14db1845",
   "metadata": {},
   "outputs": [
    {
     "data": {
      "text/html": [
       "<div>\n",
       "<style scoped>\n",
       "    .dataframe tbody tr th:only-of-type {\n",
       "        vertical-align: middle;\n",
       "    }\n",
       "\n",
       "    .dataframe tbody tr th {\n",
       "        vertical-align: top;\n",
       "    }\n",
       "\n",
       "    .dataframe thead th {\n",
       "        text-align: right;\n",
       "    }\n",
       "</style>\n",
       "<table border=\"1\" class=\"dataframe\">\n",
       "  <thead>\n",
       "    <tr style=\"text-align: right;\">\n",
       "      <th></th>\n",
       "      <th>UserId</th>\n",
       "      <th>ItemId</th>\n",
       "      <th>Rating</th>\n",
       "      <th>Time</th>\n",
       "    </tr>\n",
       "  </thead>\n",
       "  <tbody>\n",
       "    <tr>\n",
       "      <th>24</th>\n",
       "      <td>1</td>\n",
       "      <td>2340</td>\n",
       "      <td>3</td>\n",
       "      <td>2000-12-31 22:01:43</td>\n",
       "    </tr>\n",
       "    <tr>\n",
       "      <th>3594</th>\n",
       "      <td>26</td>\n",
       "      <td>2340</td>\n",
       "      <td>4</td>\n",
       "      <td>2000-12-30 01:52:58</td>\n",
       "    </tr>\n",
       "    <tr>\n",
       "      <th>5477</th>\n",
       "      <td>38</td>\n",
       "      <td>2340</td>\n",
       "      <td>3</td>\n",
       "      <td>2000-12-28 23:07:15</td>\n",
       "    </tr>\n",
       "    <tr>\n",
       "      <th>6337</th>\n",
       "      <td>45</td>\n",
       "      <td>2340</td>\n",
       "      <td>2</td>\n",
       "      <td>2000-12-28 07:33:46</td>\n",
       "    </tr>\n",
       "    <tr>\n",
       "      <th>14179</th>\n",
       "      <td>116</td>\n",
       "      <td>2340</td>\n",
       "      <td>4</td>\n",
       "      <td>2001-08-10 12:55:50</td>\n",
       "    </tr>\n",
       "  </tbody>\n",
       "</table>\n",
       "</div>"
      ],
      "text/plain": [
       "       UserId  ItemId  Rating                Time\n",
       "24          1    2340       3 2000-12-31 22:01:43\n",
       "3594       26    2340       4 2000-12-30 01:52:58\n",
       "5477       38    2340       3 2000-12-28 23:07:15\n",
       "6337       45    2340       2 2000-12-28 07:33:46\n",
       "14179     116    2340       4 2001-08-10 12:55:50"
      ]
     },
     "execution_count": 10,
     "metadata": {},
     "output_type": "execute_result"
    }
   ],
   "source": [
    "data[data['ItemId'] == 2340].head()"
   ]
  },
  {
   "cell_type": "markdown",
   "id": "f696015a",
   "metadata": {},
   "source": [
    "- 영화별로 Rating이 다름\n",
    "- Rating은 영화에 대한 전체 이용자들의 평점이 아닌 개개인(UserId)이 준 평점으로 판단함"
   ]
  },
  {
   "cell_type": "code",
   "execution_count": 11,
   "id": "a9ba2108",
   "metadata": {},
   "outputs": [
    {
     "data": {
      "text/plain": [
       "Rating\n",
       "1     56174\n",
       "2    107557\n",
       "3    261197\n",
       "4    348971\n",
       "5    226310\n",
       "Name: UserId, dtype: int64"
      ]
     },
     "execution_count": 11,
     "metadata": {},
     "output_type": "execute_result"
    }
   ],
   "source": [
    "rating_rate = data.groupby('Rating')['UserId'].count()\n",
    "rating_rate"
   ]
  },
  {
   "cell_type": "code",
   "execution_count": 12,
   "id": "81e23378",
   "metadata": {},
   "outputs": [
    {
     "data": {
      "text/plain": [
       "<AxesSubplot:xlabel='Rating', ylabel='count'>"
      ]
     },
     "execution_count": 12,
     "metadata": {},
     "output_type": "execute_result"
    },
    {
     "data": {
      "image/png": "[encoded data removed]",
      "text/plain": [
       "<Figure size 432x288 with 1 Axes>"
      ]
     },
     "metadata": {
      "needs_background": "light"
     },
     "output_type": "display_data"
    }
   ],
   "source": [
    "sns.countplot(data=data, x='Rating')"
   ]
  },
  {
   "cell_type": "code",
   "execution_count": 13,
   "id": "a765559a",
   "metadata": {},
   "outputs": [
    {
     "name": "stdout",
     "output_type": "stream",
     "text": [
      "평점 1점의 비율 : 0.06\n",
      "평점 2점의 비율 : 0.11\n",
      "평점 3점의 비율 : 0.26\n",
      "평점 4점의 비율 : 0.35\n",
      "평점 5점의 비율 : 0.23\n"
     ]
    }
   ],
   "source": [
    "for i in range(1,6):\n",
    "    print('평점 {}점의 비율 : {:.2f}'.format(i, len(data[data['Rating'] == i]) / len(data)))"
   ]
  },
  {
   "cell_type": "markdown",
   "id": "d32e3891",
   "metadata": {},
   "source": [
    "- 각 유저 별 각 영화에 대한 데이터가 하나씩밖에 없음\n",
    "- **강제로 세션으로 가정하고 본 문제를 풀기에는 무리가 있음**\n",
    "    - 세션 데이터에서는 데이터 중복 여부가 크게 작용할 것 같다고 판단됨\n",
    "    - 예를 들어 1번 유저가 a라는 영화 페이지를 1번 본 것과 5번 본 것은 크게 차이가 남\n",
    "    - 하지만 본 데이터에서는 중복이 없기 때문에 세션을 가정하고 문제를 풀어가기 어려울 것으로 판단됨\n",
    "    - Rating을 가공하여 세션 문제에 맞게 데이터를 변형시키고자 함\n",
    "        - v.1.03에서는 Rating을 영화 페이지 세션 기록으로 보고 가공하려고 했음\n",
    "        - 시간적 문제로 v.1.03에서 가공하다가 가공에 필요한 시간이 너무 길어 제출기한을 못 지킬 것 같다는 판단을 함\n",
    "        - 데이터 자체를 다운 샘플링하여 진행할 예정"
   ]
  },
  {
   "cell_type": "markdown",
   "id": "8e5d0d7c",
   "metadata": {},
   "source": [
    "- 내가 생각한 Rating 가공 방안\n",
    "    - Rating 수 만큼 같은 행을 늘릴 예정 (똑같은 행을 Rating만큼 늘릴 예정)\n",
    "    - Rating 3과 4의 비율이 다른 평점보다 높아 모델 성능이 좋게 나올지 의문이 생김\n",
    "    - Rating 수만큼 전체 데이터수가 매우 많아질 것을 우려하여 전체 데이터 중에 일부만 사용할 예정\n",
    "    - **이중 for문을 활용하여 해당 데이터를 가공하고자 하였지만 시간이 너무 오래 걸림**\n",
    "    - **기본 데이터셋을 활용하여 본 exploration을 사용하고자 함**\n",
    "   https://github.com/TaeWonKang95/Aiffel_Exploration/blob/66795951897100b53baf8eeaff3df13577c2862f/Exploration.16_SBR_Recommendation_Movie/%5BE-16%5Ddataset_transform.ipynb"
   ]
  },
  {
   "cell_type": "code",
   "execution_count": 14,
   "id": "2799ce0f",
   "metadata": {},
   "outputs": [
    {
     "data": {
      "text/html": [
       "<div>\n",
       "<style scoped>\n",
       "    .dataframe tbody tr th:only-of-type {\n",
       "        vertical-align: middle;\n",
       "    }\n",
       "\n",
       "    .dataframe tbody tr th {\n",
       "        vertical-align: top;\n",
       "    }\n",
       "\n",
       "    .dataframe thead th {\n",
       "        text-align: right;\n",
       "    }\n",
       "</style>\n",
       "<table border=\"1\" class=\"dataframe\">\n",
       "  <thead>\n",
       "    <tr style=\"text-align: right;\">\n",
       "      <th></th>\n",
       "      <th>UserId</th>\n",
       "      <th>ItemId</th>\n",
       "      <th>Rating</th>\n",
       "      <th>Time</th>\n",
       "    </tr>\n",
       "  </thead>\n",
       "  <tbody>\n",
       "    <tr>\n",
       "      <th>31</th>\n",
       "      <td>1</td>\n",
       "      <td>3186</td>\n",
       "      <td>4</td>\n",
       "      <td>2000-12-31 22:00:19</td>\n",
       "    </tr>\n",
       "    <tr>\n",
       "      <th>22</th>\n",
       "      <td>1</td>\n",
       "      <td>1270</td>\n",
       "      <td>5</td>\n",
       "      <td>2000-12-31 22:00:55</td>\n",
       "    </tr>\n",
       "    <tr>\n",
       "      <th>27</th>\n",
       "      <td>1</td>\n",
       "      <td>1721</td>\n",
       "      <td>4</td>\n",
       "      <td>2000-12-31 22:00:55</td>\n",
       "    </tr>\n",
       "    <tr>\n",
       "      <th>37</th>\n",
       "      <td>1</td>\n",
       "      <td>1022</td>\n",
       "      <td>5</td>\n",
       "      <td>2000-12-31 22:00:55</td>\n",
       "    </tr>\n",
       "    <tr>\n",
       "      <th>24</th>\n",
       "      <td>1</td>\n",
       "      <td>2340</td>\n",
       "      <td>3</td>\n",
       "      <td>2000-12-31 22:01:43</td>\n",
       "    </tr>\n",
       "    <tr>\n",
       "      <th>36</th>\n",
       "      <td>1</td>\n",
       "      <td>1836</td>\n",
       "      <td>5</td>\n",
       "      <td>2000-12-31 22:02:52</td>\n",
       "    </tr>\n",
       "    <tr>\n",
       "      <th>3</th>\n",
       "      <td>1</td>\n",
       "      <td>3408</td>\n",
       "      <td>4</td>\n",
       "      <td>2000-12-31 22:04:35</td>\n",
       "    </tr>\n",
       "    <tr>\n",
       "      <th>7</th>\n",
       "      <td>1</td>\n",
       "      <td>2804</td>\n",
       "      <td>5</td>\n",
       "      <td>2000-12-31 22:11:59</td>\n",
       "    </tr>\n",
       "    <tr>\n",
       "      <th>47</th>\n",
       "      <td>1</td>\n",
       "      <td>1207</td>\n",
       "      <td>4</td>\n",
       "      <td>2000-12-31 22:11:59</td>\n",
       "    </tr>\n",
       "    <tr>\n",
       "      <th>0</th>\n",
       "      <td>1</td>\n",
       "      <td>1193</td>\n",
       "      <td>5</td>\n",
       "      <td>2000-12-31 22:12:40</td>\n",
       "    </tr>\n",
       "    <tr>\n",
       "      <th>21</th>\n",
       "      <td>1</td>\n",
       "      <td>720</td>\n",
       "      <td>3</td>\n",
       "      <td>2000-12-31 22:12:40</td>\n",
       "    </tr>\n",
       "    <tr>\n",
       "      <th>44</th>\n",
       "      <td>1</td>\n",
       "      <td>260</td>\n",
       "      <td>4</td>\n",
       "      <td>2000-12-31 22:12:40</td>\n",
       "    </tr>\n",
       "    <tr>\n",
       "      <th>9</th>\n",
       "      <td>1</td>\n",
       "      <td>919</td>\n",
       "      <td>4</td>\n",
       "      <td>2000-12-31 22:22:48</td>\n",
       "    </tr>\n",
       "    <tr>\n",
       "      <th>51</th>\n",
       "      <td>1</td>\n",
       "      <td>608</td>\n",
       "      <td>4</td>\n",
       "      <td>2000-12-31 22:23:18</td>\n",
       "    </tr>\n",
       "    <tr>\n",
       "      <th>43</th>\n",
       "      <td>1</td>\n",
       "      <td>2692</td>\n",
       "      <td>4</td>\n",
       "      <td>2000-12-31 22:26:10</td>\n",
       "    </tr>\n",
       "    <tr>\n",
       "      <th>41</th>\n",
       "      <td>1</td>\n",
       "      <td>1961</td>\n",
       "      <td>5</td>\n",
       "      <td>2000-12-31 22:26:30</td>\n",
       "    </tr>\n",
       "    <tr>\n",
       "      <th>48</th>\n",
       "      <td>1</td>\n",
       "      <td>2028</td>\n",
       "      <td>5</td>\n",
       "      <td>2000-12-31 22:26:59</td>\n",
       "    </tr>\n",
       "    <tr>\n",
       "      <th>18</th>\n",
       "      <td>1</td>\n",
       "      <td>3105</td>\n",
       "      <td>5</td>\n",
       "      <td>2000-12-31 22:28:33</td>\n",
       "    </tr>\n",
       "    <tr>\n",
       "      <th>11</th>\n",
       "      <td>1</td>\n",
       "      <td>938</td>\n",
       "      <td>4</td>\n",
       "      <td>2000-12-31 22:29:12</td>\n",
       "    </tr>\n",
       "    <tr>\n",
       "      <th>14</th>\n",
       "      <td>1</td>\n",
       "      <td>1035</td>\n",
       "      <td>5</td>\n",
       "      <td>2000-12-31 22:29:13</td>\n",
       "    </tr>\n",
       "  </tbody>\n",
       "</table>\n",
       "</div>"
      ],
      "text/plain": [
       "    UserId  ItemId  Rating                Time\n",
       "31       1    3186       4 2000-12-31 22:00:19\n",
       "22       1    1270       5 2000-12-31 22:00:55\n",
       "27       1    1721       4 2000-12-31 22:00:55\n",
       "37       1    1022       5 2000-12-31 22:00:55\n",
       "24       1    2340       3 2000-12-31 22:01:43\n",
       "36       1    1836       5 2000-12-31 22:02:52\n",
       "3        1    3408       4 2000-12-31 22:04:35\n",
       "7        1    2804       5 2000-12-31 22:11:59\n",
       "47       1    1207       4 2000-12-31 22:11:59\n",
       "0        1    1193       5 2000-12-31 22:12:40\n",
       "21       1     720       3 2000-12-31 22:12:40\n",
       "44       1     260       4 2000-12-31 22:12:40\n",
       "9        1     919       4 2000-12-31 22:22:48\n",
       "51       1     608       4 2000-12-31 22:23:18\n",
       "43       1    2692       4 2000-12-31 22:26:10\n",
       "41       1    1961       5 2000-12-31 22:26:30\n",
       "48       1    2028       5 2000-12-31 22:26:59\n",
       "18       1    3105       5 2000-12-31 22:28:33\n",
       "11       1     938       4 2000-12-31 22:29:12\n",
       "14       1    1035       5 2000-12-31 22:29:13"
      ]
     },
     "execution_count": 14,
     "metadata": {},
     "output_type": "execute_result"
    }
   ],
   "source": [
    "data.head(20)"
   ]
  },
  {
   "cell_type": "markdown",
   "id": "7534cc07",
   "metadata": {},
   "source": [
    "#### 3-1. Rating 3점 미만 데이터 제외하기"
   ]
  },
  {
   "cell_type": "markdown",
   "id": "8ad88427",
   "metadata": {},
   "source": [
    "- 3점 미만은 중요도에서 떨어지는 것으로 판단하여 제외할 예정"
   ]
  },
  {
   "cell_type": "code",
   "execution_count": 15,
   "id": "f4417ab4",
   "metadata": {},
   "outputs": [],
   "source": [
    "data_orgin = data"
   ]
  },
  {
   "cell_type": "markdown",
   "id": "b5571a1d",
   "metadata": {},
   "source": [
    "- 평점 3점 미만인 데이터(원본 데이터)도 가진 data_orgin을 만듦"
   ]
  },
  {
   "cell_type": "code",
   "execution_count": 16,
   "id": "050deed0",
   "metadata": {},
   "outputs": [
    {
     "data": {
      "text/html": [
       "<div>\n",
       "<style scoped>\n",
       "    .dataframe tbody tr th:only-of-type {\n",
       "        vertical-align: middle;\n",
       "    }\n",
       "\n",
       "    .dataframe tbody tr th {\n",
       "        vertical-align: top;\n",
       "    }\n",
       "\n",
       "    .dataframe thead th {\n",
       "        text-align: right;\n",
       "    }\n",
       "</style>\n",
       "<table border=\"1\" class=\"dataframe\">\n",
       "  <thead>\n",
       "    <tr style=\"text-align: right;\">\n",
       "      <th></th>\n",
       "      <th>UserId</th>\n",
       "      <th>ItemId</th>\n",
       "      <th>Rating</th>\n",
       "      <th>Time</th>\n",
       "    </tr>\n",
       "  </thead>\n",
       "  <tbody>\n",
       "    <tr>\n",
       "      <th>31</th>\n",
       "      <td>1</td>\n",
       "      <td>3186</td>\n",
       "      <td>4</td>\n",
       "      <td>2000-12-31 22:00:19</td>\n",
       "    </tr>\n",
       "    <tr>\n",
       "      <th>22</th>\n",
       "      <td>1</td>\n",
       "      <td>1270</td>\n",
       "      <td>5</td>\n",
       "      <td>2000-12-31 22:00:55</td>\n",
       "    </tr>\n",
       "    <tr>\n",
       "      <th>27</th>\n",
       "      <td>1</td>\n",
       "      <td>1721</td>\n",
       "      <td>4</td>\n",
       "      <td>2000-12-31 22:00:55</td>\n",
       "    </tr>\n",
       "    <tr>\n",
       "      <th>37</th>\n",
       "      <td>1</td>\n",
       "      <td>1022</td>\n",
       "      <td>5</td>\n",
       "      <td>2000-12-31 22:00:55</td>\n",
       "    </tr>\n",
       "    <tr>\n",
       "      <th>24</th>\n",
       "      <td>1</td>\n",
       "      <td>2340</td>\n",
       "      <td>3</td>\n",
       "      <td>2000-12-31 22:01:43</td>\n",
       "    </tr>\n",
       "  </tbody>\n",
       "</table>\n",
       "</div>"
      ],
      "text/plain": [
       "    UserId  ItemId  Rating                Time\n",
       "31       1    3186       4 2000-12-31 22:00:19\n",
       "22       1    1270       5 2000-12-31 22:00:55\n",
       "27       1    1721       4 2000-12-31 22:00:55\n",
       "37       1    1022       5 2000-12-31 22:00:55\n",
       "24       1    2340       3 2000-12-31 22:01:43"
      ]
     },
     "execution_count": 16,
     "metadata": {},
     "output_type": "execute_result"
    }
   ],
   "source": [
    "data = data[data['Rating'] >= 3]\n",
    "data.head()"
   ]
  },
  {
   "cell_type": "code",
   "execution_count": 17,
   "id": "4e07e145",
   "metadata": {},
   "outputs": [
    {
     "data": {
      "text/html": [
       "<div>\n",
       "<style scoped>\n",
       "    .dataframe tbody tr th:only-of-type {\n",
       "        vertical-align: middle;\n",
       "    }\n",
       "\n",
       "    .dataframe tbody tr th {\n",
       "        vertical-align: top;\n",
       "    }\n",
       "\n",
       "    .dataframe thead th {\n",
       "        text-align: right;\n",
       "    }\n",
       "</style>\n",
       "<table border=\"1\" class=\"dataframe\">\n",
       "  <thead>\n",
       "    <tr style=\"text-align: right;\">\n",
       "      <th></th>\n",
       "      <th>UserId</th>\n",
       "      <th>ItemId</th>\n",
       "      <th>Rating</th>\n",
       "      <th>Time</th>\n",
       "    </tr>\n",
       "  </thead>\n",
       "  <tbody>\n",
       "  </tbody>\n",
       "</table>\n",
       "</div>"
      ],
      "text/plain": [
       "Empty DataFrame\n",
       "Columns: [UserId, ItemId, Rating, Time]\n",
       "Index: []"
      ]
     },
     "execution_count": 17,
     "metadata": {},
     "output_type": "execute_result"
    }
   ],
   "source": [
    "data[data['Rating'] < 3]"
   ]
  },
  {
   "cell_type": "markdown",
   "id": "3b030091",
   "metadata": {},
   "source": [
    "- 3점 미만의 데이터는 모두 제거됨"
   ]
  },
  {
   "cell_type": "code",
   "execution_count": 18,
   "id": "0e148694",
   "metadata": {},
   "outputs": [
    {
     "data": {
      "text/plain": [
       "836478"
      ]
     },
     "execution_count": 18,
     "metadata": {},
     "output_type": "execute_result"
    }
   ],
   "source": [
    "len(data)"
   ]
  },
  {
   "cell_type": "markdown",
   "id": "26f36d7d",
   "metadata": {},
   "source": [
    "### 4. UserId 파악"
   ]
  },
  {
   "cell_type": "code",
   "execution_count": 19,
   "id": "db527134",
   "metadata": {},
   "outputs": [
    {
     "data": {
      "text/plain": [
       "UserId\n",
       "1        53\n",
       "2       116\n",
       "3        46\n",
       "4        19\n",
       "5       143\n",
       "       ... \n",
       "6036    708\n",
       "6037    189\n",
       "6038     18\n",
       "6039    119\n",
       "6040    276\n",
       "Length: 6039, dtype: int64"
      ]
     },
     "execution_count": 19,
     "metadata": {},
     "output_type": "execute_result"
    }
   ],
   "source": [
    "userid_length = data.groupby('UserId').size()\n",
    "userid_length"
   ]
  },
  {
   "cell_type": "code",
   "execution_count": 20,
   "id": "46090da3",
   "metadata": {},
   "outputs": [
    {
     "data": {
      "text/plain": [
       "(81.0, 138.51266766020865)"
      ]
     },
     "execution_count": 20,
     "metadata": {},
     "output_type": "execute_result"
    }
   ],
   "source": [
    "userid_length.median(), userid_length.mean()"
   ]
  },
  {
   "cell_type": "markdown",
   "id": "5acacd7d",
   "metadata": {},
   "source": [
    "- 각 userid에 따른 데이터 갯수 중간값 : 81개\n",
    "- 각 uesrid에 따른 데이터 갯수 평균값 : 약 138.5개"
   ]
  },
  {
   "cell_type": "code",
   "execution_count": 21,
   "id": "fbe39c5f",
   "metadata": {},
   "outputs": [
    {
     "data": {
      "text/plain": [
       "(1, 1968)"
      ]
     },
     "execution_count": 21,
     "metadata": {},
     "output_type": "execute_result"
    }
   ],
   "source": [
    "userid_length.min(), userid_length.max()"
   ]
  },
  {
   "cell_type": "markdown",
   "id": "ee27574f",
   "metadata": {},
   "source": [
    "- 각각의 uesrid에서 가장 작은 데이터를 가진 userid는 1개의 데이터를 가짐\n",
    "    - session으로 가정하였기 때문에 session이 1인 데이터는 큰 의미가 없다고 판단됨\n",
    "    - userid_length가 1인 데이터는 삭제해야함\n",
    "- 각각의 userid에서 가장 큰 데이터를 가진 userid는 1,968개의 데이터를 가짐\n",
    "    - userid 분포를 파악한 후에 적당한 사이즈로 잘라줄 예정"
   ]
  },
  {
   "cell_type": "code",
   "execution_count": 22,
   "id": "567eaea1",
   "metadata": {},
   "outputs": [
    {
     "data": {
      "text/plain": [
       "734.6199999999999"
      ]
     },
     "execution_count": 22,
     "metadata": {},
     "output_type": "execute_result"
    }
   ],
   "source": [
    "userid_length.quantile(0.99)"
   ]
  },
  {
   "cell_type": "code",
   "execution_count": 23,
   "id": "170799fe",
   "metadata": {},
   "outputs": [
    {
     "data": {
      "text/plain": [
       "1      0.000166\n",
       "7      0.000331\n",
       "9      0.000994\n",
       "10     0.001159\n",
       "11     0.001987\n",
       "         ...   \n",
       "725    0.989237\n",
       "726    0.989402\n",
       "728    0.989568\n",
       "731    0.989733\n",
       "734    0.989899\n",
       "Length: 584, dtype: float64"
      ]
     },
     "execution_count": 23,
     "metadata": {},
     "output_type": "execute_result"
    }
   ],
   "source": [
    "length_count = userid_length.groupby(userid_length).size()\n",
    "length_percent_cumsum = length_count.cumsum() / length_count.sum()   # cumsum : 누적합\n",
    "length_percent_cumsum_99 = length_percent_cumsum[length_percent_cumsum < 0.99]\n",
    "\n",
    "length_percent_cumsum_99"
   ]
  },
  {
   "cell_type": "code",
   "execution_count": 24,
   "id": "c2baaf82",
   "metadata": {},
   "outputs": [
    {
     "data": {
      "image/png": "[encoded data removed]",
      "text/plain": [
       "<Figure size 864x720 with 1 Axes>"
      ]
     },
     "metadata": {
      "needs_background": "light"
     },
     "output_type": "display_data"
    }
   ],
   "source": [
    "import matplotlib.pyplot as plt\n",
    "\n",
    "plt.figure(figsize=(12, 10))\n",
    "plt.bar(x=length_percent_cumsum_99.index,\n",
    "        height=length_percent_cumsum_99, color='red')\n",
    "plt.xticks(length_percent_cumsum_99.index)\n",
    "plt.yticks(np.arange(0, 1.01, 0.05))\n",
    "plt.title('Cumsum Percentage Until 0.99', size=20)\n",
    "plt.show()"
   ]
  },
  {
   "cell_type": "markdown",
   "id": "53e90df2",
   "metadata": {},
   "source": [
    "### 5. 필요없는 데이터 제거"
   ]
  },
  {
   "cell_type": "code",
   "execution_count": 25,
   "id": "e44b3af2",
   "metadata": {},
   "outputs": [],
   "source": [
    "# short_session을 제거한 다음 unpopular item을 제거하면 다시 길이가 1인 session이 생길 수 있습니다.\n",
    "# 이를 위해 반복문을 통해 지속적으로 제거 합니다.\n",
    "def cleanse_recursive(data: pd.DataFrame, shortest, least_click) -> pd.DataFrame:\n",
    "    while True:\n",
    "        before_len = len(data)\n",
    "        data = cleanse_short_session(data, shortest)\n",
    "        data = cleanse_unpopular_item(data, least_click)\n",
    "        after_len = len(data)\n",
    "        if before_len == after_len:\n",
    "            break\n",
    "    return data\n",
    "\n",
    "\n",
    "def cleanse_short_session(data: pd.DataFrame, shortest):\n",
    "    session_len = data.groupby('UserId').size()\n",
    "    session_use = session_len[session_len >= shortest].index\n",
    "    data = data[data['UserId'].isin(session_use)]\n",
    "    return data\n",
    "\n",
    "\n",
    "def cleanse_unpopular_item(data: pd.DataFrame, least_click):\n",
    "    item_popular = data.groupby('ItemId').size()\n",
    "    item_use = item_popular[item_popular >= least_click].index\n",
    "    data = data[data['ItemId'].isin(item_use)]\n",
    "    return data"
   ]
  },
  {
   "cell_type": "code",
   "execution_count": 26,
   "id": "c979c04a",
   "metadata": {},
   "outputs": [
    {
     "data": {
      "text/html": [
       "<div>\n",
       "<style scoped>\n",
       "    .dataframe tbody tr th:only-of-type {\n",
       "        vertical-align: middle;\n",
       "    }\n",
       "\n",
       "    .dataframe tbody tr th {\n",
       "        vertical-align: top;\n",
       "    }\n",
       "\n",
       "    .dataframe thead th {\n",
       "        text-align: right;\n",
       "    }\n",
       "</style>\n",
       "<table border=\"1\" class=\"dataframe\">\n",
       "  <thead>\n",
       "    <tr style=\"text-align: right;\">\n",
       "      <th></th>\n",
       "      <th>UserId</th>\n",
       "      <th>ItemId</th>\n",
       "      <th>Rating</th>\n",
       "      <th>Time</th>\n",
       "    </tr>\n",
       "  </thead>\n",
       "  <tbody>\n",
       "    <tr>\n",
       "      <th>31</th>\n",
       "      <td>1</td>\n",
       "      <td>3186</td>\n",
       "      <td>4</td>\n",
       "      <td>2000-12-31 22:00:19</td>\n",
       "    </tr>\n",
       "    <tr>\n",
       "      <th>22</th>\n",
       "      <td>1</td>\n",
       "      <td>1270</td>\n",
       "      <td>5</td>\n",
       "      <td>2000-12-31 22:00:55</td>\n",
       "    </tr>\n",
       "    <tr>\n",
       "      <th>27</th>\n",
       "      <td>1</td>\n",
       "      <td>1721</td>\n",
       "      <td>4</td>\n",
       "      <td>2000-12-31 22:00:55</td>\n",
       "    </tr>\n",
       "    <tr>\n",
       "      <th>37</th>\n",
       "      <td>1</td>\n",
       "      <td>1022</td>\n",
       "      <td>5</td>\n",
       "      <td>2000-12-31 22:00:55</td>\n",
       "    </tr>\n",
       "    <tr>\n",
       "      <th>24</th>\n",
       "      <td>1</td>\n",
       "      <td>2340</td>\n",
       "      <td>3</td>\n",
       "      <td>2000-12-31 22:01:43</td>\n",
       "    </tr>\n",
       "    <tr>\n",
       "      <th>...</th>\n",
       "      <td>...</td>\n",
       "      <td>...</td>\n",
       "      <td>...</td>\n",
       "      <td>...</td>\n",
       "    </tr>\n",
       "    <tr>\n",
       "      <th>1000019</th>\n",
       "      <td>6040</td>\n",
       "      <td>2917</td>\n",
       "      <td>4</td>\n",
       "      <td>2001-08-10 14:40:29</td>\n",
       "    </tr>\n",
       "    <tr>\n",
       "      <th>999988</th>\n",
       "      <td>6040</td>\n",
       "      <td>1921</td>\n",
       "      <td>4</td>\n",
       "      <td>2001-08-10 14:41:04</td>\n",
       "    </tr>\n",
       "    <tr>\n",
       "      <th>1000172</th>\n",
       "      <td>6040</td>\n",
       "      <td>1784</td>\n",
       "      <td>3</td>\n",
       "      <td>2001-08-10 14:41:04</td>\n",
       "    </tr>\n",
       "    <tr>\n",
       "      <th>1000167</th>\n",
       "      <td>6040</td>\n",
       "      <td>161</td>\n",
       "      <td>3</td>\n",
       "      <td>2001-08-10 14:41:26</td>\n",
       "    </tr>\n",
       "    <tr>\n",
       "      <th>1000042</th>\n",
       "      <td>6040</td>\n",
       "      <td>1221</td>\n",
       "      <td>4</td>\n",
       "      <td>2001-08-20 13:44:15</td>\n",
       "    </tr>\n",
       "  </tbody>\n",
       "</table>\n",
       "<p>829842 rows × 4 columns</p>\n",
       "</div>"
      ],
      "text/plain": [
       "         UserId  ItemId  Rating                Time\n",
       "31            1    3186       4 2000-12-31 22:00:19\n",
       "22            1    1270       5 2000-12-31 22:00:55\n",
       "27            1    1721       4 2000-12-31 22:00:55\n",
       "37            1    1022       5 2000-12-31 22:00:55\n",
       "24            1    2340       3 2000-12-31 22:01:43\n",
       "...         ...     ...     ...                 ...\n",
       "1000019    6040    2917       4 2001-08-10 14:40:29\n",
       "999988     6040    1921       4 2001-08-10 14:41:04\n",
       "1000172    6040    1784       3 2001-08-10 14:41:04\n",
       "1000167    6040     161       3 2001-08-10 14:41:26\n",
       "1000042    6040    1221       4 2001-08-20 13:44:15\n",
       "\n",
       "[829842 rows x 4 columns]"
      ]
     },
     "execution_count": 26,
     "metadata": {},
     "output_type": "execute_result"
    }
   ],
   "source": [
    "data = cleanse_recursive(data, shortest=5, least_click=20)\n",
    "data"
   ]
  },
  {
   "cell_type": "markdown",
   "id": "8688a475",
   "metadata": {},
   "source": [
    "- 기존 : 1,000,209 개의 데이터\n",
    "- Rating 3미만 제거 후 : 836,478 개의 데이터\n",
    "- 필요없는 데이터 제거 후 : 829,842 개의 데이터"
   ]
  },
  {
   "cell_type": "markdown",
   "id": "f9372ca2",
   "metadata": {},
   "source": [
    "- userid당 5개 이하의 데이터는 삭제함\n",
    "- 20번 이하로 체크된 영화 데이터 삭제함"
   ]
  },
  {
   "cell_type": "code",
   "execution_count": null,
   "id": "967171a7",
   "metadata": {},
   "outputs": [],
   "source": []
  },
  {
   "cell_type": "code",
   "execution_count": null,
   "id": "98ee5de4",
   "metadata": {},
   "outputs": [],
   "source": []
  },
  {
   "cell_type": "markdown",
   "id": "841f3d2e",
   "metadata": {},
   "source": [
    "## 시간 순으로 정렬하기"
   ]
  },
  {
   "cell_type": "code",
   "execution_count": 27,
   "id": "9691ea3f",
   "metadata": {},
   "outputs": [
    {
     "data": {
      "text/html": [
       "<div>\n",
       "<style scoped>\n",
       "    .dataframe tbody tr th:only-of-type {\n",
       "        vertical-align: middle;\n",
       "    }\n",
       "\n",
       "    .dataframe tbody tr th {\n",
       "        vertical-align: top;\n",
       "    }\n",
       "\n",
       "    .dataframe thead th {\n",
       "        text-align: right;\n",
       "    }\n",
       "</style>\n",
       "<table border=\"1\" class=\"dataframe\">\n",
       "  <thead>\n",
       "    <tr style=\"text-align: right;\">\n",
       "      <th></th>\n",
       "      <th>UserId</th>\n",
       "      <th>ItemId</th>\n",
       "      <th>Rating</th>\n",
       "      <th>Time</th>\n",
       "    </tr>\n",
       "  </thead>\n",
       "  <tbody>\n",
       "    <tr>\n",
       "      <th>1000138</th>\n",
       "      <td>6040</td>\n",
       "      <td>858</td>\n",
       "      <td>4</td>\n",
       "      <td>2000-04-25 23:05:32</td>\n",
       "    </tr>\n",
       "    <tr>\n",
       "      <th>1000153</th>\n",
       "      <td>6040</td>\n",
       "      <td>2384</td>\n",
       "      <td>4</td>\n",
       "      <td>2000-04-25 23:05:54</td>\n",
       "    </tr>\n",
       "    <tr>\n",
       "      <th>999873</th>\n",
       "      <td>6040</td>\n",
       "      <td>593</td>\n",
       "      <td>5</td>\n",
       "      <td>2000-04-25 23:05:54</td>\n",
       "    </tr>\n",
       "    <tr>\n",
       "      <th>1000192</th>\n",
       "      <td>6040</td>\n",
       "      <td>2019</td>\n",
       "      <td>5</td>\n",
       "      <td>2000-04-25 23:06:17</td>\n",
       "    </tr>\n",
       "    <tr>\n",
       "      <th>1000007</th>\n",
       "      <td>6040</td>\n",
       "      <td>1961</td>\n",
       "      <td>4</td>\n",
       "      <td>2000-04-25 23:06:17</td>\n",
       "    </tr>\n",
       "    <tr>\n",
       "      <th>999877</th>\n",
       "      <td>6040</td>\n",
       "      <td>1419</td>\n",
       "      <td>3</td>\n",
       "      <td>2000-04-25 23:07:36</td>\n",
       "    </tr>\n",
       "    <tr>\n",
       "      <th>999920</th>\n",
       "      <td>6040</td>\n",
       "      <td>213</td>\n",
       "      <td>5</td>\n",
       "      <td>2000-04-25 23:07:36</td>\n",
       "    </tr>\n",
       "    <tr>\n",
       "      <th>999980</th>\n",
       "      <td>6040</td>\n",
       "      <td>3505</td>\n",
       "      <td>4</td>\n",
       "      <td>2000-04-25 23:07:36</td>\n",
       "    </tr>\n",
       "    <tr>\n",
       "      <th>999967</th>\n",
       "      <td>6040</td>\n",
       "      <td>3111</td>\n",
       "      <td>5</td>\n",
       "      <td>2000-04-25 23:07:36</td>\n",
       "    </tr>\n",
       "    <tr>\n",
       "      <th>999884</th>\n",
       "      <td>6040</td>\n",
       "      <td>912</td>\n",
       "      <td>5</td>\n",
       "      <td>2000-04-25 23:09:51</td>\n",
       "    </tr>\n",
       "    <tr>\n",
       "      <th>999888</th>\n",
       "      <td>6040</td>\n",
       "      <td>919</td>\n",
       "      <td>5</td>\n",
       "      <td>2000-04-25 23:09:51</td>\n",
       "    </tr>\n",
       "    <tr>\n",
       "      <th>1000186</th>\n",
       "      <td>6040</td>\n",
       "      <td>527</td>\n",
       "      <td>5</td>\n",
       "      <td>2000-04-25 23:10:19</td>\n",
       "    </tr>\n",
       "    <tr>\n",
       "      <th>1000063</th>\n",
       "      <td>6040</td>\n",
       "      <td>1252</td>\n",
       "      <td>5</td>\n",
       "      <td>2000-04-25 23:10:57</td>\n",
       "    </tr>\n",
       "    <tr>\n",
       "      <th>999991</th>\n",
       "      <td>6040</td>\n",
       "      <td>318</td>\n",
       "      <td>4</td>\n",
       "      <td>2000-04-25 23:10:57</td>\n",
       "    </tr>\n",
       "    <tr>\n",
       "      <th>1000108</th>\n",
       "      <td>6040</td>\n",
       "      <td>3289</td>\n",
       "      <td>5</td>\n",
       "      <td>2000-04-25 23:11:45</td>\n",
       "    </tr>\n",
       "    <tr>\n",
       "      <th>1000083</th>\n",
       "      <td>6040</td>\n",
       "      <td>759</td>\n",
       "      <td>5</td>\n",
       "      <td>2000-04-25 23:14:08</td>\n",
       "    </tr>\n",
       "    <tr>\n",
       "      <th>999946</th>\n",
       "      <td>6040</td>\n",
       "      <td>608</td>\n",
       "      <td>4</td>\n",
       "      <td>2000-04-25 23:14:35</td>\n",
       "    </tr>\n",
       "    <tr>\n",
       "      <th>1000158</th>\n",
       "      <td>6040</td>\n",
       "      <td>2396</td>\n",
       "      <td>3</td>\n",
       "      <td>2000-04-25 23:14:35</td>\n",
       "    </tr>\n",
       "    <tr>\n",
       "      <th>999938</th>\n",
       "      <td>6040</td>\n",
       "      <td>2858</td>\n",
       "      <td>4</td>\n",
       "      <td>2000-04-25 23:14:35</td>\n",
       "    </tr>\n",
       "    <tr>\n",
       "      <th>999992</th>\n",
       "      <td>6040</td>\n",
       "      <td>326</td>\n",
       "      <td>4</td>\n",
       "      <td>2000-04-25 23:15:19</td>\n",
       "    </tr>\n",
       "  </tbody>\n",
       "</table>\n",
       "</div>"
      ],
      "text/plain": [
       "         UserId  ItemId  Rating                Time\n",
       "1000138    6040     858       4 2000-04-25 23:05:32\n",
       "1000153    6040    2384       4 2000-04-25 23:05:54\n",
       "999873     6040     593       5 2000-04-25 23:05:54\n",
       "1000192    6040    2019       5 2000-04-25 23:06:17\n",
       "1000007    6040    1961       4 2000-04-25 23:06:17\n",
       "999877     6040    1419       3 2000-04-25 23:07:36\n",
       "999920     6040     213       5 2000-04-25 23:07:36\n",
       "999980     6040    3505       4 2000-04-25 23:07:36\n",
       "999967     6040    3111       5 2000-04-25 23:07:36\n",
       "999884     6040     912       5 2000-04-25 23:09:51\n",
       "999888     6040     919       5 2000-04-25 23:09:51\n",
       "1000186    6040     527       5 2000-04-25 23:10:19\n",
       "1000063    6040    1252       5 2000-04-25 23:10:57\n",
       "999991     6040     318       4 2000-04-25 23:10:57\n",
       "1000108    6040    3289       5 2000-04-25 23:11:45\n",
       "1000083    6040     759       5 2000-04-25 23:14:08\n",
       "999946     6040     608       4 2000-04-25 23:14:35\n",
       "1000158    6040    2396       3 2000-04-25 23:14:35\n",
       "999938     6040    2858       4 2000-04-25 23:14:35\n",
       "999992     6040     326       4 2000-04-25 23:15:19"
      ]
     },
     "execution_count": 27,
     "metadata": {},
     "output_type": "execute_result"
    }
   ],
   "source": [
    "data = data.sort_values('Time')\n",
    "data.head(20)"
   ]
  },
  {
   "cell_type": "code",
   "execution_count": null,
   "id": "5c2a7271",
   "metadata": {},
   "outputs": [],
   "source": []
  },
  {
   "cell_type": "code",
   "execution_count": null,
   "id": "e9162017",
   "metadata": {},
   "outputs": [],
   "source": []
  },
  {
   "cell_type": "markdown",
   "id": "21596d74",
   "metadata": {},
   "source": [
    "## Train, val, test 셋 나누기"
   ]
  },
  {
   "cell_type": "markdown",
   "id": "aaccfeef",
   "metadata": {},
   "source": [
    "### 1. 날짜를 기준으로 Train, val, test 분리"
   ]
  },
  {
   "cell_type": "code",
   "execution_count": 28,
   "id": "94e5ca05",
   "metadata": {},
   "outputs": [
    {
     "data": {
      "text/plain": [
       "(      UserId  ItemId  Rating                Time\n",
       " 5130      36    2671       5 2000-12-29 03:35:55\n",
       " 5163      36    2250       4 2000-12-29 03:35:55\n",
       " 5313      36    2023       4 2000-12-29 03:35:55\n",
       " 5088      36    1270       5 2000-12-29 03:36:22\n",
       " 5351      36    1097       4 2000-12-29 03:36:47,\n",
       "       UserId  ItemId  Rating                Time\n",
       " 5104      36     247       4 2002-12-22 08:17:48\n",
       " 5062      36    1266       5 2002-12-22 08:18:29\n",
       " 5076      36     595       4 2002-12-22 08:18:29\n",
       " 5126      36    1295       4 2002-12-22 08:18:29\n",
       " 5180      36    3639       4 2002-12-22 08:18:45)"
      ]
     },
     "execution_count": 28,
     "metadata": {},
     "output_type": "execute_result"
    }
   ],
   "source": [
    "data[data['UserId'] == 36].head(), data[data['UserId'] == 36].tail()"
   ]
  },
  {
   "cell_type": "markdown",
   "id": "ec6675bb",
   "metadata": {},
   "source": [
    "- 해당 데이터의 UserId는 세션 데이터가 아님\n",
    "- 세션은 같은 유저라도 시간에 따라 다른 세션이 지정됨\n",
    "- 해당 데이터는 같은 유저면 시간이 달라도 같은 UserId로 저장됨\n",
    "- 세션을 염두해서 해당 문제를 해결하려면 시간만을 기준으로 둬야한다고 판단함"
   ]
  },
  {
   "cell_type": "code",
   "execution_count": 29,
   "id": "205c0051",
   "metadata": {},
   "outputs": [],
   "source": [
    "def split_by_date(data: pd.DataFrame, n_days: int):\n",
    "    final_time = data['Time'].max()\n",
    "    session_last_time = data.groupby('Time')['Time'].max()\n",
    "    session_in_train = session_last_time[session_last_time < final_time - dt.timedelta(n_days)].index\n",
    "    session_in_test = session_last_time[session_last_time >= final_time - dt.timedelta(n_days)].index\n",
    "\n",
    "    before_date = data[data['Time'].isin(session_in_train)]\n",
    "    after_date = data[data['Time'].isin(session_in_test)]\n",
    "    \n",
    "    return before_date, after_date"
   ]
  },
  {
   "cell_type": "code",
   "execution_count": 30,
   "id": "8681b33e",
   "metadata": {},
   "outputs": [],
   "source": [
    "tr, test = split_by_date(data, n_days=180)\n",
    "tr, val = split_by_date(tr, n_days=180)"
   ]
  },
  {
   "cell_type": "markdown",
   "id": "1928fba0",
   "metadata": {},
   "source": [
    "- 약 3년간의 데이터이므로 뒤에서부터 180일(약 3달)을 test로 지정함\n",
    "- train셋 중에 뒤에서부터 180일(약 3달)을 val로 지정함"
   ]
  },
  {
   "cell_type": "code",
   "execution_count": 31,
   "id": "0076c392",
   "metadata": {},
   "outputs": [],
   "source": [
    "# data에 대한 정보를 살펴봅니다.\n",
    "def stats_info(data: pd.DataFrame, status: str):\n",
    "    print(f'* {status} Set Stats Info\\n'\n",
    "          f'\\t Events: {len(data)}\\n'\n",
    "          f'\\t Sessions: {data[\"UserId\"].nunique()}\\n'\n",
    "          f'\\t Items: {data[\"ItemId\"].nunique()}\\n'\n",
    "          f'\\t First Time : {data[\"Time\"].min()}\\n'\n",
    "          f'\\t Last Time : {data[\"Time\"].max()}\\n')"
   ]
  },
  {
   "cell_type": "code",
   "execution_count": 32,
   "id": "a5ffbea1",
   "metadata": {},
   "outputs": [
    {
     "name": "stdout",
     "output_type": "stream",
     "text": [
      "* train Set Stats Info\n",
      "\t Events: 813024\n",
      "\t Sessions: 6036\n",
      "\t Items: 2805\n",
      "\t First Time : 2000-04-25 23:05:32\n",
      "\t Last Time : 2002-03-05 04:14:13\n",
      "\n",
      "* valid Set Stats Info\n",
      "\t Events: 9623\n",
      "\t Sessions: 388\n",
      "\t Items: 2230\n",
      "\t First Time : 2002-03-05 04:24:20\n",
      "\t Last Time : 2002-09-01 04:20:59\n",
      "\n",
      "* test Set Stats Info\n",
      "\t Events: 7195\n",
      "\t Sessions: 331\n",
      "\t Items: 1972\n",
      "\t First Time : 2002-09-01 19:41:39\n",
      "\t Last Time : 2003-02-28 17:49:50\n",
      "\n"
     ]
    }
   ],
   "source": [
    "stats_info(tr, 'train')\n",
    "stats_info(val, 'valid')\n",
    "stats_info(test, 'test')"
   ]
  },
  {
   "cell_type": "markdown",
   "id": "a5839599",
   "metadata": {},
   "source": [
    "### 2. train에 없는 아이템 제거 "
   ]
  },
  {
   "cell_type": "code",
   "execution_count": 33,
   "id": "9e141293",
   "metadata": {},
   "outputs": [],
   "source": [
    "# train set에 없는 아이템이 val, test기간에 생길 수 있으므로 train data를 기준으로 인덱싱합니다.\n",
    "id2idx = {item_id : index for index, item_id in enumerate(tr['ItemId'].unique())}\n",
    "\n",
    "def indexing(df, id2idx):\n",
    "    df['item_idx'] = df['ItemId'].map(lambda x: id2idx.get(x, -1))  # id2idx에 없는 아이템은 모르는 값(-1) 처리 해줍니다.\n",
    "    return df\n",
    "\n",
    "tr = indexing(tr, id2idx)\n",
    "val = indexing(val, id2idx)\n",
    "test = indexing(test, id2idx)"
   ]
  },
  {
   "cell_type": "markdown",
   "id": "e4b97e15",
   "metadata": {},
   "source": [
    "- get\n",
    "    - Key로 Value얻기\n",
    "    - 해당 키에 대한 값이 없으면 두번째 인자가 디폴트값으로 저장됨  \n",
    "https://wikidocs.net/16"
   ]
  },
  {
   "cell_type": "code",
   "execution_count": 34,
   "id": "f5bf550f",
   "metadata": {},
   "outputs": [],
   "source": [
    "save_path = data_path / 'processed'\n",
    "save_path.mkdir(parents=True, exist_ok=True)\n",
    "\n",
    "tr.to_pickle(save_path / 'train.pkl')\n",
    "val.to_pickle(save_path / 'valid.pkl')\n",
    "test.to_pickle(save_path / 'test.pkl')"
   ]
  },
  {
   "cell_type": "code",
   "execution_count": null,
   "id": "02351314",
   "metadata": {},
   "outputs": [],
   "source": []
  },
  {
   "cell_type": "code",
   "execution_count": null,
   "id": "0d38201b",
   "metadata": {},
   "outputs": [],
   "source": []
  },
  {
   "cell_type": "markdown",
   "id": "a7f3455f",
   "metadata": {},
   "source": [
    "## Data Pipeline"
   ]
  },
  {
   "cell_type": "markdown",
   "id": "d4653549",
   "metadata": {},
   "source": [
    "### 1. SessionDataset"
   ]
  },
  {
   "cell_type": "code",
   "execution_count": 35,
   "id": "60e86f77",
   "metadata": {},
   "outputs": [],
   "source": [
    "class SessionDataset:\n",
    "    \"\"\"Credit to yhs-968/pyGRU4REC.\"\"\"\n",
    "\n",
    "    def __init__(self, data):\n",
    "        self.df = data\n",
    "        self.click_offsets = self.get_click_offsets()\n",
    "        self.session_idx = np.arange(self.df['UserId'].nunique())  # indexing to SessionId\n",
    "\n",
    "    def get_click_offsets(self):\n",
    "        \"\"\"\n",
    "        Return the indexes of the first click of each session IDs,\n",
    "        \"\"\"\n",
    "        offsets = np.zeros(self.df['UserId'].nunique() + 1, dtype=np.int32)\n",
    "        offsets[1:] = self.df.groupby('UserId').size().cumsum()\n",
    "        return offsets"
   ]
  },
  {
   "cell_type": "code",
   "execution_count": 36,
   "id": "dbc1efdd",
   "metadata": {},
   "outputs": [
    {
     "data": {
      "text/html": [
       "<div>\n",
       "<style scoped>\n",
       "    .dataframe tbody tr th:only-of-type {\n",
       "        vertical-align: middle;\n",
       "    }\n",
       "\n",
       "    .dataframe tbody tr th {\n",
       "        vertical-align: top;\n",
       "    }\n",
       "\n",
       "    .dataframe thead th {\n",
       "        text-align: right;\n",
       "    }\n",
       "</style>\n",
       "<table border=\"1\" class=\"dataframe\">\n",
       "  <thead>\n",
       "    <tr style=\"text-align: right;\">\n",
       "      <th></th>\n",
       "      <th>UserId</th>\n",
       "      <th>ItemId</th>\n",
       "      <th>Rating</th>\n",
       "      <th>Time</th>\n",
       "      <th>item_idx</th>\n",
       "    </tr>\n",
       "  </thead>\n",
       "  <tbody>\n",
       "    <tr>\n",
       "      <th>1000138</th>\n",
       "      <td>6040</td>\n",
       "      <td>858</td>\n",
       "      <td>4</td>\n",
       "      <td>2000-04-25 23:05:32</td>\n",
       "      <td>0</td>\n",
       "    </tr>\n",
       "    <tr>\n",
       "      <th>1000153</th>\n",
       "      <td>6040</td>\n",
       "      <td>2384</td>\n",
       "      <td>4</td>\n",
       "      <td>2000-04-25 23:05:54</td>\n",
       "      <td>1</td>\n",
       "    </tr>\n",
       "    <tr>\n",
       "      <th>999873</th>\n",
       "      <td>6040</td>\n",
       "      <td>593</td>\n",
       "      <td>5</td>\n",
       "      <td>2000-04-25 23:05:54</td>\n",
       "      <td>2</td>\n",
       "    </tr>\n",
       "    <tr>\n",
       "      <th>1000192</th>\n",
       "      <td>6040</td>\n",
       "      <td>2019</td>\n",
       "      <td>5</td>\n",
       "      <td>2000-04-25 23:06:17</td>\n",
       "      <td>3</td>\n",
       "    </tr>\n",
       "    <tr>\n",
       "      <th>1000007</th>\n",
       "      <td>6040</td>\n",
       "      <td>1961</td>\n",
       "      <td>4</td>\n",
       "      <td>2000-04-25 23:06:17</td>\n",
       "      <td>4</td>\n",
       "    </tr>\n",
       "    <tr>\n",
       "      <th>999877</th>\n",
       "      <td>6040</td>\n",
       "      <td>1419</td>\n",
       "      <td>3</td>\n",
       "      <td>2000-04-25 23:07:36</td>\n",
       "      <td>5</td>\n",
       "    </tr>\n",
       "    <tr>\n",
       "      <th>999920</th>\n",
       "      <td>6040</td>\n",
       "      <td>213</td>\n",
       "      <td>5</td>\n",
       "      <td>2000-04-25 23:07:36</td>\n",
       "      <td>6</td>\n",
       "    </tr>\n",
       "    <tr>\n",
       "      <th>999980</th>\n",
       "      <td>6040</td>\n",
       "      <td>3505</td>\n",
       "      <td>4</td>\n",
       "      <td>2000-04-25 23:07:36</td>\n",
       "      <td>7</td>\n",
       "    </tr>\n",
       "    <tr>\n",
       "      <th>999967</th>\n",
       "      <td>6040</td>\n",
       "      <td>3111</td>\n",
       "      <td>5</td>\n",
       "      <td>2000-04-25 23:07:36</td>\n",
       "      <td>8</td>\n",
       "    </tr>\n",
       "    <tr>\n",
       "      <th>999884</th>\n",
       "      <td>6040</td>\n",
       "      <td>912</td>\n",
       "      <td>5</td>\n",
       "      <td>2000-04-25 23:09:51</td>\n",
       "      <td>9</td>\n",
       "    </tr>\n",
       "  </tbody>\n",
       "</table>\n",
       "</div>"
      ],
      "text/plain": [
       "         UserId  ItemId  Rating                Time  item_idx\n",
       "1000138    6040     858       4 2000-04-25 23:05:32         0\n",
       "1000153    6040    2384       4 2000-04-25 23:05:54         1\n",
       "999873     6040     593       5 2000-04-25 23:05:54         2\n",
       "1000192    6040    2019       5 2000-04-25 23:06:17         3\n",
       "1000007    6040    1961       4 2000-04-25 23:06:17         4\n",
       "999877     6040    1419       3 2000-04-25 23:07:36         5\n",
       "999920     6040     213       5 2000-04-25 23:07:36         6\n",
       "999980     6040    3505       4 2000-04-25 23:07:36         7\n",
       "999967     6040    3111       5 2000-04-25 23:07:36         8\n",
       "999884     6040     912       5 2000-04-25 23:09:51         9"
      ]
     },
     "execution_count": 36,
     "metadata": {},
     "output_type": "execute_result"
    }
   ],
   "source": [
    "tr_dataset = SessionDataset(tr)\n",
    "tr_dataset.df.head(10)"
   ]
  },
  {
   "cell_type": "code",
   "execution_count": 37,
   "id": "b2ff01e4",
   "metadata": {},
   "outputs": [
    {
     "data": {
      "text/plain": [
       "array([     0,     53,    169, ..., 812633, 812752, 813024], dtype=int32)"
      ]
     },
     "execution_count": 37,
     "metadata": {},
     "output_type": "execute_result"
    }
   ],
   "source": [
    "tr_dataset.click_offsets"
   ]
  },
  {
   "cell_type": "code",
   "execution_count": 38,
   "id": "2f8a53cd",
   "metadata": {},
   "outputs": [
    {
     "data": {
      "text/html": [
       "<div>\n",
       "<style scoped>\n",
       "    .dataframe tbody tr th:only-of-type {\n",
       "        vertical-align: middle;\n",
       "    }\n",
       "\n",
       "    .dataframe tbody tr th {\n",
       "        vertical-align: top;\n",
       "    }\n",
       "\n",
       "    .dataframe thead th {\n",
       "        text-align: right;\n",
       "    }\n",
       "</style>\n",
       "<table border=\"1\" class=\"dataframe\">\n",
       "  <thead>\n",
       "    <tr style=\"text-align: right;\">\n",
       "      <th></th>\n",
       "      <th>UserId</th>\n",
       "      <th>ItemId</th>\n",
       "      <th>Rating</th>\n",
       "      <th>Time</th>\n",
       "      <th>item_idx</th>\n",
       "    </tr>\n",
       "  </thead>\n",
       "  <tbody>\n",
       "    <tr>\n",
       "      <th>999794</th>\n",
       "      <td>6039</td>\n",
       "      <td>282</td>\n",
       "      <td>4</td>\n",
       "      <td>2000-04-25 23:25:58</td>\n",
       "      <td>53</td>\n",
       "    </tr>\n",
       "    <tr>\n",
       "      <th>998409</th>\n",
       "      <td>6035</td>\n",
       "      <td>282</td>\n",
       "      <td>4</td>\n",
       "      <td>2000-04-26 01:23:34</td>\n",
       "      <td>53</td>\n",
       "    </tr>\n",
       "    <tr>\n",
       "      <th>998832</th>\n",
       "      <td>6036</td>\n",
       "      <td>282</td>\n",
       "      <td>3</td>\n",
       "      <td>2000-04-26 13:00:04</td>\n",
       "      <td>53</td>\n",
       "    </tr>\n",
       "    <tr>\n",
       "      <th>993153</th>\n",
       "      <td>6000</td>\n",
       "      <td>282</td>\n",
       "      <td>3</td>\n",
       "      <td>2000-04-28 00:47:50</td>\n",
       "      <td>53</td>\n",
       "    </tr>\n",
       "    <tr>\n",
       "      <th>996092</th>\n",
       "      <td>6016</td>\n",
       "      <td>282</td>\n",
       "      <td>3</td>\n",
       "      <td>2000-04-28 22:03:49</td>\n",
       "      <td>53</td>\n",
       "    </tr>\n",
       "  </tbody>\n",
       "</table>\n",
       "</div>"
      ],
      "text/plain": [
       "        UserId  ItemId  Rating                Time  item_idx\n",
       "999794    6039     282       4 2000-04-25 23:25:58        53\n",
       "998409    6035     282       4 2000-04-26 01:23:34        53\n",
       "998832    6036     282       3 2000-04-26 13:00:04        53\n",
       "993153    6000     282       3 2000-04-28 00:47:50        53\n",
       "996092    6016     282       3 2000-04-28 22:03:49        53"
      ]
     },
     "execution_count": 38,
     "metadata": {},
     "output_type": "execute_result"
    }
   ],
   "source": [
    "tr_dataset.df[tr_dataset.df['item_idx'] == 53].head()"
   ]
  },
  {
   "cell_type": "code",
   "execution_count": 39,
   "id": "7870c5d6",
   "metadata": {},
   "outputs": [
    {
     "data": {
      "text/plain": [
       "array([   0,    1,    2, ..., 6033, 6034, 6035])"
      ]
     },
     "execution_count": 39,
     "metadata": {},
     "output_type": "execute_result"
    }
   ],
   "source": [
    "tr_dataset.session_idx"
   ]
  },
  {
   "cell_type": "markdown",
   "id": "58124041",
   "metadata": {},
   "source": [
    "- click_offsets : 각 세션이 시작된 인덱스를 담고 있음\n",
    "- session_idx : 각 세션을 인덱싱한 np.array"
   ]
  },
  {
   "cell_type": "markdown",
   "id": "222a2f09",
   "metadata": {},
   "source": [
    "### 2. SessionDataLoader\n",
    "- SessionDataset 객체를 받아서 Session-Parallel mini-batch를 만드는 클래스\n",
    "- \\_\\_iter__ 메서드는 모델 인풋, 라벨, 세션이 끝나는 곳의 위치를 yield함\n",
    "- mask는 후에 RNN Cell State를 초기화하는데 사용"
   ]
  },
  {
   "cell_type": "code",
   "execution_count": 40,
   "id": "d2fdd49d",
   "metadata": {},
   "outputs": [],
   "source": [
    "class SessionDataLoader:\n",
    "    \"\"\"Credit to yhs-968/pyGRU4REC.\"\"\"\n",
    "\n",
    "    def __init__(self, dataset: SessionDataset, batch_size=50):\n",
    "        self.dataset = dataset\n",
    "        self.batch_size = batch_size\n",
    "\n",
    "    def __iter__(self):\n",
    "        \"\"\" Returns the iterator for producing session-parallel training mini-batches.\n",
    "        Yields:\n",
    "            input (B,):  Item indices that will be encoded as one-hot vectors later.\n",
    "            target (B,): a Variable that stores the target item indices\n",
    "            masks: Numpy array indicating the positions of the sessions to be terminated\n",
    "        \"\"\"\n",
    "\n",
    "        start, end, mask, last_session, finished = self.initialize()  # initialize 메소드에서 확인해주세요.\n",
    "        \"\"\"\n",
    "        start : Index Where Session Start\n",
    "        end : Index Where Session End\n",
    "        mask : indicator for the sessions to be terminated\n",
    "        \"\"\"\n",
    "\n",
    "        while not finished:\n",
    "            min_len = (end - start).min() - 1  # Shortest Length Among Sessions\n",
    "            for i in range(min_len):\n",
    "                # Build inputs & targets\n",
    "                inp = self.dataset.df['item_idx'].values[start + i]\n",
    "                target = self.dataset.df['item_idx'].values[start + i + 1]\n",
    "                yield inp, target, mask\n",
    "\n",
    "            start, end, mask, last_session, finished = self.update_status(start, end, min_len, last_session, finished)\n",
    "\n",
    "    def initialize(self):\n",
    "        first_iters = np.arange(self.batch_size)    # 첫 배치에 사용할 세션 Index를 가져옵니다.\n",
    "        last_session = self.batch_size - 1    # 마지막으로 다루고 있는 세션 Index를 저장해둡니다.\n",
    "        start = self.dataset.click_offsets[self.dataset.session_idx[first_iters]]       # data 상에서 session이 시작된 위치를 가져옵니다.\n",
    "        end = self.dataset.click_offsets[self.dataset.session_idx[first_iters] + 1]  # session이 끝난 위치 바로 다음 위치를 가져옵니다.\n",
    "        mask = np.array([])   # session의 모든 아이템을 다 돌은 경우 mask에 추가해줄 것입니다.\n",
    "        finished = False         # data를 전부 돌았는지 기록하기 위한 변수입니다.\n",
    "        return start, end, mask, last_session, finished\n",
    "\n",
    "    def update_status(self, start: np.ndarray, end: np.ndarray, min_len: int, last_session: int, finished: bool):  \n",
    "        # 다음 배치 데이터를 생성하기 위해 상태를 update합니다.\n",
    "        \n",
    "        start += min_len   # __iter__에서 min_len 만큼 for문을 돌았으므로 start를 min_len 만큼 더해줍니다.\n",
    "        mask = np.arange(self.batch_size)[(end - start) == 1]  \n",
    "        # end는 다음 세션이 시작되는 위치인데 start와 한 칸 차이난다는 것은 session이 끝났다는 뜻입니다. mask에 기록해줍니다.\n",
    "\n",
    "        for i, idx in enumerate(mask, start=1):  # mask에 추가된 세션 개수만큼 새로운 세션을 돌것입니다.\n",
    "            new_session = last_session + i  \n",
    "            if new_session > self.dataset.session_idx[-1]:  # 만약 새로운 세션이 마지막 세션 index보다 크다면 모든 학습데이터를 돈 것입니다.\n",
    "                finished = True\n",
    "                break\n",
    "            # update the next starting/ending point\n",
    "            start[idx] = self.dataset.click_offsets[self.dataset.session_idx[new_session]]     # 종료된 세션 대신 새로운 세션의 시작점을 기록합니다.\n",
    "            end[idx] = self.dataset.click_offsets[self.dataset.session_idx[new_session] + 1]\n",
    "\n",
    "        last_session += len(mask)  # 마지막 세션의 위치를 기록해둡니다.\n",
    "        return start, end, mask, last_session, finished"
   ]
  },
  {
   "cell_type": "code",
   "execution_count": 41,
   "id": "038082e9",
   "metadata": {},
   "outputs": [
    {
     "data": {
      "text/html": [
       "<div>\n",
       "<style scoped>\n",
       "    .dataframe tbody tr th:only-of-type {\n",
       "        vertical-align: middle;\n",
       "    }\n",
       "\n",
       "    .dataframe tbody tr th {\n",
       "        vertical-align: top;\n",
       "    }\n",
       "\n",
       "    .dataframe thead th {\n",
       "        text-align: right;\n",
       "    }\n",
       "</style>\n",
       "<table border=\"1\" class=\"dataframe\">\n",
       "  <thead>\n",
       "    <tr style=\"text-align: right;\">\n",
       "      <th></th>\n",
       "      <th>UserId</th>\n",
       "      <th>ItemId</th>\n",
       "      <th>Rating</th>\n",
       "      <th>Time</th>\n",
       "      <th>item_idx</th>\n",
       "    </tr>\n",
       "  </thead>\n",
       "  <tbody>\n",
       "    <tr>\n",
       "      <th>1000138</th>\n",
       "      <td>6040</td>\n",
       "      <td>858</td>\n",
       "      <td>4</td>\n",
       "      <td>2000-04-25 23:05:32</td>\n",
       "      <td>0</td>\n",
       "    </tr>\n",
       "    <tr>\n",
       "      <th>1000153</th>\n",
       "      <td>6040</td>\n",
       "      <td>2384</td>\n",
       "      <td>4</td>\n",
       "      <td>2000-04-25 23:05:54</td>\n",
       "      <td>1</td>\n",
       "    </tr>\n",
       "    <tr>\n",
       "      <th>999873</th>\n",
       "      <td>6040</td>\n",
       "      <td>593</td>\n",
       "      <td>5</td>\n",
       "      <td>2000-04-25 23:05:54</td>\n",
       "      <td>2</td>\n",
       "    </tr>\n",
       "    <tr>\n",
       "      <th>1000192</th>\n",
       "      <td>6040</td>\n",
       "      <td>2019</td>\n",
       "      <td>5</td>\n",
       "      <td>2000-04-25 23:06:17</td>\n",
       "      <td>3</td>\n",
       "    </tr>\n",
       "    <tr>\n",
       "      <th>1000007</th>\n",
       "      <td>6040</td>\n",
       "      <td>1961</td>\n",
       "      <td>4</td>\n",
       "      <td>2000-04-25 23:06:17</td>\n",
       "      <td>4</td>\n",
       "    </tr>\n",
       "    <tr>\n",
       "      <th>999877</th>\n",
       "      <td>6040</td>\n",
       "      <td>1419</td>\n",
       "      <td>3</td>\n",
       "      <td>2000-04-25 23:07:36</td>\n",
       "      <td>5</td>\n",
       "    </tr>\n",
       "    <tr>\n",
       "      <th>999920</th>\n",
       "      <td>6040</td>\n",
       "      <td>213</td>\n",
       "      <td>5</td>\n",
       "      <td>2000-04-25 23:07:36</td>\n",
       "      <td>6</td>\n",
       "    </tr>\n",
       "    <tr>\n",
       "      <th>999980</th>\n",
       "      <td>6040</td>\n",
       "      <td>3505</td>\n",
       "      <td>4</td>\n",
       "      <td>2000-04-25 23:07:36</td>\n",
       "      <td>7</td>\n",
       "    </tr>\n",
       "    <tr>\n",
       "      <th>999967</th>\n",
       "      <td>6040</td>\n",
       "      <td>3111</td>\n",
       "      <td>5</td>\n",
       "      <td>2000-04-25 23:07:36</td>\n",
       "      <td>8</td>\n",
       "    </tr>\n",
       "    <tr>\n",
       "      <th>999884</th>\n",
       "      <td>6040</td>\n",
       "      <td>912</td>\n",
       "      <td>5</td>\n",
       "      <td>2000-04-25 23:09:51</td>\n",
       "      <td>9</td>\n",
       "    </tr>\n",
       "    <tr>\n",
       "      <th>999888</th>\n",
       "      <td>6040</td>\n",
       "      <td>919</td>\n",
       "      <td>5</td>\n",
       "      <td>2000-04-25 23:09:51</td>\n",
       "      <td>10</td>\n",
       "    </tr>\n",
       "    <tr>\n",
       "      <th>1000186</th>\n",
       "      <td>6040</td>\n",
       "      <td>527</td>\n",
       "      <td>5</td>\n",
       "      <td>2000-04-25 23:10:19</td>\n",
       "      <td>11</td>\n",
       "    </tr>\n",
       "    <tr>\n",
       "      <th>1000063</th>\n",
       "      <td>6040</td>\n",
       "      <td>1252</td>\n",
       "      <td>5</td>\n",
       "      <td>2000-04-25 23:10:57</td>\n",
       "      <td>12</td>\n",
       "    </tr>\n",
       "    <tr>\n",
       "      <th>999991</th>\n",
       "      <td>6040</td>\n",
       "      <td>318</td>\n",
       "      <td>4</td>\n",
       "      <td>2000-04-25 23:10:57</td>\n",
       "      <td>13</td>\n",
       "    </tr>\n",
       "    <tr>\n",
       "      <th>1000108</th>\n",
       "      <td>6040</td>\n",
       "      <td>3289</td>\n",
       "      <td>5</td>\n",
       "      <td>2000-04-25 23:11:45</td>\n",
       "      <td>14</td>\n",
       "    </tr>\n",
       "    <tr>\n",
       "      <th>1000083</th>\n",
       "      <td>6040</td>\n",
       "      <td>759</td>\n",
       "      <td>5</td>\n",
       "      <td>2000-04-25 23:14:08</td>\n",
       "      <td>15</td>\n",
       "    </tr>\n",
       "    <tr>\n",
       "      <th>999946</th>\n",
       "      <td>6040</td>\n",
       "      <td>608</td>\n",
       "      <td>4</td>\n",
       "      <td>2000-04-25 23:14:35</td>\n",
       "      <td>16</td>\n",
       "    </tr>\n",
       "    <tr>\n",
       "      <th>1000158</th>\n",
       "      <td>6040</td>\n",
       "      <td>2396</td>\n",
       "      <td>3</td>\n",
       "      <td>2000-04-25 23:14:35</td>\n",
       "      <td>17</td>\n",
       "    </tr>\n",
       "    <tr>\n",
       "      <th>999938</th>\n",
       "      <td>6040</td>\n",
       "      <td>2858</td>\n",
       "      <td>4</td>\n",
       "      <td>2000-04-25 23:14:35</td>\n",
       "      <td>18</td>\n",
       "    </tr>\n",
       "    <tr>\n",
       "      <th>999992</th>\n",
       "      <td>6040</td>\n",
       "      <td>326</td>\n",
       "      <td>4</td>\n",
       "      <td>2000-04-25 23:15:19</td>\n",
       "      <td>19</td>\n",
       "    </tr>\n",
       "  </tbody>\n",
       "</table>\n",
       "</div>"
      ],
      "text/plain": [
       "         UserId  ItemId  Rating                Time  item_idx\n",
       "1000138    6040     858       4 2000-04-25 23:05:32         0\n",
       "1000153    6040    2384       4 2000-04-25 23:05:54         1\n",
       "999873     6040     593       5 2000-04-25 23:05:54         2\n",
       "1000192    6040    2019       5 2000-04-25 23:06:17         3\n",
       "1000007    6040    1961       4 2000-04-25 23:06:17         4\n",
       "999877     6040    1419       3 2000-04-25 23:07:36         5\n",
       "999920     6040     213       5 2000-04-25 23:07:36         6\n",
       "999980     6040    3505       4 2000-04-25 23:07:36         7\n",
       "999967     6040    3111       5 2000-04-25 23:07:36         8\n",
       "999884     6040     912       5 2000-04-25 23:09:51         9\n",
       "999888     6040     919       5 2000-04-25 23:09:51        10\n",
       "1000186    6040     527       5 2000-04-25 23:10:19        11\n",
       "1000063    6040    1252       5 2000-04-25 23:10:57        12\n",
       "999991     6040     318       4 2000-04-25 23:10:57        13\n",
       "1000108    6040    3289       5 2000-04-25 23:11:45        14\n",
       "1000083    6040     759       5 2000-04-25 23:14:08        15\n",
       "999946     6040     608       4 2000-04-25 23:14:35        16\n",
       "1000158    6040    2396       3 2000-04-25 23:14:35        17\n",
       "999938     6040    2858       4 2000-04-25 23:14:35        18\n",
       "999992     6040     326       4 2000-04-25 23:15:19        19"
      ]
     },
     "execution_count": 41,
     "metadata": {},
     "output_type": "execute_result"
    }
   ],
   "source": [
    "tr_data_loader = SessionDataLoader(tr_dataset, batch_size=4)\n",
    "tr_dataset.df.head(20)"
   ]
  },
  {
   "cell_type": "code",
   "execution_count": 42,
   "id": "7bc30f09",
   "metadata": {},
   "outputs": [],
   "source": [
    "iter_ex = iter(tr_data_loader)"
   ]
  },
  {
   "cell_type": "code",
   "execution_count": 43,
   "id": "cec7eb16",
   "metadata": {},
   "outputs": [
    {
     "name": "stdout",
     "output_type": "stream",
     "text": [
      "Model Input Item Idx are : [  0  53  94 192]\n",
      "Label Item Idx are :       [  1  54 164 193]\n",
      "Previous Masked Input Idx are []\n"
     ]
    }
   ],
   "source": [
    "inputs, labels, mask =  next(iter_ex)\n",
    "print(f'Model Input Item Idx are : {inputs}')\n",
    "print(f'Label Item Idx are : {\"\":5} {labels}')\n",
    "print(f'Previous Masked Input Idx are {mask}')"
   ]
  },
  {
   "cell_type": "markdown",
   "id": "ba5bb773",
   "metadata": {},
   "source": [
    "- Model Input Item Idx : SessionId 별 첫번째 item_idx 번호 (배치사이즈만큼)\n",
    "- Label Item Idx : Model Input Item Idx의 item_idx 다음 번호"
   ]
  },
  {
   "cell_type": "code",
   "execution_count": null,
   "id": "bc4e043c",
   "metadata": {},
   "outputs": [],
   "source": []
  },
  {
   "cell_type": "code",
   "execution_count": null,
   "id": "2970d969",
   "metadata": {},
   "outputs": [],
   "source": []
  },
  {
   "cell_type": "markdown",
   "id": "f7c6abfb",
   "metadata": {},
   "source": [
    "## Modeling"
   ]
  },
  {
   "cell_type": "markdown",
   "id": "55c2cc1c",
   "metadata": {},
   "source": [
    "### 1. Evaluation Metric (MRR)"
   ]
  },
  {
   "cell_type": "markdown",
   "id": "73a119c0",
   "metadata": {},
   "source": [
    "- MRR (Mean Reciprocal Rank)\n",
    "    - MRR은 사용자가 몇 개의 컨텐츠에 관심이 있었는지, 각 관련 컨텐츠는 어느 위치에 있었는지를 고려하지 않음\n",
    "    - 오직, 가장 상위의 관련 컨텐츠의 위치만을 고려하여 점수를 계산함으로써 가장 관련있는 컨텐츠가 얼마나 상위에 올라가 있는지를 평가\n",
    "    \n",
    "    - MRR의 장점\n",
    "        - 간단하고 쉬움\n",
    "        - 제공된 목록 중 가장 상위의 관련된 컨텐츠에만 집중하기 때문에, 사용자에 가장 관련있는 컨텐츠가 최상위에 있는가를 평가할 때 용이\n",
    "        - 새로운 컨텐츠가 아니라 이미 사용자가 알고 있는 컨텐츠 중 가장 선호할만한 컨텐츠를 보여주고자 할 때 좋은 평가 기준이 됨\n",
    "    - MRR의 단점\n",
    "        - 제공된 목록 중 하나의 컨텐츠에만 집중하기 때문에 나머지 부분에 대해서는 평가하지 않음  \n",
    "        (2, 3번째 관련 컨텐츠에 대해서는 평가를 하지 않음)\n",
    "        - 관련 컨텐츠의 개수가 달라도 첫 번째 관련 컨텐츠의 위치가 같은 경우 같은 점수를 가지므로 변별력을 가지기 어려움\n",
    "        - 사용자가 컨텐츠에 대해 잘 알지 못해 여러 번 탐색을 해야 하는 경우 살펴봐야 하는(관련있는) 컨텐츠의 개수가 1개 이상일 가능성이 높으므로 좋은 평가 기준이 되기 어려움"
   ]
  },
  {
   "cell_type": "markdown",
   "id": "ba1e3a8f",
   "metadata": {},
   "source": [
    "- MRR : https://lamttic.github.io/2020/03/20/01.html"
   ]
  },
  {
   "attachments": {
    "image.png": {
     "image/png": "[encoded data removed]"
    }
   },
   "cell_type": "markdown",
   "id": "c5fcbe4b",
   "metadata": {},
   "source": [
    "![image.png](attachment:image.png)"
   ]
  },
  {
   "cell_type": "code",
   "execution_count": 44,
   "id": "1b0da8ba",
   "metadata": {},
   "outputs": [],
   "source": [
    "def mrr_k(pred, truth: int, k: int):\n",
    "    indexing = np.where(pred[:k] == truth)[0]\n",
    "    if len(indexing) > 0:\n",
    "        return 1 / (indexing[0] + 1)\n",
    "    else:\n",
    "        return 0\n",
    "\n",
    "\n",
    "def recall_k(pred, truth: int, k: int) -> int:\n",
    "    answer = truth in pred[:k]\n",
    "    return int(answer)"
   ]
  },
  {
   "cell_type": "markdown",
   "id": "7bcb75ee",
   "metadata": {},
   "source": [
    "### 2. Model Architecture"
   ]
  },
  {
   "cell_type": "code",
   "execution_count": 45,
   "id": "c22101cb",
   "metadata": {},
   "outputs": [],
   "source": [
    "import numpy as np\n",
    "import tensorflow as tf\n",
    "from tensorflow.keras.layers import Input, Dense, Dropout, GRU\n",
    "from tensorflow.keras.losses import categorical_crossentropy\n",
    "from tensorflow.keras.models import Model\n",
    "from tensorflow.keras.optimizers import Adam\n",
    "from tensorflow.keras.utils import to_categorical\n",
    "from tqdm import tqdm"
   ]
  },
  {
   "cell_type": "code",
   "execution_count": 46,
   "id": "b5d02971",
   "metadata": {},
   "outputs": [],
   "source": [
    "def create_model(args):\n",
    "    inputs = Input(batch_shape=(args.batch_size, 1, args.num_items))\n",
    "    gru, _ = GRU(args.hsz, stateful=True, return_state=True, name='GRU')(inputs)\n",
    "    dropout = Dropout(args.drop_rate)(gru)\n",
    "    predictions = Dense(args.num_items, activation='softmax')(dropout)\n",
    "    model = Model(inputs=inputs, outputs=[predictions])\n",
    "    model.compile(loss=categorical_crossentropy, optimizer=Adam(args.lr), metrics=['accuracy'])\n",
    "    model.summary()\n",
    "    return model"
   ]
  },
  {
   "cell_type": "code",
   "execution_count": 47,
   "id": "9170d49e",
   "metadata": {},
   "outputs": [],
   "source": [
    "class Args:\n",
    "    def __init__(self, tr, val, test, batch_size, hsz, drop_rate, lr, epochs, k):\n",
    "        self.tr = tr\n",
    "        self.val = val\n",
    "        self.test = test\n",
    "        self.num_items = tr['ItemId'].nunique()\n",
    "        self.num_sessions = tr['UserId'].nunique()\n",
    "        self.batch_size = batch_size\n",
    "        self.hsz = hsz\n",
    "        self.drop_rate = drop_rate\n",
    "        self.lr = lr\n",
    "        self.epochs = epochs\n",
    "        self.k = k\n",
    "\n",
    "args = Args(tr, val, test, batch_size=256, hsz=50, drop_rate=0.1, lr=0.001, epochs=3, k=20)"
   ]
  },
  {
   "cell_type": "code",
   "execution_count": 48,
   "id": "35bdbfab",
   "metadata": {},
   "outputs": [
    {
     "name": "stdout",
     "output_type": "stream",
     "text": [
      "Model: \"model\"\n",
      "_________________________________________________________________\n",
      "Layer (type)                 Output Shape              Param #   \n",
      "=================================================================\n",
      "input_1 (InputLayer)         [(256, 1, 2805)]          0         \n",
      "_________________________________________________________________\n",
      "GRU (GRU)                    [(256, 50), (256, 50)]    428550    \n",
      "_________________________________________________________________\n",
      "dropout (Dropout)            (256, 50)                 0         \n",
      "_________________________________________________________________\n",
      "dense (Dense)                (256, 2805)               143055    \n",
      "=================================================================\n",
      "Total params: 571,605\n",
      "Trainable params: 571,605\n",
      "Non-trainable params: 0\n",
      "_________________________________________________________________\n"
     ]
    }
   ],
   "source": [
    "model = create_model(args)"
   ]
  },
  {
   "cell_type": "code",
   "execution_count": null,
   "id": "f38322e5",
   "metadata": {},
   "outputs": [],
   "source": []
  },
  {
   "cell_type": "code",
   "execution_count": null,
   "id": "ae9340c7",
   "metadata": {},
   "outputs": [],
   "source": []
  },
  {
   "cell_type": "markdown",
   "id": "3e848fc5",
   "metadata": {},
   "source": [
    "## 모델 학습"
   ]
  },
  {
   "cell_type": "code",
   "execution_count": 49,
   "id": "c78b40ff",
   "metadata": {},
   "outputs": [],
   "source": [
    "# train 셋으로 학습하면서 valid 셋으로 검증합니다.\n",
    "def train_model(model, args):\n",
    "    \n",
    "    history = {'val_recall':[], 'val_mrr':[], 'train_loss':[], 'Epoch':[]} # 시각화를 위한 history를 생성함\n",
    "    \n",
    "    train_dataset = SessionDataset(args.tr)\n",
    "    train_loader = SessionDataLoader(train_dataset, batch_size=args.batch_size)\n",
    "\n",
    "    for epoch in range(1, args.epochs + 1):\n",
    "        total_step = len(args.tr) - args.tr['UserId'].nunique()\n",
    "        tr_loader = tqdm(train_loader, total=total_step // args.batch_size, desc='Train', mininterval=1)\n",
    "        for feat, target, mask in tr_loader:\n",
    "            reset_hidden_states(model, mask)  # 종료된 session은 hidden_state를 초기화합니다. 아래 메서드에서 확인해주세요.\n",
    "\n",
    "            input_ohe = to_categorical(feat, num_classes=args.num_items)\n",
    "            input_ohe = np.expand_dims(input_ohe, axis=1)\n",
    "            target_ohe = to_categorical(target, num_classes=args.num_items)\n",
    "\n",
    "            result = model.train_on_batch(input_ohe, target_ohe)\n",
    "            tr_loader.set_postfix(train_loss=result[0], accuracy = result[1])\n",
    "\n",
    "        val_recall, val_mrr = get_metrics(args.val, model, args, args.k)  # valid set에 대해 검증합니다.\n",
    "        \n",
    "        history['val_recall'].append(float(val_recall))\n",
    "        history['val_mrr'].append(float(val_mrr))\n",
    "        history['train_loss'].append(result[0])\n",
    "        history['Epoch'].append(epoch)\n",
    "\n",
    "        print(f\"\\t - Recall@{args.k} epoch {epoch}: {val_recall:3f}\")\n",
    "        print(f\"\\t - MRR@{args.k}    epoch {epoch}: {val_mrr:3f}\\n\")\n",
    "        \n",
    "    return history\n",
    "\n",
    "\n",
    "def reset_hidden_states(model, mask):\n",
    "    gru_layer = model.get_layer(name='GRU')  # model에서 gru layer를 가져옵니다.\n",
    "    hidden_states = gru_layer.states[0].numpy()  # gru_layer의 parameter를 가져옵니다.\n",
    "    for elt in mask:  # mask된 인덱스 즉, 종료된 세션의 인덱스를 돌면서\n",
    "        hidden_states[elt, :] = 0  # parameter를 초기화 합니다.\n",
    "    gru_layer.reset_states(states=hidden_states)\n",
    "\n",
    "\n",
    "def get_metrics(data, model, args, k: int):  # valid셋과 test셋을 평가하는 코드입니다. \n",
    "                                             # train과 거의 같지만 mrr, recall을 구하는 라인이 있습니다.\n",
    "    dataset = SessionDataset(data)\n",
    "    loader = SessionDataLoader(dataset, batch_size=args.batch_size)\n",
    "    recall_list, mrr_list = [], []\n",
    "\n",
    "    total_step = len(data) - data['UserId'].nunique()\n",
    "    for inputs, label, mask in tqdm(loader, total=total_step // args.batch_size, desc='Evaluation', mininterval=1):\n",
    "        reset_hidden_states(model, mask)\n",
    "        input_ohe = to_categorical(inputs, num_classes=args.num_items)\n",
    "        input_ohe = np.expand_dims(input_ohe, axis=1)\n",
    "\n",
    "        pred = model.predict(input_ohe, batch_size=args.batch_size)\n",
    "        pred_arg = tf.argsort(pred, direction='DESCENDING')  # softmax 값이 큰 순서대로 sorting 합니다.\n",
    "\n",
    "        length = len(inputs)\n",
    "        recall_list.extend([recall_k(pred_arg[i], label[i], k) for i in range(length)])\n",
    "        mrr_list.extend([mrr_k(pred_arg[i], label[i], k) for i in range(length)])\n",
    "\n",
    "    recall, mrr = np.mean(recall_list), np.mean(mrr_list)\n",
    "    return recall, mrr"
   ]
  },
  {
   "cell_type": "code",
   "execution_count": 50,
   "id": "395e6137",
   "metadata": {},
   "outputs": [
    {
     "name": "stderr",
     "output_type": "stream",
     "text": [
      "Train:  95%|█████████▌| 3010/3152 [00:59<00:02, 50.29it/s, accuracy=0.00391, train_loss=7.08]\n",
      "Evaluation:  14%|█▍        | 5/36 [00:05<00:36,  1.19s/it]\n"
     ]
    },
    {
     "name": "stdout",
     "output_type": "stream",
     "text": [
      "\t - Recall@20 epoch 1: 0.055469\n",
      "\t - MRR@20    epoch 1: 0.012532\n",
      "\n"
     ]
    },
    {
     "name": "stderr",
     "output_type": "stream",
     "text": [
      "Train:  95%|█████████▌| 3010/3152 [00:55<00:02, 54.21it/s, accuracy=0.00781, train_loss=6.79]\n",
      "Evaluation:  14%|█▍        | 5/36 [00:05<00:34,  1.10s/it]\n"
     ]
    },
    {
     "name": "stdout",
     "output_type": "stream",
     "text": [
      "\t - Recall@20 epoch 2: 0.066406\n",
      "\t - MRR@20    epoch 2: 0.017654\n",
      "\n"
     ]
    },
    {
     "name": "stderr",
     "output_type": "stream",
     "text": [
      "Train:  95%|█████████▌| 3010/3152 [00:55<00:02, 54.00it/s, accuracy=0.0156, train_loss=6.67] \n",
      "Evaluation:  14%|█▍        | 5/36 [00:05<00:33,  1.10s/it]"
     ]
    },
    {
     "name": "stdout",
     "output_type": "stream",
     "text": [
      "\t - Recall@20 epoch 3: 0.077344\n",
      "\t - MRR@20    epoch 3: 0.019575\n",
      "\n"
     ]
    },
    {
     "name": "stderr",
     "output_type": "stream",
     "text": [
      "\n"
     ]
    }
   ],
   "source": [
    "training = train_model(model, args)"
   ]
  },
  {
   "cell_type": "code",
   "execution_count": 51,
   "id": "939581f1",
   "metadata": {},
   "outputs": [
    {
     "data": {
      "text/plain": [
       "{'val_recall': [0.05546875, 0.06640625, 0.07734375],\n",
       " 'val_mrr': [0.012531939071098319, 0.017653999119296382, 0.019574632339785687],\n",
       " 'train_loss': [7.084926605224609, 6.791426181793213, 6.668675899505615],\n",
       " 'Epoch': [1, 2, 3]}"
      ]
     },
     "execution_count": 51,
     "metadata": {},
     "output_type": "execute_result"
    }
   ],
   "source": [
    "training"
   ]
  },
  {
   "cell_type": "code",
   "execution_count": 52,
   "id": "9ed46085",
   "metadata": {},
   "outputs": [],
   "source": [
    "def draw_graph(training):\n",
    "    plt.figure(figsize=(12, 12))\n",
    "\n",
    "    plt.subplot(3, 1, 1)\n",
    "    sns.lineplot(x=training['Epoch'], y=training['train_loss'], label='train_loss')\n",
    "\n",
    "    plt.subplot(3, 1, 2)\n",
    "    sns.lineplot(x=training['Epoch'], y=training['val_recall'], label='val_recall')\n",
    "\n",
    "    plt.subplot(3, 1, 3)\n",
    "    sns.lineplot(x=training['Epoch'], y=training['val_mrr'], label='val_mrr')"
   ]
  },
  {
   "cell_type": "code",
   "execution_count": 53,
   "id": "ef322098",
   "metadata": {},
   "outputs": [
    {
     "data": {
      "image/png": "[encoded data removed]",
      "text/plain": [
       "<Figure size 864x864 with 3 Axes>"
      ]
     },
     "metadata": {
      "needs_background": "light"
     },
     "output_type": "display_data"
    }
   ],
   "source": [
    "draw_graph(training)"
   ]
  },
  {
   "cell_type": "markdown",
   "id": "790cde39",
   "metadata": {},
   "source": [
    "- train의 accuracy 자체가 매우 낮은것으로 판단됨\n",
    "    - epoch=3일 때, 마지막 accuracy=0.0156\n",
    "- train loss는 조금씩 줄어드는 것으로 보임\n",
    "- recall과 mrr은 개선되지 않음\n",
    "- epoch 3번으로는 모델 성능을 보기 어려움"
   ]
  },
  {
   "cell_type": "code",
   "execution_count": null,
   "id": "029560bf",
   "metadata": {},
   "outputs": [],
   "source": []
  },
  {
   "cell_type": "code",
   "execution_count": null,
   "id": "4808958c",
   "metadata": {},
   "outputs": [],
   "source": []
  },
  {
   "cell_type": "markdown",
   "id": "47ca67fe",
   "metadata": {},
   "source": [
    "## 모델 개선 1 - epoch 횟수 증가"
   ]
  },
  {
   "cell_type": "code",
   "execution_count": 54,
   "id": "3be01099",
   "metadata": {},
   "outputs": [],
   "source": [
    "args1 = Args(tr, val, test, batch_size=256, hsz=50, drop_rate=0.1, lr=0.001, epochs=10, k=20)"
   ]
  },
  {
   "cell_type": "code",
   "execution_count": 55,
   "id": "095aae55",
   "metadata": {},
   "outputs": [
    {
     "name": "stdout",
     "output_type": "stream",
     "text": [
      "Model: \"model_1\"\n",
      "_________________________________________________________________\n",
      "Layer (type)                 Output Shape              Param #   \n",
      "=================================================================\n",
      "input_2 (InputLayer)         [(256, 1, 2805)]          0         \n",
      "_________________________________________________________________\n",
      "GRU (GRU)                    [(256, 50), (256, 50)]    428550    \n",
      "_________________________________________________________________\n",
      "dropout_1 (Dropout)          (256, 50)                 0         \n",
      "_________________________________________________________________\n",
      "dense_1 (Dense)              (256, 2805)               143055    \n",
      "=================================================================\n",
      "Total params: 571,605\n",
      "Trainable params: 571,605\n",
      "Non-trainable params: 0\n",
      "_________________________________________________________________\n"
     ]
    }
   ],
   "source": [
    "model1 = create_model(args1)"
   ]
  },
  {
   "cell_type": "markdown",
   "id": "c06a65f9",
   "metadata": {},
   "source": [
    "- epoch을 기존 3번에서 10번으로 증가시켜봄"
   ]
  },
  {
   "cell_type": "code",
   "execution_count": 56,
   "id": "346fa507",
   "metadata": {},
   "outputs": [
    {
     "name": "stderr",
     "output_type": "stream",
     "text": [
      "Train:  95%|█████████▌| 3010/3152 [00:57<00:02, 52.65it/s, accuracy=0.00391, train_loss=7.09]\n",
      "Evaluation:  14%|█▍        | 5/36 [00:05<00:36,  1.18s/it]\n"
     ]
    },
    {
     "name": "stdout",
     "output_type": "stream",
     "text": [
      "\t - Recall@20 epoch 1: 0.057813\n",
      "\t - MRR@20    epoch 1: 0.012690\n",
      "\n"
     ]
    },
    {
     "name": "stderr",
     "output_type": "stream",
     "text": [
      "Train:  95%|█████████▌| 3010/3152 [00:56<00:02, 53.50it/s, accuracy=0.0156, train_loss=6.8]  \n",
      "Evaluation:  14%|█▍        | 5/36 [00:05<00:35,  1.14s/it]\n"
     ]
    },
    {
     "name": "stdout",
     "output_type": "stream",
     "text": [
      "\t - Recall@20 epoch 2: 0.067187\n",
      "\t - MRR@20    epoch 2: 0.018490\n",
      "\n"
     ]
    },
    {
     "name": "stderr",
     "output_type": "stream",
     "text": [
      "Train:  95%|█████████▌| 3010/3152 [00:56<00:02, 53.40it/s, accuracy=0.0156, train_loss=6.68] \n",
      "Evaluation:  14%|█▍        | 5/36 [00:05<00:34,  1.12s/it]\n"
     ]
    },
    {
     "name": "stdout",
     "output_type": "stream",
     "text": [
      "\t - Recall@20 epoch 3: 0.083594\n",
      "\t - MRR@20    epoch 3: 0.019151\n",
      "\n"
     ]
    },
    {
     "name": "stderr",
     "output_type": "stream",
     "text": [
      "Train:  95%|█████████▌| 3010/3152 [00:56<00:02, 53.66it/s, accuracy=0.0195, train_loss=6.64] \n",
      "Evaluation:  14%|█▍        | 5/36 [00:05<00:34,  1.12s/it]\n"
     ]
    },
    {
     "name": "stdout",
     "output_type": "stream",
     "text": [
      "\t - Recall@20 epoch 4: 0.085156\n",
      "\t - MRR@20    epoch 4: 0.021621\n",
      "\n"
     ]
    },
    {
     "name": "stderr",
     "output_type": "stream",
     "text": [
      "Train:  95%|█████████▌| 3010/3152 [00:56<00:02, 53.47it/s, accuracy=0.0156, train_loss=6.59] \n",
      "Evaluation:  14%|█▍        | 5/36 [00:05<00:34,  1.11s/it]\n"
     ]
    },
    {
     "name": "stdout",
     "output_type": "stream",
     "text": [
      "\t - Recall@20 epoch 5: 0.089844\n",
      "\t - MRR@20    epoch 5: 0.023364\n",
      "\n"
     ]
    },
    {
     "name": "stderr",
     "output_type": "stream",
     "text": [
      "Train:  95%|█████████▌| 3010/3152 [00:56<00:02, 53.70it/s, accuracy=0.0195, train_loss=6.56] \n",
      "Evaluation:  14%|█▍        | 5/36 [00:05<00:34,  1.11s/it]\n"
     ]
    },
    {
     "name": "stdout",
     "output_type": "stream",
     "text": [
      "\t - Recall@20 epoch 6: 0.096094\n",
      "\t - MRR@20    epoch 6: 0.024979\n",
      "\n"
     ]
    },
    {
     "name": "stderr",
     "output_type": "stream",
     "text": [
      "Train:  95%|█████████▌| 3010/3152 [00:55<00:02, 53.93it/s, accuracy=0.0273, train_loss=6.48] \n",
      "Evaluation:  14%|█▍        | 5/36 [00:05<00:34,  1.11s/it]\n"
     ]
    },
    {
     "name": "stdout",
     "output_type": "stream",
     "text": [
      "\t - Recall@20 epoch 7: 0.098437\n",
      "\t - MRR@20    epoch 7: 0.024177\n",
      "\n"
     ]
    },
    {
     "name": "stderr",
     "output_type": "stream",
     "text": [
      "Train:  95%|█████████▌| 3010/3152 [00:55<00:02, 53.83it/s, accuracy=0.0195, train_loss=6.48] \n",
      "Evaluation:  14%|█▍        | 5/36 [00:05<00:34,  1.10s/it]\n"
     ]
    },
    {
     "name": "stdout",
     "output_type": "stream",
     "text": [
      "\t - Recall@20 epoch 8: 0.096875\n",
      "\t - MRR@20    epoch 8: 0.024629\n",
      "\n"
     ]
    },
    {
     "name": "stderr",
     "output_type": "stream",
     "text": [
      "Train:  95%|█████████▌| 3010/3152 [00:55<00:02, 53.97it/s, accuracy=0.0391, train_loss=6.44] \n",
      "Evaluation:  14%|█▍        | 5/36 [00:05<00:35,  1.13s/it]\n"
     ]
    },
    {
     "name": "stdout",
     "output_type": "stream",
     "text": [
      "\t - Recall@20 epoch 9: 0.096094\n",
      "\t - MRR@20    epoch 9: 0.023542\n",
      "\n"
     ]
    },
    {
     "name": "stderr",
     "output_type": "stream",
     "text": [
      "Train:  95%|█████████▌| 3010/3152 [00:56<00:02, 53.64it/s, accuracy=0.0391, train_loss=6.4]  \n",
      "Evaluation:  14%|█▍        | 5/36 [00:05<00:35,  1.13s/it]"
     ]
    },
    {
     "name": "stdout",
     "output_type": "stream",
     "text": [
      "\t - Recall@20 epoch 10: 0.093750\n",
      "\t - MRR@20    epoch 10: 0.022886\n",
      "\n"
     ]
    },
    {
     "name": "stderr",
     "output_type": "stream",
     "text": [
      "\n"
     ]
    }
   ],
   "source": [
    "training1 = train_model(model1, args1)"
   ]
  },
  {
   "cell_type": "code",
   "execution_count": 58,
   "id": "0aa24021",
   "metadata": {},
   "outputs": [
    {
     "data": {
      "image/png": "[encoded data removed]",
      "text/plain": [
       "<Figure size 864x864 with 3 Axes>"
      ]
     },
     "metadata": {
      "needs_background": "light"
     },
     "output_type": "display_data"
    }
   ],
   "source": [
    "draw_graph(training1)"
   ]
  },
  {
   "cell_type": "markdown",
   "id": "4fce723a",
   "metadata": {},
   "source": [
    "- train loss가 점차 줄어듦\n",
    "- recall과 mrr은 조금씩 개선되어감"
   ]
  },
  {
   "cell_type": "code",
   "execution_count": null,
   "id": "5a8db783",
   "metadata": {},
   "outputs": [],
   "source": []
  },
  {
   "cell_type": "code",
   "execution_count": null,
   "id": "ff817d8a",
   "metadata": {},
   "outputs": [],
   "source": []
  },
  {
   "cell_type": "markdown",
   "id": "e53faefb",
   "metadata": {},
   "source": [
    "## 모델 개선 2 - hidden state 조정"
   ]
  },
  {
   "cell_type": "markdown",
   "id": "4b7650e5",
   "metadata": {},
   "source": [
    "- hidden state를 기존 50에서 100으로 증가"
   ]
  },
  {
   "cell_type": "code",
   "execution_count": 59,
   "id": "a7b44d8f",
   "metadata": {},
   "outputs": [],
   "source": [
    "arg2 = Args(tr, val, test, batch_size=256, hsz=100, drop_rate=0.1, lr=0.001, epochs=10, k=20)"
   ]
  },
  {
   "cell_type": "code",
   "execution_count": 60,
   "id": "0fa6193a",
   "metadata": {},
   "outputs": [
    {
     "name": "stdout",
     "output_type": "stream",
     "text": [
      "Model: \"model_2\"\n",
      "_________________________________________________________________\n",
      "Layer (type)                 Output Shape              Param #   \n",
      "=================================================================\n",
      "input_3 (InputLayer)         [(256, 1, 2805)]          0         \n",
      "_________________________________________________________________\n",
      "GRU (GRU)                    [(256, 100), (256, 100)]  872100    \n",
      "_________________________________________________________________\n",
      "dropout_2 (Dropout)          (256, 100)                0         \n",
      "_________________________________________________________________\n",
      "dense_2 (Dense)              (256, 2805)               283305    \n",
      "=================================================================\n",
      "Total params: 1,155,405\n",
      "Trainable params: 1,155,405\n",
      "Non-trainable params: 0\n",
      "_________________________________________________________________\n"
     ]
    }
   ],
   "source": [
    "model2 = create_model(arg2)"
   ]
  },
  {
   "cell_type": "code",
   "execution_count": 61,
   "id": "0853f37b",
   "metadata": {},
   "outputs": [
    {
     "name": "stderr",
     "output_type": "stream",
     "text": [
      "Train:  95%|█████████▌| 3010/3152 [00:59<00:02, 51.01it/s, accuracy=0.00391, train_loss=6.85]\n",
      "Evaluation:  14%|█▍        | 5/36 [00:05<00:37,  1.20s/it]\n"
     ]
    },
    {
     "name": "stdout",
     "output_type": "stream",
     "text": [
      "\t - Recall@20 epoch 1: 0.060937\n",
      "\t - MRR@20    epoch 1: 0.014598\n",
      "\n"
     ]
    },
    {
     "name": "stderr",
     "output_type": "stream",
     "text": [
      "Train:  95%|█████████▌| 3010/3152 [00:58<00:02, 51.16it/s, accuracy=0.0195, train_loss=6.67] \n",
      "Evaluation:  14%|█▍        | 5/36 [00:05<00:34,  1.10s/it]\n"
     ]
    },
    {
     "name": "stdout",
     "output_type": "stream",
     "text": [
      "\t - Recall@20 epoch 2: 0.073438\n",
      "\t - MRR@20    epoch 2: 0.019984\n",
      "\n"
     ]
    },
    {
     "name": "stderr",
     "output_type": "stream",
     "text": [
      "Train:  95%|█████████▌| 3010/3152 [00:58<00:02, 51.87it/s, accuracy=0.0195, train_loss=6.62] \n",
      "Evaluation:  14%|█▍        | 5/36 [00:05<00:33,  1.10s/it]\n"
     ]
    },
    {
     "name": "stdout",
     "output_type": "stream",
     "text": [
      "\t - Recall@20 epoch 3: 0.082812\n",
      "\t - MRR@20    epoch 3: 0.020218\n",
      "\n"
     ]
    },
    {
     "name": "stderr",
     "output_type": "stream",
     "text": [
      "Train:  95%|█████████▌| 3010/3152 [00:58<00:02, 51.48it/s, accuracy=0.0234, train_loss=6.49] \n",
      "Evaluation:  14%|█▍        | 5/36 [00:05<00:34,  1.11s/it]\n"
     ]
    },
    {
     "name": "stdout",
     "output_type": "stream",
     "text": [
      "\t - Recall@20 epoch 4: 0.091406\n",
      "\t - MRR@20    epoch 4: 0.021306\n",
      "\n"
     ]
    },
    {
     "name": "stderr",
     "output_type": "stream",
     "text": [
      "Train:  95%|█████████▌| 3010/3152 [00:58<00:02, 51.79it/s, accuracy=0.0312, train_loss=6.4]  \n",
      "Evaluation:  14%|█▍        | 5/36 [00:05<00:34,  1.11s/it]\n"
     ]
    },
    {
     "name": "stdout",
     "output_type": "stream",
     "text": [
      "\t - Recall@20 epoch 5: 0.093750\n",
      "\t - MRR@20    epoch 5: 0.024089\n",
      "\n"
     ]
    },
    {
     "name": "stderr",
     "output_type": "stream",
     "text": [
      "Train:  95%|█████████▌| 3010/3152 [00:58<00:02, 51.85it/s, accuracy=0.0234, train_loss=6.35] \n",
      "Evaluation:  14%|█▍        | 5/36 [00:05<00:34,  1.10s/it]\n"
     ]
    },
    {
     "name": "stdout",
     "output_type": "stream",
     "text": [
      "\t - Recall@20 epoch 6: 0.092969\n",
      "\t - MRR@20    epoch 6: 0.023391\n",
      "\n"
     ]
    },
    {
     "name": "stderr",
     "output_type": "stream",
     "text": [
      "Train:  95%|█████████▌| 3010/3152 [00:58<00:02, 51.79it/s, accuracy=0.043, train_loss=6.29]  \n",
      "Evaluation:  14%|█▍        | 5/36 [00:05<00:33,  1.09s/it]\n"
     ]
    },
    {
     "name": "stdout",
     "output_type": "stream",
     "text": [
      "\t - Recall@20 epoch 7: 0.100000\n",
      "\t - MRR@20    epoch 7: 0.026609\n",
      "\n"
     ]
    },
    {
     "name": "stderr",
     "output_type": "stream",
     "text": [
      "Train:  95%|█████████▌| 3010/3152 [00:58<00:02, 51.84it/s, accuracy=0.0469, train_loss=6.29] \n",
      "Evaluation:  14%|█▍        | 5/36 [00:05<00:33,  1.10s/it]\n"
     ]
    },
    {
     "name": "stdout",
     "output_type": "stream",
     "text": [
      "\t - Recall@20 epoch 8: 0.101562\n",
      "\t - MRR@20    epoch 8: 0.025426\n",
      "\n"
     ]
    },
    {
     "name": "stderr",
     "output_type": "stream",
     "text": [
      "Train:  95%|█████████▌| 3010/3152 [00:58<00:02, 51.57it/s, accuracy=0.0469, train_loss=6.21] \n",
      "Evaluation:  14%|█▍        | 5/36 [00:05<00:33,  1.09s/it]\n"
     ]
    },
    {
     "name": "stdout",
     "output_type": "stream",
     "text": [
      "\t - Recall@20 epoch 9: 0.104688\n",
      "\t - MRR@20    epoch 9: 0.024568\n",
      "\n"
     ]
    },
    {
     "name": "stderr",
     "output_type": "stream",
     "text": [
      "Train:  95%|█████████▌| 3010/3152 [00:57<00:02, 52.12it/s, accuracy=0.0391, train_loss=6.2]  \n",
      "Evaluation:  14%|█▍        | 5/36 [00:05<00:33,  1.08s/it]"
     ]
    },
    {
     "name": "stdout",
     "output_type": "stream",
     "text": [
      "\t - Recall@20 epoch 10: 0.102344\n",
      "\t - MRR@20    epoch 10: 0.022786\n",
      "\n"
     ]
    },
    {
     "name": "stderr",
     "output_type": "stream",
     "text": [
      "\n"
     ]
    }
   ],
   "source": [
    "training2 = train_model(model2, arg2)"
   ]
  },
  {
   "cell_type": "code",
   "execution_count": 62,
   "id": "dad4f04f",
   "metadata": {},
   "outputs": [
    {
     "data": {
      "image/png": "[encoded data removed]",
      "text/plain": [
       "<Figure size 864x864 with 3 Axes>"
      ]
     },
     "metadata": {
      "needs_background": "light"
     },
     "output_type": "display_data"
    }
   ],
   "source": [
    "draw_graph(training2)"
   ]
  },
  {
   "cell_type": "markdown",
   "id": "ca33bf5e",
   "metadata": {},
   "source": [
    "- train loss는 점차 떨어짐\n",
    "- recall은 점차 개선되어감\n",
    "- mrr은 성능이 개선되어 가다가 조금씩 성능이 떨어짐\n",
    "- hidden state를 늘리기 전보다 약간씩 성능이 향상됨  \n",
    "(하지만 너무 미세하게 향상됨)"
   ]
  },
  {
   "cell_type": "code",
   "execution_count": null,
   "id": "34548f24",
   "metadata": {},
   "outputs": [],
   "source": []
  },
  {
   "cell_type": "code",
   "execution_count": null,
   "id": "ced2c6de",
   "metadata": {},
   "outputs": [],
   "source": []
  },
  {
   "cell_type": "markdown",
   "id": "8c086b58",
   "metadata": {},
   "source": [
    "## 모델 개선 3 - hidden state 조정"
   ]
  },
  {
   "cell_type": "markdown",
   "id": "b1406558",
   "metadata": {},
   "source": [
    "- hidden state를 기존 50에서 100 -> 256으로 증가시킴"
   ]
  },
  {
   "cell_type": "code",
   "execution_count": 63,
   "id": "54411a65",
   "metadata": {},
   "outputs": [],
   "source": [
    "arg3 = Args(tr, val, test, batch_size=256, hsz=256, drop_rate=0.1, lr=0.001, epochs=10, k=20)"
   ]
  },
  {
   "cell_type": "code",
   "execution_count": 64,
   "id": "fb870bdd",
   "metadata": {},
   "outputs": [
    {
     "name": "stdout",
     "output_type": "stream",
     "text": [
      "Model: \"model_3\"\n",
      "_________________________________________________________________\n",
      "Layer (type)                 Output Shape              Param #   \n",
      "=================================================================\n",
      "input_4 (InputLayer)         [(256, 1, 2805)]          0         \n",
      "_________________________________________________________________\n",
      "GRU (GRU)                    [(256, 256), (256, 256)]  2352384   \n",
      "_________________________________________________________________\n",
      "dropout_3 (Dropout)          (256, 256)                0         \n",
      "_________________________________________________________________\n",
      "dense_3 (Dense)              (256, 2805)               720885    \n",
      "=================================================================\n",
      "Total params: 3,073,269\n",
      "Trainable params: 3,073,269\n",
      "Non-trainable params: 0\n",
      "_________________________________________________________________\n"
     ]
    }
   ],
   "source": [
    "model3 = create_model(arg3)"
   ]
  },
  {
   "cell_type": "code",
   "execution_count": 65,
   "id": "6d5009f7",
   "metadata": {},
   "outputs": [
    {
     "name": "stderr",
     "output_type": "stream",
     "text": [
      "Train:  95%|█████████▌| 3010/3152 [01:04<00:03, 46.71it/s, accuracy=0.0117, train_loss=6.74] \n",
      "Evaluation:  14%|█▍        | 5/36 [00:05<00:35,  1.15s/it]\n"
     ]
    },
    {
     "name": "stdout",
     "output_type": "stream",
     "text": [
      "\t - Recall@20 epoch 1: 0.072656\n",
      "\t - MRR@20    epoch 1: 0.018003\n",
      "\n"
     ]
    },
    {
     "name": "stderr",
     "output_type": "stream",
     "text": [
      "Train:  95%|█████████▌| 3010/3152 [01:03<00:02, 47.35it/s, accuracy=0.0312, train_loss=6.52] \n",
      "Evaluation:  14%|█▍        | 5/36 [00:05<00:34,  1.12s/it]\n"
     ]
    },
    {
     "name": "stdout",
     "output_type": "stream",
     "text": [
      "\t - Recall@20 epoch 2: 0.080469\n",
      "\t - MRR@20    epoch 2: 0.022272\n",
      "\n"
     ]
    },
    {
     "name": "stderr",
     "output_type": "stream",
     "text": [
      "Train:  95%|█████████▌| 3010/3152 [01:03<00:02, 47.61it/s, accuracy=0.0391, train_loss=6.35] \n",
      "Evaluation:  14%|█▍        | 5/36 [00:05<00:33,  1.09s/it]\n"
     ]
    },
    {
     "name": "stdout",
     "output_type": "stream",
     "text": [
      "\t - Recall@20 epoch 3: 0.087500\n",
      "\t - MRR@20    epoch 3: 0.023251\n",
      "\n"
     ]
    },
    {
     "name": "stderr",
     "output_type": "stream",
     "text": [
      "Train:  95%|█████████▌| 3010/3152 [01:02<00:02, 48.00it/s, accuracy=0.0391, train_loss=6.27] \n",
      "Evaluation:  14%|█▍        | 5/36 [00:05<00:33,  1.08s/it]\n"
     ]
    },
    {
     "name": "stdout",
     "output_type": "stream",
     "text": [
      "\t - Recall@20 epoch 4: 0.087500\n",
      "\t - MRR@20    epoch 4: 0.023986\n",
      "\n"
     ]
    },
    {
     "name": "stderr",
     "output_type": "stream",
     "text": [
      "Train:  95%|█████████▌| 3010/3152 [01:03<00:02, 47.76it/s, accuracy=0.0234, train_loss=6.16] \n",
      "Evaluation:  14%|█▍        | 5/36 [00:05<00:34,  1.10s/it]\n"
     ]
    },
    {
     "name": "stdout",
     "output_type": "stream",
     "text": [
      "\t - Recall@20 epoch 5: 0.091406\n",
      "\t - MRR@20    epoch 5: 0.023174\n",
      "\n"
     ]
    },
    {
     "name": "stderr",
     "output_type": "stream",
     "text": [
      "Train:  95%|█████████▌| 3010/3152 [01:02<00:02, 47.89it/s, accuracy=0.0352, train_loss=6.05] \n",
      "Evaluation:  14%|█▍        | 5/36 [00:05<00:34,  1.13s/it]\n"
     ]
    },
    {
     "name": "stdout",
     "output_type": "stream",
     "text": [
      "\t - Recall@20 epoch 6: 0.090625\n",
      "\t - MRR@20    epoch 6: 0.023117\n",
      "\n"
     ]
    },
    {
     "name": "stderr",
     "output_type": "stream",
     "text": [
      "Train:  95%|█████████▌| 3010/3152 [01:03<00:02, 47.36it/s, accuracy=0.0195, train_loss=6]    \n",
      "Evaluation:  14%|█▍        | 5/36 [00:05<00:33,  1.08s/it]\n"
     ]
    },
    {
     "name": "stdout",
     "output_type": "stream",
     "text": [
      "\t - Recall@20 epoch 7: 0.094531\n",
      "\t - MRR@20    epoch 7: 0.023810\n",
      "\n"
     ]
    },
    {
     "name": "stderr",
     "output_type": "stream",
     "text": [
      "Train:  95%|█████████▌| 3010/3152 [01:02<00:02, 47.87it/s, accuracy=0.0312, train_loss=5.9]  \n",
      "Evaluation:  14%|█▍        | 5/36 [00:05<00:34,  1.10s/it]\n"
     ]
    },
    {
     "name": "stdout",
     "output_type": "stream",
     "text": [
      "\t - Recall@20 epoch 8: 0.096094\n",
      "\t - MRR@20    epoch 8: 0.025338\n",
      "\n"
     ]
    },
    {
     "name": "stderr",
     "output_type": "stream",
     "text": [
      "Train:  95%|█████████▌| 3010/3152 [01:03<00:02, 47.59it/s, accuracy=0.0469, train_loss=5.84]\n",
      "Evaluation:  14%|█▍        | 5/36 [00:05<00:34,  1.11s/it]\n"
     ]
    },
    {
     "name": "stdout",
     "output_type": "stream",
     "text": [
      "\t - Recall@20 epoch 9: 0.092969\n",
      "\t - MRR@20    epoch 9: 0.023358\n",
      "\n"
     ]
    },
    {
     "name": "stderr",
     "output_type": "stream",
     "text": [
      "Train:  95%|█████████▌| 3010/3152 [01:03<00:02, 47.40it/s, accuracy=0.0508, train_loss=5.76] \n",
      "Evaluation:  14%|█▍        | 5/36 [00:05<00:34,  1.10s/it]"
     ]
    },
    {
     "name": "stdout",
     "output_type": "stream",
     "text": [
      "\t - Recall@20 epoch 10: 0.087500\n",
      "\t - MRR@20    epoch 10: 0.022516\n",
      "\n"
     ]
    },
    {
     "name": "stderr",
     "output_type": "stream",
     "text": [
      "\n"
     ]
    }
   ],
   "source": [
    "training3 = train_model(model3, arg3)"
   ]
  },
  {
   "cell_type": "code",
   "execution_count": 66,
   "id": "73473bde",
   "metadata": {},
   "outputs": [
    {
     "data": {
      "image/png": "[encoded data removed]",
      "text/plain": [
       "<Figure size 864x864 with 3 Axes>"
      ]
     },
     "metadata": {
      "needs_background": "light"
     },
     "output_type": "display_data"
    }
   ],
   "source": [
    "draw_graph(training3)"
   ]
  },
  {
   "cell_type": "markdown",
   "id": "01e17be9",
   "metadata": {},
   "source": [
    "- accuracy는 조금 더 향상됨\n",
    "    - hidden state가 100 일 때, 최대 accuracy 0.0469\n",
    "    - hidden state가 256 일 때, 최대 accuracy 0.0508\n",
    "- recall과 mrr은 성능이 향상되다가 조금씩 떨어짐"
   ]
  },
  {
   "cell_type": "code",
   "execution_count": null,
   "id": "f6681bf8",
   "metadata": {},
   "outputs": [],
   "source": []
  },
  {
   "cell_type": "code",
   "execution_count": null,
   "id": "449d83a5",
   "metadata": {},
   "outputs": [],
   "source": []
  },
  {
   "cell_type": "markdown",
   "id": "12297019",
   "metadata": {},
   "source": [
    "## 모델 개선 4 - k 조정"
   ]
  },
  {
   "cell_type": "markdown",
   "id": "61ed3eb9",
   "metadata": {},
   "source": [
    "- 추천 아이템 갯수인 k를 기존 20에서 30으로 늘림"
   ]
  },
  {
   "cell_type": "code",
   "execution_count": 67,
   "id": "73ab41de",
   "metadata": {},
   "outputs": [],
   "source": [
    "arg4 = Args(tr, val, test, batch_size=256, hsz=256, drop_rate=0.1, lr=0.001, epochs=10, k=30)"
   ]
  },
  {
   "cell_type": "code",
   "execution_count": 68,
   "id": "c33251e9",
   "metadata": {},
   "outputs": [
    {
     "name": "stdout",
     "output_type": "stream",
     "text": [
      "Model: \"model_4\"\n",
      "_________________________________________________________________\n",
      "Layer (type)                 Output Shape              Param #   \n",
      "=================================================================\n",
      "input_5 (InputLayer)         [(256, 1, 2805)]          0         \n",
      "_________________________________________________________________\n",
      "GRU (GRU)                    [(256, 256), (256, 256)]  2352384   \n",
      "_________________________________________________________________\n",
      "dropout_4 (Dropout)          (256, 256)                0         \n",
      "_________________________________________________________________\n",
      "dense_4 (Dense)              (256, 2805)               720885    \n",
      "=================================================================\n",
      "Total params: 3,073,269\n",
      "Trainable params: 3,073,269\n",
      "Non-trainable params: 0\n",
      "_________________________________________________________________\n"
     ]
    }
   ],
   "source": [
    "model4 = create_model(arg4)"
   ]
  },
  {
   "cell_type": "code",
   "execution_count": 69,
   "id": "2c63a431",
   "metadata": {},
   "outputs": [
    {
     "name": "stderr",
     "output_type": "stream",
     "text": [
      "Train:  95%|█████████▌| 3010/3152 [01:06<00:03, 45.38it/s, accuracy=0.0234, train_loss=6.74] \n",
      "Evaluation:  14%|█▍        | 5/36 [00:07<00:49,  1.60s/it]\n"
     ]
    },
    {
     "name": "stdout",
     "output_type": "stream",
     "text": [
      "\t - Recall@30 epoch 1: 0.088281\n",
      "\t - MRR@30    epoch 1: 0.019060\n",
      "\n"
     ]
    },
    {
     "name": "stderr",
     "output_type": "stream",
     "text": [
      "Train:  95%|█████████▌| 3010/3152 [01:03<00:03, 47.10it/s, accuracy=0.0273, train_loss=6.55] \n",
      "Evaluation:  14%|█▍        | 5/36 [00:07<00:47,  1.55s/it]\n"
     ]
    },
    {
     "name": "stdout",
     "output_type": "stream",
     "text": [
      "\t - Recall@30 epoch 2: 0.109375\n",
      "\t - MRR@30    epoch 2: 0.025115\n",
      "\n"
     ]
    },
    {
     "name": "stderr",
     "output_type": "stream",
     "text": [
      "Train:  95%|█████████▌| 3010/3152 [01:03<00:03, 47.11it/s, accuracy=0.043, train_loss=6.39]  \n",
      "Evaluation:  14%|█▍        | 5/36 [00:07<00:47,  1.54s/it]\n"
     ]
    },
    {
     "name": "stdout",
     "output_type": "stream",
     "text": [
      "\t - Recall@30 epoch 3: 0.110937\n",
      "\t - MRR@30    epoch 3: 0.026123\n",
      "\n"
     ]
    },
    {
     "name": "stderr",
     "output_type": "stream",
     "text": [
      "Train:  95%|█████████▌| 3010/3152 [01:03<00:03, 47.11it/s, accuracy=0.0469, train_loss=6.28] \n",
      "Evaluation:  14%|█▍        | 5/36 [00:07<00:47,  1.54s/it]\n"
     ]
    },
    {
     "name": "stdout",
     "output_type": "stream",
     "text": [
      "\t - Recall@30 epoch 4: 0.109375\n",
      "\t - MRR@30    epoch 4: 0.025254\n",
      "\n"
     ]
    },
    {
     "name": "stderr",
     "output_type": "stream",
     "text": [
      "Train:  95%|█████████▌| 3010/3152 [01:03<00:03, 47.14it/s, accuracy=0.043, train_loss=6.11]  \n",
      "Evaluation:  14%|█▍        | 5/36 [00:07<00:48,  1.56s/it]\n"
     ]
    },
    {
     "name": "stdout",
     "output_type": "stream",
     "text": [
      "\t - Recall@30 epoch 5: 0.106250\n",
      "\t - MRR@30    epoch 5: 0.023389\n",
      "\n"
     ]
    },
    {
     "name": "stderr",
     "output_type": "stream",
     "text": [
      "Train:  95%|█████████▌| 3010/3152 [01:03<00:02, 47.37it/s, accuracy=0.0352, train_loss=6.01] \n",
      "Evaluation:  14%|█▍        | 5/36 [00:07<00:47,  1.52s/it]\n"
     ]
    },
    {
     "name": "stdout",
     "output_type": "stream",
     "text": [
      "\t - Recall@30 epoch 6: 0.110156\n",
      "\t - MRR@30    epoch 6: 0.022085\n",
      "\n"
     ]
    },
    {
     "name": "stderr",
     "output_type": "stream",
     "text": [
      "Train:  95%|█████████▌| 3010/3152 [01:03<00:02, 47.73it/s, accuracy=0.0469, train_loss=5.91] \n",
      "Evaluation:  14%|█▍        | 5/36 [00:07<00:47,  1.53s/it]\n"
     ]
    },
    {
     "name": "stdout",
     "output_type": "stream",
     "text": [
      "\t - Recall@30 epoch 7: 0.108594\n",
      "\t - MRR@30    epoch 7: 0.022309\n",
      "\n"
     ]
    },
    {
     "name": "stderr",
     "output_type": "stream",
     "text": [
      "Train:  95%|█████████▌| 3010/3152 [01:03<00:02, 47.42it/s, accuracy=0.0469, train_loss=5.84]\n",
      "Evaluation:  14%|█▍        | 5/36 [00:07<00:47,  1.53s/it]\n"
     ]
    },
    {
     "name": "stdout",
     "output_type": "stream",
     "text": [
      "\t - Recall@30 epoch 8: 0.108594\n",
      "\t - MRR@30    epoch 8: 0.024082\n",
      "\n"
     ]
    },
    {
     "name": "stderr",
     "output_type": "stream",
     "text": [
      "Train:  95%|█████████▌| 3010/3152 [01:03<00:02, 47.73it/s, accuracy=0.0391, train_loss=5.71] \n",
      "Evaluation:  14%|█▍        | 5/36 [00:07<00:47,  1.53s/it]\n"
     ]
    },
    {
     "name": "stdout",
     "output_type": "stream",
     "text": [
      "\t - Recall@30 epoch 9: 0.105469\n",
      "\t - MRR@30    epoch 9: 0.023907\n",
      "\n"
     ]
    },
    {
     "name": "stderr",
     "output_type": "stream",
     "text": [
      "Train:  95%|█████████▌| 3010/3152 [01:03<00:02, 47.66it/s, accuracy=0.0352, train_loss=5.69]\n",
      "Evaluation:  14%|█▍        | 5/36 [00:07<00:47,  1.54s/it]"
     ]
    },
    {
     "name": "stdout",
     "output_type": "stream",
     "text": [
      "\t - Recall@30 epoch 10: 0.100781\n",
      "\t - MRR@30    epoch 10: 0.024134\n",
      "\n"
     ]
    },
    {
     "name": "stderr",
     "output_type": "stream",
     "text": [
      "\n"
     ]
    }
   ],
   "source": [
    "training4 = train_model(model4, arg4)"
   ]
  },
  {
   "cell_type": "code",
   "execution_count": 70,
   "id": "a5f0eead",
   "metadata": {},
   "outputs": [
    {
     "data": {
      "image/png": "[encoded data removed]",
      "text/plain": [
       "<Figure size 864x864 with 3 Axes>"
      ]
     },
     "metadata": {
      "needs_background": "light"
     },
     "output_type": "display_data"
    }
   ],
   "source": [
    "draw_graph(training4)"
   ]
  },
  {
   "cell_type": "markdown",
   "id": "281c5d78",
   "metadata": {},
   "source": [
    "- k를 늘렸을 때는 성능이 대체로 떨어짐"
   ]
  },
  {
   "cell_type": "code",
   "execution_count": null,
   "id": "94b13a4b",
   "metadata": {},
   "outputs": [],
   "source": []
  },
  {
   "cell_type": "code",
   "execution_count": null,
   "id": "2128977d",
   "metadata": {},
   "outputs": [],
   "source": []
  },
  {
   "cell_type": "markdown",
   "id": "d68a5232",
   "metadata": {},
   "source": [
    "## 모델 학습 결론"
   ]
  },
  {
   "cell_type": "markdown",
   "id": "58d15a30",
   "metadata": {},
   "source": [
    "- 모델3이 가장 좋은 성능을 보임\n",
    "    - batch_size : 256\n",
    "    - hidden state : 256\n",
    "    - drop_rate=0.1\n",
    "    - lr=0.001\n",
    "    - epochs=10\n",
    "    - k=20\n",
    "- Session Based Recommendation으로 해당 exploration을 풀어가기에는 문제가 많음\n",
    "    - 해당 exploration은 세션 데이터가 아님\n",
    "    - 억지로 세션 데이터처럼 간주하고 문제를 해결하기에는 성능 개선의 어려움을 크게 느낌\n",
    "- 성능의 개선이 확연하게 좋아지진 않지만 epoch이 진행됨에 따라 조금씩 향상됨은 알 수 있었음"
   ]
  },
  {
   "cell_type": "code",
   "execution_count": null,
   "id": "1b945840",
   "metadata": {},
   "outputs": [],
   "source": []
  },
  {
   "cell_type": "code",
   "execution_count": null,
   "id": "74f6a47d",
   "metadata": {},
   "outputs": [],
   "source": []
  },
  {
   "cell_type": "markdown",
   "id": "bc122e0c",
   "metadata": {},
   "source": [
    "## 모델 평가"
   ]
  },
  {
   "cell_type": "code",
   "execution_count": 72,
   "id": "760b95ca",
   "metadata": {},
   "outputs": [
    {
     "name": "stderr",
     "output_type": "stream",
     "text": [
      "Evaluation:   8%|▊         | 2/26 [00:02<00:27,  1.13s/it]"
     ]
    },
    {
     "name": "stdout",
     "output_type": "stream",
     "text": [
      "\t - Recall@20: 0.111328\n",
      "\t - MRR@20: 0.025302\n",
      "\n"
     ]
    },
    {
     "name": "stderr",
     "output_type": "stream",
     "text": [
      "\n"
     ]
    }
   ],
   "source": [
    "def test_model(model, args, test):\n",
    "    test_recall, test_mrr = get_metrics(test, model, args, 20)\n",
    "    print(f\"\\t - Recall@{args.k}: {test_recall:3f}\")\n",
    "    print(f\"\\t - MRR@{args.k}: {test_mrr:3f}\\n\")\n",
    "\n",
    "test_model(model3, arg3, test)"
   ]
  },
  {
   "cell_type": "markdown",
   "id": "674d61dd",
   "metadata": {},
   "source": [
    "- 세션 데이터가 아닌 것을 Session Based Recommendation 관점으로 풀어가려다보니 성능이 매우 좋지 않음"
   ]
  },
  {
   "cell_type": "code",
   "execution_count": null,
   "id": "b5142eda",
   "metadata": {},
   "outputs": [],
   "source": []
  },
  {
   "cell_type": "code",
   "execution_count": null,
   "id": "958f9de7",
   "metadata": {},
   "outputs": [],
   "source": []
  },
  {
   "cell_type": "markdown",
   "id": "397fa782",
   "metadata": {},
   "source": [
    "## 회고\n",
    "\n",
    "### 1. 새로 알아갔던 점\n",
    " - Session Based Recommendation 관점에 대해서 알게됨\n",
    " - MRR을 찾아보면서 MAP까지 알게됨\n",
    "     - 추천 시스템을 평가하는 방법이 다양하다는 점을 느낌\n",
    "     - 어떤 평가 방법을 사용할지 추후 고민해봐야겠다는 생각을 하게 함\n",
    "\n",
    "### 2. 흥미로웠던 점\n",
    " - 세션 데이터가 아닌 데이터셋을 세션 데이터로 간주하려고 노력했던 점\n",
    "\n",
    "### 3. 아쉬웠던 점\n",
    " - 세션 데이터가 아닌 데이터셋을 Session Based Recommendation 관점으로 풀어내기에는 부족함이 너무 컸다고 생각함\n",
    " - 모델 성능을 만족스럽게 개선시키지 못함\n",
    " - 해당 exploration으로는 깊게 알아가기 힘들었음\n",
    "\n",
    "### 4. 앞으로의 다짐\n",
    " - 평가지표로 MAP를 사용해봐야겠음"
   ]
  },
  {
   "cell_type": "code",
   "execution_count": null,
   "id": "a4f89c97",
   "metadata": {},
   "outputs": [],
   "source": []
  },
  {
   "cell_type": "code",
   "execution_count": null,
   "id": "4a589ec0",
   "metadata": {},
   "outputs": [],
   "source": []
  },
  {
   "cell_type": "code",
   "execution_count": null,
   "id": "859b2ad3",
   "metadata": {},
   "outputs": [],
   "source": []
  },
  {
   "cell_type": "code",
   "execution_count": null,
   "id": "067b5073",
   "metadata": {},
   "outputs": [],
   "source": []
  },
  {
   "cell_type": "code",
   "execution_count": null,
   "id": "b463248b",
   "metadata": {},
   "outputs": [],
   "source": []
  },
  {
   "cell_type": "code",
   "execution_count": null,
   "id": "b3bb56e0",
   "metadata": {},
   "outputs": [],
   "source": []
  },
  {
   "cell_type": "code",
   "execution_count": null,
   "id": "0fff8b9f",
   "metadata": {},
   "outputs": [],
   "source": []
  },
  {
   "cell_type": "code",
   "execution_count": null,
   "id": "9f49feb1",
   "metadata": {},
   "outputs": [],
   "source": []
  },
  {
   "cell_type": "code",
   "execution_count": null,
   "id": "874a39ca",
   "metadata": {},
   "outputs": [],
   "source": []
  },
  {
   "cell_type": "code",
   "execution_count": null,
   "id": "9bff7bc1",
   "metadata": {},
   "outputs": [],
   "source": []
  }
 ],
 "metadata": {
  "kernelspec": {
   "display_name": "Python 3 (ipykernel)",
   "language": "python",
   "name": "python3"
  },
  "language_info": {
   "codemirror_mode": {
    "name": "ipython",
    "version": 3
   },
   "file_extension": ".py",
   "mimetype": "text/x-python",
   "name": "python",
   "nbconvert_exporter": "python",
   "pygments_lexer": "ipython3",
   "version": "3.9.7"
  }
 },
 "nbformat": 4,
 "nbformat_minor": 5
}
